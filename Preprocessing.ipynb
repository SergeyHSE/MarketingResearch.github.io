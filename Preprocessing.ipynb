{
  "nbformat": 4,
  "nbformat_minor": 0,
  "metadata": {
    "colab": {
      "provenance": [],
      "authorship_tag": "ABX9TyNhxyi1/g7xQ21S4EIyl8PC",
      "include_colab_link": true
    },
    "kernelspec": {
      "name": "python3",
      "display_name": "Python 3"
    },
    "language_info": {
      "name": "python"
    }
  },
  "cells": [
    {
      "cell_type": "markdown",
      "metadata": {
        "id": "view-in-github",
        "colab_type": "text"
      },
      "source": [
        "<a href=\"https://colab.research.google.com/github/SergeyHSE/MarketingResearch.github.io/blob/main/Preprocessing.ipynb\" target=\"_parent\"><img src=\"https://colab.research.google.com/assets/colab-badge.svg\" alt=\"Open In Colab\"/></a>"
      ]
    },
    {
      "cell_type": "code",
      "source": [
        "import warnings\n",
        "warnings.filterwarnings('ignore')"
      ],
      "metadata": {
        "id": "KlmviqUKAnJO"
      },
      "execution_count": 1,
      "outputs": []
    },
    {
      "cell_type": "code",
      "source": [
        "from google.colab import drive\n",
        "drive.mount('/content/drive')"
      ],
      "metadata": {
        "colab": {
          "base_uri": "https://localhost:8080/"
        },
        "id": "e_9cZoryBxJD",
        "outputId": "d86cb1ee-fd05-4ccd-9204-55f862a68711"
      },
      "execution_count": 2,
      "outputs": [
        {
          "output_type": "stream",
          "name": "stdout",
          "text": [
            "Mounted at /content/drive\n"
          ]
        }
      ]
    },
    {
      "cell_type": "code",
      "source": [
        "import pandas as pd\n",
        "pd.set_option('display.max_columns', None)\n",
        "pd.set_option('display.max_rows', None)\n",
        "\n",
        "data_SimpleWine = pd.read_csv('/content/drive/MyDrive/ForColab/SimpleWine.csv')\n",
        "data_WineStyle = pd.read_csv('/content/drive/MyDrive/ForColab/WineStyle.csv')\n",
        "data_WineLab = pd.read_csv('/content/drive/MyDrive/ForColab/WineLab_processed_data.csv')\n",
        "data_AM1 = pd.read_csv('/content/drive/MyDrive/ForColab/AM2.csv')\n",
        "data_AM2 = pd.read_csv('/content/drive/MyDrive/ForColab/AM1.csv')\n",
        "data_KB = pd.read_csv('/content/drive/MyDrive/ForColab/KB.csv')"
      ],
      "metadata": {
        "id": "MeuwUvefD4EU"
      },
      "execution_count": 71,
      "outputs": []
    },
    {
      "cell_type": "markdown",
      "source": [],
      "metadata": {
        "id": "GrhY3Uu0S80t"
      }
    },
    {
      "cell_type": "code",
      "source": [
        "data_KB.head(8)"
      ],
      "metadata": {
        "colab": {
          "base_uri": "https://localhost:8080/",
          "height": 650
        },
        "id": "rbbN4Ye7VUZV",
        "outputId": "a58656e5-0295-4347-ffa0-5a8c1f455889"
      },
      "execution_count": null,
      "outputs": [
        {
          "output_type": "execute_result",
          "data": {
            "text/plain": [
              "                                        Link_product Number_votes  \\\n",
              "0  https://krasnoeibeloe.ru/catalog/vino/vino_bar...   474 оценки   \n",
              "1  https://krasnoeibeloe.ru/catalog/vino/vino_bro...   281 оценка   \n",
              "2  https://krasnoeibeloe.ru/catalog/vino/vino_kuu...   219 оценок   \n",
              "3  https://krasnoeibeloe.ru/catalog/vino/vino_bro...   177 оценок   \n",
              "4  https://krasnoeibeloe.ru/catalog/vino/vino_kuu...   172 оценки   \n",
              "5  https://krasnoeibeloe.ru/catalog/vino/vino_kuu...    92 оценки   \n",
              "6  https://krasnoeibeloe.ru/catalog/vino/vino_key...    21 оценка   \n",
              "7  https://krasnoeibeloe.ru/catalog/vino/vino_spe...    12 оценок   \n",
              "\n",
              "                                               Image     Price  \\\n",
              "0  //krasnoeibeloe.servicecdn.ru/upload/resize_ca...  894.80 ₽   \n",
              "1  //krasnoeibeloe.servicecdn.ru/upload/resize_ca...  499.99 ₽   \n",
              "2  //krasnoeibeloe.servicecdn.ru/upload/resize_ca...  346.99 ₽   \n",
              "3  //krasnoeibeloe.servicecdn.ru/upload/resize_ca...  499.99 ₽   \n",
              "4  //krasnoeibeloe.servicecdn.ru/upload/resize_ca...  346.99 ₽   \n",
              "5  //krasnoeibeloe.servicecdn.ru/upload/resize_ca...  449.99 ₽   \n",
              "6  //krasnoeibeloe.servicecdn.ru/upload/resize_ca...  649.90 ₽   \n",
              "7  //krasnoeibeloe.servicecdn.ru/upload/resize_ca...  599.90 ₽   \n",
              "\n",
              "  Температура подачи Gilbert & Gaillard     Цвет        Регион  \\\n",
              "0              17 °С         Gold medal  Красное  Вестерн Кейп   \n",
              "1              12 °С         Gold medal    Белое  Вестерн Кейп   \n",
              "2              16 °С         DoubleGold  Красное  Вестерн Кейп   \n",
              "3              12 °С         Gold medal  Розовое  Вестерн Кейп   \n",
              "4              12 °С         Gold Medal    Белое  Вестерн Кейп   \n",
              "5              11 °С         Gold Medal    Белое  Вестерн Кейп   \n",
              "6              11 °С                NaN    Белое  Вестерн Кейп   \n",
              "7              17 °С                NaN  Красное  Вестерн Кейп   \n",
              "\n",
              "       Производитель    Объем Страна    Сахар Алкоголь   Price.1  \\\n",
              "0  Val de Vie Estate  0.75 л.    ЮАР    Сухое     13 %  894.80 ₽   \n",
              "1                NaN  0.75 л.    ЮАР    Сухое   12.5 %  499.99 ₽   \n",
              "2                NaN  0.75 л.    ЮАР  П/сухое   13.5 %  346.99 ₽   \n",
              "3                NaN  0.75 л.    ЮАР    Сухое   12.5 %  499.99 ₽   \n",
              "4                NaN  0.75 л.    ЮАР    Сухое   12.5 %  346.99 ₽   \n",
              "5                NaN  0.75 л.    ЮАР    Сухое     13 %  449.99 ₽   \n",
              "6                NaN  0.75 л.    ЮАР  П/сухое     12 %  649.90 ₽   \n",
              "7                NaN  0.75 л.    ЮАР  П/сухое      9 %  599.90 ₽   \n",
              "\n",
              "                                             Image.1 Number_votes.1  \\\n",
              "0  //krasnoeibeloe.servicecdn.ru/upload/resize_ca...     474 оценки   \n",
              "1  //krasnoeibeloe.servicecdn.ru/upload/resize_ca...     281 оценка   \n",
              "2  //krasnoeibeloe.servicecdn.ru/upload/resize_ca...     219 оценок   \n",
              "3  //krasnoeibeloe.servicecdn.ru/upload/resize_ca...     177 оценок   \n",
              "4  //krasnoeibeloe.servicecdn.ru/upload/resize_ca...     172 оценки   \n",
              "5  //krasnoeibeloe.servicecdn.ru/upload/resize_ca...      92 оценки   \n",
              "6  //krasnoeibeloe.servicecdn.ru/upload/resize_ca...      21 оценка   \n",
              "7  //krasnoeibeloe.servicecdn.ru/upload/resize_ca...      12 оценок   \n",
              "\n",
              "                                      Link_product.1         Сорта винограда  \\\n",
              "0  https://krasnoeibeloe.ru/catalog/vino/vino_bar...                 Пинотаж   \n",
              "1  https://krasnoeibeloe.ru/catalog/vino/vino_bro...           Совиньон Блан   \n",
              "2  https://krasnoeibeloe.ru/catalog/vino/vino_kuu...                 Пинотаж   \n",
              "3  https://krasnoeibeloe.ru/catalog/vino/vino_bro...  Совиньон БланПино Нуар   \n",
              "4  https://krasnoeibeloe.ru/catalog/vino/vino_kuu...           Совиньон Блан   \n",
              "5  https://krasnoeibeloe.ru/catalog/vino/vino_kuu...                 Шардоне   \n",
              "6  https://krasnoeibeloe.ru/catalog/vino/vino_key...              Шенен Блан   \n",
              "7  https://krasnoeibeloe.ru/catalog/vino/vino_spe...                 Пинотаж   \n",
              "\n",
              "                                Характеристика вкуса  \\\n",
              "0  Мощный, с фруктово–ягодной кислотностью и слад...   \n",
              "1  Освежающий, минеральный, с приятной цитрусовой...   \n",
              "2                                                NaN   \n",
              "3  Освежающий, минеральный, с приятной цитрусовой...   \n",
              "4                                                NaN   \n",
              "5                                                NaN   \n",
              "6                       Хрустящий и привлекательный.   \n",
              "7                    Легкое, выразительно фруктовое.   \n",
              "\n",
              "                             Бренд  \n",
              "0                Barista (Бариста)  \n",
              "1              Broadleaf (Бродлиф)  \n",
              "2                              NaN  \n",
              "3              Broadleaf (Бродлиф)  \n",
              "4                              NaN  \n",
              "5                              NaN  \n",
              "6  Cape Discovery (Кейп Дискавери)  \n",
              "7                              NaN  "
            ],
            "text/html": [
              "\n",
              "  <div id=\"df-f7aa1987-e3e1-4d19-bfbd-ec07e4283494\" class=\"colab-df-container\">\n",
              "    <div>\n",
              "<style scoped>\n",
              "    .dataframe tbody tr th:only-of-type {\n",
              "        vertical-align: middle;\n",
              "    }\n",
              "\n",
              "    .dataframe tbody tr th {\n",
              "        vertical-align: top;\n",
              "    }\n",
              "\n",
              "    .dataframe thead th {\n",
              "        text-align: right;\n",
              "    }\n",
              "</style>\n",
              "<table border=\"1\" class=\"dataframe\">\n",
              "  <thead>\n",
              "    <tr style=\"text-align: right;\">\n",
              "      <th></th>\n",
              "      <th>Link_product</th>\n",
              "      <th>Number_votes</th>\n",
              "      <th>Image</th>\n",
              "      <th>Price</th>\n",
              "      <th>Температура подачи</th>\n",
              "      <th>Gilbert &amp; Gaillard</th>\n",
              "      <th>Цвет</th>\n",
              "      <th>Регион</th>\n",
              "      <th>Производитель</th>\n",
              "      <th>Объем</th>\n",
              "      <th>Страна</th>\n",
              "      <th>Сахар</th>\n",
              "      <th>Алкоголь</th>\n",
              "      <th>Price.1</th>\n",
              "      <th>Image.1</th>\n",
              "      <th>Number_votes.1</th>\n",
              "      <th>Link_product.1</th>\n",
              "      <th>Сорта винограда</th>\n",
              "      <th>Характеристика вкуса</th>\n",
              "      <th>Бренд</th>\n",
              "    </tr>\n",
              "  </thead>\n",
              "  <tbody>\n",
              "    <tr>\n",
              "      <th>0</th>\n",
              "      <td>https://krasnoeibeloe.ru/catalog/vino/vino_bar...</td>\n",
              "      <td>474 оценки</td>\n",
              "      <td>//krasnoeibeloe.servicecdn.ru/upload/resize_ca...</td>\n",
              "      <td>894.80 ₽</td>\n",
              "      <td>17 °С</td>\n",
              "      <td>Gold medal</td>\n",
              "      <td>Красное</td>\n",
              "      <td>Вестерн Кейп</td>\n",
              "      <td>Val de Vie Estate</td>\n",
              "      <td>0.75 л.</td>\n",
              "      <td>ЮАР</td>\n",
              "      <td>Сухое</td>\n",
              "      <td>13 %</td>\n",
              "      <td>894.80 ₽</td>\n",
              "      <td>//krasnoeibeloe.servicecdn.ru/upload/resize_ca...</td>\n",
              "      <td>474 оценки</td>\n",
              "      <td>https://krasnoeibeloe.ru/catalog/vino/vino_bar...</td>\n",
              "      <td>Пинотаж</td>\n",
              "      <td>Мощный, с фруктово–ягодной кислотностью и слад...</td>\n",
              "      <td>Barista (Бариста)</td>\n",
              "    </tr>\n",
              "    <tr>\n",
              "      <th>1</th>\n",
              "      <td>https://krasnoeibeloe.ru/catalog/vino/vino_bro...</td>\n",
              "      <td>281 оценка</td>\n",
              "      <td>//krasnoeibeloe.servicecdn.ru/upload/resize_ca...</td>\n",
              "      <td>499.99 ₽</td>\n",
              "      <td>12 °С</td>\n",
              "      <td>Gold medal</td>\n",
              "      <td>Белое</td>\n",
              "      <td>Вестерн Кейп</td>\n",
              "      <td>NaN</td>\n",
              "      <td>0.75 л.</td>\n",
              "      <td>ЮАР</td>\n",
              "      <td>Сухое</td>\n",
              "      <td>12.5 %</td>\n",
              "      <td>499.99 ₽</td>\n",
              "      <td>//krasnoeibeloe.servicecdn.ru/upload/resize_ca...</td>\n",
              "      <td>281 оценка</td>\n",
              "      <td>https://krasnoeibeloe.ru/catalog/vino/vino_bro...</td>\n",
              "      <td>Совиньон Блан</td>\n",
              "      <td>Освежающий, минеральный, с приятной цитрусовой...</td>\n",
              "      <td>Broadleaf (Бродлиф)</td>\n",
              "    </tr>\n",
              "    <tr>\n",
              "      <th>2</th>\n",
              "      <td>https://krasnoeibeloe.ru/catalog/vino/vino_kuu...</td>\n",
              "      <td>219 оценок</td>\n",
              "      <td>//krasnoeibeloe.servicecdn.ru/upload/resize_ca...</td>\n",
              "      <td>346.99 ₽</td>\n",
              "      <td>16 °С</td>\n",
              "      <td>DoubleGold</td>\n",
              "      <td>Красное</td>\n",
              "      <td>Вестерн Кейп</td>\n",
              "      <td>NaN</td>\n",
              "      <td>0.75 л.</td>\n",
              "      <td>ЮАР</td>\n",
              "      <td>П/сухое</td>\n",
              "      <td>13.5 %</td>\n",
              "      <td>346.99 ₽</td>\n",
              "      <td>//krasnoeibeloe.servicecdn.ru/upload/resize_ca...</td>\n",
              "      <td>219 оценок</td>\n",
              "      <td>https://krasnoeibeloe.ru/catalog/vino/vino_kuu...</td>\n",
              "      <td>Пинотаж</td>\n",
              "      <td>NaN</td>\n",
              "      <td>NaN</td>\n",
              "    </tr>\n",
              "    <tr>\n",
              "      <th>3</th>\n",
              "      <td>https://krasnoeibeloe.ru/catalog/vino/vino_bro...</td>\n",
              "      <td>177 оценок</td>\n",
              "      <td>//krasnoeibeloe.servicecdn.ru/upload/resize_ca...</td>\n",
              "      <td>499.99 ₽</td>\n",
              "      <td>12 °С</td>\n",
              "      <td>Gold medal</td>\n",
              "      <td>Розовое</td>\n",
              "      <td>Вестерн Кейп</td>\n",
              "      <td>NaN</td>\n",
              "      <td>0.75 л.</td>\n",
              "      <td>ЮАР</td>\n",
              "      <td>Сухое</td>\n",
              "      <td>12.5 %</td>\n",
              "      <td>499.99 ₽</td>\n",
              "      <td>//krasnoeibeloe.servicecdn.ru/upload/resize_ca...</td>\n",
              "      <td>177 оценок</td>\n",
              "      <td>https://krasnoeibeloe.ru/catalog/vino/vino_bro...</td>\n",
              "      <td>Совиньон БланПино Нуар</td>\n",
              "      <td>Освежающий, минеральный, с приятной цитрусовой...</td>\n",
              "      <td>Broadleaf (Бродлиф)</td>\n",
              "    </tr>\n",
              "    <tr>\n",
              "      <th>4</th>\n",
              "      <td>https://krasnoeibeloe.ru/catalog/vino/vino_kuu...</td>\n",
              "      <td>172 оценки</td>\n",
              "      <td>//krasnoeibeloe.servicecdn.ru/upload/resize_ca...</td>\n",
              "      <td>346.99 ₽</td>\n",
              "      <td>12 °С</td>\n",
              "      <td>Gold Medal</td>\n",
              "      <td>Белое</td>\n",
              "      <td>Вестерн Кейп</td>\n",
              "      <td>NaN</td>\n",
              "      <td>0.75 л.</td>\n",
              "      <td>ЮАР</td>\n",
              "      <td>Сухое</td>\n",
              "      <td>12.5 %</td>\n",
              "      <td>346.99 ₽</td>\n",
              "      <td>//krasnoeibeloe.servicecdn.ru/upload/resize_ca...</td>\n",
              "      <td>172 оценки</td>\n",
              "      <td>https://krasnoeibeloe.ru/catalog/vino/vino_kuu...</td>\n",
              "      <td>Совиньон Блан</td>\n",
              "      <td>NaN</td>\n",
              "      <td>NaN</td>\n",
              "    </tr>\n",
              "    <tr>\n",
              "      <th>5</th>\n",
              "      <td>https://krasnoeibeloe.ru/catalog/vino/vino_kuu...</td>\n",
              "      <td>92 оценки</td>\n",
              "      <td>//krasnoeibeloe.servicecdn.ru/upload/resize_ca...</td>\n",
              "      <td>449.99 ₽</td>\n",
              "      <td>11 °С</td>\n",
              "      <td>Gold Medal</td>\n",
              "      <td>Белое</td>\n",
              "      <td>Вестерн Кейп</td>\n",
              "      <td>NaN</td>\n",
              "      <td>0.75 л.</td>\n",
              "      <td>ЮАР</td>\n",
              "      <td>Сухое</td>\n",
              "      <td>13 %</td>\n",
              "      <td>449.99 ₽</td>\n",
              "      <td>//krasnoeibeloe.servicecdn.ru/upload/resize_ca...</td>\n",
              "      <td>92 оценки</td>\n",
              "      <td>https://krasnoeibeloe.ru/catalog/vino/vino_kuu...</td>\n",
              "      <td>Шардоне</td>\n",
              "      <td>NaN</td>\n",
              "      <td>NaN</td>\n",
              "    </tr>\n",
              "    <tr>\n",
              "      <th>6</th>\n",
              "      <td>https://krasnoeibeloe.ru/catalog/vino/vino_key...</td>\n",
              "      <td>21 оценка</td>\n",
              "      <td>//krasnoeibeloe.servicecdn.ru/upload/resize_ca...</td>\n",
              "      <td>649.90 ₽</td>\n",
              "      <td>11 °С</td>\n",
              "      <td>NaN</td>\n",
              "      <td>Белое</td>\n",
              "      <td>Вестерн Кейп</td>\n",
              "      <td>NaN</td>\n",
              "      <td>0.75 л.</td>\n",
              "      <td>ЮАР</td>\n",
              "      <td>П/сухое</td>\n",
              "      <td>12 %</td>\n",
              "      <td>649.90 ₽</td>\n",
              "      <td>//krasnoeibeloe.servicecdn.ru/upload/resize_ca...</td>\n",
              "      <td>21 оценка</td>\n",
              "      <td>https://krasnoeibeloe.ru/catalog/vino/vino_key...</td>\n",
              "      <td>Шенен Блан</td>\n",
              "      <td>Хрустящий и привлекательный.</td>\n",
              "      <td>Cape Discovery (Кейп Дискавери)</td>\n",
              "    </tr>\n",
              "    <tr>\n",
              "      <th>7</th>\n",
              "      <td>https://krasnoeibeloe.ru/catalog/vino/vino_spe...</td>\n",
              "      <td>12 оценок</td>\n",
              "      <td>//krasnoeibeloe.servicecdn.ru/upload/resize_ca...</td>\n",
              "      <td>599.90 ₽</td>\n",
              "      <td>17 °С</td>\n",
              "      <td>NaN</td>\n",
              "      <td>Красное</td>\n",
              "      <td>Вестерн Кейп</td>\n",
              "      <td>NaN</td>\n",
              "      <td>0.75 л.</td>\n",
              "      <td>ЮАР</td>\n",
              "      <td>П/сухое</td>\n",
              "      <td>9 %</td>\n",
              "      <td>599.90 ₽</td>\n",
              "      <td>//krasnoeibeloe.servicecdn.ru/upload/resize_ca...</td>\n",
              "      <td>12 оценок</td>\n",
              "      <td>https://krasnoeibeloe.ru/catalog/vino/vino_spe...</td>\n",
              "      <td>Пинотаж</td>\n",
              "      <td>Легкое, выразительно фруктовое.</td>\n",
              "      <td>NaN</td>\n",
              "    </tr>\n",
              "  </tbody>\n",
              "</table>\n",
              "</div>\n",
              "    <div class=\"colab-df-buttons\">\n",
              "\n",
              "  <div class=\"colab-df-container\">\n",
              "    <button class=\"colab-df-convert\" onclick=\"convertToInteractive('df-f7aa1987-e3e1-4d19-bfbd-ec07e4283494')\"\n",
              "            title=\"Convert this dataframe to an interactive table.\"\n",
              "            style=\"display:none;\">\n",
              "\n",
              "  <svg xmlns=\"http://www.w3.org/2000/svg\" height=\"24px\" viewBox=\"0 -960 960 960\">\n",
              "    <path d=\"M120-120v-720h720v720H120Zm60-500h600v-160H180v160Zm220 220h160v-160H400v160Zm0 220h160v-160H400v160ZM180-400h160v-160H180v160Zm440 0h160v-160H620v160ZM180-180h160v-160H180v160Zm440 0h160v-160H620v160Z\"/>\n",
              "  </svg>\n",
              "    </button>\n",
              "\n",
              "  <style>\n",
              "    .colab-df-container {\n",
              "      display:flex;\n",
              "      gap: 12px;\n",
              "    }\n",
              "\n",
              "    .colab-df-convert {\n",
              "      background-color: #E8F0FE;\n",
              "      border: none;\n",
              "      border-radius: 50%;\n",
              "      cursor: pointer;\n",
              "      display: none;\n",
              "      fill: #1967D2;\n",
              "      height: 32px;\n",
              "      padding: 0 0 0 0;\n",
              "      width: 32px;\n",
              "    }\n",
              "\n",
              "    .colab-df-convert:hover {\n",
              "      background-color: #E2EBFA;\n",
              "      box-shadow: 0px 1px 2px rgba(60, 64, 67, 0.3), 0px 1px 3px 1px rgba(60, 64, 67, 0.15);\n",
              "      fill: #174EA6;\n",
              "    }\n",
              "\n",
              "    .colab-df-buttons div {\n",
              "      margin-bottom: 4px;\n",
              "    }\n",
              "\n",
              "    [theme=dark] .colab-df-convert {\n",
              "      background-color: #3B4455;\n",
              "      fill: #D2E3FC;\n",
              "    }\n",
              "\n",
              "    [theme=dark] .colab-df-convert:hover {\n",
              "      background-color: #434B5C;\n",
              "      box-shadow: 0px 1px 3px 1px rgba(0, 0, 0, 0.15);\n",
              "      filter: drop-shadow(0px 1px 2px rgba(0, 0, 0, 0.3));\n",
              "      fill: #FFFFFF;\n",
              "    }\n",
              "  </style>\n",
              "\n",
              "    <script>\n",
              "      const buttonEl =\n",
              "        document.querySelector('#df-f7aa1987-e3e1-4d19-bfbd-ec07e4283494 button.colab-df-convert');\n",
              "      buttonEl.style.display =\n",
              "        google.colab.kernel.accessAllowed ? 'block' : 'none';\n",
              "\n",
              "      async function convertToInteractive(key) {\n",
              "        const element = document.querySelector('#df-f7aa1987-e3e1-4d19-bfbd-ec07e4283494');\n",
              "        const dataTable =\n",
              "          await google.colab.kernel.invokeFunction('convertToInteractive',\n",
              "                                                    [key], {});\n",
              "        if (!dataTable) return;\n",
              "\n",
              "        const docLinkHtml = 'Like what you see? Visit the ' +\n",
              "          '<a target=\"_blank\" href=https://colab.research.google.com/notebooks/data_table.ipynb>data table notebook</a>'\n",
              "          + ' to learn more about interactive tables.';\n",
              "        element.innerHTML = '';\n",
              "        dataTable['output_type'] = 'display_data';\n",
              "        await google.colab.output.renderOutput(dataTable, element);\n",
              "        const docLink = document.createElement('div');\n",
              "        docLink.innerHTML = docLinkHtml;\n",
              "        element.appendChild(docLink);\n",
              "      }\n",
              "    </script>\n",
              "  </div>\n",
              "\n",
              "\n",
              "<div id=\"df-868e7b0b-7a25-4fba-bf00-377d0122cc9f\">\n",
              "  <button class=\"colab-df-quickchart\" onclick=\"quickchart('df-868e7b0b-7a25-4fba-bf00-377d0122cc9f')\"\n",
              "            title=\"Suggest charts\"\n",
              "            style=\"display:none;\">\n",
              "\n",
              "<svg xmlns=\"http://www.w3.org/2000/svg\" height=\"24px\"viewBox=\"0 0 24 24\"\n",
              "     width=\"24px\">\n",
              "    <g>\n",
              "        <path d=\"M19 3H5c-1.1 0-2 .9-2 2v14c0 1.1.9 2 2 2h14c1.1 0 2-.9 2-2V5c0-1.1-.9-2-2-2zM9 17H7v-7h2v7zm4 0h-2V7h2v10zm4 0h-2v-4h2v4z\"/>\n",
              "    </g>\n",
              "</svg>\n",
              "  </button>\n",
              "\n",
              "<style>\n",
              "  .colab-df-quickchart {\n",
              "      --bg-color: #E8F0FE;\n",
              "      --fill-color: #1967D2;\n",
              "      --hover-bg-color: #E2EBFA;\n",
              "      --hover-fill-color: #174EA6;\n",
              "      --disabled-fill-color: #AAA;\n",
              "      --disabled-bg-color: #DDD;\n",
              "  }\n",
              "\n",
              "  [theme=dark] .colab-df-quickchart {\n",
              "      --bg-color: #3B4455;\n",
              "      --fill-color: #D2E3FC;\n",
              "      --hover-bg-color: #434B5C;\n",
              "      --hover-fill-color: #FFFFFF;\n",
              "      --disabled-bg-color: #3B4455;\n",
              "      --disabled-fill-color: #666;\n",
              "  }\n",
              "\n",
              "  .colab-df-quickchart {\n",
              "    background-color: var(--bg-color);\n",
              "    border: none;\n",
              "    border-radius: 50%;\n",
              "    cursor: pointer;\n",
              "    display: none;\n",
              "    fill: var(--fill-color);\n",
              "    height: 32px;\n",
              "    padding: 0;\n",
              "    width: 32px;\n",
              "  }\n",
              "\n",
              "  .colab-df-quickchart:hover {\n",
              "    background-color: var(--hover-bg-color);\n",
              "    box-shadow: 0 1px 2px rgba(60, 64, 67, 0.3), 0 1px 3px 1px rgba(60, 64, 67, 0.15);\n",
              "    fill: var(--button-hover-fill-color);\n",
              "  }\n",
              "\n",
              "  .colab-df-quickchart-complete:disabled,\n",
              "  .colab-df-quickchart-complete:disabled:hover {\n",
              "    background-color: var(--disabled-bg-color);\n",
              "    fill: var(--disabled-fill-color);\n",
              "    box-shadow: none;\n",
              "  }\n",
              "\n",
              "  .colab-df-spinner {\n",
              "    border: 2px solid var(--fill-color);\n",
              "    border-color: transparent;\n",
              "    border-bottom-color: var(--fill-color);\n",
              "    animation:\n",
              "      spin 1s steps(1) infinite;\n",
              "  }\n",
              "\n",
              "  @keyframes spin {\n",
              "    0% {\n",
              "      border-color: transparent;\n",
              "      border-bottom-color: var(--fill-color);\n",
              "      border-left-color: var(--fill-color);\n",
              "    }\n",
              "    20% {\n",
              "      border-color: transparent;\n",
              "      border-left-color: var(--fill-color);\n",
              "      border-top-color: var(--fill-color);\n",
              "    }\n",
              "    30% {\n",
              "      border-color: transparent;\n",
              "      border-left-color: var(--fill-color);\n",
              "      border-top-color: var(--fill-color);\n",
              "      border-right-color: var(--fill-color);\n",
              "    }\n",
              "    40% {\n",
              "      border-color: transparent;\n",
              "      border-right-color: var(--fill-color);\n",
              "      border-top-color: var(--fill-color);\n",
              "    }\n",
              "    60% {\n",
              "      border-color: transparent;\n",
              "      border-right-color: var(--fill-color);\n",
              "    }\n",
              "    80% {\n",
              "      border-color: transparent;\n",
              "      border-right-color: var(--fill-color);\n",
              "      border-bottom-color: var(--fill-color);\n",
              "    }\n",
              "    90% {\n",
              "      border-color: transparent;\n",
              "      border-bottom-color: var(--fill-color);\n",
              "    }\n",
              "  }\n",
              "</style>\n",
              "\n",
              "  <script>\n",
              "    async function quickchart(key) {\n",
              "      const quickchartButtonEl =\n",
              "        document.querySelector('#' + key + ' button');\n",
              "      quickchartButtonEl.disabled = true;  // To prevent multiple clicks.\n",
              "      quickchartButtonEl.classList.add('colab-df-spinner');\n",
              "      try {\n",
              "        const charts = await google.colab.kernel.invokeFunction(\n",
              "            'suggestCharts', [key], {});\n",
              "      } catch (error) {\n",
              "        console.error('Error during call to suggestCharts:', error);\n",
              "      }\n",
              "      quickchartButtonEl.classList.remove('colab-df-spinner');\n",
              "      quickchartButtonEl.classList.add('colab-df-quickchart-complete');\n",
              "    }\n",
              "    (() => {\n",
              "      let quickchartButtonEl =\n",
              "        document.querySelector('#df-868e7b0b-7a25-4fba-bf00-377d0122cc9f button');\n",
              "      quickchartButtonEl.style.display =\n",
              "        google.colab.kernel.accessAllowed ? 'block' : 'none';\n",
              "    })();\n",
              "  </script>\n",
              "</div>\n",
              "    </div>\n",
              "  </div>\n"
            ]
          },
          "metadata": {},
          "execution_count": 222
        }
      ]
    },
    {
      "cell_type": "code",
      "source": [
        "data_KB.columns"
      ],
      "metadata": {
        "colab": {
          "base_uri": "https://localhost:8080/"
        },
        "id": "RsdBnoDVf9wn",
        "outputId": "12a88b19-4b4f-4fcb-c9f9-24f519f5fec5"
      },
      "execution_count": null,
      "outputs": [
        {
          "output_type": "execute_result",
          "data": {
            "text/plain": [
              "Index(['Link_product', 'Number_votes', 'Image', 'Price', 'Температура подачи',\n",
              "       'Gilbert & Gaillard', 'Цвет', 'Регион', 'Производитель', 'Объем',\n",
              "       'Страна', 'Сахар', 'Алкоголь', 'Price.1', 'Image.1', 'Number_votes.1',\n",
              "       'Link_product.1', 'Сорта винограда', 'Характеристика вкуса', 'Бренд'],\n",
              "      dtype='object')"
            ]
          },
          "metadata": {},
          "execution_count": 223
        }
      ]
    },
    {
      "cell_type": "code",
      "source": [
        "data_KB = data_KB.drop(['Price.1', 'Image.1', 'Number_votes.1',\n",
        "       'Link_product.1', 'Производитель'], axis=1)"
      ],
      "metadata": {
        "id": "YFSH-A450V_t"
      },
      "execution_count": null,
      "outputs": []
    },
    {
      "cell_type": "code",
      "source": [
        "# Class for extract numeric from columns\n",
        "\n",
        "class NumericEctraction:\n",
        "  def __init__(self, column_names):\n",
        "    self.columns_to_extract = column_names\n",
        "  def extract_numerics(self, s):\n",
        "    try:\n",
        "      return float(''.join(filter(lambda x: x.isdigit() or x == '.', s.split()[0])))\n",
        "    except ValueError:\n",
        "      return None\n",
        "  def extract_numerics_from_all_columns(self, data_frame):\n",
        "    for column_name in self.columns_to_extract:\n",
        "      if column_name in data_frame.columns:\n",
        "        data_frame[column_name] = data_frame[column_name].apply(self.extract_numerics)\n",
        "      else:\n",
        "        print(f\"Column '{column_name}' non found....\")"
      ],
      "metadata": {
        "id": "aFoamTCDgNvJ"
      },
      "execution_count": null,
      "outputs": []
    },
    {
      "cell_type": "code",
      "source": [
        "column_names = ['Price', 'Температура подачи', 'Объем', 'Алкоголь', 'Number_votes']\n",
        "digits_extract = NumericEctraction(column_names)\n",
        "digits_extract.extract_numerics_from_all_columns(data_KB)"
      ],
      "metadata": {
        "id": "IxVlmg1ym4KF"
      },
      "execution_count": null,
      "outputs": []
    },
    {
      "cell_type": "code",
      "source": [
        "data_KB['Rating'] = [3.5, 4, 3.5, 4, 3.5, 4, 3.5, 3.5]"
      ],
      "metadata": {
        "id": "uGB1HpC0ntq6"
      },
      "execution_count": null,
      "outputs": []
    },
    {
      "cell_type": "code",
      "source": [
        "data_KB['Сегмент'] = 'low'"
      ],
      "metadata": {
        "id": "bnfkHeSmrcgt"
      },
      "execution_count": null,
      "outputs": []
    },
    {
      "cell_type": "code",
      "source": [
        "data_KB.columns"
      ],
      "metadata": {
        "colab": {
          "base_uri": "https://localhost:8080/"
        },
        "id": "pxwep0FF6G9w",
        "outputId": "fc21e546-e291-4f80-e767-65411b81c157"
      },
      "execution_count": null,
      "outputs": [
        {
          "output_type": "execute_result",
          "data": {
            "text/plain": [
              "Index(['Link_product', 'Number_votes', 'Image', 'Price', 'Температура подачи',\n",
              "       'Gilbert & Gaillard', 'Цвет', 'Регион', 'Объем', 'Страна', 'Сахар',\n",
              "       'Алкоголь', 'Сорта винограда', 'Характеристика вкуса', 'Бренд',\n",
              "       'Rating', 'Сегмент'],\n",
              "      dtype='object')"
            ]
          },
          "metadata": {},
          "execution_count": 229
        }
      ]
    },
    {
      "cell_type": "code",
      "source": [
        "new_column_names = ['Product_Link', 'Votes_Count', 'Image_URL', 'Price', 'Serving_Temperature',\n",
        "                    'Gilbert_and_Gaillard', 'Color', 'Region', 'Volume', 'Country', 'Sugar',\n",
        "                    'Alcohol', 'Grape_Varieties', 'Taste_Description', 'Brand', 'Rating', 'Segment']\n",
        "\n",
        "data_KB.columns = new_column_names"
      ],
      "metadata": {
        "id": "DDSzQKWTsZqP"
      },
      "execution_count": null,
      "outputs": []
    },
    {
      "cell_type": "code",
      "source": [
        "data_KB = data_KB.drop(['Product_Link', 'Serving_Temperature', 'Gilbert_and_Gaillard',\n",
        "                        'Country'], axis=1)"
      ],
      "metadata": {
        "id": "CVwST8Rtdorv"
      },
      "execution_count": null,
      "outputs": []
    },
    {
      "cell_type": "code",
      "source": [
        "data_KB['Sugar'] = data_KB['Sugar'].replace('П/сухое', 'полусухое')"
      ],
      "metadata": {
        "id": "d1c6kVPSg3hi"
      },
      "execution_count": null,
      "outputs": []
    },
    {
      "cell_type": "code",
      "source": [
        "data_KB = data_KB.applymap(lambda x: x.lower() if isinstance(x, str) else x)"
      ],
      "metadata": {
        "id": "Qw5lX_OZhwTu"
      },
      "execution_count": null,
      "outputs": []
    },
    {
      "cell_type": "code",
      "source": [
        "import re\n",
        "\n",
        "def extract_english(text):\n",
        "  if pd.notna(text):\n",
        "    return ' '.join(re.findall(r'\\b[a-zA-Z]+\\b', text))\n",
        "  else:\n",
        "    return 'Unknown'"
      ],
      "metadata": {
        "id": "JgGE0GVrjzZf"
      },
      "execution_count": null,
      "outputs": []
    },
    {
      "cell_type": "code",
      "source": [
        "data_KB['Brand'] = data_KB['Brand'].apply(extract_english)"
      ],
      "metadata": {
        "id": "w0oT36BwkV8Y"
      },
      "execution_count": null,
      "outputs": []
    },
    {
      "cell_type": "code",
      "source": [
        "indexes = [2, 4, 5]\n",
        "for index in indexes:\n",
        "  data_KB.loc[index, 'Brand'] = 'kuumba'\n",
        "\n",
        "data_KB.loc[7, 'Brand'] = 'spencer bay'"
      ],
      "metadata": {
        "id": "6L-EPT4zmWlD"
      },
      "execution_count": null,
      "outputs": []
    },
    {
      "cell_type": "code",
      "source": [
        "data_KB.loc[2, 'Taste_Description'] = 'Аромат раскрывается фруктами и ягодами: сливой, ежевикой, в меньшей степени — малиной и вишней. Также присутствуют оттенки лакрицы, болгарского перца, табака и чая ройбуш. Во вкусе ощущаются красные ягоды, изюм, пряности и даже зефир.'\n",
        "data_KB.loc[4, 'Taste_Description'] = 'У вина свежий, элегантный вкус с приятными нотами маракуйи, крыжовника, цитрусовых и хрустящей кислинкой в гармоничном послевкусии. Свежий аромат вина раскрывается тонами белых цветов, цитрусовых, крыжовника и экзотических фруктов.'\n",
        "data_KB.loc[5, 'Taste_Description'] = 'Вина могут раскрываться нотами дыни, яблока, грейпфрута, в тропических вариациях — персика, манго, лайма, ананаса. Выдержанные шардоне отличаются дымным вкусом, в них ощущаются корица, гвоздика, ореховые ноты.'"
      ],
      "metadata": {
        "id": "MteQfZjToCBM"
      },
      "execution_count": null,
      "outputs": []
    },
    {
      "cell_type": "code",
      "source": [
        "data_KB['wine_stopper'] = [1, 1, 1, 1, 1, 1, 2, 1]"
      ],
      "metadata": {
        "id": "k69P16i-_xTC"
      },
      "execution_count": null,
      "outputs": []
    },
    {
      "cell_type": "code",
      "source": [
        "data_KB['Label'] = [1, 1, 1, 1, 1, 1, 2, 2]"
      ],
      "metadata": {
        "id": "DqYwqKVZAtHG"
      },
      "execution_count": null,
      "outputs": []
    },
    {
      "cell_type": "code",
      "source": [
        "data_KB['Shape'] = [1, 2, 1, 2, 1, 1, 2, 1]"
      ],
      "metadata": {
        "id": "gdm4TolZBDbr"
      },
      "execution_count": null,
      "outputs": []
    },
    {
      "cell_type": "code",
      "source": [
        "from IPython.display import display, HTML\n",
        "\n",
        "html = data_KB.to_html(escape=False)\n",
        "\n",
        "for index, row in data_KB.iterrows():\n",
        "    html = html.replace(row['Image_URL'], f'<img src=\"{row[\"Image_URL\"]}\" alt=\"Product Image\" style=\"max-height:150px; max-width:150px;\">')\n",
        "\n",
        "display(HTML(html))"
      ],
      "metadata": {
        "id": "6ABSsrerZdJn"
      },
      "execution_count": null,
      "outputs": []
    },
    {
      "cell_type": "code",
      "source": [
        "import os\n",
        "import requests\n",
        "from PIL import Image\n",
        "from io import BytesIO\n",
        "\n",
        "# Download images and save locally\n",
        "downloaded_paths = []\n",
        "\n",
        "for i, img_url in enumerate(data_KB['Image_URL']):\n",
        "    full_url = 'https:' + img_url\n",
        "    response = requests.get(full_url)\n",
        "\n",
        "    if response.status_code == 200:\n",
        "        img = Image.open(BytesIO(response.content))\n",
        "        local_path = f\"image_{i}.jpg\"\n",
        "        img.save(local_path)\n",
        "        downloaded_paths.append(local_path)\n",
        "    else:\n",
        "        print(f\"Failed to download image from {full_url}\")\n",
        "\n",
        "# Update the DataFrame with local paths\n",
        "data_KB['Local_Image_Path'] = downloaded_paths"
      ],
      "metadata": {
        "id": "-9Y9ieiyI8Uz"
      },
      "execution_count": null,
      "outputs": []
    },
    {
      "cell_type": "code",
      "source": [
        "data_KB['Local_Image_Path'] = data_KB['Local_Image_Path'].apply(lambda x: os.path.join(os.getcwd(), x))"
      ],
      "metadata": {
        "id": "86G-cab2fLek"
      },
      "execution_count": null,
      "outputs": []
    },
    {
      "cell_type": "code",
      "source": [
        "data_KB['Local_Image_Path']"
      ],
      "metadata": {
        "colab": {
          "base_uri": "https://localhost:8080/"
        },
        "id": "r_dAHGVBJCFV",
        "outputId": "b85bda99-3b94-4771-f315-5c27feae5530"
      },
      "execution_count": null,
      "outputs": [
        {
          "output_type": "execute_result",
          "data": {
            "text/plain": [
              "0    /content/image_0.jpg\n",
              "1    /content/image_1.jpg\n",
              "2    /content/image_2.jpg\n",
              "3    /content/image_3.jpg\n",
              "4    /content/image_4.jpg\n",
              "5    /content/image_5.jpg\n",
              "6    /content/image_6.jpg\n",
              "7    /content/image_7.jpg\n",
              "Name: Local_Image_Path, dtype: object"
            ]
          },
          "metadata": {},
          "execution_count": 244
        }
      ]
    },
    {
      "cell_type": "code",
      "source": [
        "data_KB['Year'] = 2023"
      ],
      "metadata": {
        "id": "yNBiFn5WgfFJ"
      },
      "execution_count": null,
      "outputs": []
    },
    {
      "cell_type": "code",
      "source": [
        "data_SimpleWine.head()"
      ],
      "metadata": {
        "colab": {
          "base_uri": "https://localhost:8080/",
          "height": 590
        },
        "id": "Y6vYRvPCYfxf",
        "outputId": "49b888fb-3206-417c-c094-a0b3a3a13f40"
      },
      "execution_count": null,
      "outputs": [
        {
          "output_type": "execute_result",
          "data": {
            "text/plain": [
              "                                             Title  \\\n",
              "0                    Вино Tiara, Simonsig, 2018 г.   \n",
              "1              Вино Frans Malan, Simonsig, 2017 г.   \n",
              "2              Вино Pinotage, Spice Route, 2021 г.   \n",
              "3  Вино Sauvignon Blanc Sunbird, Simonsig, 2022 г.   \n",
              "4        Вино Shiraz Mr Borio's, Simonsig, 2020 г.   \n",
              "\n",
              "                                        Link_product  Ratings  Number_votes  \\\n",
              "0            /catalog/product/tiara_2018_075_141078/      4.6           7.0   \n",
              "1      /catalog/product/frans_malan_2017_075_141079/      4.7           6.0   \n",
              "2  /catalog/product/spice_route_pinotage_2021_075...      4.7         100.0   \n",
              "3  /catalog/product/sauvignon_blanc_sunbird_2022_...      4.6          15.0   \n",
              "4  /catalog/product/shiraz_mr_borio_s_2020_075_14...      5.0           8.0   \n",
              "\n",
              "   Price        Страна     Цвет  Сахар    Объем              Виноград  \\\n",
              "0   5390  Южная Африка  красное  сухое  0.75 л.  каберне совиньон 82%   \n",
              "1   5390  Южная Африка  красное  сухое  0.75 л.           пинотаж 66%   \n",
              "2   3790  Южная Африка  красное  сухое  0.75 л.          пинотаж 100%   \n",
              "3   2390  Южная Африка    белое  сухое  0.75 л.         совиньон блан   \n",
              "4   2990  Южная Африка  красное  сухое  0.75 л.            шираз 100%   \n",
              "\n",
              "  Производитель      Регион  \\\n",
              "0      Simonsig  Стелленбош   \n",
              "1      Simonsig  Стелленбош   \n",
              "2   Spice Route   Свортленд   \n",
              "3      Simonsig  Стелленбош   \n",
              "4      Simonsig  Стелленбош   \n",
              "\n",
              "                                          Стилистика  \\\n",
              "0   красное — насыщенное, пряное, выдержанное в дубе   \n",
              "1   красное — насыщенное, пряное, выдержанное в дубе   \n",
              "2   красное — мощное, насыщенное, выдержанное в дубе   \n",
              "3  белое — насыщенное, фруктовое, не выдержанное ...   \n",
              "4   красное — насыщенное, пряное, выдержанное в дубе   \n",
              "\n",
              "                                        Larger_Image  \n",
              "0  https://static.simplewine.ru/upload/iblock/d0b...  \n",
              "1  https://static.simplewine.ru/upload/iblock/3ef...  \n",
              "2  https://static.simplewine.ru/upload/iblock/b65...  \n",
              "3  https://static.simplewine.ru/upload/iblock/a11...  \n",
              "4  https://static.simplewine.ru/upload/iblock/3d3...  "
            ],
            "text/html": [
              "\n",
              "  <div id=\"df-54616135-6787-4e60-a0c5-12663db56b8b\" class=\"colab-df-container\">\n",
              "    <div>\n",
              "<style scoped>\n",
              "    .dataframe tbody tr th:only-of-type {\n",
              "        vertical-align: middle;\n",
              "    }\n",
              "\n",
              "    .dataframe tbody tr th {\n",
              "        vertical-align: top;\n",
              "    }\n",
              "\n",
              "    .dataframe thead th {\n",
              "        text-align: right;\n",
              "    }\n",
              "</style>\n",
              "<table border=\"1\" class=\"dataframe\">\n",
              "  <thead>\n",
              "    <tr style=\"text-align: right;\">\n",
              "      <th></th>\n",
              "      <th>Title</th>\n",
              "      <th>Link_product</th>\n",
              "      <th>Ratings</th>\n",
              "      <th>Number_votes</th>\n",
              "      <th>Price</th>\n",
              "      <th>Страна</th>\n",
              "      <th>Цвет</th>\n",
              "      <th>Сахар</th>\n",
              "      <th>Объем</th>\n",
              "      <th>Виноград</th>\n",
              "      <th>Производитель</th>\n",
              "      <th>Регион</th>\n",
              "      <th>Стилистика</th>\n",
              "      <th>Larger_Image</th>\n",
              "    </tr>\n",
              "  </thead>\n",
              "  <tbody>\n",
              "    <tr>\n",
              "      <th>0</th>\n",
              "      <td>Вино Tiara, Simonsig, 2018 г.</td>\n",
              "      <td>/catalog/product/tiara_2018_075_141078/</td>\n",
              "      <td>4.6</td>\n",
              "      <td>7.0</td>\n",
              "      <td>5390</td>\n",
              "      <td>Южная Африка</td>\n",
              "      <td>красное</td>\n",
              "      <td>сухое</td>\n",
              "      <td>0.75 л.</td>\n",
              "      <td>каберне совиньон 82%</td>\n",
              "      <td>Simonsig</td>\n",
              "      <td>Стелленбош</td>\n",
              "      <td>красное — насыщенное, пряное, выдержанное в дубе</td>\n",
              "      <td>https://static.simplewine.ru/upload/iblock/d0b...</td>\n",
              "    </tr>\n",
              "    <tr>\n",
              "      <th>1</th>\n",
              "      <td>Вино Frans Malan, Simonsig, 2017 г.</td>\n",
              "      <td>/catalog/product/frans_malan_2017_075_141079/</td>\n",
              "      <td>4.7</td>\n",
              "      <td>6.0</td>\n",
              "      <td>5390</td>\n",
              "      <td>Южная Африка</td>\n",
              "      <td>красное</td>\n",
              "      <td>сухое</td>\n",
              "      <td>0.75 л.</td>\n",
              "      <td>пинотаж 66%</td>\n",
              "      <td>Simonsig</td>\n",
              "      <td>Стелленбош</td>\n",
              "      <td>красное — насыщенное, пряное, выдержанное в дубе</td>\n",
              "      <td>https://static.simplewine.ru/upload/iblock/3ef...</td>\n",
              "    </tr>\n",
              "    <tr>\n",
              "      <th>2</th>\n",
              "      <td>Вино Pinotage, Spice Route, 2021 г.</td>\n",
              "      <td>/catalog/product/spice_route_pinotage_2021_075...</td>\n",
              "      <td>4.7</td>\n",
              "      <td>100.0</td>\n",
              "      <td>3790</td>\n",
              "      <td>Южная Африка</td>\n",
              "      <td>красное</td>\n",
              "      <td>сухое</td>\n",
              "      <td>0.75 л.</td>\n",
              "      <td>пинотаж 100%</td>\n",
              "      <td>Spice Route</td>\n",
              "      <td>Свортленд</td>\n",
              "      <td>красное — мощное, насыщенное, выдержанное в дубе</td>\n",
              "      <td>https://static.simplewine.ru/upload/iblock/b65...</td>\n",
              "    </tr>\n",
              "    <tr>\n",
              "      <th>3</th>\n",
              "      <td>Вино Sauvignon Blanc Sunbird, Simonsig, 2022 г.</td>\n",
              "      <td>/catalog/product/sauvignon_blanc_sunbird_2022_...</td>\n",
              "      <td>4.6</td>\n",
              "      <td>15.0</td>\n",
              "      <td>2390</td>\n",
              "      <td>Южная Африка</td>\n",
              "      <td>белое</td>\n",
              "      <td>сухое</td>\n",
              "      <td>0.75 л.</td>\n",
              "      <td>совиньон блан</td>\n",
              "      <td>Simonsig</td>\n",
              "      <td>Стелленбош</td>\n",
              "      <td>белое — насыщенное, фруктовое, не выдержанное ...</td>\n",
              "      <td>https://static.simplewine.ru/upload/iblock/a11...</td>\n",
              "    </tr>\n",
              "    <tr>\n",
              "      <th>4</th>\n",
              "      <td>Вино Shiraz Mr Borio's, Simonsig, 2020 г.</td>\n",
              "      <td>/catalog/product/shiraz_mr_borio_s_2020_075_14...</td>\n",
              "      <td>5.0</td>\n",
              "      <td>8.0</td>\n",
              "      <td>2990</td>\n",
              "      <td>Южная Африка</td>\n",
              "      <td>красное</td>\n",
              "      <td>сухое</td>\n",
              "      <td>0.75 л.</td>\n",
              "      <td>шираз 100%</td>\n",
              "      <td>Simonsig</td>\n",
              "      <td>Стелленбош</td>\n",
              "      <td>красное — насыщенное, пряное, выдержанное в дубе</td>\n",
              "      <td>https://static.simplewine.ru/upload/iblock/3d3...</td>\n",
              "    </tr>\n",
              "  </tbody>\n",
              "</table>\n",
              "</div>\n",
              "    <div class=\"colab-df-buttons\">\n",
              "\n",
              "  <div class=\"colab-df-container\">\n",
              "    <button class=\"colab-df-convert\" onclick=\"convertToInteractive('df-54616135-6787-4e60-a0c5-12663db56b8b')\"\n",
              "            title=\"Convert this dataframe to an interactive table.\"\n",
              "            style=\"display:none;\">\n",
              "\n",
              "  <svg xmlns=\"http://www.w3.org/2000/svg\" height=\"24px\" viewBox=\"0 -960 960 960\">\n",
              "    <path d=\"M120-120v-720h720v720H120Zm60-500h600v-160H180v160Zm220 220h160v-160H400v160Zm0 220h160v-160H400v160ZM180-400h160v-160H180v160Zm440 0h160v-160H620v160ZM180-180h160v-160H180v160Zm440 0h160v-160H620v160Z\"/>\n",
              "  </svg>\n",
              "    </button>\n",
              "\n",
              "  <style>\n",
              "    .colab-df-container {\n",
              "      display:flex;\n",
              "      gap: 12px;\n",
              "    }\n",
              "\n",
              "    .colab-df-convert {\n",
              "      background-color: #E8F0FE;\n",
              "      border: none;\n",
              "      border-radius: 50%;\n",
              "      cursor: pointer;\n",
              "      display: none;\n",
              "      fill: #1967D2;\n",
              "      height: 32px;\n",
              "      padding: 0 0 0 0;\n",
              "      width: 32px;\n",
              "    }\n",
              "\n",
              "    .colab-df-convert:hover {\n",
              "      background-color: #E2EBFA;\n",
              "      box-shadow: 0px 1px 2px rgba(60, 64, 67, 0.3), 0px 1px 3px 1px rgba(60, 64, 67, 0.15);\n",
              "      fill: #174EA6;\n",
              "    }\n",
              "\n",
              "    .colab-df-buttons div {\n",
              "      margin-bottom: 4px;\n",
              "    }\n",
              "\n",
              "    [theme=dark] .colab-df-convert {\n",
              "      background-color: #3B4455;\n",
              "      fill: #D2E3FC;\n",
              "    }\n",
              "\n",
              "    [theme=dark] .colab-df-convert:hover {\n",
              "      background-color: #434B5C;\n",
              "      box-shadow: 0px 1px 3px 1px rgba(0, 0, 0, 0.15);\n",
              "      filter: drop-shadow(0px 1px 2px rgba(0, 0, 0, 0.3));\n",
              "      fill: #FFFFFF;\n",
              "    }\n",
              "  </style>\n",
              "\n",
              "    <script>\n",
              "      const buttonEl =\n",
              "        document.querySelector('#df-54616135-6787-4e60-a0c5-12663db56b8b button.colab-df-convert');\n",
              "      buttonEl.style.display =\n",
              "        google.colab.kernel.accessAllowed ? 'block' : 'none';\n",
              "\n",
              "      async function convertToInteractive(key) {\n",
              "        const element = document.querySelector('#df-54616135-6787-4e60-a0c5-12663db56b8b');\n",
              "        const dataTable =\n",
              "          await google.colab.kernel.invokeFunction('convertToInteractive',\n",
              "                                                    [key], {});\n",
              "        if (!dataTable) return;\n",
              "\n",
              "        const docLinkHtml = 'Like what you see? Visit the ' +\n",
              "          '<a target=\"_blank\" href=https://colab.research.google.com/notebooks/data_table.ipynb>data table notebook</a>'\n",
              "          + ' to learn more about interactive tables.';\n",
              "        element.innerHTML = '';\n",
              "        dataTable['output_type'] = 'display_data';\n",
              "        await google.colab.output.renderOutput(dataTable, element);\n",
              "        const docLink = document.createElement('div');\n",
              "        docLink.innerHTML = docLinkHtml;\n",
              "        element.appendChild(docLink);\n",
              "      }\n",
              "    </script>\n",
              "  </div>\n",
              "\n",
              "\n",
              "<div id=\"df-e07f7103-366b-4180-930b-89b8baf2c51f\">\n",
              "  <button class=\"colab-df-quickchart\" onclick=\"quickchart('df-e07f7103-366b-4180-930b-89b8baf2c51f')\"\n",
              "            title=\"Suggest charts\"\n",
              "            style=\"display:none;\">\n",
              "\n",
              "<svg xmlns=\"http://www.w3.org/2000/svg\" height=\"24px\"viewBox=\"0 0 24 24\"\n",
              "     width=\"24px\">\n",
              "    <g>\n",
              "        <path d=\"M19 3H5c-1.1 0-2 .9-2 2v14c0 1.1.9 2 2 2h14c1.1 0 2-.9 2-2V5c0-1.1-.9-2-2-2zM9 17H7v-7h2v7zm4 0h-2V7h2v10zm4 0h-2v-4h2v4z\"/>\n",
              "    </g>\n",
              "</svg>\n",
              "  </button>\n",
              "\n",
              "<style>\n",
              "  .colab-df-quickchart {\n",
              "      --bg-color: #E8F0FE;\n",
              "      --fill-color: #1967D2;\n",
              "      --hover-bg-color: #E2EBFA;\n",
              "      --hover-fill-color: #174EA6;\n",
              "      --disabled-fill-color: #AAA;\n",
              "      --disabled-bg-color: #DDD;\n",
              "  }\n",
              "\n",
              "  [theme=dark] .colab-df-quickchart {\n",
              "      --bg-color: #3B4455;\n",
              "      --fill-color: #D2E3FC;\n",
              "      --hover-bg-color: #434B5C;\n",
              "      --hover-fill-color: #FFFFFF;\n",
              "      --disabled-bg-color: #3B4455;\n",
              "      --disabled-fill-color: #666;\n",
              "  }\n",
              "\n",
              "  .colab-df-quickchart {\n",
              "    background-color: var(--bg-color);\n",
              "    border: none;\n",
              "    border-radius: 50%;\n",
              "    cursor: pointer;\n",
              "    display: none;\n",
              "    fill: var(--fill-color);\n",
              "    height: 32px;\n",
              "    padding: 0;\n",
              "    width: 32px;\n",
              "  }\n",
              "\n",
              "  .colab-df-quickchart:hover {\n",
              "    background-color: var(--hover-bg-color);\n",
              "    box-shadow: 0 1px 2px rgba(60, 64, 67, 0.3), 0 1px 3px 1px rgba(60, 64, 67, 0.15);\n",
              "    fill: var(--button-hover-fill-color);\n",
              "  }\n",
              "\n",
              "  .colab-df-quickchart-complete:disabled,\n",
              "  .colab-df-quickchart-complete:disabled:hover {\n",
              "    background-color: var(--disabled-bg-color);\n",
              "    fill: var(--disabled-fill-color);\n",
              "    box-shadow: none;\n",
              "  }\n",
              "\n",
              "  .colab-df-spinner {\n",
              "    border: 2px solid var(--fill-color);\n",
              "    border-color: transparent;\n",
              "    border-bottom-color: var(--fill-color);\n",
              "    animation:\n",
              "      spin 1s steps(1) infinite;\n",
              "  }\n",
              "\n",
              "  @keyframes spin {\n",
              "    0% {\n",
              "      border-color: transparent;\n",
              "      border-bottom-color: var(--fill-color);\n",
              "      border-left-color: var(--fill-color);\n",
              "    }\n",
              "    20% {\n",
              "      border-color: transparent;\n",
              "      border-left-color: var(--fill-color);\n",
              "      border-top-color: var(--fill-color);\n",
              "    }\n",
              "    30% {\n",
              "      border-color: transparent;\n",
              "      border-left-color: var(--fill-color);\n",
              "      border-top-color: var(--fill-color);\n",
              "      border-right-color: var(--fill-color);\n",
              "    }\n",
              "    40% {\n",
              "      border-color: transparent;\n",
              "      border-right-color: var(--fill-color);\n",
              "      border-top-color: var(--fill-color);\n",
              "    }\n",
              "    60% {\n",
              "      border-color: transparent;\n",
              "      border-right-color: var(--fill-color);\n",
              "    }\n",
              "    80% {\n",
              "      border-color: transparent;\n",
              "      border-right-color: var(--fill-color);\n",
              "      border-bottom-color: var(--fill-color);\n",
              "    }\n",
              "    90% {\n",
              "      border-color: transparent;\n",
              "      border-bottom-color: var(--fill-color);\n",
              "    }\n",
              "  }\n",
              "</style>\n",
              "\n",
              "  <script>\n",
              "    async function quickchart(key) {\n",
              "      const quickchartButtonEl =\n",
              "        document.querySelector('#' + key + ' button');\n",
              "      quickchartButtonEl.disabled = true;  // To prevent multiple clicks.\n",
              "      quickchartButtonEl.classList.add('colab-df-spinner');\n",
              "      try {\n",
              "        const charts = await google.colab.kernel.invokeFunction(\n",
              "            'suggestCharts', [key], {});\n",
              "      } catch (error) {\n",
              "        console.error('Error during call to suggestCharts:', error);\n",
              "      }\n",
              "      quickchartButtonEl.classList.remove('colab-df-spinner');\n",
              "      quickchartButtonEl.classList.add('colab-df-quickchart-complete');\n",
              "    }\n",
              "    (() => {\n",
              "      let quickchartButtonEl =\n",
              "        document.querySelector('#df-e07f7103-366b-4180-930b-89b8baf2c51f button');\n",
              "      quickchartButtonEl.style.display =\n",
              "        google.colab.kernel.accessAllowed ? 'block' : 'none';\n",
              "    })();\n",
              "  </script>\n",
              "</div>\n",
              "    </div>\n",
              "  </div>\n"
            ]
          },
          "metadata": {},
          "execution_count": 102
        }
      ]
    },
    {
      "cell_type": "code",
      "source": [
        "data_SimpleWine.columns"
      ],
      "metadata": {
        "colab": {
          "base_uri": "https://localhost:8080/"
        },
        "id": "0Oe3rIgsYiyh",
        "outputId": "09e43971-172d-4a4c-c96e-2e501a2ec6b8"
      },
      "execution_count": null,
      "outputs": [
        {
          "output_type": "execute_result",
          "data": {
            "text/plain": [
              "Index(['Title', 'Link_product', 'Ratings', 'Number_votes', 'Price', 'Страна',\n",
              "       'Цвет', 'Сахар', 'Объем', 'Виноград', 'Производитель', 'Регион',\n",
              "       'Стилистика', 'Larger_Image'],\n",
              "      dtype='object')"
            ]
          },
          "metadata": {},
          "execution_count": 103
        }
      ]
    },
    {
      "cell_type": "code",
      "source": [
        "new_column_names_SW = ['Title', 'Product_Link', 'Rating', 'Votes_Count', 'Price',\n",
        "       'Country', 'Color', 'Sugar', 'Volume', 'Grape_Varieties', 'Brand',\n",
        "       'Region', 'Taste_Description', 'Image_URL']\n",
        "data_SimpleWine.columns = new_column_names_SW"
      ],
      "metadata": {
        "id": "58Jn0oY9YjJ_"
      },
      "execution_count": null,
      "outputs": []
    },
    {
      "cell_type": "code",
      "source": [
        "data_SimpleWine['Color'] = data_SimpleWine['Color'].fillna('красное')"
      ],
      "metadata": {
        "id": "M3XRI6AkYjZU"
      },
      "execution_count": null,
      "outputs": []
    },
    {
      "cell_type": "code",
      "source": [
        "column_names = ['Volume']\n",
        "digits_extract = NumericEctraction(column_names)\n",
        "digits_extract.extract_numerics_from_all_columns(data_SimpleWine)"
      ],
      "metadata": {
        "id": "KVv-UzWlsFVs"
      },
      "execution_count": null,
      "outputs": []
    },
    {
      "cell_type": "code",
      "source": [
        "data_SimpleWine = data_SimpleWine.applymap(lambda x: x.lower() if isinstance(x, str) else x)"
      ],
      "metadata": {
        "id": "5_3eN58rsUwM"
      },
      "execution_count": null,
      "outputs": []
    },
    {
      "cell_type": "code",
      "source": [
        "data_SimpleWine['Rating'] = data_SimpleWine['Rating'].fillna(0)\n",
        "data_SimpleWine['Votes_Count'] = data_SimpleWine['Votes_Count'].fillna(0)"
      ],
      "metadata": {
        "id": "BjRBwky5srgb"
      },
      "execution_count": null,
      "outputs": []
    },
    {
      "cell_type": "code",
      "source": [
        "data_SimpleWine['Grape_Varieties'] = data_SimpleWine['Grape_Varieties'].replace(r'[\\d%]', '', regex=True)"
      ],
      "metadata": {
        "id": "WetsnOO2tfMH"
      },
      "execution_count": null,
      "outputs": []
    },
    {
      "cell_type": "code",
      "source": [
        "data_SimpleWine = data_SimpleWine.drop(['Product_Link', 'Country'], axis=1)"
      ],
      "metadata": {
        "id": "jcMunfFVYjm9"
      },
      "execution_count": null,
      "outputs": []
    },
    {
      "cell_type": "code",
      "source": [
        "import requests\n",
        "from PIL import Image\n",
        "from io import BytesIO\n",
        "\n",
        "# Function to download images and save locally\n",
        "def download_and_save_image(img_url, index):\n",
        "    try:\n",
        "        response = requests.get(img_url)\n",
        "        if response.status_code == 200:\n",
        "            # Extract the file extension from the URL\n",
        "            file_extension = img_url.split('.')[-1].split('@')[0]\n",
        "\n",
        "            # Open the image using PIL\n",
        "            img = Image.open(BytesIO(response.content))\n",
        "\n",
        "            # Save the image locally with the appropriate extension\n",
        "            local_path = f\"image_{index}.{file_extension}\"\n",
        "            img.save(local_path)\n",
        "\n",
        "            return local_path\n",
        "        else:\n",
        "            print(f\"Failed to download image from {img_url}\")\n",
        "            return None\n",
        "    except Exception as e:\n",
        "        print(f\"Error downloading image from {img_url}: {e}\")\n",
        "        return None\n",
        "\n",
        "# Download images and save locally\n",
        "downloaded_paths = []\n",
        "\n",
        "for i, img_url in enumerate(data_SimpleWine['Image_URL']):\n",
        "    local_path = download_and_save_image(img_url, i)\n",
        "    if local_path:\n",
        "        downloaded_paths.append(local_path)\n",
        "    else:\n",
        "        downloaded_paths.append(None)\n",
        "\n",
        "# Update the DataFrame with local paths\n",
        "data_SimpleWine['Local_Image_Path'] = downloaded_paths"
      ],
      "metadata": {
        "colab": {
          "base_uri": "https://localhost:8080/"
        },
        "id": "I38rEUD6Yjz0",
        "outputId": "e2e5723b-a160-44f2-c787-c3625d39643d"
      },
      "execution_count": null,
      "outputs": [
        {
          "output_type": "stream",
          "name": "stdout",
          "text": [
            "Failed to download image from https://static.simplewine.ru/upload/iblock/bfd/bfd4ff8f516caaa6d382632a0653289e.png@x860\n",
            "Failed to download image from https://static.simplewine.ru/upload/iblock/bfd/bfd4ff8f516caaa6d382632a0653289e.png@x860\n"
          ]
        }
      ]
    },
    {
      "cell_type": "code",
      "source": [
        "data_SimpleWine['Local_Image_Path'].head()"
      ],
      "metadata": {
        "colab": {
          "base_uri": "https://localhost:8080/"
        },
        "id": "WWJk_MWenPqD",
        "outputId": "5fd9543b-80ed-4dd4-a56d-fef21a176025"
      },
      "execution_count": null,
      "outputs": [
        {
          "output_type": "execute_result",
          "data": {
            "text/plain": [
              "0    image_0.png\n",
              "1    image_1.png\n",
              "2    image_2.jpg\n",
              "3    image_3.png\n",
              "4    image_4.jpg\n",
              "Name: Local_Image_Path, dtype: object"
            ]
          },
          "metadata": {},
          "execution_count": 254
        }
      ]
    },
    {
      "cell_type": "code",
      "source": [
        "def process_path(x):\n",
        "  if x is not None:\n",
        "    return os.path.join(os.getcwd(), x)\n",
        "  else:\n",
        "    return None\n",
        "\n",
        "data_SimpleWine['Local_Image_Path'] = data_SimpleWine['Local_Image_Path'].apply(process_path)"
      ],
      "metadata": {
        "id": "T-fHjoYulQIX"
      },
      "execution_count": null,
      "outputs": []
    },
    {
      "cell_type": "code",
      "source": [
        "data_SimpleWine['Shape'] = [1, 1, 2, 2, 2, 2, 1, 2, 2, 1, 1, 1, 2, 2, 2, 2, 2, 2, 2, 2, 2,\n",
        "                            1, 2, 2, 2, 1, 2, 2, 1, 1, 2, 2, 2, 2, 2, 1, 2, 1, 2, 2,\n",
        "                            1, 2, 2, 2, 2, 2, 2, 1, 1, 1, 1, 2, 2, 2, 2, 1, 2, 1, 2, 2,\n",
        "                            1, 2, 1, 2, 2, 2, 2, 1, 2, 1, 2, 2, 1, 2, 2, 2, 2, 2, 2,\n",
        "                            1, 1, 1, 1, 2, 2, 2, 2, 1, 2, 1, 2, 2, 1, 2, 1, 2, 1, 1,\n",
        "                            2, 2, 2, 2, 1, 2, 2, 1, 1, 1, 2, 2, 2, 2, 2, 2, 2, 2, 2,\n",
        "                            1, 2, 2, 2, 1, 2, 2, 1, 2, 1, 2]"
      ],
      "metadata": {
        "id": "unm0ocyZXcmV"
      },
      "execution_count": null,
      "outputs": []
    },
    {
      "cell_type": "code",
      "source": [
        "data_SimpleWine['Label'] = [1, 1, 2, 2, 2, 2, 2, 2, 2, 1, 2, 1, 2, 2, 2, 2, 2, 2, 2,\n",
        "                            2, 2, 2, 2, 2, 2, 1, 1, 1, 1, 2, 2, 2, 1, 1, 2, 1, 1,\n",
        "                            2, 2, 2, 1, 2, 2, 2, 2, 2, 2, 2, 1, 2, 2, 2, 2, 2, 2,\n",
        "                            1, 2, 2, 2, 1, 2, 2, 1, 2, 1, 1, 2, 1, 1, 2, 2, 2, 1,\n",
        "                            2, 2, 2, 2, 2, 2, 2, 1, 2, 2, 2, 2, 2, 2, 1, 2, 2, 2,\n",
        "                            1, 2, 2, 1, 2, 2, 2, 2, 2, 2, 2, 2, 2, 2, 1, 2, 1, 2, 2,\n",
        "                            2, 2, 2, 2, 2, 2, 2, 2, 2, 2, 2, 1, 2, 2, 2, 2, 1, 1]"
      ],
      "metadata": {
        "id": "l_gSLjsrUqG2"
      },
      "execution_count": null,
      "outputs": []
    },
    {
      "cell_type": "code",
      "source": [
        "data_SimpleWine['wine_stopper'] = [2, 2, 2, 1, 2, 2, 1, 1, 2, 1, 1, 1, 2, 2, 2, 2, 2, 3, 3,\n",
        "                                   1, 2, 2, 2, 2, 2, 1, 1, 1, 1, 2, 1, 3, 1, 1, 2, 1, 1, 1,\n",
        "                                   2, 1, 1, 2, 2, 1, 2, 2, 2, 1, 1, 2, 2, 2, 2, 2, 1,\n",
        "                                   1, 2, 2, 2, 1, 2, 2, 1, 2, 1, 1, 2, 1, 1, 1, 2, 1,\n",
        "                                   1, 2, 2, 1, 2, 2, 2, 1, 1, 2, 2, 2, 2, 2, 1, 1, 2,\n",
        "                                   2, 2, 1, 2, 2, 1, 2, 2, 2, 2, 1, 2, 2, 1, 1, 2, 1,\n",
        "                                   1, 1, 2, 2, 2, 2, 2, 3, 3, 1, 2, 2, 2, 2, 2, 1, 3,\n",
        "                                   2, 2, 1, 1, 1]"
      ],
      "metadata": {
        "id": "mXXx4xPXu1Z5"
      },
      "execution_count": null,
      "outputs": []
    },
    {
      "cell_type": "code",
      "source": [
        "data_SimpleWine['Segment'] = 'high'"
      ],
      "metadata": {
        "id": "02VxW_91aJb6"
      },
      "execution_count": null,
      "outputs": []
    },
    {
      "cell_type": "code",
      "source": [
        "import numpy as np\n",
        "\n",
        "def assign_alcohol(row):\n",
        "  if row['Color'] == 'белое':\n",
        "    return np.random.choice([11, 12])\n",
        "  elif row['Color'] == 'красное':\n",
        "    return np.random.choice([13, 14])\n",
        "  elif row['Brand'] == 'KWV':\n",
        "    return 17\n",
        "  else:\n",
        "    return np.nan\n",
        "\n",
        "data_SimpleWine['Alcohol'] = data_SimpleWine.apply(assign_alcohol, axis=1)"
      ],
      "metadata": {
        "id": "DtHjRMDCaiSa"
      },
      "execution_count": null,
      "outputs": []
    },
    {
      "cell_type": "code",
      "source": [
        "data_SimpleWine['Year'] = data_SimpleWine['Title'].str.extract(r'(\\d{4})')"
      ],
      "metadata": {
        "id": "lOImaPHDu1ha"
      },
      "execution_count": null,
      "outputs": []
    },
    {
      "cell_type": "code",
      "source": [
        "data_SimpleWine['Year'] = data_SimpleWine['Year'].fillna(2023)"
      ],
      "metadata": {
        "id": "W-p0r8Fuk24O"
      },
      "execution_count": null,
      "outputs": []
    },
    {
      "cell_type": "code",
      "source": [
        "data_SimpleWine = data_SimpleWine.drop('Title', axis=1)"
      ],
      "metadata": {
        "id": "BRPquG5CjQjE"
      },
      "execution_count": null,
      "outputs": []
    },
    {
      "cell_type": "code",
      "source": [
        "# !!! To arrange columns !!!\n",
        "\n",
        "data_SimpleWine = data_SimpleWine[data_KB.columns]"
      ],
      "metadata": {
        "id": "n_rCKQkIu114"
      },
      "execution_count": null,
      "outputs": []
    },
    {
      "cell_type": "code",
      "source": [
        "data_SimpleWine.columns"
      ],
      "metadata": {
        "id": "Thj9Gp8Gu1_b",
        "colab": {
          "base_uri": "https://localhost:8080/"
        },
        "outputId": "b64ceccb-0a4a-4728-e2fb-9152a23d8ec0"
      },
      "execution_count": null,
      "outputs": [
        {
          "output_type": "execute_result",
          "data": {
            "text/plain": [
              "Index(['Votes_Count', 'Image_URL', 'Price', 'Color', 'Region', 'Volume',\n",
              "       'Sugar', 'Alcohol', 'Grape_Varieties', 'Taste_Description', 'Brand',\n",
              "       'Rating', 'Segment', 'wine_stopper', 'Label', 'Shape',\n",
              "       'Local_Image_Path', 'Year'],\n",
              "      dtype='object')"
            ]
          },
          "metadata": {},
          "execution_count": 270
        }
      ]
    },
    {
      "cell_type": "code",
      "source": [
        "data_KB.columns"
      ],
      "metadata": {
        "colab": {
          "base_uri": "https://localhost:8080/"
        },
        "id": "RNNjrJE7l01z",
        "outputId": "a5e3eb03-6eac-4634-ba93-6c99b6241192"
      },
      "execution_count": null,
      "outputs": [
        {
          "output_type": "execute_result",
          "data": {
            "text/plain": [
              "Index(['Votes_Count', 'Image_URL', 'Price', 'Color', 'Region', 'Volume',\n",
              "       'Sugar', 'Alcohol', 'Grape_Varieties', 'Taste_Description', 'Brand',\n",
              "       'Rating', 'Segment', 'wine_stopper', 'Label', 'Shape',\n",
              "       'Local_Image_Path', 'Year'],\n",
              "      dtype='object')"
            ]
          },
          "metadata": {},
          "execution_count": 271
        }
      ]
    },
    {
      "cell_type": "code",
      "source": [
        "data_WineStyle.head()"
      ],
      "metadata": {
        "colab": {
          "base_uri": "https://localhost:8080/",
          "height": 556
        },
        "id": "-9-ZCm59l09S",
        "outputId": "21a19ffa-a07d-4bf3-a9ef-b6bb8c2dee6f"
      },
      "execution_count": null,
      "outputs": [
        {
          "output_type": "execute_result",
          "data": {
            "text/plain": [
              "                                               Title  \\\n",
              "0                Вино Val de Vie, \"Barista\" Pinotage   \n",
              "1                  Вино \"Southlands\" Sauvignon Blanc   \n",
              "2  Вино \"Cape Original\" Pinotage, Western Cape WO...   \n",
              "3             Вино \"Southlands\" Sauvignon Blanc Rose   \n",
              "4          Вино Kanonkop, \"Kadette\" Cape Blend, 2019   \n",
              "\n",
              "                                        Link_product  Ratings  Number_votes  \\\n",
              "0                  /products/Val-de-Vie-Barista.html      7.9          88.0   \n",
              "1          /products/Southlands-Sauvignon-Blanc.html      NaN           NaN   \n",
              "2  /products/Cape-Original-Pinotage-Western-Cape-...      NaN           NaN   \n",
              "3     /products/Southlands-Sauvignon-Blanc-Rose.html      NaN           NaN   \n",
              "4    /products/Kanonkop-Kadette-Cape-Blend-2019.html      9.0           2.0   \n",
              "\n",
              "                                               Image  Price   Объем  \\\n",
              "0  https://s2.wine.style/images_gen/387/38744/0_0...   1459  0.75 л   \n",
              "1  https://s2.wine.style/images_gen/184/184283/0_...   1153  0.75 л   \n",
              "2  https://s2.wine.style/images_gen/209/209296/0_...    776  0.75 л   \n",
              "3  https://s2.wine.style/images_gen/203/203126/0_...   1153  0.75 л   \n",
              "4  https://s2.wine.style/images_gen/202/202372/0_...   2317  0.75 л   \n",
              "\n",
              "                     Регион:       Производитель:         Бренд: Крепость:  \\\n",
              "0                      Паарл           Val de Vie        Barista     13.5%   \n",
              "1              Западный Кейп      Off-Piste Wines     Southlands     12.5%   \n",
              "2              Западный Кейп  Home of Origin Wine  Cape Original       13%   \n",
              "3          Прибрежный регион      Off-Piste Wines     Southlands       13%   \n",
              "4  Западный Кейп, Стелленбош             Kanonkop            NaN     13.9%   \n",
              "\n",
              "                                  Сорт винограда:           Вино:  \n",
              "0                                         Пинотаж  Красное, Сухое  \n",
              "1                                   Совиньон Блан    Белое, Сухое  \n",
              "2                                         Пинотаж  Красное, Сухое  \n",
              "3                          Пинотаж, Совиньон Блан  Розовое, Сухое  \n",
              "4  Каберне Совиньон, Мерло, Каберне Фран, Пинотаж  Красное, Сухое  "
            ],
            "text/html": [
              "\n",
              "  <div id=\"df-4933ad2e-44a7-47ae-b86c-c341883e1e30\" class=\"colab-df-container\">\n",
              "    <div>\n",
              "<style scoped>\n",
              "    .dataframe tbody tr th:only-of-type {\n",
              "        vertical-align: middle;\n",
              "    }\n",
              "\n",
              "    .dataframe tbody tr th {\n",
              "        vertical-align: top;\n",
              "    }\n",
              "\n",
              "    .dataframe thead th {\n",
              "        text-align: right;\n",
              "    }\n",
              "</style>\n",
              "<table border=\"1\" class=\"dataframe\">\n",
              "  <thead>\n",
              "    <tr style=\"text-align: right;\">\n",
              "      <th></th>\n",
              "      <th>Title</th>\n",
              "      <th>Link_product</th>\n",
              "      <th>Ratings</th>\n",
              "      <th>Number_votes</th>\n",
              "      <th>Image</th>\n",
              "      <th>Price</th>\n",
              "      <th>Объем</th>\n",
              "      <th>Регион:</th>\n",
              "      <th>Производитель:</th>\n",
              "      <th>Бренд:</th>\n",
              "      <th>Крепость:</th>\n",
              "      <th>Сорт винограда:</th>\n",
              "      <th>Вино:</th>\n",
              "    </tr>\n",
              "  </thead>\n",
              "  <tbody>\n",
              "    <tr>\n",
              "      <th>0</th>\n",
              "      <td>Вино Val de Vie, \"Barista\" Pinotage</td>\n",
              "      <td>/products/Val-de-Vie-Barista.html</td>\n",
              "      <td>7.9</td>\n",
              "      <td>88.0</td>\n",
              "      <td>https://s2.wine.style/images_gen/387/38744/0_0...</td>\n",
              "      <td>1459</td>\n",
              "      <td>0.75 л</td>\n",
              "      <td>Паарл</td>\n",
              "      <td>Val de Vie</td>\n",
              "      <td>Barista</td>\n",
              "      <td>13.5%</td>\n",
              "      <td>Пинотаж</td>\n",
              "      <td>Красное, Сухое</td>\n",
              "    </tr>\n",
              "    <tr>\n",
              "      <th>1</th>\n",
              "      <td>Вино \"Southlands\" Sauvignon Blanc</td>\n",
              "      <td>/products/Southlands-Sauvignon-Blanc.html</td>\n",
              "      <td>NaN</td>\n",
              "      <td>NaN</td>\n",
              "      <td>https://s2.wine.style/images_gen/184/184283/0_...</td>\n",
              "      <td>1153</td>\n",
              "      <td>0.75 л</td>\n",
              "      <td>Западный Кейп</td>\n",
              "      <td>Off-Piste Wines</td>\n",
              "      <td>Southlands</td>\n",
              "      <td>12.5%</td>\n",
              "      <td>Совиньон Блан</td>\n",
              "      <td>Белое, Сухое</td>\n",
              "    </tr>\n",
              "    <tr>\n",
              "      <th>2</th>\n",
              "      <td>Вино \"Cape Original\" Pinotage, Western Cape WO...</td>\n",
              "      <td>/products/Cape-Original-Pinotage-Western-Cape-...</td>\n",
              "      <td>NaN</td>\n",
              "      <td>NaN</td>\n",
              "      <td>https://s2.wine.style/images_gen/209/209296/0_...</td>\n",
              "      <td>776</td>\n",
              "      <td>0.75 л</td>\n",
              "      <td>Западный Кейп</td>\n",
              "      <td>Home of Origin Wine</td>\n",
              "      <td>Cape Original</td>\n",
              "      <td>13%</td>\n",
              "      <td>Пинотаж</td>\n",
              "      <td>Красное, Сухое</td>\n",
              "    </tr>\n",
              "    <tr>\n",
              "      <th>3</th>\n",
              "      <td>Вино \"Southlands\" Sauvignon Blanc Rose</td>\n",
              "      <td>/products/Southlands-Sauvignon-Blanc-Rose.html</td>\n",
              "      <td>NaN</td>\n",
              "      <td>NaN</td>\n",
              "      <td>https://s2.wine.style/images_gen/203/203126/0_...</td>\n",
              "      <td>1153</td>\n",
              "      <td>0.75 л</td>\n",
              "      <td>Прибрежный регион</td>\n",
              "      <td>Off-Piste Wines</td>\n",
              "      <td>Southlands</td>\n",
              "      <td>13%</td>\n",
              "      <td>Пинотаж, Совиньон Блан</td>\n",
              "      <td>Розовое, Сухое</td>\n",
              "    </tr>\n",
              "    <tr>\n",
              "      <th>4</th>\n",
              "      <td>Вино Kanonkop, \"Kadette\" Cape Blend, 2019</td>\n",
              "      <td>/products/Kanonkop-Kadette-Cape-Blend-2019.html</td>\n",
              "      <td>9.0</td>\n",
              "      <td>2.0</td>\n",
              "      <td>https://s2.wine.style/images_gen/202/202372/0_...</td>\n",
              "      <td>2317</td>\n",
              "      <td>0.75 л</td>\n",
              "      <td>Западный Кейп, Стелленбош</td>\n",
              "      <td>Kanonkop</td>\n",
              "      <td>NaN</td>\n",
              "      <td>13.9%</td>\n",
              "      <td>Каберне Совиньон, Мерло, Каберне Фран, Пинотаж</td>\n",
              "      <td>Красное, Сухое</td>\n",
              "    </tr>\n",
              "  </tbody>\n",
              "</table>\n",
              "</div>\n",
              "    <div class=\"colab-df-buttons\">\n",
              "\n",
              "  <div class=\"colab-df-container\">\n",
              "    <button class=\"colab-df-convert\" onclick=\"convertToInteractive('df-4933ad2e-44a7-47ae-b86c-c341883e1e30')\"\n",
              "            title=\"Convert this dataframe to an interactive table.\"\n",
              "            style=\"display:none;\">\n",
              "\n",
              "  <svg xmlns=\"http://www.w3.org/2000/svg\" height=\"24px\" viewBox=\"0 -960 960 960\">\n",
              "    <path d=\"M120-120v-720h720v720H120Zm60-500h600v-160H180v160Zm220 220h160v-160H400v160Zm0 220h160v-160H400v160ZM180-400h160v-160H180v160Zm440 0h160v-160H620v160ZM180-180h160v-160H180v160Zm440 0h160v-160H620v160Z\"/>\n",
              "  </svg>\n",
              "    </button>\n",
              "\n",
              "  <style>\n",
              "    .colab-df-container {\n",
              "      display:flex;\n",
              "      gap: 12px;\n",
              "    }\n",
              "\n",
              "    .colab-df-convert {\n",
              "      background-color: #E8F0FE;\n",
              "      border: none;\n",
              "      border-radius: 50%;\n",
              "      cursor: pointer;\n",
              "      display: none;\n",
              "      fill: #1967D2;\n",
              "      height: 32px;\n",
              "      padding: 0 0 0 0;\n",
              "      width: 32px;\n",
              "    }\n",
              "\n",
              "    .colab-df-convert:hover {\n",
              "      background-color: #E2EBFA;\n",
              "      box-shadow: 0px 1px 2px rgba(60, 64, 67, 0.3), 0px 1px 3px 1px rgba(60, 64, 67, 0.15);\n",
              "      fill: #174EA6;\n",
              "    }\n",
              "\n",
              "    .colab-df-buttons div {\n",
              "      margin-bottom: 4px;\n",
              "    }\n",
              "\n",
              "    [theme=dark] .colab-df-convert {\n",
              "      background-color: #3B4455;\n",
              "      fill: #D2E3FC;\n",
              "    }\n",
              "\n",
              "    [theme=dark] .colab-df-convert:hover {\n",
              "      background-color: #434B5C;\n",
              "      box-shadow: 0px 1px 3px 1px rgba(0, 0, 0, 0.15);\n",
              "      filter: drop-shadow(0px 1px 2px rgba(0, 0, 0, 0.3));\n",
              "      fill: #FFFFFF;\n",
              "    }\n",
              "  </style>\n",
              "\n",
              "    <script>\n",
              "      const buttonEl =\n",
              "        document.querySelector('#df-4933ad2e-44a7-47ae-b86c-c341883e1e30 button.colab-df-convert');\n",
              "      buttonEl.style.display =\n",
              "        google.colab.kernel.accessAllowed ? 'block' : 'none';\n",
              "\n",
              "      async function convertToInteractive(key) {\n",
              "        const element = document.querySelector('#df-4933ad2e-44a7-47ae-b86c-c341883e1e30');\n",
              "        const dataTable =\n",
              "          await google.colab.kernel.invokeFunction('convertToInteractive',\n",
              "                                                    [key], {});\n",
              "        if (!dataTable) return;\n",
              "\n",
              "        const docLinkHtml = 'Like what you see? Visit the ' +\n",
              "          '<a target=\"_blank\" href=https://colab.research.google.com/notebooks/data_table.ipynb>data table notebook</a>'\n",
              "          + ' to learn more about interactive tables.';\n",
              "        element.innerHTML = '';\n",
              "        dataTable['output_type'] = 'display_data';\n",
              "        await google.colab.output.renderOutput(dataTable, element);\n",
              "        const docLink = document.createElement('div');\n",
              "        docLink.innerHTML = docLinkHtml;\n",
              "        element.appendChild(docLink);\n",
              "      }\n",
              "    </script>\n",
              "  </div>\n",
              "\n",
              "\n",
              "<div id=\"df-119935d0-58c6-4607-a424-b9690932c363\">\n",
              "  <button class=\"colab-df-quickchart\" onclick=\"quickchart('df-119935d0-58c6-4607-a424-b9690932c363')\"\n",
              "            title=\"Suggest charts\"\n",
              "            style=\"display:none;\">\n",
              "\n",
              "<svg xmlns=\"http://www.w3.org/2000/svg\" height=\"24px\"viewBox=\"0 0 24 24\"\n",
              "     width=\"24px\">\n",
              "    <g>\n",
              "        <path d=\"M19 3H5c-1.1 0-2 .9-2 2v14c0 1.1.9 2 2 2h14c1.1 0 2-.9 2-2V5c0-1.1-.9-2-2-2zM9 17H7v-7h2v7zm4 0h-2V7h2v10zm4 0h-2v-4h2v4z\"/>\n",
              "    </g>\n",
              "</svg>\n",
              "  </button>\n",
              "\n",
              "<style>\n",
              "  .colab-df-quickchart {\n",
              "      --bg-color: #E8F0FE;\n",
              "      --fill-color: #1967D2;\n",
              "      --hover-bg-color: #E2EBFA;\n",
              "      --hover-fill-color: #174EA6;\n",
              "      --disabled-fill-color: #AAA;\n",
              "      --disabled-bg-color: #DDD;\n",
              "  }\n",
              "\n",
              "  [theme=dark] .colab-df-quickchart {\n",
              "      --bg-color: #3B4455;\n",
              "      --fill-color: #D2E3FC;\n",
              "      --hover-bg-color: #434B5C;\n",
              "      --hover-fill-color: #FFFFFF;\n",
              "      --disabled-bg-color: #3B4455;\n",
              "      --disabled-fill-color: #666;\n",
              "  }\n",
              "\n",
              "  .colab-df-quickchart {\n",
              "    background-color: var(--bg-color);\n",
              "    border: none;\n",
              "    border-radius: 50%;\n",
              "    cursor: pointer;\n",
              "    display: none;\n",
              "    fill: var(--fill-color);\n",
              "    height: 32px;\n",
              "    padding: 0;\n",
              "    width: 32px;\n",
              "  }\n",
              "\n",
              "  .colab-df-quickchart:hover {\n",
              "    background-color: var(--hover-bg-color);\n",
              "    box-shadow: 0 1px 2px rgba(60, 64, 67, 0.3), 0 1px 3px 1px rgba(60, 64, 67, 0.15);\n",
              "    fill: var(--button-hover-fill-color);\n",
              "  }\n",
              "\n",
              "  .colab-df-quickchart-complete:disabled,\n",
              "  .colab-df-quickchart-complete:disabled:hover {\n",
              "    background-color: var(--disabled-bg-color);\n",
              "    fill: var(--disabled-fill-color);\n",
              "    box-shadow: none;\n",
              "  }\n",
              "\n",
              "  .colab-df-spinner {\n",
              "    border: 2px solid var(--fill-color);\n",
              "    border-color: transparent;\n",
              "    border-bottom-color: var(--fill-color);\n",
              "    animation:\n",
              "      spin 1s steps(1) infinite;\n",
              "  }\n",
              "\n",
              "  @keyframes spin {\n",
              "    0% {\n",
              "      border-color: transparent;\n",
              "      border-bottom-color: var(--fill-color);\n",
              "      border-left-color: var(--fill-color);\n",
              "    }\n",
              "    20% {\n",
              "      border-color: transparent;\n",
              "      border-left-color: var(--fill-color);\n",
              "      border-top-color: var(--fill-color);\n",
              "    }\n",
              "    30% {\n",
              "      border-color: transparent;\n",
              "      border-left-color: var(--fill-color);\n",
              "      border-top-color: var(--fill-color);\n",
              "      border-right-color: var(--fill-color);\n",
              "    }\n",
              "    40% {\n",
              "      border-color: transparent;\n",
              "      border-right-color: var(--fill-color);\n",
              "      border-top-color: var(--fill-color);\n",
              "    }\n",
              "    60% {\n",
              "      border-color: transparent;\n",
              "      border-right-color: var(--fill-color);\n",
              "    }\n",
              "    80% {\n",
              "      border-color: transparent;\n",
              "      border-right-color: var(--fill-color);\n",
              "      border-bottom-color: var(--fill-color);\n",
              "    }\n",
              "    90% {\n",
              "      border-color: transparent;\n",
              "      border-bottom-color: var(--fill-color);\n",
              "    }\n",
              "  }\n",
              "</style>\n",
              "\n",
              "  <script>\n",
              "    async function quickchart(key) {\n",
              "      const quickchartButtonEl =\n",
              "        document.querySelector('#' + key + ' button');\n",
              "      quickchartButtonEl.disabled = true;  // To prevent multiple clicks.\n",
              "      quickchartButtonEl.classList.add('colab-df-spinner');\n",
              "      try {\n",
              "        const charts = await google.colab.kernel.invokeFunction(\n",
              "            'suggestCharts', [key], {});\n",
              "      } catch (error) {\n",
              "        console.error('Error during call to suggestCharts:', error);\n",
              "      }\n",
              "      quickchartButtonEl.classList.remove('colab-df-spinner');\n",
              "      quickchartButtonEl.classList.add('colab-df-quickchart-complete');\n",
              "    }\n",
              "    (() => {\n",
              "      let quickchartButtonEl =\n",
              "        document.querySelector('#df-119935d0-58c6-4607-a424-b9690932c363 button');\n",
              "      quickchartButtonEl.style.display =\n",
              "        google.colab.kernel.accessAllowed ? 'block' : 'none';\n",
              "    })();\n",
              "  </script>\n",
              "</div>\n",
              "    </div>\n",
              "  </div>\n"
            ]
          },
          "metadata": {},
          "execution_count": 6
        }
      ]
    },
    {
      "cell_type": "code",
      "source": [
        "data_WineStyle['Year'] = data_WineStyle['Title'].str.extract(r'(\\d{4})')\n",
        "data_WineStyle['Year'] = data_WineStyle['Year'].fillna(2023)\n",
        "data_WineStyle['Ratings'] = data_WineStyle['Ratings'].fillna(0)\n",
        "data_WineStyle['Number_votes'] = data_WineStyle['Number_votes'].fillna(0)\n",
        "column_names = ['Объем', 'Крепость:']\n",
        "digits_extract = NumericEctraction(column_names)\n",
        "digits_extract.extract_numerics_from_all_columns(data_WineStyle)\n",
        "data_WineStyle = data_WineStyle.applymap(lambda x: x.lower() if isinstance(x, str) else x)\n",
        "data_WineStyle['Segment'] = 'high'\n",
        "data_WineStyle[['Color', 'Sugar']] = data_WineStyle['Вино:'].str.split(',', 1, expand=True)"
      ],
      "metadata": {
        "id": "yRWdOgrenjs-"
      },
      "execution_count": null,
      "outputs": []
    },
    {
      "cell_type": "code",
      "source": [
        "nan_indices = data_WineStyle[data_WineStyle['Sugar'].isnull()].index\n",
        "print(nan_indices)"
      ],
      "metadata": {
        "colab": {
          "base_uri": "https://localhost:8080/"
        },
        "id": "_xDTgL0gDTT4",
        "outputId": "92f225fb-f414-47fa-8947-cc486a4fda83"
      },
      "execution_count": null,
      "outputs": [
        {
          "output_type": "stream",
          "name": "stdout",
          "text": [
            "Int64Index([ 58, 416, 417, 418, 419, 420, 421, 422, 423, 424, 425, 426, 427,\n",
            "            428, 429, 430, 431, 432, 433],\n",
            "           dtype='int64')\n"
          ]
        }
      ]
    },
    {
      "cell_type": "code",
      "source": [
        "nan_indices = data_WineStyle[data_WineStyle['Color'].isnull()].index\n",
        "print(nan_indices)"
      ],
      "metadata": {
        "colab": {
          "base_uri": "https://localhost:8080/"
        },
        "id": "i41mKJ5gDTbB",
        "outputId": "e36ae787-857e-49c6-e173-71657050f334"
      },
      "execution_count": null,
      "outputs": [
        {
          "output_type": "stream",
          "name": "stdout",
          "text": [
            "Int64Index([416, 417, 418, 419, 420, 421, 422, 423, 424, 425, 426, 427, 428,\n",
            "            429, 430, 431, 432, 433],\n",
            "           dtype='int64')\n"
          ]
        }
      ]
    },
    {
      "cell_type": "code",
      "source": [
        "pd.set_option('display.max_colwidth', None)\n",
        "display_nan = data_WineStyle['Title'].loc[[58, 416, 417, 418, 419, 420, 421, 422, 423, 424, 425, 426,\n",
        "                        427, 428, 429, 430, 431, 432, 433]]\n",
        "display_nan"
      ],
      "metadata": {
        "colab": {
          "base_uri": "https://localhost:8080/"
        },
        "id": "Mpu76aTzDTiA",
        "outputId": "56506206-228d-40fb-d197-9ed5e38b7e10"
      },
      "execution_count": null,
      "outputs": [
        {
          "output_type": "execute_result",
          "data": {
            "text/plain": [
              "58                           вино \"stellenbosch hills\" muscat de hambourg, 2022,0.5 л\n",
              "416                                        вино van loveren, \"papillon\" vin doux rose\n",
              "417                                                        вино \"balance\" boldly brut\n",
              "418                                      вино van loveren, \"four cousins\" white, 2021\n",
              "419                                                              вино kwv, cuvee brut\n",
              "420                                             вино van loveren, \"papillon\" demi-sec\n",
              "421                                      вино van loveren, \"four cousins\" blush, 2021\n",
              "422    вино \"grotto bay\" sauvignon blanc select extra brut, robertson valley wo, 2022\n",
              "423                                   вино krone, \"borealis\" vintage cuvee brut, 2021\n",
              "424                                                 вино van loveren, \"papillon\" brut\n",
              "425                                    вино simonsig, \"kaapse vonkel\" brut rose, 2021\n",
              "426                                        вино van loveren, \"four cousins\" red, 2021\n",
              "427                  вино testalonga, \"el bandito\" i am the ninja, swartland wo, 2022\n",
              "428                  вино stellenbosch hills, \"polkadraai\" sauvignon blanc brut, 2022\n",
              "429                                            вино rooiberg winery, white brut, 2021\n",
              "430                 вино \"greenlife\" sauvignon blanc bubbles extra brut, robertson wo\n",
              "431                            вино rooiberg winery, \"flamingo\" rose semi-sweet, 2023\n",
              "432     вино \"grotto bay\" sauvignon rose select extra brut, robertson valley wo, 2023\n",
              "433            вино testalonga, \"el bandito\" i wish i was a ninja, swartland wo, 2022\n",
              "Name: Title, dtype: object"
            ]
          },
          "metadata": {},
          "execution_count": 38
        }
      ]
    },
    {
      "cell_type": "code",
      "source": [
        "data_WineStyle.loc[58, ['Sugar', 'Color']] = ['сладкое', 'белое']\n",
        "data_WineStyle.loc[416, ['Sugar', 'Color']] = ['сладкое', 'розовое']\n",
        "data_WineStyle.loc[417, ['Sugar', 'Color']] = ['сухое', 'белое']\n",
        "data_WineStyle.loc[418, ['Sugar', 'Color']] = ['полусладкое', 'белое']\n",
        "data_WineStyle.loc[419, ['Sugar', 'Color']] = ['сухое', 'белое']\n",
        "data_WineStyle.loc[420, ['Sugar', 'Color']] = ['полусладкое', 'белое']\n",
        "data_WineStyle.loc[421, ['Sugar', 'Color']] = ['сладкое', 'розовое']\n",
        "data_WineStyle.loc[422, ['Sugar', 'Color']] = ['сухое', 'белое']\n",
        "data_WineStyle.loc[423, ['Sugar', 'Color']] = ['сухое', 'белое']\n",
        "data_WineStyle.loc[424, ['Sugar', 'Color']] = ['сухое', 'белое']\n",
        "data_WineStyle.loc[425, ['Sugar', 'Color']] = ['сухое', 'розовое']\n",
        "data_WineStyle.loc[426, ['Sugar', 'Color']] = ['полусладкое', 'красное']\n",
        "data_WineStyle.loc[427, ['Sugar', 'Color']] = ['сухое', 'белое']\n",
        "data_WineStyle.loc[428, ['Sugar', 'Color']] = ['сухое', 'белое']\n",
        "data_WineStyle.loc[429, ['Sugar', 'Color']] = ['сухое', 'белое']\n",
        "data_WineStyle.loc[430, ['Sugar', 'Color']] = ['сухое', 'белое']\n",
        "data_WineStyle.loc[431, ['Sugar', 'Color']] = ['полусладкое', 'розовое']\n",
        "data_WineStyle.loc[432, ['Sugar', 'Color']] = ['сухое', 'розовое']\n",
        "data_WineStyle.loc[433, ['Sugar', 'Color']] = ['сухое', 'белое']\n",
        "data_WineStyle.loc[427, ['Sugar', 'Color']] = ['сухое', 'белое']"
      ],
      "metadata": {
        "id": "lH-gPdVeDTpJ"
      },
      "execution_count": null,
      "outputs": []
    },
    {
      "cell_type": "code",
      "source": [
        "pd.reset_option('display.max_colwidth')"
      ],
      "metadata": {
        "id": "_Cv2FnKbcZHS"
      },
      "execution_count": null,
      "outputs": []
    },
    {
      "cell_type": "code",
      "source": [
        "data_WineStyle = data_WineStyle.drop(['Title', 'Link_product', 'Вино:'], axis=1)"
      ],
      "metadata": {
        "id": "O5MZkBfgcXVA"
      },
      "execution_count": null,
      "outputs": []
    },
    {
      "cell_type": "code",
      "source": [
        "data_WineStyle.columns"
      ],
      "metadata": {
        "colab": {
          "base_uri": "https://localhost:8080/"
        },
        "id": "Jcyr_uZkdR7x",
        "outputId": "1c1bc031-4434-43a5-9f1a-621aa5c360ee"
      },
      "execution_count": null,
      "outputs": [
        {
          "output_type": "execute_result",
          "data": {
            "text/plain": [
              "Index(['Ratings', 'Number_votes', 'Image', 'Price', 'Объем', 'Регион:',\n",
              "       'Производитель:', 'Бренд:', 'Крепость:', 'Сорт винограда:', 'Year',\n",
              "       'Segment', 'Color', 'Sugar'],\n",
              "      dtype='object')"
            ]
          },
          "metadata": {},
          "execution_count": 25
        }
      ]
    },
    {
      "cell_type": "code",
      "source": [
        "new_columns_WS = ['Rating', 'Votes_Count', 'Image_URL', 'Price', 'Volume', 'Region',\n",
        "                  'Producer', 'Brand', 'Alcohol', 'Grape_Varieties', 'Year',\n",
        "                  'Segment', 'Color', 'Sugar']\n",
        "data_WineStyle.columns = new_columns_WS"
      ],
      "metadata": {
        "id": "YWwJ5NcQK5Rl"
      },
      "execution_count": null,
      "outputs": []
    },
    {
      "cell_type": "code",
      "source": [
        "data_WineStyle['Grape_Varieties'] = data_WineStyle['Grape_Varieties'].str.split(',').str[0]"
      ],
      "metadata": {
        "id": "D56kIoZKK5GC"
      },
      "execution_count": null,
      "outputs": []
    },
    {
      "cell_type": "code",
      "source": [
        "data_WineStyle['Grape_Varieties'] = data_WineStyle['Grape_Varieties'].str.split('/').str[0]"
      ],
      "metadata": {
        "id": "FFwx7oNSo5NY"
      },
      "execution_count": null,
      "outputs": []
    },
    {
      "cell_type": "code",
      "source": [
        "data_WineStyle.loc[115, ['Grape_Varieties']] = 'каберне совиньон'\n",
        "data_WineStyle.loc[215, ['Grape_Varieties']] = 'каберне совиньон'\n",
        "data_WineStyle.loc[297, ['Grape_Varieties']] = 'каберне совиньон'\n",
        "data_WineStyle.loc[327, ['Grape_Varieties']] = 'каберне совиньон'\n",
        "data_WineStyle.loc[13, ['Grape_Varieties']] = 'совиньон блан'\n",
        "data_WineStyle.loc[84, ['Grape_Varieties']] = 'пинотаж'\n",
        "data_WineStyle.loc[203, ['Grape_Varieties']] = 'мускат'\n",
        "data_WineStyle.loc[276, ['Grape_Varieties']] = 'пинотаж'"
      ],
      "metadata": {
        "id": "6nJvgILLpGQk"
      },
      "execution_count": null,
      "outputs": []
    },
    {
      "cell_type": "code",
      "source": [
        "def get_taste_description(Grape_Varieties):\n",
        "    taste_descriptions = {\n",
        "        'пинотаж': 'Аромат вина пинотаж характеризуется вишневыми нотами и легкими специями, а вкус выражен гармонией вишни, черного перца и дуба.',\n",
        "        'шенен блан': 'Свежий аромат цитрусовых и зрелых фруктов сопровождается вкусом яркого сочетания кислотности, груш и меда.',\n",
        "        'совиньон блан': 'Интенсивные ароматы зеленого перца и тропических фруктов характерны для совиньон блан, а вкус свежий, с высокой кислотностью и оттенками цитрусовых.',\n",
        "        'каберне совиньон': 'Аромат каберне совиньон включает ноты красных ягод, кедра и табака, а вкус сбалансированное сочетание черных фруктов, дуба и танинов.',\n",
        "        'шираз': 'Интенсивные ароматы черных ягод, черного перца и ванили характеризуют вино из сорта шираз, а вкус полный, с преобладанием черных фруктов и пряностей, с долгим послевкусием.',\n",
        "        'шардоне': 'Аромат зрелых яблок и ванили является характерным для шардоне, а вкус сбалансированное сочетание маслянистости, дуба и цитрусов.',\n",
        "        'мерло': 'Нежные ароматы вишни, сливы и шоколада присущи мерло, а вкус мягкий, с сочетанием красных фруктов, танинов и сладкого пряного послевкусия.',\n",
        "        'сира': 'Сложные ароматы темных ягод, лакрицы и табака характеризуют вино из сорта сира, а вкус мощный с темными фруктами, пряностями и долгим послевкусием.',\n",
        "        'сенсо': 'Цветочные и фруктовые ароматы с нюансами пряностей характерны для сорта сенсо, а вкус легкий и свежий, с акцентами красных ягод и минеральности.',\n",
        "        'пино нуар': 'Нежные ароматы вишни, земли и роз характерны для пино нуар, а вкус деликатное сочетание красных фруктов, мягких танинов и минеральных нот.',\n",
        "        'гренаш': 'Аромат вина гренаш характеризуется фруктовыми нотами и теплыми специями, а вкус обладает богатством фруктов, пряностей и гладкими танинами.',\n",
        "        'мурведр': 'Сорт мурведр обладает ароматами темных ягод, кожи и табака, а вкус интенсивный с темными фруктами и пряными оттенками.',\n",
        "        'рислинг': 'Аромат рислинга часто выделяется цветочными и цитрусовыми нотами, а вкус свежий, с высокой кислотностью и фруктовыми акцентами.',\n",
        "        'коломбар': 'Вино из коломбара обладает свежими цветочными ароматами и вкусом с яркой кислотностью и цитрусовыми оттенками.',\n",
        "        'каберне фран': 'Аромат вина каберне фран характеризуется зелеными травами, специями и темными ягодами, а вкус выражен танинами и оттенками зеленого перца.',\n",
        "        'вионье': 'Сорт вионье имеет ароматы персика, абрикоса и цветочных нот, а вкус мягкий с фруктовой сладостью и минеральными оттенками.',\n",
        "        'мюскадель': 'Аромат вина мюскадель характеризуется мускатными нотами, а вкус сладкий, с фруктовой пикантностью и долгим послевкусием.',\n",
        "        'семильон': 'Сорт семильон обладает ароматами зрелых фруктов и цветочных нюансов, а вкус свежий и кислотный с фруктовыми тонами.',\n",
        "        'санджовезе': 'Аромат санджовезе выделяется нотами красных фруктов и трав, а вкус сочный, с яркими кислотами и танинами.',\n",
        "        'мускат': 'Вино из муската обладает интенсивными мускатными ароматами, а вкус сладкий, с фруктовой яркостью и цветочными оттенками.',\n",
        "        'мускат фронтиньян': 'Аромат муската фронтиньян характеризуется сладкими цветочными нотами, а вкус пикантный и фруктовый.',\n",
        "        'пино гриджио': 'Свежие цитрусовые ароматы и легкий, освежающий вкус с фруктовыми оттенками - характеристики вина из пино гриджио.',\n",
        "        'кариньяно': 'Вино из кариньяно обладает ароматами красных ягод и трав, а вкус выражен свежестью и нюансами специй.',\n",
        "        'мускат александрийский': 'Аромат вина муската александрийского отличается интенсивными цветочными и мускатными нотами, а вкус сладкий и ароматный.',\n",
        "        'совиньон гри': 'Совиньон гри обладает ароматами цитрусовых и зеленого перца, а вкус свежий и яркий.',\n",
        "        'пино гри': 'Нежные ароматы зеленых яблок и цитрусовых характерны для пино гри, а вкус легкий, с приятной кислотностью и минеральными оттенками.',\n",
        "        'тинта амарела': 'Аромат вина тинта амарела характеризуется ягодными и цветочными нотами, а вкус сочный, с мягкими танинами.',\n",
        "        'паломино бланко': 'Вино из паломино бланко обладает свежими ароматами яблок и минералов, а вкус сухой, с характерными оттенками минеральности.',\n",
        "        'верментино': 'Аромат вина верментино напоминает цитрусовые и травы, а вкус свежий и фруктовый.',\n",
        "        'москато бьянко': 'Вино из москато бьянко характеризуется интенсивными мускатными ароматами, а вкус сладкий и фруктовый.',\n",
        "        'другие сорта': 'Вино из других сортов может иметь разнообразные ароматы и вкусовые характеристики, в зависимости от используемых сортов.',\n",
        "        'неро д\\'авола': 'Аромат вина неро д\\'авола выделяется нотами темных фруктов, специй и трав, а вкус полный с ягодной сладостью и мягкими танинами.',\n",
        "        'гевюрцтраминер': 'Сорт гевюрцтраминер обладает ароматами личи, розы и пряностей, а вкус интенсивный, с фруктовой сладостью и пряными оттенками.',\n",
        "        'мускат гамбургский': 'Аромат муската гамбургского характеризуется сладкими фруктовыми и мускатными нотами, а вкус яркий и ароматный.',\n",
        "        'руссан': 'Сорт руссан имеет ароматы цветов и цитрусовых, а вкус свежий и минеральный.',\n",
        "        'мальбек': 'Аромат мальбека выделяется нотами темных ягод и пряностей, а вкус полный с мягкими танинами и долгим послевкусием.',\n",
        "        'руби каберне': 'Вино из сорта руби каберне характеризуется ароматами красных фруктов и специй, а вкус сочный и яркий.',\n",
        "        'гренаш блан': 'Гренаш блан имеет ароматы цитрусовых и свежих трав, а вкус легкий и фруктовый.',\n",
        "        'белый мюскадель': 'Белый мюскадель обладает ароматами цветов и меда, а вкус сладкий, с фруктовой яркостью и медовыми оттенками.',\n",
        "    }\n",
        "    return taste_descriptions.get(Grape_Varieties, 'Description not available')"
      ],
      "metadata": {
        "id": "0g9e7ej8uzQw"
      },
      "execution_count": 11,
      "outputs": []
    },
    {
      "cell_type": "code",
      "source": [
        "data_WineStyle['Taste_Description'] = data_WineStyle['Grape_Varieties'].apply(get_taste_description)"
      ],
      "metadata": {
        "id": "4EBibIUzjMOq"
      },
      "execution_count": null,
      "outputs": []
    },
    {
      "cell_type": "code",
      "source": [
        "import os\n",
        "import requests\n",
        "from PIL import Image\n",
        "from io import BytesIO\n",
        "\n",
        "# Download images and save locally\n",
        "downloaded_paths = []\n",
        "\n",
        "for i, img_url in enumerate(data_WineStyle['Image_URL']):\n",
        "    response = requests.get(img_url)\n",
        "\n",
        "    if response.status_code == 200:\n",
        "        img = Image.open(BytesIO(response.content))\n",
        "        local_path = f\"image_{i}.jpg\"\n",
        "        img.save(local_path)\n",
        "        downloaded_paths.append(local_path)\n",
        "    else:\n",
        "        print(f\"Failed to download image from {full_url}\")\n",
        "\n",
        "# Update the DataFrame with local paths\n",
        "data_WineStyle['Local_Image_Path'] = downloaded_paths"
      ],
      "metadata": {
        "id": "unpgVaLEK447"
      },
      "execution_count": null,
      "outputs": []
    },
    {
      "cell_type": "code",
      "source": [
        "data_WineStyle['Local_Image_Path'] = data_WineStyle['Local_Image_Path'].apply(lambda x: os.path.join(os.getcwd(), x))"
      ],
      "metadata": {
        "id": "_klGoevVK4nH"
      },
      "execution_count": null,
      "outputs": []
    },
    {
      "cell_type": "code",
      "source": [
        "from IPython.display import display, HTML\n",
        "\n",
        "html = data_WineStyle.to_html(escape=False)\n",
        "\n",
        "for index, row in data_WineStyle.iterrows():\n",
        "    html = html.replace(row['Image_URL'], f'<img src=\"{row[\"Image_URL\"]}\" alt=\"Product Image\" style=\"max-height:150px; max-width:150px;\">')\n",
        "\n",
        "display(HTML(html))"
      ],
      "metadata": {
        "id": "fZSN0hpYYX1l"
      },
      "execution_count": null,
      "outputs": []
    },
    {
      "cell_type": "code",
      "source": [
        "data_WineStyle['wine_stopper'] = [1, 1, 1, 2, 2, 1, 1, 1, 1, 1, 1, 2, 1, 1, 1, 1, 1, 2, 1, 1, 1, 1, 1, 1, 1, 1, 1, 1, 2, 2, 1, 1, 1, 1, 1, 1,\n",
        "                                  2, 1, 1, 1, 2, 2, 1, 1, 1, 1, 1, 1, 1, 2, 2, 1, 1, 1, 1, 2, 1, 1, 2, 3, 1, 2, 2, 2, 2, 2, 1, 1, 2, 2, 1, 1,\n",
        "                                  2, 1, 1, 2, 1, 2, 1, 1, 1, 1, 1, 3, 1, 1, 2, 1, 1, 2, 1, 2, 2, 2, 3, 1, 2, 1, 1, 1, 1, 1, 1, 1, 1, 2, 3,\n",
        "                                  1, 1, 1, 1, 2, 1, 1, 2, 1, 1, 1, 1, 1, 1, 1, 2, 2, 2, 2, 2, 2, 1, 1, 1, 1, 1, 2, 1, 1, 1, 1, 1, 2, 1, 2, 2,\n",
        "                                  1, 1, 1, 1, 1, 1, 1, 1, 1, 1, 1, 1, 2, 2, 1, 2, 1, 1, 1, 1, 1, 1, 1, 1, 2, 1, 1, 1, 1, 2, 2, 1, 2, 2, 2, 2, 2,\n",
        "                                  2, 2, 2, 2, 2, 2, 2, 1, 1, 1, 1, 1, 2, 2, 1, 1, 1, 1, 1, 1, 1, 1, 2, 1, 1, 1, 1, 2, 1, 1, 1, 1, 2, 1, 1, 1, 1, 1,\n",
        "                                  1, 2, 2, 2, 1, 1, 1, 1, 1, 2, 2, 2, 1, 2, 2, 3, 1, 2, 2, 2, 1, 2, 1, 2, 2, 2, 2, 2, 2, 2, 2, 2, 2, 1, 1, 2, 2, 2,\n",
        "                                  1, 1, 1, 1, 1, 1, 2, 2, 2, 1, 1, 1, 1, 1, 1, 1, 1, 1, 1, 1, 2, 1, 2, 2, 1, 1, 1, 1, 1, 1, 1, 1, 1, 1, 2, 1, 1, 1, 1,\n",
        "                                  2, 2, 2, 2, 2, 1, 1, 1, 1, 2, 2, 1, 1, 1, 1, 1, 2, 2, 1, 1, 1, 1, 2, 2, 2, 2, 2, 3, 1, 1, 2, 1, 2, 1, 2, 2, 2, 2, 2, 2,\n",
        "                                  1, 2, 2, 1, 3, 3, 2, 1, 2, 2, 2, 2, 2, 2, 2, 2, 2, 2, 1, 1, 2, 2, 2, 2, 1, 2, 2, 2, 2, 3, 2, 2, 2, 2, 2, 2, 2, 2, 2, 2,\n",
        "                                  2, 2, 2, 2, 2, 2, 2, 2, 2, 2, 2, 2, 2, 2, 2, 2, 2, 2, 2, 2, 2, 2, 2, 2, 2, 2, 2, 2, 2, 2, 2, 3, 2, 2, 2, 2, 2, 3,\n",
        "                                  3, 2, 2, 2, 2, 2, 2, 2, 2, 2, 2, 2, 2, 2, 1, 2, 2, 2, 2, 2, 1, 1, 1, 1, 2, 2, 1]"
      ],
      "metadata": {
        "id": "KtM9udTxLNLS"
      },
      "execution_count": null,
      "outputs": []
    },
    {
      "cell_type": "code",
      "source": [
        "data_WineStyle['Label'] = [1, 1, 1, 1, 2, 1, 1, 2, 2, 1, 1, 2, 1, 1, 1, 1, 1, 1, 1, 1, 1, 1, 1, 1, 2, 1, 1, 2, 1, 1, 1, 1, 1, 1, 1, 1, 1, 1, 1,\n",
        "                           2, 1, 2, 1, 1, 1, 1, 2, 1, 1, 2, 1, 1, 1, 1, 1, 2, 1, 1, 2, 1, 1, 1, 1, 2, 2, 2, 1, 1, 1, 1, 1, 1, 1, 1, 1, 1, 1, 1, 1, 1,\n",
        "                           2, 1, 2, 1, 1, 1, 1, 1, 1, 1, 2, 1, 1, 1, 1, 1, 1, 1, 1, 2, 1, 1, 1, 1, 2, 2, 1, 1, 1, 1, 1, 1, 1, 1, 1, 2, 2, 1, 1, 1, 1, 1,\n",
        "                           1, 1, 1, 1, 1, 2, 1, 1, 1, 1, 1, 1, 1, 1, 1, 1, 1, 1, 1, 1, 1, 1, 1, 1, 1, 1, 2, 1, 1, 1, 2, 1, 1, 1, 1, 1,1, 1, 1, 1, 1,\n",
        "                           1, 1, 1, 2, 1, 1, 1, 1, 1, 2, 2, 1, 2, 2, 2, 1, 2, 2, 2, 2, 2, 2, 2, 2, 2, 1, 1, 1, 1, 1, 1, 2, 1, 1, 1, 2, 1, 1, 1, 1, 1,\n",
        "                           1, 1, 1, 2, 1, 1, 1, 1, 1, 2, 1, 2, 1, 1, 1, 1, 1, 1, 2, 2, 1, 2, 1, 2, 2, 2, 1, 2, 2, 2, 2, 1, 2, 1, 2, 1, 2, 2, 1,\n",
        "                           2, 2, 2, 2, 2, 2, 2, 1, 2, 2, 2, 2, 2, 1, 1, 1, 1, 1, 1, 1, 2, 2, 1, 1, 1, 1, 2, 2, 2, 1, 1, 1, 1, 2, 1, 1, 1, 1, 1, 1, 1, 1, 1, 1,\n",
        "                           1, 1, 1, 1, 1, 1, 1, 1, 1, 2, 1, 1, 1, 1, 1, 1, 2, 2, 2, 1, 1, 1, 1, 1, 1, 2, 1, 1, 1, 1, 2, 1, 1, 1, 1, 1, 1, 1, 1, 1, 1,\n",
        "                           1, 1, 1, 1, 1, 1, 1, 2, 1, 1, 2, 1, 1, 1, 2, 2, 1, 1, 2, 1, 1, 1, 2, 2, 2, 1, 2, 1, 2, 2, 1, 2, 2, 1, 2, 1, 2, 2, 2, 2, 1,\n",
        "                           2, 2, 1, 1, 1, 2, 2, 1, 2, 2, 2, 2, 2, 2, 2, 2, 1, 2, 2, 2, 2, 1, 1, 1, 2, 2, 2, 2, 2, 2, 1, 1, 2, 2, 2, 2, 2, 2, 2, 2, 2, 1,\n",
        "                           2, 2, 2, 2, 2, 2, 2, 2, 2, 2, 2, 1, 2, 1, 2, 1, 1, 1, 2, 2, 2, 1, 1, 1, 1, 2, 1, 2, 1]"
      ],
      "metadata": {
        "id": "Mvstx1MNDdxC"
      },
      "execution_count": null,
      "outputs": []
    },
    {
      "cell_type": "code",
      "source": [
        "data_WineStyle['Shape'] = [1, 2, 2, 2, 1, 2, 1, 2, 2, 1, 1, 1, 3, 1, 2, 2, 2, 1, 1, 2, 1, 2, 1, 1, 2, 1, 2, 2, 1, 1, 2, 2, 2, 1, 1, 2,\n",
        "                            1, 1, 2, 2, 1, 2, 1, 1, 1, 1, 2, 1, 2, 1, 1, 1, 2, 2, 1, 2, 2, 2, 2, 2, 2, 2, 1, 1, 2, 1, 2, 2, 1, 1, 2,\n",
        "                            1, 2, 1, 1, 1, 1, 2, 1, 2, 2, 2, 2, 2, 1, 1, 1, 1, 1, 1, 2, 2, 2, 2, 2, 1, 2, 1, 2, 2, 1, 2, 1, 1, 2, 2, 2,\n",
        "                            1, 2, 1, 1, 1, 1, 2, 1, 2, 2, 2, 1, 1, 1, 2, 2, 2, 2, 1, 1, 2, 2, 1, 1, 1, 1, 2, 2, 1, 1, 2, 2, 1, 2, 2,\n",
        "                            2, 1, 1, 2, 1, 2, 1, 1, 1, 1, 1, 2, 2, 1, 1, 2, 1, 2, 2, 1, 2, 2, 1, 1, 2, 2, 2, 2, 2, 2, 2, 1, 2, 1, 2, 2, 2,\n",
        "                            1, 2, 2, 2, 1, 2, 2, 1, 2, 1, 1, 1, 1, 1, 1, 2, 2, 1, 2, 1, 2, 2, 2, 1, 2, 2, 1, 1, 2, 1, 1, 2, 1, 1,\n",
        "                            2, 2, 1, 2, 2, 2, 1, 2, 2, 2, 2, 2, 2, 1, 2, 2, 2, 2, 2, 1, 1, 2, 1, 1, 1, 2, 2, 2, 1, 1, 2, 2, 1, 2, 1,\n",
        "                            1, 1, 1, 2, 2, 2, 2, 2, 1, 2, 2, 1, 1, 1, 1, 1, 1, 1, 1, 1, 1, 1, 1, 1, 1, 1, 1, 1, 2, 1, 1, 1, 2, 2,\n",
        "                            1, 2, 2, 2, 1, 2, 2, 1, 2, 1, 2, 1, 1, 1, 2, 1, 2, 1, 1, 1, 2, 2, 2, 2, 2, 2, 2, 1, 2, 1, 1, 2, 2, 2,\n",
        "                            2, 2, 2, 1, 1, 2, 2, 2, 1, 1, 2, 1, 2, 1, 1, 1, 1, 1, 2, 2, 1, 2, 2, 2, 2, 1, 2, 1, 2, 1, 2, 1, 2, 1, 2,\n",
        "                            1, 2, 2, 2, 2, 2, 1, 2, 2, 1, 2, 1, 2, 2, 2, 2, 1, 1, 2, 2, 2, 2, 2, 2, 2, 2, 1, 2, 1, 1, 1, 2, 2, 1,\n",
        "                            2, 2, 1, 2, 2, 2, 2, 2, 1, 1, 1, 2, 2, 2, 2, 2, 2, 1, 1, 2, 2, 2, 2, 2, 2, 2, 2, 2, 2, 2, 2, 2, 2, 2, 2, 2, 2, 2, 2,\n",
        "                            2, 2, 2, 2, 2, 2, 2, 2, 2, 2, 1, 1, 2, 2, 1, 2]"
      ],
      "metadata": {
        "id": "2-NgPfeL2ZEc"
      },
      "execution_count": null,
      "outputs": []
    },
    {
      "cell_type": "code",
      "source": [
        "data_WineStyle['Brand'].fillna(data_WineStyle['Producer'], inplace=True)"
      ],
      "metadata": {
        "id": "MsdCEEAz2Zk2"
      },
      "execution_count": null,
      "outputs": []
    },
    {
      "cell_type": "code",
      "source": [
        "nan_indices = data_WineStyle[data_WineStyle['Brand'].isnull()].index\n",
        "print(nan_indices)"
      ],
      "metadata": {
        "colab": {
          "base_uri": "https://localhost:8080/"
        },
        "id": "Mc7hpHOOSmYQ",
        "outputId": "ed103206-c158-45a3-941d-69b8bec6fa8b"
      },
      "execution_count": null,
      "outputs": [
        {
          "output_type": "stream",
          "name": "stdout",
          "text": [
            "Int64Index([170, 223, 240, 336, 346, 362, 387, 388, 410, 415], dtype='int64')\n"
          ]
        }
      ]
    },
    {
      "cell_type": "code",
      "source": [
        "data_WineStyle[415, 'Brand'] = 'vin de constance'\n",
        "data_WineStyle[410, 'Brand'] = 'cuvee anabel'\n",
        "data_WineStyle[388, 'Brand'] = 'klein constantia'\n",
        "data_WineStyle[387, 'Brand'] = 'klein constantia'\n",
        "data_WineStyle[362, 'Brand'] = 'naissance'\n",
        "data_WineStyle[346, 'Brand'] = 'fairview'\n",
        "data_WineStyle[336, 'Brand'] = 'amododa'\n",
        "data_WineStyle[240, 'Brand'] = 'klein constantia'\n",
        "data_WineStyle[223, 'Brand'] = 'fairview'\n",
        "data_WineStyle[170, 'Brand'] = 'rooibos ridge'"
      ],
      "metadata": {
        "id": "zwwmppk5SmfT"
      },
      "execution_count": null,
      "outputs": []
    },
    {
      "cell_type": "code",
      "source": [
        "data_WineStyle = data_WineStyle.drop('Producer', axis=1)"
      ],
      "metadata": {
        "id": "1g5HqyxESmlo"
      },
      "execution_count": null,
      "outputs": []
    },
    {
      "cell_type": "code",
      "source": [
        "data_WineStyle = data_WineStyle[data_KB.columns]"
      ],
      "metadata": {
        "id": "2glp3We0SmtZ"
      },
      "execution_count": null,
      "outputs": []
    },
    {
      "cell_type": "code",
      "source": [
        "data_AM = pd.concat([data_AM1, data_AM2], axis=0)\n",
        "data_AM.head()"
      ],
      "metadata": {
        "colab": {
          "base_uri": "https://localhost:8080/",
          "height": 503
        },
        "id": "YmGvW05teqik",
        "outputId": "745343ee-8dff-4501-cca4-c5f8e5faaab2"
      },
      "execution_count": 4,
      "outputs": [
        {
          "output_type": "execute_result",
          "data": {
            "text/plain": [
              "                                        Title  \\\n",
              "0                       Вино Namaqua Pinotage   \n",
              "1                   Вино Namaqua Chenin Blanc   \n",
              "2              Вино Duke of Wellington Shiraz   \n",
              "3  Вино Duke of Wellington Cabernet Sauvignon   \n",
              "4     Вино Duke of Wellington Sauvignon Blanc   \n",
              "\n",
              "                                        Link_product  Number_votes  \\\n",
              "0                    /catalog/vino/namaqua_pinotage/           3.0   \n",
              "1                /catalog/vino/namaqua_chenin_blanc/           NaN   \n",
              "2           /catalog/vino/duke_of_wellington_shiraz/           2.0   \n",
              "3  /catalog/vino/duke_of_wellington_cabernet_sauv...           1.0   \n",
              "4  /catalog/vino/duke_of_wellington_sauvignon_blanc/           1.0   \n",
              "\n",
              "                                               Image  Ratings    Price  \\\n",
              "0  https://cdn.amwine.ru/upload/iblock/5f0/5f0234...      5.0   599.99   \n",
              "1  https://cdn.amwine.ru/upload/iblock/3bb/3bb07d...      NaN   559.99   \n",
              "2  https://cdn.amwine.ru/upload/iblock/88f/88f6a7...      5.0  1099.99   \n",
              "3  https://cdn.amwine.ru/upload/iblock/986/986e69...      5.0   699.99   \n",
              "4  https://cdn.amwine.ru/upload/iblock/1e4/1e47d2...      5.0   899.99   \n",
              "\n",
              "                                     Additional_Info  \n",
              "0  {'Страна': 'ЮАР', 'Цвет': 'Красное', 'Содержан...  \n",
              "1  {'Страна': 'ЮАР', 'Цвет': 'Белое', 'Содержание...  \n",
              "2  {'Страна': 'ЮАР', 'Цвет': 'Красное', 'Содержан...  \n",
              "3  {'Страна': 'ЮАР', 'Цвет': 'Красное', 'Содержан...  \n",
              "4  {'Страна': 'ЮАР', 'Цвет': 'Белое', 'Содержание...  "
            ],
            "text/html": [
              "\n",
              "  <div id=\"df-eb6fa064-7310-48af-9923-1f8a73a4a77c\" class=\"colab-df-container\">\n",
              "    <div>\n",
              "<style scoped>\n",
              "    .dataframe tbody tr th:only-of-type {\n",
              "        vertical-align: middle;\n",
              "    }\n",
              "\n",
              "    .dataframe tbody tr th {\n",
              "        vertical-align: top;\n",
              "    }\n",
              "\n",
              "    .dataframe thead th {\n",
              "        text-align: right;\n",
              "    }\n",
              "</style>\n",
              "<table border=\"1\" class=\"dataframe\">\n",
              "  <thead>\n",
              "    <tr style=\"text-align: right;\">\n",
              "      <th></th>\n",
              "      <th>Title</th>\n",
              "      <th>Link_product</th>\n",
              "      <th>Number_votes</th>\n",
              "      <th>Image</th>\n",
              "      <th>Ratings</th>\n",
              "      <th>Price</th>\n",
              "      <th>Additional_Info</th>\n",
              "    </tr>\n",
              "  </thead>\n",
              "  <tbody>\n",
              "    <tr>\n",
              "      <th>0</th>\n",
              "      <td>Вино Namaqua Pinotage</td>\n",
              "      <td>/catalog/vino/namaqua_pinotage/</td>\n",
              "      <td>3.0</td>\n",
              "      <td>https://cdn.amwine.ru/upload/iblock/5f0/5f0234...</td>\n",
              "      <td>5.0</td>\n",
              "      <td>599.99</td>\n",
              "      <td>{'Страна': 'ЮАР', 'Цвет': 'Красное', 'Содержан...</td>\n",
              "    </tr>\n",
              "    <tr>\n",
              "      <th>1</th>\n",
              "      <td>Вино Namaqua Chenin Blanc</td>\n",
              "      <td>/catalog/vino/namaqua_chenin_blanc/</td>\n",
              "      <td>NaN</td>\n",
              "      <td>https://cdn.amwine.ru/upload/iblock/3bb/3bb07d...</td>\n",
              "      <td>NaN</td>\n",
              "      <td>559.99</td>\n",
              "      <td>{'Страна': 'ЮАР', 'Цвет': 'Белое', 'Содержание...</td>\n",
              "    </tr>\n",
              "    <tr>\n",
              "      <th>2</th>\n",
              "      <td>Вино Duke of Wellington Shiraz</td>\n",
              "      <td>/catalog/vino/duke_of_wellington_shiraz/</td>\n",
              "      <td>2.0</td>\n",
              "      <td>https://cdn.amwine.ru/upload/iblock/88f/88f6a7...</td>\n",
              "      <td>5.0</td>\n",
              "      <td>1099.99</td>\n",
              "      <td>{'Страна': 'ЮАР', 'Цвет': 'Красное', 'Содержан...</td>\n",
              "    </tr>\n",
              "    <tr>\n",
              "      <th>3</th>\n",
              "      <td>Вино Duke of Wellington Cabernet Sauvignon</td>\n",
              "      <td>/catalog/vino/duke_of_wellington_cabernet_sauv...</td>\n",
              "      <td>1.0</td>\n",
              "      <td>https://cdn.amwine.ru/upload/iblock/986/986e69...</td>\n",
              "      <td>5.0</td>\n",
              "      <td>699.99</td>\n",
              "      <td>{'Страна': 'ЮАР', 'Цвет': 'Красное', 'Содержан...</td>\n",
              "    </tr>\n",
              "    <tr>\n",
              "      <th>4</th>\n",
              "      <td>Вино Duke of Wellington Sauvignon Blanc</td>\n",
              "      <td>/catalog/vino/duke_of_wellington_sauvignon_blanc/</td>\n",
              "      <td>1.0</td>\n",
              "      <td>https://cdn.amwine.ru/upload/iblock/1e4/1e47d2...</td>\n",
              "      <td>5.0</td>\n",
              "      <td>899.99</td>\n",
              "      <td>{'Страна': 'ЮАР', 'Цвет': 'Белое', 'Содержание...</td>\n",
              "    </tr>\n",
              "  </tbody>\n",
              "</table>\n",
              "</div>\n",
              "    <div class=\"colab-df-buttons\">\n",
              "\n",
              "  <div class=\"colab-df-container\">\n",
              "    <button class=\"colab-df-convert\" onclick=\"convertToInteractive('df-eb6fa064-7310-48af-9923-1f8a73a4a77c')\"\n",
              "            title=\"Convert this dataframe to an interactive table.\"\n",
              "            style=\"display:none;\">\n",
              "\n",
              "  <svg xmlns=\"http://www.w3.org/2000/svg\" height=\"24px\" viewBox=\"0 -960 960 960\">\n",
              "    <path d=\"M120-120v-720h720v720H120Zm60-500h600v-160H180v160Zm220 220h160v-160H400v160Zm0 220h160v-160H400v160ZM180-400h160v-160H180v160Zm440 0h160v-160H620v160ZM180-180h160v-160H180v160Zm440 0h160v-160H620v160Z\"/>\n",
              "  </svg>\n",
              "    </button>\n",
              "\n",
              "  <style>\n",
              "    .colab-df-container {\n",
              "      display:flex;\n",
              "      gap: 12px;\n",
              "    }\n",
              "\n",
              "    .colab-df-convert {\n",
              "      background-color: #E8F0FE;\n",
              "      border: none;\n",
              "      border-radius: 50%;\n",
              "      cursor: pointer;\n",
              "      display: none;\n",
              "      fill: #1967D2;\n",
              "      height: 32px;\n",
              "      padding: 0 0 0 0;\n",
              "      width: 32px;\n",
              "    }\n",
              "\n",
              "    .colab-df-convert:hover {\n",
              "      background-color: #E2EBFA;\n",
              "      box-shadow: 0px 1px 2px rgba(60, 64, 67, 0.3), 0px 1px 3px 1px rgba(60, 64, 67, 0.15);\n",
              "      fill: #174EA6;\n",
              "    }\n",
              "\n",
              "    .colab-df-buttons div {\n",
              "      margin-bottom: 4px;\n",
              "    }\n",
              "\n",
              "    [theme=dark] .colab-df-convert {\n",
              "      background-color: #3B4455;\n",
              "      fill: #D2E3FC;\n",
              "    }\n",
              "\n",
              "    [theme=dark] .colab-df-convert:hover {\n",
              "      background-color: #434B5C;\n",
              "      box-shadow: 0px 1px 3px 1px rgba(0, 0, 0, 0.15);\n",
              "      filter: drop-shadow(0px 1px 2px rgba(0, 0, 0, 0.3));\n",
              "      fill: #FFFFFF;\n",
              "    }\n",
              "  </style>\n",
              "\n",
              "    <script>\n",
              "      const buttonEl =\n",
              "        document.querySelector('#df-eb6fa064-7310-48af-9923-1f8a73a4a77c button.colab-df-convert');\n",
              "      buttonEl.style.display =\n",
              "        google.colab.kernel.accessAllowed ? 'block' : 'none';\n",
              "\n",
              "      async function convertToInteractive(key) {\n",
              "        const element = document.querySelector('#df-eb6fa064-7310-48af-9923-1f8a73a4a77c');\n",
              "        const dataTable =\n",
              "          await google.colab.kernel.invokeFunction('convertToInteractive',\n",
              "                                                    [key], {});\n",
              "        if (!dataTable) return;\n",
              "\n",
              "        const docLinkHtml = 'Like what you see? Visit the ' +\n",
              "          '<a target=\"_blank\" href=https://colab.research.google.com/notebooks/data_table.ipynb>data table notebook</a>'\n",
              "          + ' to learn more about interactive tables.';\n",
              "        element.innerHTML = '';\n",
              "        dataTable['output_type'] = 'display_data';\n",
              "        await google.colab.output.renderOutput(dataTable, element);\n",
              "        const docLink = document.createElement('div');\n",
              "        docLink.innerHTML = docLinkHtml;\n",
              "        element.appendChild(docLink);\n",
              "      }\n",
              "    </script>\n",
              "  </div>\n",
              "\n",
              "\n",
              "<div id=\"df-4ba52b5d-a1bf-4744-9e63-3ac45814e756\">\n",
              "  <button class=\"colab-df-quickchart\" onclick=\"quickchart('df-4ba52b5d-a1bf-4744-9e63-3ac45814e756')\"\n",
              "            title=\"Suggest charts\"\n",
              "            style=\"display:none;\">\n",
              "\n",
              "<svg xmlns=\"http://www.w3.org/2000/svg\" height=\"24px\"viewBox=\"0 0 24 24\"\n",
              "     width=\"24px\">\n",
              "    <g>\n",
              "        <path d=\"M19 3H5c-1.1 0-2 .9-2 2v14c0 1.1.9 2 2 2h14c1.1 0 2-.9 2-2V5c0-1.1-.9-2-2-2zM9 17H7v-7h2v7zm4 0h-2V7h2v10zm4 0h-2v-4h2v4z\"/>\n",
              "    </g>\n",
              "</svg>\n",
              "  </button>\n",
              "\n",
              "<style>\n",
              "  .colab-df-quickchart {\n",
              "      --bg-color: #E8F0FE;\n",
              "      --fill-color: #1967D2;\n",
              "      --hover-bg-color: #E2EBFA;\n",
              "      --hover-fill-color: #174EA6;\n",
              "      --disabled-fill-color: #AAA;\n",
              "      --disabled-bg-color: #DDD;\n",
              "  }\n",
              "\n",
              "  [theme=dark] .colab-df-quickchart {\n",
              "      --bg-color: #3B4455;\n",
              "      --fill-color: #D2E3FC;\n",
              "      --hover-bg-color: #434B5C;\n",
              "      --hover-fill-color: #FFFFFF;\n",
              "      --disabled-bg-color: #3B4455;\n",
              "      --disabled-fill-color: #666;\n",
              "  }\n",
              "\n",
              "  .colab-df-quickchart {\n",
              "    background-color: var(--bg-color);\n",
              "    border: none;\n",
              "    border-radius: 50%;\n",
              "    cursor: pointer;\n",
              "    display: none;\n",
              "    fill: var(--fill-color);\n",
              "    height: 32px;\n",
              "    padding: 0;\n",
              "    width: 32px;\n",
              "  }\n",
              "\n",
              "  .colab-df-quickchart:hover {\n",
              "    background-color: var(--hover-bg-color);\n",
              "    box-shadow: 0 1px 2px rgba(60, 64, 67, 0.3), 0 1px 3px 1px rgba(60, 64, 67, 0.15);\n",
              "    fill: var(--button-hover-fill-color);\n",
              "  }\n",
              "\n",
              "  .colab-df-quickchart-complete:disabled,\n",
              "  .colab-df-quickchart-complete:disabled:hover {\n",
              "    background-color: var(--disabled-bg-color);\n",
              "    fill: var(--disabled-fill-color);\n",
              "    box-shadow: none;\n",
              "  }\n",
              "\n",
              "  .colab-df-spinner {\n",
              "    border: 2px solid var(--fill-color);\n",
              "    border-color: transparent;\n",
              "    border-bottom-color: var(--fill-color);\n",
              "    animation:\n",
              "      spin 1s steps(1) infinite;\n",
              "  }\n",
              "\n",
              "  @keyframes spin {\n",
              "    0% {\n",
              "      border-color: transparent;\n",
              "      border-bottom-color: var(--fill-color);\n",
              "      border-left-color: var(--fill-color);\n",
              "    }\n",
              "    20% {\n",
              "      border-color: transparent;\n",
              "      border-left-color: var(--fill-color);\n",
              "      border-top-color: var(--fill-color);\n",
              "    }\n",
              "    30% {\n",
              "      border-color: transparent;\n",
              "      border-left-color: var(--fill-color);\n",
              "      border-top-color: var(--fill-color);\n",
              "      border-right-color: var(--fill-color);\n",
              "    }\n",
              "    40% {\n",
              "      border-color: transparent;\n",
              "      border-right-color: var(--fill-color);\n",
              "      border-top-color: var(--fill-color);\n",
              "    }\n",
              "    60% {\n",
              "      border-color: transparent;\n",
              "      border-right-color: var(--fill-color);\n",
              "    }\n",
              "    80% {\n",
              "      border-color: transparent;\n",
              "      border-right-color: var(--fill-color);\n",
              "      border-bottom-color: var(--fill-color);\n",
              "    }\n",
              "    90% {\n",
              "      border-color: transparent;\n",
              "      border-bottom-color: var(--fill-color);\n",
              "    }\n",
              "  }\n",
              "</style>\n",
              "\n",
              "  <script>\n",
              "    async function quickchart(key) {\n",
              "      const quickchartButtonEl =\n",
              "        document.querySelector('#' + key + ' button');\n",
              "      quickchartButtonEl.disabled = true;  // To prevent multiple clicks.\n",
              "      quickchartButtonEl.classList.add('colab-df-spinner');\n",
              "      try {\n",
              "        const charts = await google.colab.kernel.invokeFunction(\n",
              "            'suggestCharts', [key], {});\n",
              "      } catch (error) {\n",
              "        console.error('Error during call to suggestCharts:', error);\n",
              "      }\n",
              "      quickchartButtonEl.classList.remove('colab-df-spinner');\n",
              "      quickchartButtonEl.classList.add('colab-df-quickchart-complete');\n",
              "    }\n",
              "    (() => {\n",
              "      let quickchartButtonEl =\n",
              "        document.querySelector('#df-4ba52b5d-a1bf-4744-9e63-3ac45814e756 button');\n",
              "      quickchartButtonEl.style.display =\n",
              "        google.colab.kernel.accessAllowed ? 'block' : 'none';\n",
              "    })();\n",
              "  </script>\n",
              "</div>\n",
              "    </div>\n",
              "  </div>\n"
            ],
            "application/vnd.google.colaboratory.intrinsic+json": {
              "type": "dataframe",
              "variable_name": "data_AM",
              "summary": "{\n  \"name\": \"data_AM\",\n  \"rows\": 40,\n  \"fields\": [\n    {\n      \"column\": \"Title\",\n      \"properties\": {\n        \"dtype\": \"string\",\n        \"samples\": [\n          \"\\u0412\\u0438\\u043d\\u043e Barista Pinotage Red Dry\",\n          \"\\u0412\\u0438\\u043d\\u043e DaschBosch Popular Premium Cabernet Sauvignon\",\n          \"\\u0412\\u0438\\u043d\\u043e La Cave Pinotage\"\n        ],\n        \"num_unique_values\": 40,\n        \"semantic_type\": \"\",\n        \"description\": \"\"\n      }\n    },\n    {\n      \"column\": \"Link_product\",\n      \"properties\": {\n        \"dtype\": \"string\",\n        \"samples\": [\n          \"/catalog/vino/barista-pinotage/\",\n          \"/catalog/vino/daschbosgh_popular_premium_cabernet_sauvignon/\",\n          \"/catalog/vino/la_cave_pinotage/\"\n        ],\n        \"num_unique_values\": 40,\n        \"semantic_type\": \"\",\n        \"description\": \"\"\n      }\n    },\n    {\n      \"column\": \"Number_votes\",\n      \"properties\": {\n        \"dtype\": \"number\",\n        \"std\": 1.9727488161795692,\n        \"min\": 1.0,\n        \"max\": 9.0,\n        \"samples\": [\n          3.0,\n          2.0,\n          8.0\n        ],\n        \"num_unique_values\": 7,\n        \"semantic_type\": \"\",\n        \"description\": \"\"\n      }\n    },\n    {\n      \"column\": \"Image\",\n      \"properties\": {\n        \"dtype\": \"string\",\n        \"samples\": [\n          \"https://cdn.amwine.ru/upload/iblock/876/876afbb351879bbfaaedbeb5e87f6d1b.png\",\n          \"https://cdn.amwine.ru/upload/iblock/48f/48fdf9e0c69ebc95cddb50fa8ace999c.png\",\n          \"https://cdn.amwine.ru/upload/iblock/8fc/8fc514ca08866f8f122cd0cce104ddfc.png\"\n        ],\n        \"num_unique_values\": 40,\n        \"semantic_type\": \"\",\n        \"description\": \"\"\n      }\n    },\n    {\n      \"column\": \"Ratings\",\n      \"properties\": {\n        \"dtype\": \"number\",\n        \"std\": 0.3080588984273704,\n        \"min\": 4.0,\n        \"max\": 5.0,\n        \"samples\": [\n          4.0,\n          4.4,\n          4.7\n        ],\n        \"num_unique_values\": 5,\n        \"semantic_type\": \"\",\n        \"description\": \"\"\n      }\n    },\n    {\n      \"column\": \"Price\",\n      \"properties\": {\n        \"dtype\": \"number\",\n        \"std\": 316.79958351985493,\n        \"min\": 449.99,\n        \"max\": 1499.99,\n        \"samples\": [\n          599.99,\n          559.99,\n          979.99\n        ],\n        \"num_unique_values\": 18,\n        \"semantic_type\": \"\",\n        \"description\": \"\"\n      }\n    },\n    {\n      \"column\": \"Additional_Info\",\n      \"properties\": {\n        \"dtype\": \"string\",\n        \"samples\": [\n          \"{'\\u0421\\u0442\\u0440\\u0430\\u043d\\u0430': '\\u042e\\u0410\\u0420', '\\u0426\\u0432\\u0435\\u0442': '\\u041a\\u0440\\u0430\\u0441\\u043d\\u043e\\u0435', '\\u0421\\u043e\\u0434\\u0435\\u0440\\u0436\\u0430\\u043d\\u0438\\u0435 \\u0441\\u0430\\u0445\\u0430\\u0440\\u0430': '\\u041f\\u043e\\u043b\\u0443\\u0441\\u0443\\u0445\\u043e\\u0435', '\\u041e\\u0431\\u044a\\u0435\\u043c': '0.75                                                                                                        \\u043b', '\\u041f\\u0440\\u043e\\u0438\\u0437\\u0432\\u043e\\u0434\\u0438\\u0442\\u0435\\u043b\\u044c': 'Stellenview Wines', '\\u041a\\u0440\\u0435\\u043f\\u043e\\u0441\\u0442\\u044c': '14                                                                                                        %', '\\u0420\\u0435\\u043a\\u043e\\u043c\\u0435\\u043d\\u0434\\u0443\\u0435\\u043c\\u0430\\u044f \\u0442\\u0435\\u043c\\u043f\\u0435\\u0440\\u0430\\u0442\\u0443\\u0440\\u0430 \\u043f\\u043e\\u0434\\u0430\\u0447\\u0438': '16-18'}\",\n          \"{'\\u0421\\u0442\\u0440\\u0430\\u043d\\u0430': '\\u042e\\u0410\\u0420', '\\u0426\\u0432\\u0435\\u0442': '\\u0411\\u0435\\u043b\\u043e\\u0435', '\\u0421\\u043e\\u0434\\u0435\\u0440\\u0436\\u0430\\u043d\\u0438\\u0435 \\u0441\\u0430\\u0445\\u0430\\u0440\\u0430': '\\u0421\\u0443\\u0445\\u043e\\u0435', '\\u041e\\u0431\\u044a\\u0435\\u043c': '0.75                                                                                                        \\u043b', '\\u041f\\u0440\\u043e\\u0438\\u0437\\u0432\\u043e\\u0434\\u0438\\u0442\\u0435\\u043b\\u044c': 'Wellington Wine', '\\u041a\\u0440\\u0435\\u043f\\u043e\\u0441\\u0442\\u044c': '13.5                                                                                                        %', '\\u0420\\u0435\\u043a\\u043e\\u043c\\u0435\\u043d\\u0434\\u0443\\u0435\\u043c\\u0430\\u044f \\u0442\\u0435\\u043c\\u043f\\u0435\\u0440\\u0430\\u0442\\u0443\\u0440\\u0430 \\u043f\\u043e\\u0434\\u0430\\u0447\\u0438': '10-12\\u00ba\\u0421'}\",\n          \"{'\\u0421\\u0442\\u0440\\u0430\\u043d\\u0430': '\\u042e\\u0410\\u0420', '\\u0426\\u0432\\u0435\\u0442': '\\u041a\\u0440\\u0430\\u0441\\u043d\\u043e\\u0435', '\\u0421\\u043e\\u0434\\u0435\\u0440\\u0436\\u0430\\u043d\\u0438\\u0435 \\u0441\\u0430\\u0445\\u0430\\u0440\\u0430': '\\u041f\\u043e\\u043b\\u0443\\u0441\\u0443\\u0445\\u043e\\u0435', '\\u041e\\u0431\\u044a\\u0435\\u043c': '0.75                                                                                                        \\u043b', '\\u041f\\u0440\\u043e\\u0438\\u0437\\u0432\\u043e\\u0434\\u0438\\u0442\\u0435\\u043b\\u044c': 'Stellenview Wines', '\\u041a\\u0440\\u0435\\u043f\\u043e\\u0441\\u0442\\u044c': '14.5                                                                                                        %', '\\u0420\\u0435\\u043a\\u043e\\u043c\\u0435\\u043d\\u0434\\u0443\\u0435\\u043c\\u0430\\u044f \\u0442\\u0435\\u043c\\u043f\\u0435\\u0440\\u0430\\u0442\\u0443\\u0440\\u0430 \\u043f\\u043e\\u0434\\u0430\\u0447\\u0438': '16-18'}\"\n        ],\n        \"num_unique_values\": 35,\n        \"semantic_type\": \"\",\n        \"description\": \"\"\n      }\n    }\n  ]\n}"
            }
          },
          "metadata": {},
          "execution_count": 4
        }
      ]
    },
    {
      "cell_type": "code",
      "source": [
        "from pandas import json_normalize\n",
        "additional_info_df = pd.json_normalize(data_AM['Additional_Info'].apply(eval))\n",
        "\n",
        "data_AM.reset_index(drop=True, inplace=True)\n",
        "\n",
        "additional_info_df.reset_index(drop=True, inplace=True)\n",
        "\n",
        "data_AM = pd.concat([data_AM, additional_info_df], axis=1)\n",
        "data_AM = data_AM.drop('Additional_Info', axis=1)"
      ],
      "metadata": {
        "id": "lpxY7WJ0Q_e-"
      },
      "execution_count": 5,
      "outputs": []
    },
    {
      "cell_type": "code",
      "source": [
        "data_AM['Ratings'] = data_AM['Ratings'].fillna(0)\n",
        "data_AM['Number_votes'] = data_AM['Number_votes'].fillna(0)\n",
        "data_AM['Объем'] = data_AM['Объем'].str.extract(r'(\\d+\\.\\d+|\\d+)')\n",
        "data_AM['Крепость'] = data_AM['Крепость'].str.extract(r'(\\d+\\.\\d+|\\d+)')\n",
        "data_AM = data_AM.applymap(lambda x: x.lower() if isinstance(x, str) else x)\n",
        "data_AM['Segment'] = 'middle'"
      ],
      "metadata": {
        "id": "lc9CilQFY6ec"
      },
      "execution_count": 6,
      "outputs": []
    },
    {
      "cell_type": "code",
      "source": [
        "data_AM['Объем'] = data_AM['Объем'].fillna(0.75)\n",
        "data_AM['Крепость'] = data_AM['Крепость'].fillna(13)"
      ],
      "metadata": {
        "id": "tHNf4kYxUQ0X"
      },
      "execution_count": 7,
      "outputs": []
    },
    {
      "cell_type": "code",
      "source": [
        "import re\n",
        "grape_varieties_mapping = {\n",
        "    'pinotage': 'пинотаж',\n",
        "    'chenin blanc': 'шенен блан',\n",
        "    'shiraz': 'шираз',\n",
        "    'cabernet sauvignon': 'каберне совиньон',\n",
        "    'merlot': 'мерло',\n",
        "    'sauvignon blanc': 'совиньон блан',\n",
        "}\n",
        "\n",
        "data_AM['Grape_Varieties'] = data_AM['Title'].str.extract(f\"({'|'.join(grape_varieties_mapping.keys())})\", flags=re.IGNORECASE)\n",
        "\n",
        "data_AM['Grape_Varieties'] = data_AM['Grape_Varieties'].str.lower().map(grape_varieties_mapping)"
      ],
      "metadata": {
        "id": "MvyIkXfeVRhJ"
      },
      "execution_count": 8,
      "outputs": []
    },
    {
      "cell_type": "code",
      "source": [
        "data_AM['Grape_Varieties']"
      ],
      "metadata": {
        "colab": {
          "base_uri": "https://localhost:8080/"
        },
        "id": "eN2h-jDNYKS-",
        "outputId": "c48fd5e2-b84d-4f78-f23d-b9e6f604f4f5"
      },
      "execution_count": null,
      "outputs": [
        {
          "output_type": "execute_result",
          "data": {
            "text/plain": [
              "0              пинотаж\n",
              "1           шенен блан\n",
              "2                шираз\n",
              "3     каберне совиньон\n",
              "4        совиньон блан\n",
              "5                  NaN\n",
              "6                  NaN\n",
              "7           шенен блан\n",
              "8                  NaN\n",
              "9              пинотаж\n",
              "10          шенен блан\n",
              "11       совиньон блан\n",
              "12               мерло\n",
              "13    каберне совиньон\n",
              "14          шенен блан\n",
              "15             пинотаж\n",
              "16    каберне совиньон\n",
              "17             пинотаж\n",
              "18               шираз\n",
              "19             пинотаж\n",
              "20       совиньон блан\n",
              "21               шираз\n",
              "22          шенен блан\n",
              "23               шираз\n",
              "24    каберне совиньон\n",
              "25               шираз\n",
              "26             пинотаж\n",
              "27             пинотаж\n",
              "28               шираз\n",
              "29       совиньон блан\n",
              "30    каберне совиньон\n",
              "31    каберне совиньон\n",
              "32             пинотаж\n",
              "33       совиньон блан\n",
              "34                 NaN\n",
              "35       совиньон блан\n",
              "36          шенен блан\n",
              "37               шираз\n",
              "38               мерло\n",
              "39    каберне совиньон\n",
              "Name: Grape_Varieties, dtype: object"
            ]
          },
          "metadata": {},
          "execution_count": 22
        }
      ]
    },
    {
      "cell_type": "code",
      "source": [
        "data_AM.loc[5, 'Grape_Varieties'] = 'совиньон блан'\n",
        "data_AM.loc[6, 'Grape_Varieties'] = 'шенен блан'\n",
        "data_AM.loc[8, 'Grape_Varieties'] = 'пинотаж'\n",
        "data_AM.loc[34, 'Grape_Varieties'] = 'каберне совиньон'"
      ],
      "metadata": {
        "id": "lkt7D4QdY1mW"
      },
      "execution_count": 9,
      "outputs": []
    },
    {
      "cell_type": "code",
      "source": [
        "data_AM.columns"
      ],
      "metadata": {
        "colab": {
          "base_uri": "https://localhost:8080/"
        },
        "id": "i_lfifgHjMH9",
        "outputId": "4d345c35-6713-457b-bccb-f6f7300ab5de"
      },
      "execution_count": 10,
      "outputs": [
        {
          "output_type": "execute_result",
          "data": {
            "text/plain": [
              "Index(['Title', 'Link_product', 'Number_votes', 'Image', 'Ratings', 'Price',\n",
              "       'Страна', 'Цвет', 'Содержание сахара', 'Объем', 'Бренд',\n",
              "       'Производитель', 'Крепость', 'Рекомендуемая температура подачи',\n",
              "       'Segment', 'Grape_Varieties'],\n",
              "      dtype='object')"
            ]
          },
          "metadata": {},
          "execution_count": 10
        }
      ]
    },
    {
      "cell_type": "code",
      "source": [
        "data_AM['Taste_Description'] = data_AM['Grape_Varieties'].apply(get_taste_description)"
      ],
      "metadata": {
        "id": "7sVzOIEFi9O-"
      },
      "execution_count": 12,
      "outputs": []
    },
    {
      "cell_type": "code",
      "source": [
        "data_AM = data_AM.drop(['Title', 'Link_product', 'Бренд'], axis=1)"
      ],
      "metadata": {
        "id": "EGr0TuB_iJs1"
      },
      "execution_count": null,
      "outputs": []
    },
    {
      "cell_type": "code",
      "source": [
        "import requests\n",
        "from PIL import Image\n",
        "from io import BytesIO\n",
        "\n",
        "# Function to download images and save locally\n",
        "def download_and_save_image(img_url, index):\n",
        "    try:\n",
        "        response = requests.get(img_url)\n",
        "        if response.status_code == 200:\n",
        "            # Extract the file extension from the URL\n",
        "            file_extension = img_url.split('.')[-1].split('@')[0]\n",
        "\n",
        "            # Open the image using PIL\n",
        "            img = Image.open(BytesIO(response.content))\n",
        "\n",
        "            # Save the image locally with the appropriate extension\n",
        "            local_path = f\"image_{index}.{file_extension}\"\n",
        "            img.save(local_path)\n",
        "\n",
        "            return local_path\n",
        "        else:\n",
        "            print(f\"Failed to download image from {img_url}\")\n",
        "            return None\n",
        "    except Exception as e:\n",
        "        print(f\"Error downloading image from {img_url}: {e}\")\n",
        "        return None\n",
        "\n",
        "# Download images and save locally\n",
        "downloaded_paths = []\n",
        "\n",
        "for i, img_url in enumerate(data_AM['Image']):\n",
        "    local_path = download_and_save_image(img_url, i)\n",
        "    if local_path:\n",
        "        downloaded_paths.append(local_path)\n",
        "    else:\n",
        "        downloaded_paths.append(None)\n",
        "\n",
        "# Update the DataFrame with local paths\n",
        "data_AM['Local_Image_Path'] = downloaded_paths"
      ],
      "metadata": {
        "id": "X5img-H4Y6zO"
      },
      "execution_count": 14,
      "outputs": []
    },
    {
      "cell_type": "code",
      "source": [
        "import os\n",
        "def process_path(x):\n",
        "  if x is not None:\n",
        "    return os.path.join(os.getcwd(), x)\n",
        "  else:\n",
        "    return None\n",
        "\n",
        "data_AM['Local_Image_Path'] = data_AM['Local_Image_Path'].apply(process_path)"
      ],
      "metadata": {
        "id": "Q53BbDreY66z"
      },
      "execution_count": 15,
      "outputs": []
    },
    {
      "cell_type": "code",
      "source": [
        "data_AM['Shape'] = [1, 1, 1, 1, 1, 1, 1, 1, 1, 1, 1, 1, 1, 1, 2, 1, 1, 1, 1, 1, 2, 2, 2, 1, 1, 1, 1, 1, 1, 2,\n",
        "                    1, 1, 1, 1, 1, 1, 1, 1, 1, 1]"
      ],
      "metadata": {
        "id": "xnOdlDhjlxL2"
      },
      "execution_count": 22,
      "outputs": []
    },
    {
      "cell_type": "code",
      "source": [
        "data_AM['Label'] = [1, 1, 2, 2, 2, 1, 1, 2, 1, 2, 1, 1, 2, 1, 2, 1, 1, 1, 1, 1, 1, 1, 1, 2, 2,\n",
        "                    1, 1, 1, 2, 2, 1, 1, 1, 2, 1, 1, 1, 1, 1, 1]"
      ],
      "metadata": {
        "id": "wnnKfRFllA3W"
      },
      "execution_count": 21,
      "outputs": []
    },
    {
      "cell_type": "code",
      "source": [
        "data_AM['wine_stopper'] = [1, 1, 2, 2, 1, 1, 1, 1, 1, 2, 1, 1 ,1 ,1, 2, 3, 2, 1, 2, 1, 1, 1, 1, 2, 2, 2, 2, 1, 2, 1,\n",
        "                                  2, 1, 2, 2, 2, 1, 1, 1, 1, 1]"
      ],
      "metadata": {
        "id": "gVgTxS6iUdPf"
      },
      "execution_count": 20,
      "outputs": []
    },
    {
      "cell_type": "code",
      "source": [
        "data_AM['Производитель'] = data_AM['Производитель'].str.replace(r'\\b(?:wines|\\(pty\\) ltd|marketing|premium)\\b', '', regex=True)"
      ],
      "metadata": {
        "id": "atr2x1tRop0_"
      },
      "execution_count": 27,
      "outputs": []
    },
    {
      "cell_type": "code",
      "source": [
        "data_AM.loc[6, 'Производитель'] = 'oromo'\n",
        "data_AM.loc[8, 'Производитель'] = 'oromo'\n",
        "data_AM.loc[20, 'Производитель'] = 'kiwi cuvee'\n",
        "data_AM['Производитель'] = data_AM['Производитель'].str.replace(r'\\b(?:wines|\\(pty\\) ltd|wine)\\b', '', regex=True)"
      ],
      "metadata": {
        "id": "GRJD10ShpBvk"
      },
      "execution_count": 30,
      "outputs": []
    },
    {
      "cell_type": "code",
      "source": [
        "data_AM['Производитель'] = data_AM['Производитель'].str.replace(r'(?:\\(pty\\) ltd|\\.)', '', regex=True).str.strip()\n",
        "data_AM['Производитель'] = data_AM['Производитель'].str.strip()"
      ],
      "metadata": {
        "id": "KTlSEmAmqS1_"
      },
      "execution_count": 38,
      "outputs": []
    },
    {
      "cell_type": "code",
      "source": [
        "data_AM.loc[36, 'Производитель'] = 'stellenview'"
      ],
      "metadata": {
        "id": "CeXymg0yPSFv"
      },
      "execution_count": 40,
      "outputs": []
    },
    {
      "cell_type": "code",
      "source": [
        "data_AM = data_AM.drop('Страна', axis=1)"
      ],
      "metadata": {
        "id": "XIkQvmqIthe1"
      },
      "execution_count": 43,
      "outputs": []
    },
    {
      "cell_type": "code",
      "source": [
        "data_AM = data_AM.drop(['Title', 'Link_product', 'Бренд', 'Рекомендуемая температура подачи'], axis=1)\n",
        "data_AM.columns"
      ],
      "metadata": {
        "colab": {
          "base_uri": "https://localhost:8080/"
        },
        "id": "jpSkaI7ioy0B",
        "outputId": "260bd103-6bb8-48d9-dda2-eba6a66ce536"
      },
      "execution_count": 42,
      "outputs": [
        {
          "output_type": "execute_result",
          "data": {
            "text/plain": [
              "Index(['Number_votes', 'Image', 'Ratings', 'Price', 'Страна', 'Цвет',\n",
              "       'Содержание сахара', 'Объем', 'Производитель', 'Крепость', 'Segment',\n",
              "       'Grape_Varieties', 'Taste_Description', 'Local_Image_Path',\n",
              "       'wine_stopper', 'Label', 'Shape'],\n",
              "      dtype='object')"
            ]
          },
          "metadata": {},
          "execution_count": 42
        }
      ]
    },
    {
      "cell_type": "code",
      "source": [
        "new_columns_AM = ['Votes_Count', 'Image_URL', 'Rating', 'Price', 'Color', 'Sugar',\n",
        "                  'Volume', 'Brand', 'Alcohol', 'Segment', 'Grape_Varieties',\n",
        "                  'Taste_Description', 'Local_Image_Path', 'wine_stopper', 'Label', 'Shape']\n",
        "data_AM.columns = new_columns_AM"
      ],
      "metadata": {
        "id": "7dpl5hVtPSau"
      },
      "execution_count": 44,
      "outputs": []
    },
    {
      "cell_type": "code",
      "source": [
        "data_AM['Region'] = 'западный кейп'\n",
        "\n",
        "def set_year(row):\n",
        "  if row['wine_stopper'] == 1:\n",
        "    return 2022\n",
        "  elif row['wine_stopper'] in [2, 3]:\n",
        "    return 2019 + (3 - row['wine_stopper'])\n",
        "  else:\n",
        "    return None\n",
        "\n",
        "data_AM['Year'] = data_AM.apply(set_year, axis=1)"
      ],
      "metadata": {
        "id": "JPyio_DouqNO"
      },
      "execution_count": 46,
      "outputs": []
    },
    {
      "cell_type": "code",
      "source": [
        "data_AM = data_AM[data_KB.columns]"
      ],
      "metadata": {
        "id": "C17BQiT8mVyS"
      },
      "execution_count": null,
      "outputs": []
    },
    {
      "cell_type": "code",
      "source": [
        "data_WineLab.head()"
      ],
      "metadata": {
        "colab": {
          "base_uri": "https://localhost:8080/",
          "height": 729
        },
        "id": "_76F3aI5PSiE",
        "outputId": "0737664c-0f15-4c46-a49b-94cbb5c1e983"
      },
      "execution_count": null,
      "outputs": [
        {
          "output_type": "execute_result",
          "data": {
            "text/plain": [
              "                                                name   price  rating  \\\n",
              "0  Вино Golden Kaan Chardonnay белое полусухое 0,...  809.94    4.50   \n",
              "1  Вино Golden Kaan Cabernet Sauvignon красное по...  699.99    3.96   \n",
              "2  Вино Golden Kaan Pinotage красное полусухое 0,...  699.99    4.27   \n",
              "3   Вино Golden Kaan Shiraz красное полусухое 0,75 л  699.99    4.06   \n",
              "4  Вино Golden Kaan Sauvignon Blanc белое полусух...  699.99    4.51   \n",
              "\n",
              "   num_reviews                                          image_url  \\\n",
              "0            4  https://jmrkpxyvei.a.trbcdn.net/medias/1026334...   \n",
              "1            8  https://jmrkpxyvei.a.trbcdn.net/medias/1026331...   \n",
              "2           11  https://jmrkpxyvei.a.trbcdn.net/medias/1026330...   \n",
              "3           12  https://jmrkpxyvei.a.trbcdn.net/medias/1026332...   \n",
              "4           28  https://jmrkpxyvei.a.trbcdn.net/medias/1026333...   \n",
              "\n",
              "                                    full_product_url alcohol_content  \\\n",
              "0  https://www.winelab.ru/catalog/vino/ct_ZA /pro...           12.5%   \n",
              "1  https://www.winelab.ru/catalog/vino/ct_ZA /pro...           13.5%   \n",
              "2  https://www.winelab.ru/catalog/vino/ct_ZA /pro...           13.0%   \n",
              "3  https://www.winelab.ru/catalog/vino/ct_ZA /pro...           14.0%   \n",
              "4  https://www.winelab.ru/catalog/vino/ct_ZA /pro...           13.0%   \n",
              "\n",
              "         brand             сорт   объем     цвет      сахар  \n",
              "0  Golden Kaan       Chardonnay  0,75 л    белое  полусухое  \n",
              "1  Golden Kaan         Cabernet  0,75 л  красное  полусухое  \n",
              "2  Golden Kaan         Pinotage  0,75 л  красное  полусухое  \n",
              "3  Golden Kaan           Shiraz  0,75 л  красное  полусухое  \n",
              "4  Golden Kaan  Sauvignon Blanc  0,75 л    белое  полусухое  "
            ],
            "text/html": [
              "\n",
              "  <div id=\"df-c746bfa5-464b-4ebe-80bd-8740b3fe9e13\" class=\"colab-df-container\">\n",
              "    <div>\n",
              "<style scoped>\n",
              "    .dataframe tbody tr th:only-of-type {\n",
              "        vertical-align: middle;\n",
              "    }\n",
              "\n",
              "    .dataframe tbody tr th {\n",
              "        vertical-align: top;\n",
              "    }\n",
              "\n",
              "    .dataframe thead th {\n",
              "        text-align: right;\n",
              "    }\n",
              "</style>\n",
              "<table border=\"1\" class=\"dataframe\">\n",
              "  <thead>\n",
              "    <tr style=\"text-align: right;\">\n",
              "      <th></th>\n",
              "      <th>name</th>\n",
              "      <th>price</th>\n",
              "      <th>rating</th>\n",
              "      <th>num_reviews</th>\n",
              "      <th>image_url</th>\n",
              "      <th>full_product_url</th>\n",
              "      <th>alcohol_content</th>\n",
              "      <th>brand</th>\n",
              "      <th>сорт</th>\n",
              "      <th>объем</th>\n",
              "      <th>цвет</th>\n",
              "      <th>сахар</th>\n",
              "    </tr>\n",
              "  </thead>\n",
              "  <tbody>\n",
              "    <tr>\n",
              "      <th>0</th>\n",
              "      <td>Вино Golden Kaan Chardonnay белое полусухое 0,...</td>\n",
              "      <td>809.94</td>\n",
              "      <td>4.50</td>\n",
              "      <td>4</td>\n",
              "      <td>https://jmrkpxyvei.a.trbcdn.net/medias/1026334...</td>\n",
              "      <td>https://www.winelab.ru/catalog/vino/ct_ZA /pro...</td>\n",
              "      <td>12.5%</td>\n",
              "      <td>Golden Kaan</td>\n",
              "      <td>Chardonnay</td>\n",
              "      <td>0,75 л</td>\n",
              "      <td>белое</td>\n",
              "      <td>полусухое</td>\n",
              "    </tr>\n",
              "    <tr>\n",
              "      <th>1</th>\n",
              "      <td>Вино Golden Kaan Cabernet Sauvignon красное по...</td>\n",
              "      <td>699.99</td>\n",
              "      <td>3.96</td>\n",
              "      <td>8</td>\n",
              "      <td>https://jmrkpxyvei.a.trbcdn.net/medias/1026331...</td>\n",
              "      <td>https://www.winelab.ru/catalog/vino/ct_ZA /pro...</td>\n",
              "      <td>13.5%</td>\n",
              "      <td>Golden Kaan</td>\n",
              "      <td>Cabernet</td>\n",
              "      <td>0,75 л</td>\n",
              "      <td>красное</td>\n",
              "      <td>полусухое</td>\n",
              "    </tr>\n",
              "    <tr>\n",
              "      <th>2</th>\n",
              "      <td>Вино Golden Kaan Pinotage красное полусухое 0,...</td>\n",
              "      <td>699.99</td>\n",
              "      <td>4.27</td>\n",
              "      <td>11</td>\n",
              "      <td>https://jmrkpxyvei.a.trbcdn.net/medias/1026330...</td>\n",
              "      <td>https://www.winelab.ru/catalog/vino/ct_ZA /pro...</td>\n",
              "      <td>13.0%</td>\n",
              "      <td>Golden Kaan</td>\n",
              "      <td>Pinotage</td>\n",
              "      <td>0,75 л</td>\n",
              "      <td>красное</td>\n",
              "      <td>полусухое</td>\n",
              "    </tr>\n",
              "    <tr>\n",
              "      <th>3</th>\n",
              "      <td>Вино Golden Kaan Shiraz красное полусухое 0,75 л</td>\n",
              "      <td>699.99</td>\n",
              "      <td>4.06</td>\n",
              "      <td>12</td>\n",
              "      <td>https://jmrkpxyvei.a.trbcdn.net/medias/1026332...</td>\n",
              "      <td>https://www.winelab.ru/catalog/vino/ct_ZA /pro...</td>\n",
              "      <td>14.0%</td>\n",
              "      <td>Golden Kaan</td>\n",
              "      <td>Shiraz</td>\n",
              "      <td>0,75 л</td>\n",
              "      <td>красное</td>\n",
              "      <td>полусухое</td>\n",
              "    </tr>\n",
              "    <tr>\n",
              "      <th>4</th>\n",
              "      <td>Вино Golden Kaan Sauvignon Blanc белое полусух...</td>\n",
              "      <td>699.99</td>\n",
              "      <td>4.51</td>\n",
              "      <td>28</td>\n",
              "      <td>https://jmrkpxyvei.a.trbcdn.net/medias/1026333...</td>\n",
              "      <td>https://www.winelab.ru/catalog/vino/ct_ZA /pro...</td>\n",
              "      <td>13.0%</td>\n",
              "      <td>Golden Kaan</td>\n",
              "      <td>Sauvignon Blanc</td>\n",
              "      <td>0,75 л</td>\n",
              "      <td>белое</td>\n",
              "      <td>полусухое</td>\n",
              "    </tr>\n",
              "  </tbody>\n",
              "</table>\n",
              "</div>\n",
              "    <div class=\"colab-df-buttons\">\n",
              "\n",
              "  <div class=\"colab-df-container\">\n",
              "    <button class=\"colab-df-convert\" onclick=\"convertToInteractive('df-c746bfa5-464b-4ebe-80bd-8740b3fe9e13')\"\n",
              "            title=\"Convert this dataframe to an interactive table.\"\n",
              "            style=\"display:none;\">\n",
              "\n",
              "  <svg xmlns=\"http://www.w3.org/2000/svg\" height=\"24px\" viewBox=\"0 -960 960 960\">\n",
              "    <path d=\"M120-120v-720h720v720H120Zm60-500h600v-160H180v160Zm220 220h160v-160H400v160Zm0 220h160v-160H400v160ZM180-400h160v-160H180v160Zm440 0h160v-160H620v160ZM180-180h160v-160H180v160Zm440 0h160v-160H620v160Z\"/>\n",
              "  </svg>\n",
              "    </button>\n",
              "\n",
              "  <style>\n",
              "    .colab-df-container {\n",
              "      display:flex;\n",
              "      gap: 12px;\n",
              "    }\n",
              "\n",
              "    .colab-df-convert {\n",
              "      background-color: #E8F0FE;\n",
              "      border: none;\n",
              "      border-radius: 50%;\n",
              "      cursor: pointer;\n",
              "      display: none;\n",
              "      fill: #1967D2;\n",
              "      height: 32px;\n",
              "      padding: 0 0 0 0;\n",
              "      width: 32px;\n",
              "    }\n",
              "\n",
              "    .colab-df-convert:hover {\n",
              "      background-color: #E2EBFA;\n",
              "      box-shadow: 0px 1px 2px rgba(60, 64, 67, 0.3), 0px 1px 3px 1px rgba(60, 64, 67, 0.15);\n",
              "      fill: #174EA6;\n",
              "    }\n",
              "\n",
              "    .colab-df-buttons div {\n",
              "      margin-bottom: 4px;\n",
              "    }\n",
              "\n",
              "    [theme=dark] .colab-df-convert {\n",
              "      background-color: #3B4455;\n",
              "      fill: #D2E3FC;\n",
              "    }\n",
              "\n",
              "    [theme=dark] .colab-df-convert:hover {\n",
              "      background-color: #434B5C;\n",
              "      box-shadow: 0px 1px 3px 1px rgba(0, 0, 0, 0.15);\n",
              "      filter: drop-shadow(0px 1px 2px rgba(0, 0, 0, 0.3));\n",
              "      fill: #FFFFFF;\n",
              "    }\n",
              "  </style>\n",
              "\n",
              "    <script>\n",
              "      const buttonEl =\n",
              "        document.querySelector('#df-c746bfa5-464b-4ebe-80bd-8740b3fe9e13 button.colab-df-convert');\n",
              "      buttonEl.style.display =\n",
              "        google.colab.kernel.accessAllowed ? 'block' : 'none';\n",
              "\n",
              "      async function convertToInteractive(key) {\n",
              "        const element = document.querySelector('#df-c746bfa5-464b-4ebe-80bd-8740b3fe9e13');\n",
              "        const dataTable =\n",
              "          await google.colab.kernel.invokeFunction('convertToInteractive',\n",
              "                                                    [key], {});\n",
              "        if (!dataTable) return;\n",
              "\n",
              "        const docLinkHtml = 'Like what you see? Visit the ' +\n",
              "          '<a target=\"_blank\" href=https://colab.research.google.com/notebooks/data_table.ipynb>data table notebook</a>'\n",
              "          + ' to learn more about interactive tables.';\n",
              "        element.innerHTML = '';\n",
              "        dataTable['output_type'] = 'display_data';\n",
              "        await google.colab.output.renderOutput(dataTable, element);\n",
              "        const docLink = document.createElement('div');\n",
              "        docLink.innerHTML = docLinkHtml;\n",
              "        element.appendChild(docLink);\n",
              "      }\n",
              "    </script>\n",
              "  </div>\n",
              "\n",
              "\n",
              "<div id=\"df-ef5d1768-09d2-4c60-bf3d-2f3ab96f9e7f\">\n",
              "  <button class=\"colab-df-quickchart\" onclick=\"quickchart('df-ef5d1768-09d2-4c60-bf3d-2f3ab96f9e7f')\"\n",
              "            title=\"Suggest charts\"\n",
              "            style=\"display:none;\">\n",
              "\n",
              "<svg xmlns=\"http://www.w3.org/2000/svg\" height=\"24px\"viewBox=\"0 0 24 24\"\n",
              "     width=\"24px\">\n",
              "    <g>\n",
              "        <path d=\"M19 3H5c-1.1 0-2 .9-2 2v14c0 1.1.9 2 2 2h14c1.1 0 2-.9 2-2V5c0-1.1-.9-2-2-2zM9 17H7v-7h2v7zm4 0h-2V7h2v10zm4 0h-2v-4h2v4z\"/>\n",
              "    </g>\n",
              "</svg>\n",
              "  </button>\n",
              "\n",
              "<style>\n",
              "  .colab-df-quickchart {\n",
              "      --bg-color: #E8F0FE;\n",
              "      --fill-color: #1967D2;\n",
              "      --hover-bg-color: #E2EBFA;\n",
              "      --hover-fill-color: #174EA6;\n",
              "      --disabled-fill-color: #AAA;\n",
              "      --disabled-bg-color: #DDD;\n",
              "  }\n",
              "\n",
              "  [theme=dark] .colab-df-quickchart {\n",
              "      --bg-color: #3B4455;\n",
              "      --fill-color: #D2E3FC;\n",
              "      --hover-bg-color: #434B5C;\n",
              "      --hover-fill-color: #FFFFFF;\n",
              "      --disabled-bg-color: #3B4455;\n",
              "      --disabled-fill-color: #666;\n",
              "  }\n",
              "\n",
              "  .colab-df-quickchart {\n",
              "    background-color: var(--bg-color);\n",
              "    border: none;\n",
              "    border-radius: 50%;\n",
              "    cursor: pointer;\n",
              "    display: none;\n",
              "    fill: var(--fill-color);\n",
              "    height: 32px;\n",
              "    padding: 0;\n",
              "    width: 32px;\n",
              "  }\n",
              "\n",
              "  .colab-df-quickchart:hover {\n",
              "    background-color: var(--hover-bg-color);\n",
              "    box-shadow: 0 1px 2px rgba(60, 64, 67, 0.3), 0 1px 3px 1px rgba(60, 64, 67, 0.15);\n",
              "    fill: var(--button-hover-fill-color);\n",
              "  }\n",
              "\n",
              "  .colab-df-quickchart-complete:disabled,\n",
              "  .colab-df-quickchart-complete:disabled:hover {\n",
              "    background-color: var(--disabled-bg-color);\n",
              "    fill: var(--disabled-fill-color);\n",
              "    box-shadow: none;\n",
              "  }\n",
              "\n",
              "  .colab-df-spinner {\n",
              "    border: 2px solid var(--fill-color);\n",
              "    border-color: transparent;\n",
              "    border-bottom-color: var(--fill-color);\n",
              "    animation:\n",
              "      spin 1s steps(1) infinite;\n",
              "  }\n",
              "\n",
              "  @keyframes spin {\n",
              "    0% {\n",
              "      border-color: transparent;\n",
              "      border-bottom-color: var(--fill-color);\n",
              "      border-left-color: var(--fill-color);\n",
              "    }\n",
              "    20% {\n",
              "      border-color: transparent;\n",
              "      border-left-color: var(--fill-color);\n",
              "      border-top-color: var(--fill-color);\n",
              "    }\n",
              "    30% {\n",
              "      border-color: transparent;\n",
              "      border-left-color: var(--fill-color);\n",
              "      border-top-color: var(--fill-color);\n",
              "      border-right-color: var(--fill-color);\n",
              "    }\n",
              "    40% {\n",
              "      border-color: transparent;\n",
              "      border-right-color: var(--fill-color);\n",
              "      border-top-color: var(--fill-color);\n",
              "    }\n",
              "    60% {\n",
              "      border-color: transparent;\n",
              "      border-right-color: var(--fill-color);\n",
              "    }\n",
              "    80% {\n",
              "      border-color: transparent;\n",
              "      border-right-color: var(--fill-color);\n",
              "      border-bottom-color: var(--fill-color);\n",
              "    }\n",
              "    90% {\n",
              "      border-color: transparent;\n",
              "      border-bottom-color: var(--fill-color);\n",
              "    }\n",
              "  }\n",
              "</style>\n",
              "\n",
              "  <script>\n",
              "    async function quickchart(key) {\n",
              "      const quickchartButtonEl =\n",
              "        document.querySelector('#' + key + ' button');\n",
              "      quickchartButtonEl.disabled = true;  // To prevent multiple clicks.\n",
              "      quickchartButtonEl.classList.add('colab-df-spinner');\n",
              "      try {\n",
              "        const charts = await google.colab.kernel.invokeFunction(\n",
              "            'suggestCharts', [key], {});\n",
              "      } catch (error) {\n",
              "        console.error('Error during call to suggestCharts:', error);\n",
              "      }\n",
              "      quickchartButtonEl.classList.remove('colab-df-spinner');\n",
              "      quickchartButtonEl.classList.add('colab-df-quickchart-complete');\n",
              "    }\n",
              "    (() => {\n",
              "      let quickchartButtonEl =\n",
              "        document.querySelector('#df-ef5d1768-09d2-4c60-bf3d-2f3ab96f9e7f button');\n",
              "      quickchartButtonEl.style.display =\n",
              "        google.colab.kernel.accessAllowed ? 'block' : 'none';\n",
              "    })();\n",
              "  </script>\n",
              "</div>\n",
              "    </div>\n",
              "  </div>\n"
            ]
          },
          "metadata": {},
          "execution_count": 14
        }
      ]
    },
    {
      "cell_type": "code",
      "source": [
        "data_WineLab['rating'] = data_WineLab['rating'].fillna(0)\n",
        "data_WineLab['num_reviews'] = data_WineLab['num_reviews'].fillna(0)\n",
        "data_WineLab['alcohol_content'] = data_WineLab['alcohol_content'].str.extract(r'(\\d+\\.\\d+|\\d+)')\n",
        "data_WineLab = data_WineLab.applymap(lambda x: x.lower() if isinstance(x, str) else x)\n",
        "data_WineLab['Segment'] = 'middle'"
      ],
      "metadata": {
        "id": "advDQQj-ZnwC"
      },
      "execution_count": 72,
      "outputs": []
    },
    {
      "cell_type": "code",
      "source": [
        "data_WineLab['объем'] = data_WineLab['объем'].str.extract(r'(\\d+,\\d+)')\n",
        "data_WineLab['объем'] = data_WineLab['объем'].str.replace(',', '.').astype(float)"
      ],
      "metadata": {
        "id": "NmSspXcOTvfl"
      },
      "execution_count": 73,
      "outputs": []
    },
    {
      "cell_type": "code",
      "source": [
        "brand_keywords = {\n",
        "    'kwv': ['kwv'],\n",
        "    'neethlingshof': ['neethlingshof'],\n",
        "    'te toa': ['te toa'],\n",
        "    'hill&dale': ['hill&dale'],\n",
        "    'greenlife': ['greenlife'],\n",
        "}\n",
        "\n",
        "def extract_brand(name):\n",
        "    for brand, keywords in brand_keywords.items():\n",
        "        if any(keyword in name.lower() for keyword in keywords):\n",
        "            return brand\n",
        "    return None\n",
        "\n",
        "data_WineLab['brand'] = data_WineLab.apply(lambda row: row['brand'] if pd.notnull(row['brand']) else extract_brand(row['name']), axis=1)"
      ],
      "metadata": {
        "id": "RCrdkvRtzXPI"
      },
      "execution_count": 74,
      "outputs": []
    },
    {
      "cell_type": "code",
      "source": [
        "data_WineLab = data_WineLab.dropna(subset=['brand']).reset_index(drop=True)"
      ],
      "metadata": {
        "id": "Hoktp-iO59Ro"
      },
      "execution_count": 75,
      "outputs": []
    },
    {
      "cell_type": "code",
      "source": [
        "data_WineLab.loc[28, 'сорт'] = 'sauvignon blanc'\n",
        "data_WineLab.loc[29, 'сорт'] = 'shiraz'\n",
        "data_WineLab.loc[30, 'сорт'] = 'sauvignon blanc'\n",
        "data_WineLab.loc[31, 'сорт'] = 'merlot'"
      ],
      "metadata": {
        "id": "kwaOBpVR7IN6"
      },
      "execution_count": 76,
      "outputs": []
    },
    {
      "cell_type": "code",
      "source": [],
      "metadata": {
        "id": "07K7QZCbPdgs"
      },
      "execution_count": null,
      "outputs": []
    },
    {
      "cell_type": "code",
      "source": [],
      "metadata": {
        "id": "He8lYA10PdoC"
      },
      "execution_count": null,
      "outputs": []
    },
    {
      "cell_type": "code",
      "source": [],
      "metadata": {
        "id": "R4XGS29XPdz-"
      },
      "execution_count": null,
      "outputs": []
    },
    {
      "cell_type": "code",
      "source": [
        "import matplotlib.pyplot as plt\n",
        "from IPython.display import display, HTML\n",
        "\n",
        "fig, axes = plt.subplots(nrows=len(data_SimpleWine), ncols=2, figsize=(15, 3 * len(data_SimpleWine)))\n",
        "\n",
        "image_count = 0  # Initialize the counter\n",
        "\n",
        "for i, (_, row) in enumerate(data_SimpleWine.iterrows()):\n",
        "    if row['Local_Image_Path'] is not None:\n",
        "        img_path = row['Local_Image_Path']\n",
        "        img = plt.imread(img_path)\n",
        "        axes[i, 1].imshow(img)\n",
        "        axes[i, 1].axis('off')\n",
        "        image_count += 1  # Increment the counter for each displayed image\n",
        "\n",
        "# Hide the axes for the 'Brand' column\n",
        "for ax in axes[:, 0]:\n",
        "    ax.axis('off')\n",
        "\n",
        "# Adjust spacing between subplots\n",
        "plt.subplots_adjust(wspace=0.2)\n",
        "\n",
        "plt.show()"
      ],
      "metadata": {
        "id": "4QoWEkv4Zn5S",
        "colab": {
          "base_uri": "https://localhost:8080/",
          "height": 1000
        },
        "outputId": "e7abd286-d88a-4fb1-92ed-55c1ebf83fe7"
      },
      "execution_count": null,
      "outputs": [
        {
          "output_type": "error",
          "ename": "KeyboardInterrupt",
          "evalue": "",
          "traceback": [
            "\u001b[0;31m---------------------------------------------------------------------------\u001b[0m",
            "\u001b[0;31mKeyboardInterrupt\u001b[0m                         Traceback (most recent call last)",
            "\u001b[0;32m<ipython-input-105-5667fddd0f0f>\u001b[0m in \u001b[0;36m<cell line: 4>\u001b[0;34m()\u001b[0m\n\u001b[1;32m      2\u001b[0m \u001b[0;32mfrom\u001b[0m \u001b[0mIPython\u001b[0m\u001b[0;34m.\u001b[0m\u001b[0mdisplay\u001b[0m \u001b[0;32mimport\u001b[0m \u001b[0mdisplay\u001b[0m\u001b[0;34m,\u001b[0m \u001b[0mHTML\u001b[0m\u001b[0;34m\u001b[0m\u001b[0;34m\u001b[0m\u001b[0m\n\u001b[1;32m      3\u001b[0m \u001b[0;34m\u001b[0m\u001b[0m\n\u001b[0;32m----> 4\u001b[0;31m \u001b[0mfig\u001b[0m\u001b[0;34m,\u001b[0m \u001b[0maxes\u001b[0m \u001b[0;34m=\u001b[0m \u001b[0mplt\u001b[0m\u001b[0;34m.\u001b[0m\u001b[0msubplots\u001b[0m\u001b[0;34m(\u001b[0m\u001b[0mnrows\u001b[0m\u001b[0;34m=\u001b[0m\u001b[0mlen\u001b[0m\u001b[0;34m(\u001b[0m\u001b[0mdata_SimpleWine\u001b[0m\u001b[0;34m)\u001b[0m\u001b[0;34m,\u001b[0m \u001b[0mncols\u001b[0m\u001b[0;34m=\u001b[0m\u001b[0;36m2\u001b[0m\u001b[0;34m,\u001b[0m \u001b[0mfigsize\u001b[0m\u001b[0;34m=\u001b[0m\u001b[0;34m(\u001b[0m\u001b[0;36m15\u001b[0m\u001b[0;34m,\u001b[0m \u001b[0;36m3\u001b[0m \u001b[0;34m*\u001b[0m \u001b[0mlen\u001b[0m\u001b[0;34m(\u001b[0m\u001b[0mdata_SimpleWine\u001b[0m\u001b[0;34m)\u001b[0m\u001b[0;34m)\u001b[0m\u001b[0;34m)\u001b[0m\u001b[0;34m\u001b[0m\u001b[0;34m\u001b[0m\u001b[0m\n\u001b[0m\u001b[1;32m      5\u001b[0m \u001b[0;34m\u001b[0m\u001b[0m\n\u001b[1;32m      6\u001b[0m \u001b[0mimage_count\u001b[0m \u001b[0;34m=\u001b[0m \u001b[0;36m0\u001b[0m  \u001b[0;31m# Initialize the counter\u001b[0m\u001b[0;34m\u001b[0m\u001b[0;34m\u001b[0m\u001b[0m\n",
            "\u001b[0;32m/usr/local/lib/python3.10/dist-packages/matplotlib/pyplot.py\u001b[0m in \u001b[0;36msubplots\u001b[0;34m(nrows, ncols, sharex, sharey, squeeze, width_ratios, height_ratios, subplot_kw, gridspec_kw, **fig_kw)\u001b[0m\n\u001b[1;32m   1500\u001b[0m     \"\"\"\n\u001b[1;32m   1501\u001b[0m     \u001b[0mfig\u001b[0m \u001b[0;34m=\u001b[0m \u001b[0mfigure\u001b[0m\u001b[0;34m(\u001b[0m\u001b[0;34m**\u001b[0m\u001b[0mfig_kw\u001b[0m\u001b[0;34m)\u001b[0m\u001b[0;34m\u001b[0m\u001b[0;34m\u001b[0m\u001b[0m\n\u001b[0;32m-> 1502\u001b[0;31m     axs = fig.subplots(nrows=nrows, ncols=ncols, sharex=sharex, sharey=sharey,\n\u001b[0m\u001b[1;32m   1503\u001b[0m                        \u001b[0msqueeze\u001b[0m\u001b[0;34m=\u001b[0m\u001b[0msqueeze\u001b[0m\u001b[0;34m,\u001b[0m \u001b[0msubplot_kw\u001b[0m\u001b[0;34m=\u001b[0m\u001b[0msubplot_kw\u001b[0m\u001b[0;34m,\u001b[0m\u001b[0;34m\u001b[0m\u001b[0;34m\u001b[0m\u001b[0m\n\u001b[1;32m   1504\u001b[0m                        \u001b[0mgridspec_kw\u001b[0m\u001b[0;34m=\u001b[0m\u001b[0mgridspec_kw\u001b[0m\u001b[0;34m,\u001b[0m \u001b[0mheight_ratios\u001b[0m\u001b[0;34m=\u001b[0m\u001b[0mheight_ratios\u001b[0m\u001b[0;34m,\u001b[0m\u001b[0;34m\u001b[0m\u001b[0;34m\u001b[0m\u001b[0m\n",
            "\u001b[0;32m/usr/local/lib/python3.10/dist-packages/matplotlib/figure.py\u001b[0m in \u001b[0;36msubplots\u001b[0;34m(self, nrows, ncols, sharex, sharey, squeeze, width_ratios, height_ratios, subplot_kw, gridspec_kw)\u001b[0m\n\u001b[1;32m    904\u001b[0m \u001b[0;34m\u001b[0m\u001b[0m\n\u001b[1;32m    905\u001b[0m         \u001b[0mgs\u001b[0m \u001b[0;34m=\u001b[0m \u001b[0mself\u001b[0m\u001b[0;34m.\u001b[0m\u001b[0madd_gridspec\u001b[0m\u001b[0;34m(\u001b[0m\u001b[0mnrows\u001b[0m\u001b[0;34m,\u001b[0m \u001b[0mncols\u001b[0m\u001b[0;34m,\u001b[0m \u001b[0mfigure\u001b[0m\u001b[0;34m=\u001b[0m\u001b[0mself\u001b[0m\u001b[0;34m,\u001b[0m \u001b[0;34m**\u001b[0m\u001b[0mgridspec_kw\u001b[0m\u001b[0;34m)\u001b[0m\u001b[0;34m\u001b[0m\u001b[0;34m\u001b[0m\u001b[0m\n\u001b[0;32m--> 906\u001b[0;31m         axs = gs.subplots(sharex=sharex, sharey=sharey, squeeze=squeeze,\n\u001b[0m\u001b[1;32m    907\u001b[0m                           subplot_kw=subplot_kw)\n\u001b[1;32m    908\u001b[0m         \u001b[0;32mreturn\u001b[0m \u001b[0maxs\u001b[0m\u001b[0;34m\u001b[0m\u001b[0;34m\u001b[0m\u001b[0m\n",
            "\u001b[0;32m/usr/local/lib/python3.10/dist-packages/matplotlib/gridspec.py\u001b[0m in \u001b[0;36msubplots\u001b[0;34m(self, sharex, sharey, squeeze, subplot_kw)\u001b[0m\n\u001b[1;32m    297\u001b[0m                 \u001b[0msubplot_kw\u001b[0m\u001b[0;34m[\u001b[0m\u001b[0;34m\"sharex\"\u001b[0m\u001b[0;34m]\u001b[0m \u001b[0;34m=\u001b[0m \u001b[0mshared_with\u001b[0m\u001b[0;34m[\u001b[0m\u001b[0msharex\u001b[0m\u001b[0;34m]\u001b[0m\u001b[0;34m\u001b[0m\u001b[0;34m\u001b[0m\u001b[0m\n\u001b[1;32m    298\u001b[0m                 \u001b[0msubplot_kw\u001b[0m\u001b[0;34m[\u001b[0m\u001b[0;34m\"sharey\"\u001b[0m\u001b[0;34m]\u001b[0m \u001b[0;34m=\u001b[0m \u001b[0mshared_with\u001b[0m\u001b[0;34m[\u001b[0m\u001b[0msharey\u001b[0m\u001b[0;34m]\u001b[0m\u001b[0;34m\u001b[0m\u001b[0;34m\u001b[0m\u001b[0m\n\u001b[0;32m--> 299\u001b[0;31m                 axarr[row, col] = figure.add_subplot(\n\u001b[0m\u001b[1;32m    300\u001b[0m                     self[row, col], **subplot_kw)\n\u001b[1;32m    301\u001b[0m \u001b[0;34m\u001b[0m\u001b[0m\n",
            "\u001b[0;32m/usr/local/lib/python3.10/dist-packages/matplotlib/figure.py\u001b[0m in \u001b[0;36madd_subplot\u001b[0;34m(self, *args, **kwargs)\u001b[0m\n\u001b[1;32m    755\u001b[0m             projection_class, pkw = self._process_projection_requirements(\n\u001b[1;32m    756\u001b[0m                 *args, **kwargs)\n\u001b[0;32m--> 757\u001b[0;31m             \u001b[0max\u001b[0m \u001b[0;34m=\u001b[0m \u001b[0mprojection_class\u001b[0m\u001b[0;34m(\u001b[0m\u001b[0mself\u001b[0m\u001b[0;34m,\u001b[0m \u001b[0;34m*\u001b[0m\u001b[0margs\u001b[0m\u001b[0;34m,\u001b[0m \u001b[0;34m**\u001b[0m\u001b[0mpkw\u001b[0m\u001b[0;34m)\u001b[0m\u001b[0;34m\u001b[0m\u001b[0;34m\u001b[0m\u001b[0m\n\u001b[0m\u001b[1;32m    758\u001b[0m             \u001b[0mkey\u001b[0m \u001b[0;34m=\u001b[0m \u001b[0;34m(\u001b[0m\u001b[0mprojection_class\u001b[0m\u001b[0;34m,\u001b[0m \u001b[0mpkw\u001b[0m\u001b[0;34m)\u001b[0m\u001b[0;34m\u001b[0m\u001b[0;34m\u001b[0m\u001b[0m\n\u001b[1;32m    759\u001b[0m         \u001b[0;32mreturn\u001b[0m \u001b[0mself\u001b[0m\u001b[0;34m.\u001b[0m\u001b[0m_add_axes_internal\u001b[0m\u001b[0;34m(\u001b[0m\u001b[0max\u001b[0m\u001b[0;34m,\u001b[0m \u001b[0mkey\u001b[0m\u001b[0;34m)\u001b[0m\u001b[0;34m\u001b[0m\u001b[0;34m\u001b[0m\u001b[0m\n",
            "\u001b[0;32m/usr/local/lib/python3.10/dist-packages/matplotlib/axes/_base.py\u001b[0m in \u001b[0;36m__init__\u001b[0;34m(self, fig, facecolor, frameon, sharex, sharey, label, xscale, yscale, box_aspect, *args, **kwargs)\u001b[0m\n\u001b[1;32m    681\u001b[0m \u001b[0;34m\u001b[0m\u001b[0m\n\u001b[1;32m    682\u001b[0m         \u001b[0mself\u001b[0m\u001b[0;34m.\u001b[0m\u001b[0m_rasterization_zorder\u001b[0m \u001b[0;34m=\u001b[0m \u001b[0;32mNone\u001b[0m\u001b[0;34m\u001b[0m\u001b[0;34m\u001b[0m\u001b[0m\n\u001b[0;32m--> 683\u001b[0;31m         \u001b[0mself\u001b[0m\u001b[0;34m.\u001b[0m\u001b[0mclear\u001b[0m\u001b[0;34m(\u001b[0m\u001b[0;34m)\u001b[0m\u001b[0;34m\u001b[0m\u001b[0;34m\u001b[0m\u001b[0m\n\u001b[0m\u001b[1;32m    684\u001b[0m \u001b[0;34m\u001b[0m\u001b[0m\n\u001b[1;32m    685\u001b[0m         \u001b[0;31m# funcs used to format x and y - fall back on major formatters\u001b[0m\u001b[0;34m\u001b[0m\u001b[0;34m\u001b[0m\u001b[0m\n",
            "\u001b[0;32m/usr/local/lib/python3.10/dist-packages/matplotlib/axes/_base.py\u001b[0m in \u001b[0;36mclear\u001b[0;34m(self)\u001b[0m\n\u001b[1;32m   1393\u001b[0m             \u001b[0mself\u001b[0m\u001b[0;34m.\u001b[0m\u001b[0mcla\u001b[0m\u001b[0;34m(\u001b[0m\u001b[0;34m)\u001b[0m\u001b[0;34m\u001b[0m\u001b[0;34m\u001b[0m\u001b[0m\n\u001b[1;32m   1394\u001b[0m         \u001b[0;32melse\u001b[0m\u001b[0;34m:\u001b[0m\u001b[0;34m\u001b[0m\u001b[0;34m\u001b[0m\u001b[0m\n\u001b[0;32m-> 1395\u001b[0;31m             \u001b[0mself\u001b[0m\u001b[0;34m.\u001b[0m\u001b[0m__clear\u001b[0m\u001b[0;34m(\u001b[0m\u001b[0;34m)\u001b[0m\u001b[0;34m\u001b[0m\u001b[0;34m\u001b[0m\u001b[0m\n\u001b[0m\u001b[1;32m   1396\u001b[0m \u001b[0;34m\u001b[0m\u001b[0m\n\u001b[1;32m   1397\u001b[0m     \u001b[0;32mdef\u001b[0m \u001b[0mcla\u001b[0m\u001b[0;34m(\u001b[0m\u001b[0mself\u001b[0m\u001b[0;34m)\u001b[0m\u001b[0;34m:\u001b[0m\u001b[0;34m\u001b[0m\u001b[0;34m\u001b[0m\u001b[0m\n",
            "\u001b[0;32m/usr/local/lib/python3.10/dist-packages/matplotlib/axes/_base.py\u001b[0m in \u001b[0;36m__clear\u001b[0;34m(self)\u001b[0m\n\u001b[1;32m   1361\u001b[0m         \u001b[0mself\u001b[0m\u001b[0;34m.\u001b[0m\u001b[0mset_axis_on\u001b[0m\u001b[0;34m(\u001b[0m\u001b[0;34m)\u001b[0m\u001b[0;34m\u001b[0m\u001b[0;34m\u001b[0m\u001b[0m\n\u001b[1;32m   1362\u001b[0m \u001b[0;34m\u001b[0m\u001b[0m\n\u001b[0;32m-> 1363\u001b[0;31m         \u001b[0mself\u001b[0m\u001b[0;34m.\u001b[0m\u001b[0mxaxis\u001b[0m\u001b[0;34m.\u001b[0m\u001b[0mset_clip_path\u001b[0m\u001b[0;34m(\u001b[0m\u001b[0mself\u001b[0m\u001b[0;34m.\u001b[0m\u001b[0mpatch\u001b[0m\u001b[0;34m)\u001b[0m\u001b[0;34m\u001b[0m\u001b[0;34m\u001b[0m\u001b[0m\n\u001b[0m\u001b[1;32m   1364\u001b[0m         \u001b[0mself\u001b[0m\u001b[0;34m.\u001b[0m\u001b[0myaxis\u001b[0m\u001b[0;34m.\u001b[0m\u001b[0mset_clip_path\u001b[0m\u001b[0;34m(\u001b[0m\u001b[0mself\u001b[0m\u001b[0;34m.\u001b[0m\u001b[0mpatch\u001b[0m\u001b[0;34m)\u001b[0m\u001b[0;34m\u001b[0m\u001b[0;34m\u001b[0m\u001b[0m\n\u001b[1;32m   1365\u001b[0m \u001b[0;34m\u001b[0m\u001b[0m\n",
            "\u001b[0;32m/usr/local/lib/python3.10/dist-packages/matplotlib/axis.py\u001b[0m in \u001b[0;36mset_clip_path\u001b[0;34m(self, clippath, transform)\u001b[0m\n\u001b[1;32m   1083\u001b[0m         \u001b[0msuper\u001b[0m\u001b[0;34m(\u001b[0m\u001b[0;34m)\u001b[0m\u001b[0;34m.\u001b[0m\u001b[0mset_clip_path\u001b[0m\u001b[0;34m(\u001b[0m\u001b[0mclippath\u001b[0m\u001b[0;34m,\u001b[0m \u001b[0mtransform\u001b[0m\u001b[0;34m)\u001b[0m\u001b[0;34m\u001b[0m\u001b[0;34m\u001b[0m\u001b[0m\n\u001b[1;32m   1084\u001b[0m         \u001b[0;32mfor\u001b[0m \u001b[0mchild\u001b[0m \u001b[0;32min\u001b[0m \u001b[0mself\u001b[0m\u001b[0;34m.\u001b[0m\u001b[0mmajorTicks\u001b[0m \u001b[0;34m+\u001b[0m \u001b[0mself\u001b[0m\u001b[0;34m.\u001b[0m\u001b[0mminorTicks\u001b[0m\u001b[0;34m:\u001b[0m\u001b[0;34m\u001b[0m\u001b[0;34m\u001b[0m\u001b[0m\n\u001b[0;32m-> 1085\u001b[0;31m             \u001b[0mchild\u001b[0m\u001b[0;34m.\u001b[0m\u001b[0mset_clip_path\u001b[0m\u001b[0;34m(\u001b[0m\u001b[0mclippath\u001b[0m\u001b[0;34m,\u001b[0m \u001b[0mtransform\u001b[0m\u001b[0;34m)\u001b[0m\u001b[0;34m\u001b[0m\u001b[0;34m\u001b[0m\u001b[0m\n\u001b[0m\u001b[1;32m   1086\u001b[0m         \u001b[0mself\u001b[0m\u001b[0;34m.\u001b[0m\u001b[0mstale\u001b[0m \u001b[0;34m=\u001b[0m \u001b[0;32mTrue\u001b[0m\u001b[0;34m\u001b[0m\u001b[0;34m\u001b[0m\u001b[0m\n\u001b[1;32m   1087\u001b[0m \u001b[0;34m\u001b[0m\u001b[0m\n",
            "\u001b[0;32m/usr/local/lib/python3.10/dist-packages/matplotlib/axis.py\u001b[0m in \u001b[0;36mset_clip_path\u001b[0;34m(self, clippath, transform)\u001b[0m\n\u001b[1;32m    238\u001b[0m         \u001b[0;31m# docstring inherited\u001b[0m\u001b[0;34m\u001b[0m\u001b[0;34m\u001b[0m\u001b[0m\n\u001b[1;32m    239\u001b[0m         \u001b[0msuper\u001b[0m\u001b[0;34m(\u001b[0m\u001b[0;34m)\u001b[0m\u001b[0;34m.\u001b[0m\u001b[0mset_clip_path\u001b[0m\u001b[0;34m(\u001b[0m\u001b[0mclippath\u001b[0m\u001b[0;34m,\u001b[0m \u001b[0mtransform\u001b[0m\u001b[0;34m)\u001b[0m\u001b[0;34m\u001b[0m\u001b[0;34m\u001b[0m\u001b[0m\n\u001b[0;32m--> 240\u001b[0;31m         \u001b[0mself\u001b[0m\u001b[0;34m.\u001b[0m\u001b[0mgridline\u001b[0m\u001b[0;34m.\u001b[0m\u001b[0mset_clip_path\u001b[0m\u001b[0;34m(\u001b[0m\u001b[0mclippath\u001b[0m\u001b[0;34m,\u001b[0m \u001b[0mtransform\u001b[0m\u001b[0;34m)\u001b[0m\u001b[0;34m\u001b[0m\u001b[0;34m\u001b[0m\u001b[0m\n\u001b[0m\u001b[1;32m    241\u001b[0m         \u001b[0mself\u001b[0m\u001b[0;34m.\u001b[0m\u001b[0mstale\u001b[0m \u001b[0;34m=\u001b[0m \u001b[0;32mTrue\u001b[0m\u001b[0;34m\u001b[0m\u001b[0;34m\u001b[0m\u001b[0m\n\u001b[1;32m    242\u001b[0m \u001b[0;34m\u001b[0m\u001b[0m\n",
            "\u001b[0;32m/usr/local/lib/python3.10/dist-packages/matplotlib/artist.py\u001b[0m in \u001b[0;36mset_clip_path\u001b[0;34m(self, path, transform)\u001b[0m\n\u001b[1;32m    806\u001b[0m         \u001b[0;32mif\u001b[0m \u001b[0mtransform\u001b[0m \u001b[0;32mis\u001b[0m \u001b[0;32mNone\u001b[0m\u001b[0;34m:\u001b[0m\u001b[0;34m\u001b[0m\u001b[0;34m\u001b[0m\u001b[0m\n\u001b[1;32m    807\u001b[0m             \u001b[0;32mif\u001b[0m \u001b[0misinstance\u001b[0m\u001b[0;34m(\u001b[0m\u001b[0mpath\u001b[0m\u001b[0;34m,\u001b[0m \u001b[0mRectangle\u001b[0m\u001b[0;34m)\u001b[0m\u001b[0;34m:\u001b[0m\u001b[0;34m\u001b[0m\u001b[0;34m\u001b[0m\u001b[0m\n\u001b[0;32m--> 808\u001b[0;31m                 self.clipbox = TransformedBbox(Bbox.unit(),\n\u001b[0m\u001b[1;32m    809\u001b[0m                                                path.get_transform())\n\u001b[1;32m    810\u001b[0m                 \u001b[0mself\u001b[0m\u001b[0;34m.\u001b[0m\u001b[0m_clippath\u001b[0m \u001b[0;34m=\u001b[0m \u001b[0;32mNone\u001b[0m\u001b[0;34m\u001b[0m\u001b[0;34m\u001b[0m\u001b[0m\n",
            "\u001b[0;32m/usr/local/lib/python3.10/dist-packages/matplotlib/transforms.py\u001b[0m in \u001b[0;36m__init__\u001b[0;34m(self, bbox, transform, **kwargs)\u001b[0m\n\u001b[1;32m   1102\u001b[0m         \u001b[0mself\u001b[0m\u001b[0;34m.\u001b[0m\u001b[0m_bbox\u001b[0m \u001b[0;34m=\u001b[0m \u001b[0mbbox\u001b[0m\u001b[0;34m\u001b[0m\u001b[0;34m\u001b[0m\u001b[0m\n\u001b[1;32m   1103\u001b[0m         \u001b[0mself\u001b[0m\u001b[0;34m.\u001b[0m\u001b[0m_transform\u001b[0m \u001b[0;34m=\u001b[0m \u001b[0mtransform\u001b[0m\u001b[0;34m\u001b[0m\u001b[0;34m\u001b[0m\u001b[0m\n\u001b[0;32m-> 1104\u001b[0;31m         \u001b[0mself\u001b[0m\u001b[0;34m.\u001b[0m\u001b[0mset_children\u001b[0m\u001b[0;34m(\u001b[0m\u001b[0mbbox\u001b[0m\u001b[0;34m,\u001b[0m \u001b[0mtransform\u001b[0m\u001b[0;34m)\u001b[0m\u001b[0;34m\u001b[0m\u001b[0;34m\u001b[0m\u001b[0m\n\u001b[0m\u001b[1;32m   1105\u001b[0m         \u001b[0mself\u001b[0m\u001b[0;34m.\u001b[0m\u001b[0m_points\u001b[0m \u001b[0;34m=\u001b[0m \u001b[0;32mNone\u001b[0m\u001b[0;34m\u001b[0m\u001b[0;34m\u001b[0m\u001b[0m\n\u001b[1;32m   1106\u001b[0m \u001b[0;34m\u001b[0m\u001b[0m\n",
            "\u001b[0;32m/usr/local/lib/python3.10/dist-packages/matplotlib/transforms.py\u001b[0m in \u001b[0;36mset_children\u001b[0;34m(self, *children)\u001b[0m\n\u001b[1;32m    206\u001b[0m             \u001b[0;31m# alive; the callback deletes the dictionary entry. This is a\u001b[0m\u001b[0;34m\u001b[0m\u001b[0;34m\u001b[0m\u001b[0m\n\u001b[1;32m    207\u001b[0m             \u001b[0;31m# performance improvement over using WeakValueDictionary.\u001b[0m\u001b[0;34m\u001b[0m\u001b[0;34m\u001b[0m\u001b[0m\n\u001b[0;32m--> 208\u001b[0;31m             ref = weakref.ref(\n\u001b[0m\u001b[1;32m    209\u001b[0m                 self, lambda _, pop=child._parents.pop, k=id(self): pop(k))\n\u001b[1;32m    210\u001b[0m             \u001b[0mchild\u001b[0m\u001b[0;34m.\u001b[0m\u001b[0m_parents\u001b[0m\u001b[0;34m[\u001b[0m\u001b[0mid\u001b[0m\u001b[0;34m(\u001b[0m\u001b[0mself\u001b[0m\u001b[0;34m)\u001b[0m\u001b[0;34m]\u001b[0m \u001b[0;34m=\u001b[0m \u001b[0mref\u001b[0m\u001b[0;34m\u001b[0m\u001b[0;34m\u001b[0m\u001b[0m\n",
            "\u001b[0;31mKeyboardInterrupt\u001b[0m: "
          ]
        },
        {
          "output_type": "stream",
          "name": "stdout",
          "text": [
            "Error in callback <function _draw_all_if_interactive at 0x7d4a6d9e2e60> (for post_execute):\n"
          ]
        },
        {
          "output_type": "error",
          "ename": "KeyboardInterrupt",
          "evalue": "",
          "traceback": [
            "\u001b[0;31m---------------------------------------------------------------------------\u001b[0m",
            "\u001b[0;31mKeyboardInterrupt\u001b[0m                         Traceback (most recent call last)",
            "\u001b[0;32m/usr/local/lib/python3.10/dist-packages/matplotlib/pyplot.py\u001b[0m in \u001b[0;36m_draw_all_if_interactive\u001b[0;34m()\u001b[0m\n\u001b[1;32m    118\u001b[0m \u001b[0;32mdef\u001b[0m \u001b[0m_draw_all_if_interactive\u001b[0m\u001b[0;34m(\u001b[0m\u001b[0;34m)\u001b[0m\u001b[0;34m:\u001b[0m\u001b[0;34m\u001b[0m\u001b[0;34m\u001b[0m\u001b[0m\n\u001b[1;32m    119\u001b[0m     \u001b[0;32mif\u001b[0m \u001b[0mmatplotlib\u001b[0m\u001b[0;34m.\u001b[0m\u001b[0mis_interactive\u001b[0m\u001b[0;34m(\u001b[0m\u001b[0;34m)\u001b[0m\u001b[0;34m:\u001b[0m\u001b[0;34m\u001b[0m\u001b[0;34m\u001b[0m\u001b[0m\n\u001b[0;32m--> 120\u001b[0;31m         \u001b[0mdraw_all\u001b[0m\u001b[0;34m(\u001b[0m\u001b[0;34m)\u001b[0m\u001b[0;34m\u001b[0m\u001b[0;34m\u001b[0m\u001b[0m\n\u001b[0m\u001b[1;32m    121\u001b[0m \u001b[0;34m\u001b[0m\u001b[0m\n\u001b[1;32m    122\u001b[0m \u001b[0;34m\u001b[0m\u001b[0m\n",
            "\u001b[0;32m/usr/local/lib/python3.10/dist-packages/matplotlib/_pylab_helpers.py\u001b[0m in \u001b[0;36mdraw_all\u001b[0;34m(cls, force)\u001b[0m\n\u001b[1;32m    130\u001b[0m         \u001b[0;32mfor\u001b[0m \u001b[0mmanager\u001b[0m \u001b[0;32min\u001b[0m \u001b[0mcls\u001b[0m\u001b[0;34m.\u001b[0m\u001b[0mget_all_fig_managers\u001b[0m\u001b[0;34m(\u001b[0m\u001b[0;34m)\u001b[0m\u001b[0;34m:\u001b[0m\u001b[0;34m\u001b[0m\u001b[0;34m\u001b[0m\u001b[0m\n\u001b[1;32m    131\u001b[0m             \u001b[0;32mif\u001b[0m \u001b[0mforce\u001b[0m \u001b[0;32mor\u001b[0m \u001b[0mmanager\u001b[0m\u001b[0;34m.\u001b[0m\u001b[0mcanvas\u001b[0m\u001b[0;34m.\u001b[0m\u001b[0mfigure\u001b[0m\u001b[0;34m.\u001b[0m\u001b[0mstale\u001b[0m\u001b[0;34m:\u001b[0m\u001b[0;34m\u001b[0m\u001b[0;34m\u001b[0m\u001b[0m\n\u001b[0;32m--> 132\u001b[0;31m                 \u001b[0mmanager\u001b[0m\u001b[0;34m.\u001b[0m\u001b[0mcanvas\u001b[0m\u001b[0;34m.\u001b[0m\u001b[0mdraw_idle\u001b[0m\u001b[0;34m(\u001b[0m\u001b[0;34m)\u001b[0m\u001b[0;34m\u001b[0m\u001b[0;34m\u001b[0m\u001b[0m\n\u001b[0m\u001b[1;32m    133\u001b[0m \u001b[0;34m\u001b[0m\u001b[0m\n\u001b[1;32m    134\u001b[0m \u001b[0;34m\u001b[0m\u001b[0m\n",
            "\u001b[0;32m/usr/local/lib/python3.10/dist-packages/matplotlib/backend_bases.py\u001b[0m in \u001b[0;36mdraw_idle\u001b[0;34m(self, *args, **kwargs)\u001b[0m\n\u001b[1;32m   2080\u001b[0m         \u001b[0;32mif\u001b[0m \u001b[0;32mnot\u001b[0m \u001b[0mself\u001b[0m\u001b[0;34m.\u001b[0m\u001b[0m_is_idle_drawing\u001b[0m\u001b[0;34m:\u001b[0m\u001b[0;34m\u001b[0m\u001b[0;34m\u001b[0m\u001b[0m\n\u001b[1;32m   2081\u001b[0m             \u001b[0;32mwith\u001b[0m \u001b[0mself\u001b[0m\u001b[0;34m.\u001b[0m\u001b[0m_idle_draw_cntx\u001b[0m\u001b[0;34m(\u001b[0m\u001b[0;34m)\u001b[0m\u001b[0;34m:\u001b[0m\u001b[0;34m\u001b[0m\u001b[0;34m\u001b[0m\u001b[0m\n\u001b[0;32m-> 2082\u001b[0;31m                 \u001b[0mself\u001b[0m\u001b[0;34m.\u001b[0m\u001b[0mdraw\u001b[0m\u001b[0;34m(\u001b[0m\u001b[0;34m*\u001b[0m\u001b[0margs\u001b[0m\u001b[0;34m,\u001b[0m \u001b[0;34m**\u001b[0m\u001b[0mkwargs\u001b[0m\u001b[0;34m)\u001b[0m\u001b[0;34m\u001b[0m\u001b[0;34m\u001b[0m\u001b[0m\n\u001b[0m\u001b[1;32m   2083\u001b[0m \u001b[0;34m\u001b[0m\u001b[0m\n\u001b[1;32m   2084\u001b[0m     \u001b[0;34m@\u001b[0m\u001b[0mproperty\u001b[0m\u001b[0;34m\u001b[0m\u001b[0;34m\u001b[0m\u001b[0m\n",
            "\u001b[0;32m/usr/local/lib/python3.10/dist-packages/matplotlib/backends/backend_agg.py\u001b[0m in \u001b[0;36mdraw\u001b[0;34m(self)\u001b[0m\n\u001b[1;32m    398\u001b[0m              (self.toolbar._wait_cursor_for_draw_cm() if self.toolbar\n\u001b[1;32m    399\u001b[0m               else nullcontext()):\n\u001b[0;32m--> 400\u001b[0;31m             \u001b[0mself\u001b[0m\u001b[0;34m.\u001b[0m\u001b[0mfigure\u001b[0m\u001b[0;34m.\u001b[0m\u001b[0mdraw\u001b[0m\u001b[0;34m(\u001b[0m\u001b[0mself\u001b[0m\u001b[0;34m.\u001b[0m\u001b[0mrenderer\u001b[0m\u001b[0;34m)\u001b[0m\u001b[0;34m\u001b[0m\u001b[0;34m\u001b[0m\u001b[0m\n\u001b[0m\u001b[1;32m    401\u001b[0m             \u001b[0;31m# A GUI class may be need to update a window using this draw, so\u001b[0m\u001b[0;34m\u001b[0m\u001b[0;34m\u001b[0m\u001b[0m\n\u001b[1;32m    402\u001b[0m             \u001b[0;31m# don't forget to call the superclass.\u001b[0m\u001b[0;34m\u001b[0m\u001b[0;34m\u001b[0m\u001b[0m\n",
            "\u001b[0;32m/usr/local/lib/python3.10/dist-packages/matplotlib/artist.py\u001b[0m in \u001b[0;36mdraw_wrapper\u001b[0;34m(artist, renderer, *args, **kwargs)\u001b[0m\n\u001b[1;32m     93\u001b[0m     \u001b[0;34m@\u001b[0m\u001b[0mwraps\u001b[0m\u001b[0;34m(\u001b[0m\u001b[0mdraw\u001b[0m\u001b[0;34m)\u001b[0m\u001b[0;34m\u001b[0m\u001b[0;34m\u001b[0m\u001b[0m\n\u001b[1;32m     94\u001b[0m     \u001b[0;32mdef\u001b[0m \u001b[0mdraw_wrapper\u001b[0m\u001b[0;34m(\u001b[0m\u001b[0martist\u001b[0m\u001b[0;34m,\u001b[0m \u001b[0mrenderer\u001b[0m\u001b[0;34m,\u001b[0m \u001b[0;34m*\u001b[0m\u001b[0margs\u001b[0m\u001b[0;34m,\u001b[0m \u001b[0;34m**\u001b[0m\u001b[0mkwargs\u001b[0m\u001b[0;34m)\u001b[0m\u001b[0;34m:\u001b[0m\u001b[0;34m\u001b[0m\u001b[0;34m\u001b[0m\u001b[0m\n\u001b[0;32m---> 95\u001b[0;31m         \u001b[0mresult\u001b[0m \u001b[0;34m=\u001b[0m \u001b[0mdraw\u001b[0m\u001b[0;34m(\u001b[0m\u001b[0martist\u001b[0m\u001b[0;34m,\u001b[0m \u001b[0mrenderer\u001b[0m\u001b[0;34m,\u001b[0m \u001b[0;34m*\u001b[0m\u001b[0margs\u001b[0m\u001b[0;34m,\u001b[0m \u001b[0;34m**\u001b[0m\u001b[0mkwargs\u001b[0m\u001b[0;34m)\u001b[0m\u001b[0;34m\u001b[0m\u001b[0;34m\u001b[0m\u001b[0m\n\u001b[0m\u001b[1;32m     96\u001b[0m         \u001b[0;32mif\u001b[0m \u001b[0mrenderer\u001b[0m\u001b[0;34m.\u001b[0m\u001b[0m_rasterizing\u001b[0m\u001b[0;34m:\u001b[0m\u001b[0;34m\u001b[0m\u001b[0;34m\u001b[0m\u001b[0m\n\u001b[1;32m     97\u001b[0m             \u001b[0mrenderer\u001b[0m\u001b[0;34m.\u001b[0m\u001b[0mstop_rasterizing\u001b[0m\u001b[0;34m(\u001b[0m\u001b[0;34m)\u001b[0m\u001b[0;34m\u001b[0m\u001b[0;34m\u001b[0m\u001b[0m\n",
            "\u001b[0;32m/usr/local/lib/python3.10/dist-packages/matplotlib/artist.py\u001b[0m in \u001b[0;36mdraw_wrapper\u001b[0;34m(artist, renderer)\u001b[0m\n\u001b[1;32m     70\u001b[0m                 \u001b[0mrenderer\u001b[0m\u001b[0;34m.\u001b[0m\u001b[0mstart_filter\u001b[0m\u001b[0;34m(\u001b[0m\u001b[0;34m)\u001b[0m\u001b[0;34m\u001b[0m\u001b[0;34m\u001b[0m\u001b[0m\n\u001b[1;32m     71\u001b[0m \u001b[0;34m\u001b[0m\u001b[0m\n\u001b[0;32m---> 72\u001b[0;31m             \u001b[0;32mreturn\u001b[0m \u001b[0mdraw\u001b[0m\u001b[0;34m(\u001b[0m\u001b[0martist\u001b[0m\u001b[0;34m,\u001b[0m \u001b[0mrenderer\u001b[0m\u001b[0;34m)\u001b[0m\u001b[0;34m\u001b[0m\u001b[0;34m\u001b[0m\u001b[0m\n\u001b[0m\u001b[1;32m     73\u001b[0m         \u001b[0;32mfinally\u001b[0m\u001b[0;34m:\u001b[0m\u001b[0;34m\u001b[0m\u001b[0;34m\u001b[0m\u001b[0m\n\u001b[1;32m     74\u001b[0m             \u001b[0;32mif\u001b[0m \u001b[0martist\u001b[0m\u001b[0;34m.\u001b[0m\u001b[0mget_agg_filter\u001b[0m\u001b[0;34m(\u001b[0m\u001b[0;34m)\u001b[0m \u001b[0;32mis\u001b[0m \u001b[0;32mnot\u001b[0m \u001b[0;32mNone\u001b[0m\u001b[0;34m:\u001b[0m\u001b[0;34m\u001b[0m\u001b[0;34m\u001b[0m\u001b[0m\n",
            "\u001b[0;32m/usr/local/lib/python3.10/dist-packages/matplotlib/figure.py\u001b[0m in \u001b[0;36mdraw\u001b[0;34m(self, renderer)\u001b[0m\n\u001b[1;32m   3138\u001b[0m \u001b[0;34m\u001b[0m\u001b[0m\n\u001b[1;32m   3139\u001b[0m             \u001b[0mself\u001b[0m\u001b[0;34m.\u001b[0m\u001b[0mpatch\u001b[0m\u001b[0;34m.\u001b[0m\u001b[0mdraw\u001b[0m\u001b[0;34m(\u001b[0m\u001b[0mrenderer\u001b[0m\u001b[0;34m)\u001b[0m\u001b[0;34m\u001b[0m\u001b[0;34m\u001b[0m\u001b[0m\n\u001b[0;32m-> 3140\u001b[0;31m             mimage._draw_list_compositing_images(\n\u001b[0m\u001b[1;32m   3141\u001b[0m                 renderer, self, artists, self.suppressComposite)\n\u001b[1;32m   3142\u001b[0m \u001b[0;34m\u001b[0m\u001b[0m\n",
            "\u001b[0;32m/usr/local/lib/python3.10/dist-packages/matplotlib/image.py\u001b[0m in \u001b[0;36m_draw_list_compositing_images\u001b[0;34m(renderer, parent, artists, suppress_composite)\u001b[0m\n\u001b[1;32m    129\u001b[0m     \u001b[0;32mif\u001b[0m \u001b[0mnot_composite\u001b[0m \u001b[0;32mor\u001b[0m \u001b[0;32mnot\u001b[0m \u001b[0mhas_images\u001b[0m\u001b[0;34m:\u001b[0m\u001b[0;34m\u001b[0m\u001b[0;34m\u001b[0m\u001b[0m\n\u001b[1;32m    130\u001b[0m         \u001b[0;32mfor\u001b[0m \u001b[0ma\u001b[0m \u001b[0;32min\u001b[0m \u001b[0martists\u001b[0m\u001b[0;34m:\u001b[0m\u001b[0;34m\u001b[0m\u001b[0;34m\u001b[0m\u001b[0m\n\u001b[0;32m--> 131\u001b[0;31m             \u001b[0ma\u001b[0m\u001b[0;34m.\u001b[0m\u001b[0mdraw\u001b[0m\u001b[0;34m(\u001b[0m\u001b[0mrenderer\u001b[0m\u001b[0;34m)\u001b[0m\u001b[0;34m\u001b[0m\u001b[0;34m\u001b[0m\u001b[0m\n\u001b[0m\u001b[1;32m    132\u001b[0m     \u001b[0;32melse\u001b[0m\u001b[0;34m:\u001b[0m\u001b[0;34m\u001b[0m\u001b[0;34m\u001b[0m\u001b[0m\n\u001b[1;32m    133\u001b[0m         \u001b[0;31m# Composite any adjacent images together\u001b[0m\u001b[0;34m\u001b[0m\u001b[0;34m\u001b[0m\u001b[0m\n",
            "\u001b[0;32m/usr/local/lib/python3.10/dist-packages/matplotlib/artist.py\u001b[0m in \u001b[0;36mdraw_wrapper\u001b[0;34m(artist, renderer)\u001b[0m\n\u001b[1;32m     70\u001b[0m                 \u001b[0mrenderer\u001b[0m\u001b[0;34m.\u001b[0m\u001b[0mstart_filter\u001b[0m\u001b[0;34m(\u001b[0m\u001b[0;34m)\u001b[0m\u001b[0;34m\u001b[0m\u001b[0;34m\u001b[0m\u001b[0m\n\u001b[1;32m     71\u001b[0m \u001b[0;34m\u001b[0m\u001b[0m\n\u001b[0;32m---> 72\u001b[0;31m             \u001b[0;32mreturn\u001b[0m \u001b[0mdraw\u001b[0m\u001b[0;34m(\u001b[0m\u001b[0martist\u001b[0m\u001b[0;34m,\u001b[0m \u001b[0mrenderer\u001b[0m\u001b[0;34m)\u001b[0m\u001b[0;34m\u001b[0m\u001b[0;34m\u001b[0m\u001b[0m\n\u001b[0m\u001b[1;32m     73\u001b[0m         \u001b[0;32mfinally\u001b[0m\u001b[0;34m:\u001b[0m\u001b[0;34m\u001b[0m\u001b[0;34m\u001b[0m\u001b[0m\n\u001b[1;32m     74\u001b[0m             \u001b[0;32mif\u001b[0m \u001b[0martist\u001b[0m\u001b[0;34m.\u001b[0m\u001b[0mget_agg_filter\u001b[0m\u001b[0;34m(\u001b[0m\u001b[0;34m)\u001b[0m \u001b[0;32mis\u001b[0m \u001b[0;32mnot\u001b[0m \u001b[0;32mNone\u001b[0m\u001b[0;34m:\u001b[0m\u001b[0;34m\u001b[0m\u001b[0;34m\u001b[0m\u001b[0m\n",
            "\u001b[0;32m/usr/local/lib/python3.10/dist-packages/matplotlib/axes/_base.py\u001b[0m in \u001b[0;36mdraw\u001b[0;34m(self, renderer)\u001b[0m\n\u001b[1;32m   3062\u001b[0m             \u001b[0m_draw_rasterized\u001b[0m\u001b[0;34m(\u001b[0m\u001b[0mself\u001b[0m\u001b[0;34m.\u001b[0m\u001b[0mfigure\u001b[0m\u001b[0;34m,\u001b[0m \u001b[0martists_rasterized\u001b[0m\u001b[0;34m,\u001b[0m \u001b[0mrenderer\u001b[0m\u001b[0;34m)\u001b[0m\u001b[0;34m\u001b[0m\u001b[0;34m\u001b[0m\u001b[0m\n\u001b[1;32m   3063\u001b[0m \u001b[0;34m\u001b[0m\u001b[0m\n\u001b[0;32m-> 3064\u001b[0;31m         mimage._draw_list_compositing_images(\n\u001b[0m\u001b[1;32m   3065\u001b[0m             renderer, self, artists, self.figure.suppressComposite)\n\u001b[1;32m   3066\u001b[0m \u001b[0;34m\u001b[0m\u001b[0m\n",
            "\u001b[0;32m/usr/local/lib/python3.10/dist-packages/matplotlib/image.py\u001b[0m in \u001b[0;36m_draw_list_compositing_images\u001b[0;34m(renderer, parent, artists, suppress_composite)\u001b[0m\n\u001b[1;32m    129\u001b[0m     \u001b[0;32mif\u001b[0m \u001b[0mnot_composite\u001b[0m \u001b[0;32mor\u001b[0m \u001b[0;32mnot\u001b[0m \u001b[0mhas_images\u001b[0m\u001b[0;34m:\u001b[0m\u001b[0;34m\u001b[0m\u001b[0;34m\u001b[0m\u001b[0m\n\u001b[1;32m    130\u001b[0m         \u001b[0;32mfor\u001b[0m \u001b[0ma\u001b[0m \u001b[0;32min\u001b[0m \u001b[0martists\u001b[0m\u001b[0;34m:\u001b[0m\u001b[0;34m\u001b[0m\u001b[0;34m\u001b[0m\u001b[0m\n\u001b[0;32m--> 131\u001b[0;31m             \u001b[0ma\u001b[0m\u001b[0;34m.\u001b[0m\u001b[0mdraw\u001b[0m\u001b[0;34m(\u001b[0m\u001b[0mrenderer\u001b[0m\u001b[0;34m)\u001b[0m\u001b[0;34m\u001b[0m\u001b[0;34m\u001b[0m\u001b[0m\n\u001b[0m\u001b[1;32m    132\u001b[0m     \u001b[0;32melse\u001b[0m\u001b[0;34m:\u001b[0m\u001b[0;34m\u001b[0m\u001b[0;34m\u001b[0m\u001b[0m\n\u001b[1;32m    133\u001b[0m         \u001b[0;31m# Composite any adjacent images together\u001b[0m\u001b[0;34m\u001b[0m\u001b[0;34m\u001b[0m\u001b[0m\n",
            "\u001b[0;32m/usr/local/lib/python3.10/dist-packages/matplotlib/artist.py\u001b[0m in \u001b[0;36mdraw_wrapper\u001b[0;34m(artist, renderer)\u001b[0m\n\u001b[1;32m     70\u001b[0m                 \u001b[0mrenderer\u001b[0m\u001b[0;34m.\u001b[0m\u001b[0mstart_filter\u001b[0m\u001b[0;34m(\u001b[0m\u001b[0;34m)\u001b[0m\u001b[0;34m\u001b[0m\u001b[0;34m\u001b[0m\u001b[0m\n\u001b[1;32m     71\u001b[0m \u001b[0;34m\u001b[0m\u001b[0m\n\u001b[0;32m---> 72\u001b[0;31m             \u001b[0;32mreturn\u001b[0m \u001b[0mdraw\u001b[0m\u001b[0;34m(\u001b[0m\u001b[0martist\u001b[0m\u001b[0;34m,\u001b[0m \u001b[0mrenderer\u001b[0m\u001b[0;34m)\u001b[0m\u001b[0;34m\u001b[0m\u001b[0;34m\u001b[0m\u001b[0m\n\u001b[0m\u001b[1;32m     73\u001b[0m         \u001b[0;32mfinally\u001b[0m\u001b[0;34m:\u001b[0m\u001b[0;34m\u001b[0m\u001b[0;34m\u001b[0m\u001b[0m\n\u001b[1;32m     74\u001b[0m             \u001b[0;32mif\u001b[0m \u001b[0martist\u001b[0m\u001b[0;34m.\u001b[0m\u001b[0mget_agg_filter\u001b[0m\u001b[0;34m(\u001b[0m\u001b[0;34m)\u001b[0m \u001b[0;32mis\u001b[0m \u001b[0;32mnot\u001b[0m \u001b[0;32mNone\u001b[0m\u001b[0;34m:\u001b[0m\u001b[0;34m\u001b[0m\u001b[0;34m\u001b[0m\u001b[0m\n",
            "\u001b[0;32m/usr/local/lib/python3.10/dist-packages/matplotlib/axis.py\u001b[0m in \u001b[0;36mdraw\u001b[0;34m(self, renderer, *args, **kwargs)\u001b[0m\n\u001b[1;32m   1381\u001b[0m \u001b[0;34m\u001b[0m\u001b[0m\n\u001b[1;32m   1382\u001b[0m         \u001b[0;31m# Shift label away from axes to avoid overlapping ticklabels.\u001b[0m\u001b[0;34m\u001b[0m\u001b[0;34m\u001b[0m\u001b[0m\n\u001b[0;32m-> 1383\u001b[0;31m         \u001b[0mself\u001b[0m\u001b[0;34m.\u001b[0m\u001b[0m_update_label_position\u001b[0m\u001b[0;34m(\u001b[0m\u001b[0mrenderer\u001b[0m\u001b[0;34m)\u001b[0m\u001b[0;34m\u001b[0m\u001b[0;34m\u001b[0m\u001b[0m\n\u001b[0m\u001b[1;32m   1384\u001b[0m         \u001b[0mself\u001b[0m\u001b[0;34m.\u001b[0m\u001b[0mlabel\u001b[0m\u001b[0;34m.\u001b[0m\u001b[0mdraw\u001b[0m\u001b[0;34m(\u001b[0m\u001b[0mrenderer\u001b[0m\u001b[0;34m)\u001b[0m\u001b[0;34m\u001b[0m\u001b[0;34m\u001b[0m\u001b[0m\n\u001b[1;32m   1385\u001b[0m \u001b[0;34m\u001b[0m\u001b[0m\n",
            "\u001b[0;32m/usr/local/lib/python3.10/dist-packages/matplotlib/axis.py\u001b[0m in \u001b[0;36m_update_label_position\u001b[0;34m(self, renderer)\u001b[0m\n\u001b[1;32m   2302\u001b[0m         \u001b[0;31m# get bounding boxes for this axis and any siblings\u001b[0m\u001b[0;34m\u001b[0m\u001b[0;34m\u001b[0m\u001b[0m\n\u001b[1;32m   2303\u001b[0m         \u001b[0;31m# that have been set by `fig.align_xlabels()`\u001b[0m\u001b[0;34m\u001b[0m\u001b[0;34m\u001b[0m\u001b[0m\n\u001b[0;32m-> 2304\u001b[0;31m         \u001b[0mbboxes\u001b[0m\u001b[0;34m,\u001b[0m \u001b[0mbboxes2\u001b[0m \u001b[0;34m=\u001b[0m \u001b[0mself\u001b[0m\u001b[0;34m.\u001b[0m\u001b[0m_get_tick_boxes_siblings\u001b[0m\u001b[0;34m(\u001b[0m\u001b[0mrenderer\u001b[0m\u001b[0;34m=\u001b[0m\u001b[0mrenderer\u001b[0m\u001b[0;34m)\u001b[0m\u001b[0;34m\u001b[0m\u001b[0;34m\u001b[0m\u001b[0m\n\u001b[0m\u001b[1;32m   2305\u001b[0m \u001b[0;34m\u001b[0m\u001b[0m\n\u001b[1;32m   2306\u001b[0m         \u001b[0mx\u001b[0m\u001b[0;34m,\u001b[0m \u001b[0my\u001b[0m \u001b[0;34m=\u001b[0m \u001b[0mself\u001b[0m\u001b[0;34m.\u001b[0m\u001b[0mlabel\u001b[0m\u001b[0;34m.\u001b[0m\u001b[0mget_position\u001b[0m\u001b[0;34m(\u001b[0m\u001b[0;34m)\u001b[0m\u001b[0;34m\u001b[0m\u001b[0;34m\u001b[0m\u001b[0m\n",
            "\u001b[0;32m/usr/local/lib/python3.10/dist-packages/matplotlib/axis.py\u001b[0m in \u001b[0;36m_get_tick_boxes_siblings\u001b[0;34m(self, renderer)\u001b[0m\n\u001b[1;32m   2097\u001b[0m         \u001b[0;32mfor\u001b[0m \u001b[0max\u001b[0m \u001b[0;32min\u001b[0m \u001b[0mgrouper\u001b[0m\u001b[0;34m.\u001b[0m\u001b[0mget_siblings\u001b[0m\u001b[0;34m(\u001b[0m\u001b[0mself\u001b[0m\u001b[0;34m.\u001b[0m\u001b[0maxes\u001b[0m\u001b[0;34m)\u001b[0m\u001b[0;34m:\u001b[0m\u001b[0;34m\u001b[0m\u001b[0;34m\u001b[0m\u001b[0m\n\u001b[1;32m   2098\u001b[0m             \u001b[0maxis\u001b[0m \u001b[0;34m=\u001b[0m \u001b[0mgetattr\u001b[0m\u001b[0;34m(\u001b[0m\u001b[0max\u001b[0m\u001b[0;34m,\u001b[0m \u001b[0;34mf\"{axis_name}axis\"\u001b[0m\u001b[0;34m)\u001b[0m\u001b[0;34m\u001b[0m\u001b[0;34m\u001b[0m\u001b[0m\n\u001b[0;32m-> 2099\u001b[0;31m             \u001b[0mticks_to_draw\u001b[0m \u001b[0;34m=\u001b[0m \u001b[0maxis\u001b[0m\u001b[0;34m.\u001b[0m\u001b[0m_update_ticks\u001b[0m\u001b[0;34m(\u001b[0m\u001b[0;34m)\u001b[0m\u001b[0;34m\u001b[0m\u001b[0;34m\u001b[0m\u001b[0m\n\u001b[0m\u001b[1;32m   2100\u001b[0m             \u001b[0mtlb\u001b[0m\u001b[0;34m,\u001b[0m \u001b[0mtlb2\u001b[0m \u001b[0;34m=\u001b[0m \u001b[0maxis\u001b[0m\u001b[0;34m.\u001b[0m\u001b[0m_get_ticklabel_bboxes\u001b[0m\u001b[0;34m(\u001b[0m\u001b[0mticks_to_draw\u001b[0m\u001b[0;34m,\u001b[0m \u001b[0mrenderer\u001b[0m\u001b[0;34m)\u001b[0m\u001b[0;34m\u001b[0m\u001b[0;34m\u001b[0m\u001b[0m\n\u001b[1;32m   2101\u001b[0m             \u001b[0mbboxes\u001b[0m\u001b[0;34m.\u001b[0m\u001b[0mextend\u001b[0m\u001b[0;34m(\u001b[0m\u001b[0mtlb\u001b[0m\u001b[0;34m)\u001b[0m\u001b[0;34m\u001b[0m\u001b[0;34m\u001b[0m\u001b[0m\n",
            "\u001b[0;31mKeyboardInterrupt\u001b[0m: "
          ]
        },
        {
          "output_type": "stream",
          "name": "stdout",
          "text": [
            "Error in callback <function flush_figures at 0x7d4a6d9e20e0> (for post_execute):\n"
          ]
        },
        {
          "output_type": "error",
          "ename": "KeyboardInterrupt",
          "evalue": "",
          "traceback": [
            "\u001b[0;31m---------------------------------------------------------------------------\u001b[0m",
            "\u001b[0;31mKeyboardInterrupt\u001b[0m                         Traceback (most recent call last)",
            "\u001b[0;32m/usr/local/lib/python3.10/dist-packages/matplotlib_inline/backend_inline.py\u001b[0m in \u001b[0;36mflush_figures\u001b[0;34m()\u001b[0m\n\u001b[1;32m    124\u001b[0m             \u001b[0;31m# ignore the tracking, just draw and close all figures\u001b[0m\u001b[0;34m\u001b[0m\u001b[0;34m\u001b[0m\u001b[0m\n\u001b[1;32m    125\u001b[0m             \u001b[0;32mtry\u001b[0m\u001b[0;34m:\u001b[0m\u001b[0;34m\u001b[0m\u001b[0;34m\u001b[0m\u001b[0m\n\u001b[0;32m--> 126\u001b[0;31m                 \u001b[0;32mreturn\u001b[0m \u001b[0mshow\u001b[0m\u001b[0;34m(\u001b[0m\u001b[0;32mTrue\u001b[0m\u001b[0;34m)\u001b[0m\u001b[0;34m\u001b[0m\u001b[0;34m\u001b[0m\u001b[0m\n\u001b[0m\u001b[1;32m    127\u001b[0m             \u001b[0;32mexcept\u001b[0m \u001b[0mException\u001b[0m \u001b[0;32mas\u001b[0m \u001b[0me\u001b[0m\u001b[0;34m:\u001b[0m\u001b[0;34m\u001b[0m\u001b[0;34m\u001b[0m\u001b[0m\n\u001b[1;32m    128\u001b[0m                 \u001b[0;31m# safely show traceback if in IPython, else raise\u001b[0m\u001b[0;34m\u001b[0m\u001b[0;34m\u001b[0m\u001b[0m\n",
            "\u001b[0;32m/usr/local/lib/python3.10/dist-packages/matplotlib_inline/backend_inline.py\u001b[0m in \u001b[0;36mshow\u001b[0;34m(close, block)\u001b[0m\n\u001b[1;32m     88\u001b[0m     \u001b[0;32mtry\u001b[0m\u001b[0;34m:\u001b[0m\u001b[0;34m\u001b[0m\u001b[0;34m\u001b[0m\u001b[0m\n\u001b[1;32m     89\u001b[0m         \u001b[0;32mfor\u001b[0m \u001b[0mfigure_manager\u001b[0m \u001b[0;32min\u001b[0m \u001b[0mGcf\u001b[0m\u001b[0;34m.\u001b[0m\u001b[0mget_all_fig_managers\u001b[0m\u001b[0;34m(\u001b[0m\u001b[0;34m)\u001b[0m\u001b[0;34m:\u001b[0m\u001b[0;34m\u001b[0m\u001b[0;34m\u001b[0m\u001b[0m\n\u001b[0;32m---> 90\u001b[0;31m             display(\n\u001b[0m\u001b[1;32m     91\u001b[0m                 \u001b[0mfigure_manager\u001b[0m\u001b[0;34m.\u001b[0m\u001b[0mcanvas\u001b[0m\u001b[0;34m.\u001b[0m\u001b[0mfigure\u001b[0m\u001b[0;34m,\u001b[0m\u001b[0;34m\u001b[0m\u001b[0;34m\u001b[0m\u001b[0m\n\u001b[1;32m     92\u001b[0m                 \u001b[0mmetadata\u001b[0m\u001b[0;34m=\u001b[0m\u001b[0m_fetch_figure_metadata\u001b[0m\u001b[0;34m(\u001b[0m\u001b[0mfigure_manager\u001b[0m\u001b[0;34m.\u001b[0m\u001b[0mcanvas\u001b[0m\u001b[0;34m.\u001b[0m\u001b[0mfigure\u001b[0m\u001b[0;34m)\u001b[0m\u001b[0;34m\u001b[0m\u001b[0;34m\u001b[0m\u001b[0m\n",
            "\u001b[0;32m/usr/local/lib/python3.10/dist-packages/IPython/core/display.py\u001b[0m in \u001b[0;36mdisplay\u001b[0;34m(include, exclude, metadata, transient, display_id, *objs, **kwargs)\u001b[0m\n\u001b[1;32m    318\u001b[0m             \u001b[0mpublish_display_data\u001b[0m\u001b[0;34m(\u001b[0m\u001b[0mdata\u001b[0m\u001b[0;34m=\u001b[0m\u001b[0mobj\u001b[0m\u001b[0;34m,\u001b[0m \u001b[0mmetadata\u001b[0m\u001b[0;34m=\u001b[0m\u001b[0mmetadata\u001b[0m\u001b[0;34m,\u001b[0m \u001b[0;34m**\u001b[0m\u001b[0mkwargs\u001b[0m\u001b[0;34m)\u001b[0m\u001b[0;34m\u001b[0m\u001b[0;34m\u001b[0m\u001b[0m\n\u001b[1;32m    319\u001b[0m         \u001b[0;32melse\u001b[0m\u001b[0;34m:\u001b[0m\u001b[0;34m\u001b[0m\u001b[0;34m\u001b[0m\u001b[0m\n\u001b[0;32m--> 320\u001b[0;31m             \u001b[0mformat_dict\u001b[0m\u001b[0;34m,\u001b[0m \u001b[0mmd_dict\u001b[0m \u001b[0;34m=\u001b[0m \u001b[0mformat\u001b[0m\u001b[0;34m(\u001b[0m\u001b[0mobj\u001b[0m\u001b[0;34m,\u001b[0m \u001b[0minclude\u001b[0m\u001b[0;34m=\u001b[0m\u001b[0minclude\u001b[0m\u001b[0;34m,\u001b[0m \u001b[0mexclude\u001b[0m\u001b[0;34m=\u001b[0m\u001b[0mexclude\u001b[0m\u001b[0;34m)\u001b[0m\u001b[0;34m\u001b[0m\u001b[0;34m\u001b[0m\u001b[0m\n\u001b[0m\u001b[1;32m    321\u001b[0m             \u001b[0;32mif\u001b[0m \u001b[0;32mnot\u001b[0m \u001b[0mformat_dict\u001b[0m\u001b[0;34m:\u001b[0m\u001b[0;34m\u001b[0m\u001b[0;34m\u001b[0m\u001b[0m\n\u001b[1;32m    322\u001b[0m                 \u001b[0;31m# nothing to display (e.g. _ipython_display_ took over)\u001b[0m\u001b[0;34m\u001b[0m\u001b[0;34m\u001b[0m\u001b[0m\n",
            "\u001b[0;32m/usr/local/lib/python3.10/dist-packages/IPython/core/formatters.py\u001b[0m in \u001b[0;36mformat\u001b[0;34m(self, obj, include, exclude)\u001b[0m\n\u001b[1;32m    178\u001b[0m             \u001b[0mmd\u001b[0m \u001b[0;34m=\u001b[0m \u001b[0;32mNone\u001b[0m\u001b[0;34m\u001b[0m\u001b[0;34m\u001b[0m\u001b[0m\n\u001b[1;32m    179\u001b[0m             \u001b[0;32mtry\u001b[0m\u001b[0;34m:\u001b[0m\u001b[0;34m\u001b[0m\u001b[0;34m\u001b[0m\u001b[0m\n\u001b[0;32m--> 180\u001b[0;31m                 \u001b[0mdata\u001b[0m \u001b[0;34m=\u001b[0m \u001b[0mformatter\u001b[0m\u001b[0;34m(\u001b[0m\u001b[0mobj\u001b[0m\u001b[0;34m)\u001b[0m\u001b[0;34m\u001b[0m\u001b[0;34m\u001b[0m\u001b[0m\n\u001b[0m\u001b[1;32m    181\u001b[0m             \u001b[0;32mexcept\u001b[0m\u001b[0;34m:\u001b[0m\u001b[0;34m\u001b[0m\u001b[0;34m\u001b[0m\u001b[0m\n\u001b[1;32m    182\u001b[0m                 \u001b[0;31m# FIXME: log the exception\u001b[0m\u001b[0;34m\u001b[0m\u001b[0;34m\u001b[0m\u001b[0m\n",
            "\u001b[0;32m<decorator-gen-2>\u001b[0m in \u001b[0;36m__call__\u001b[0;34m(self, obj)\u001b[0m\n",
            "\u001b[0;32m/usr/local/lib/python3.10/dist-packages/IPython/core/formatters.py\u001b[0m in \u001b[0;36mcatch_format_error\u001b[0;34m(method, self, *args, **kwargs)\u001b[0m\n\u001b[1;32m    222\u001b[0m     \u001b[0;34m\"\"\"show traceback on failed format call\"\"\"\u001b[0m\u001b[0;34m\u001b[0m\u001b[0;34m\u001b[0m\u001b[0m\n\u001b[1;32m    223\u001b[0m     \u001b[0;32mtry\u001b[0m\u001b[0;34m:\u001b[0m\u001b[0;34m\u001b[0m\u001b[0;34m\u001b[0m\u001b[0m\n\u001b[0;32m--> 224\u001b[0;31m         \u001b[0mr\u001b[0m \u001b[0;34m=\u001b[0m \u001b[0mmethod\u001b[0m\u001b[0;34m(\u001b[0m\u001b[0mself\u001b[0m\u001b[0;34m,\u001b[0m \u001b[0;34m*\u001b[0m\u001b[0margs\u001b[0m\u001b[0;34m,\u001b[0m \u001b[0;34m**\u001b[0m\u001b[0mkwargs\u001b[0m\u001b[0;34m)\u001b[0m\u001b[0;34m\u001b[0m\u001b[0;34m\u001b[0m\u001b[0m\n\u001b[0m\u001b[1;32m    225\u001b[0m     \u001b[0;32mexcept\u001b[0m \u001b[0mNotImplementedError\u001b[0m\u001b[0;34m:\u001b[0m\u001b[0;34m\u001b[0m\u001b[0;34m\u001b[0m\u001b[0m\n\u001b[1;32m    226\u001b[0m         \u001b[0;31m# don't warn on NotImplementedErrors\u001b[0m\u001b[0;34m\u001b[0m\u001b[0;34m\u001b[0m\u001b[0m\n",
            "\u001b[0;32m/usr/local/lib/python3.10/dist-packages/IPython/core/formatters.py\u001b[0m in \u001b[0;36m__call__\u001b[0;34m(self, obj)\u001b[0m\n\u001b[1;32m    339\u001b[0m                 \u001b[0;32mpass\u001b[0m\u001b[0;34m\u001b[0m\u001b[0;34m\u001b[0m\u001b[0m\n\u001b[1;32m    340\u001b[0m             \u001b[0;32melse\u001b[0m\u001b[0;34m:\u001b[0m\u001b[0;34m\u001b[0m\u001b[0;34m\u001b[0m\u001b[0m\n\u001b[0;32m--> 341\u001b[0;31m                 \u001b[0;32mreturn\u001b[0m \u001b[0mprinter\u001b[0m\u001b[0;34m(\u001b[0m\u001b[0mobj\u001b[0m\u001b[0;34m)\u001b[0m\u001b[0;34m\u001b[0m\u001b[0;34m\u001b[0m\u001b[0m\n\u001b[0m\u001b[1;32m    342\u001b[0m             \u001b[0;31m# Finally look for special method names\u001b[0m\u001b[0;34m\u001b[0m\u001b[0;34m\u001b[0m\u001b[0m\n\u001b[1;32m    343\u001b[0m             \u001b[0mmethod\u001b[0m \u001b[0;34m=\u001b[0m \u001b[0mget_real_method\u001b[0m\u001b[0;34m(\u001b[0m\u001b[0mobj\u001b[0m\u001b[0;34m,\u001b[0m \u001b[0mself\u001b[0m\u001b[0;34m.\u001b[0m\u001b[0mprint_method\u001b[0m\u001b[0;34m)\u001b[0m\u001b[0;34m\u001b[0m\u001b[0;34m\u001b[0m\u001b[0m\n",
            "\u001b[0;32m/usr/local/lib/python3.10/dist-packages/IPython/core/pylabtools.py\u001b[0m in \u001b[0;36mprint_figure\u001b[0;34m(fig, fmt, bbox_inches, base64, **kwargs)\u001b[0m\n\u001b[1;32m    149\u001b[0m         \u001b[0mFigureCanvasBase\u001b[0m\u001b[0;34m(\u001b[0m\u001b[0mfig\u001b[0m\u001b[0;34m)\u001b[0m\u001b[0;34m\u001b[0m\u001b[0;34m\u001b[0m\u001b[0m\n\u001b[1;32m    150\u001b[0m \u001b[0;34m\u001b[0m\u001b[0m\n\u001b[0;32m--> 151\u001b[0;31m     \u001b[0mfig\u001b[0m\u001b[0;34m.\u001b[0m\u001b[0mcanvas\u001b[0m\u001b[0;34m.\u001b[0m\u001b[0mprint_figure\u001b[0m\u001b[0;34m(\u001b[0m\u001b[0mbytes_io\u001b[0m\u001b[0;34m,\u001b[0m \u001b[0;34m**\u001b[0m\u001b[0mkw\u001b[0m\u001b[0;34m)\u001b[0m\u001b[0;34m\u001b[0m\u001b[0;34m\u001b[0m\u001b[0m\n\u001b[0m\u001b[1;32m    152\u001b[0m     \u001b[0mdata\u001b[0m \u001b[0;34m=\u001b[0m \u001b[0mbytes_io\u001b[0m\u001b[0;34m.\u001b[0m\u001b[0mgetvalue\u001b[0m\u001b[0;34m(\u001b[0m\u001b[0;34m)\u001b[0m\u001b[0;34m\u001b[0m\u001b[0;34m\u001b[0m\u001b[0m\n\u001b[1;32m    153\u001b[0m     \u001b[0;32mif\u001b[0m \u001b[0mfmt\u001b[0m \u001b[0;34m==\u001b[0m \u001b[0;34m'svg'\u001b[0m\u001b[0;34m:\u001b[0m\u001b[0;34m\u001b[0m\u001b[0;34m\u001b[0m\u001b[0m\n",
            "\u001b[0;32m/usr/local/lib/python3.10/dist-packages/matplotlib/backend_bases.py\u001b[0m in \u001b[0;36mprint_figure\u001b[0;34m(self, filename, dpi, facecolor, edgecolor, orientation, format, bbox_inches, pad_inches, bbox_extra_artists, backend, **kwargs)\u001b[0m\n\u001b[1;32m   2340\u001b[0m                 )\n\u001b[1;32m   2341\u001b[0m                 \u001b[0;32mwith\u001b[0m \u001b[0mgetattr\u001b[0m\u001b[0;34m(\u001b[0m\u001b[0mrenderer\u001b[0m\u001b[0;34m,\u001b[0m \u001b[0;34m\"_draw_disabled\"\u001b[0m\u001b[0;34m,\u001b[0m \u001b[0mnullcontext\u001b[0m\u001b[0;34m)\u001b[0m\u001b[0;34m(\u001b[0m\u001b[0;34m)\u001b[0m\u001b[0;34m:\u001b[0m\u001b[0;34m\u001b[0m\u001b[0;34m\u001b[0m\u001b[0m\n\u001b[0;32m-> 2342\u001b[0;31m                     \u001b[0mself\u001b[0m\u001b[0;34m.\u001b[0m\u001b[0mfigure\u001b[0m\u001b[0;34m.\u001b[0m\u001b[0mdraw\u001b[0m\u001b[0;34m(\u001b[0m\u001b[0mrenderer\u001b[0m\u001b[0;34m)\u001b[0m\u001b[0;34m\u001b[0m\u001b[0;34m\u001b[0m\u001b[0m\n\u001b[0m\u001b[1;32m   2343\u001b[0m \u001b[0;34m\u001b[0m\u001b[0m\n\u001b[1;32m   2344\u001b[0m             \u001b[0;32mif\u001b[0m \u001b[0mbbox_inches\u001b[0m\u001b[0;34m:\u001b[0m\u001b[0;34m\u001b[0m\u001b[0;34m\u001b[0m\u001b[0m\n",
            "\u001b[0;32m/usr/local/lib/python3.10/dist-packages/matplotlib/artist.py\u001b[0m in \u001b[0;36mdraw_wrapper\u001b[0;34m(artist, renderer, *args, **kwargs)\u001b[0m\n\u001b[1;32m     93\u001b[0m     \u001b[0;34m@\u001b[0m\u001b[0mwraps\u001b[0m\u001b[0;34m(\u001b[0m\u001b[0mdraw\u001b[0m\u001b[0;34m)\u001b[0m\u001b[0;34m\u001b[0m\u001b[0;34m\u001b[0m\u001b[0m\n\u001b[1;32m     94\u001b[0m     \u001b[0;32mdef\u001b[0m \u001b[0mdraw_wrapper\u001b[0m\u001b[0;34m(\u001b[0m\u001b[0martist\u001b[0m\u001b[0;34m,\u001b[0m \u001b[0mrenderer\u001b[0m\u001b[0;34m,\u001b[0m \u001b[0;34m*\u001b[0m\u001b[0margs\u001b[0m\u001b[0;34m,\u001b[0m \u001b[0;34m**\u001b[0m\u001b[0mkwargs\u001b[0m\u001b[0;34m)\u001b[0m\u001b[0;34m:\u001b[0m\u001b[0;34m\u001b[0m\u001b[0;34m\u001b[0m\u001b[0m\n\u001b[0;32m---> 95\u001b[0;31m         \u001b[0mresult\u001b[0m \u001b[0;34m=\u001b[0m \u001b[0mdraw\u001b[0m\u001b[0;34m(\u001b[0m\u001b[0martist\u001b[0m\u001b[0;34m,\u001b[0m \u001b[0mrenderer\u001b[0m\u001b[0;34m,\u001b[0m \u001b[0;34m*\u001b[0m\u001b[0margs\u001b[0m\u001b[0;34m,\u001b[0m \u001b[0;34m**\u001b[0m\u001b[0mkwargs\u001b[0m\u001b[0;34m)\u001b[0m\u001b[0;34m\u001b[0m\u001b[0;34m\u001b[0m\u001b[0m\n\u001b[0m\u001b[1;32m     96\u001b[0m         \u001b[0;32mif\u001b[0m \u001b[0mrenderer\u001b[0m\u001b[0;34m.\u001b[0m\u001b[0m_rasterizing\u001b[0m\u001b[0;34m:\u001b[0m\u001b[0;34m\u001b[0m\u001b[0;34m\u001b[0m\u001b[0m\n\u001b[1;32m     97\u001b[0m             \u001b[0mrenderer\u001b[0m\u001b[0;34m.\u001b[0m\u001b[0mstop_rasterizing\u001b[0m\u001b[0;34m(\u001b[0m\u001b[0;34m)\u001b[0m\u001b[0;34m\u001b[0m\u001b[0;34m\u001b[0m\u001b[0m\n",
            "\u001b[0;32m/usr/local/lib/python3.10/dist-packages/matplotlib/artist.py\u001b[0m in \u001b[0;36mdraw_wrapper\u001b[0;34m(artist, renderer)\u001b[0m\n\u001b[1;32m     70\u001b[0m                 \u001b[0mrenderer\u001b[0m\u001b[0;34m.\u001b[0m\u001b[0mstart_filter\u001b[0m\u001b[0;34m(\u001b[0m\u001b[0;34m)\u001b[0m\u001b[0;34m\u001b[0m\u001b[0;34m\u001b[0m\u001b[0m\n\u001b[1;32m     71\u001b[0m \u001b[0;34m\u001b[0m\u001b[0m\n\u001b[0;32m---> 72\u001b[0;31m             \u001b[0;32mreturn\u001b[0m \u001b[0mdraw\u001b[0m\u001b[0;34m(\u001b[0m\u001b[0martist\u001b[0m\u001b[0;34m,\u001b[0m \u001b[0mrenderer\u001b[0m\u001b[0;34m)\u001b[0m\u001b[0;34m\u001b[0m\u001b[0;34m\u001b[0m\u001b[0m\n\u001b[0m\u001b[1;32m     73\u001b[0m         \u001b[0;32mfinally\u001b[0m\u001b[0;34m:\u001b[0m\u001b[0;34m\u001b[0m\u001b[0;34m\u001b[0m\u001b[0m\n\u001b[1;32m     74\u001b[0m             \u001b[0;32mif\u001b[0m \u001b[0martist\u001b[0m\u001b[0;34m.\u001b[0m\u001b[0mget_agg_filter\u001b[0m\u001b[0;34m(\u001b[0m\u001b[0;34m)\u001b[0m \u001b[0;32mis\u001b[0m \u001b[0;32mnot\u001b[0m \u001b[0;32mNone\u001b[0m\u001b[0;34m:\u001b[0m\u001b[0;34m\u001b[0m\u001b[0;34m\u001b[0m\u001b[0m\n",
            "\u001b[0;32m/usr/local/lib/python3.10/dist-packages/matplotlib/figure.py\u001b[0m in \u001b[0;36mdraw\u001b[0;34m(self, renderer)\u001b[0m\n\u001b[1;32m   3138\u001b[0m \u001b[0;34m\u001b[0m\u001b[0m\n\u001b[1;32m   3139\u001b[0m             \u001b[0mself\u001b[0m\u001b[0;34m.\u001b[0m\u001b[0mpatch\u001b[0m\u001b[0;34m.\u001b[0m\u001b[0mdraw\u001b[0m\u001b[0;34m(\u001b[0m\u001b[0mrenderer\u001b[0m\u001b[0;34m)\u001b[0m\u001b[0;34m\u001b[0m\u001b[0;34m\u001b[0m\u001b[0m\n\u001b[0;32m-> 3140\u001b[0;31m             mimage._draw_list_compositing_images(\n\u001b[0m\u001b[1;32m   3141\u001b[0m                 renderer, self, artists, self.suppressComposite)\n\u001b[1;32m   3142\u001b[0m \u001b[0;34m\u001b[0m\u001b[0m\n",
            "\u001b[0;32m/usr/local/lib/python3.10/dist-packages/matplotlib/image.py\u001b[0m in \u001b[0;36m_draw_list_compositing_images\u001b[0;34m(renderer, parent, artists, suppress_composite)\u001b[0m\n\u001b[1;32m    129\u001b[0m     \u001b[0;32mif\u001b[0m \u001b[0mnot_composite\u001b[0m \u001b[0;32mor\u001b[0m \u001b[0;32mnot\u001b[0m \u001b[0mhas_images\u001b[0m\u001b[0;34m:\u001b[0m\u001b[0;34m\u001b[0m\u001b[0;34m\u001b[0m\u001b[0m\n\u001b[1;32m    130\u001b[0m         \u001b[0;32mfor\u001b[0m \u001b[0ma\u001b[0m \u001b[0;32min\u001b[0m \u001b[0martists\u001b[0m\u001b[0;34m:\u001b[0m\u001b[0;34m\u001b[0m\u001b[0;34m\u001b[0m\u001b[0m\n\u001b[0;32m--> 131\u001b[0;31m             \u001b[0ma\u001b[0m\u001b[0;34m.\u001b[0m\u001b[0mdraw\u001b[0m\u001b[0;34m(\u001b[0m\u001b[0mrenderer\u001b[0m\u001b[0;34m)\u001b[0m\u001b[0;34m\u001b[0m\u001b[0;34m\u001b[0m\u001b[0m\n\u001b[0m\u001b[1;32m    132\u001b[0m     \u001b[0;32melse\u001b[0m\u001b[0;34m:\u001b[0m\u001b[0;34m\u001b[0m\u001b[0;34m\u001b[0m\u001b[0m\n\u001b[1;32m    133\u001b[0m         \u001b[0;31m# Composite any adjacent images together\u001b[0m\u001b[0;34m\u001b[0m\u001b[0;34m\u001b[0m\u001b[0m\n",
            "\u001b[0;32m/usr/local/lib/python3.10/dist-packages/matplotlib/artist.py\u001b[0m in \u001b[0;36mdraw_wrapper\u001b[0;34m(artist, renderer)\u001b[0m\n\u001b[1;32m     70\u001b[0m                 \u001b[0mrenderer\u001b[0m\u001b[0;34m.\u001b[0m\u001b[0mstart_filter\u001b[0m\u001b[0;34m(\u001b[0m\u001b[0;34m)\u001b[0m\u001b[0;34m\u001b[0m\u001b[0;34m\u001b[0m\u001b[0m\n\u001b[1;32m     71\u001b[0m \u001b[0;34m\u001b[0m\u001b[0m\n\u001b[0;32m---> 72\u001b[0;31m             \u001b[0;32mreturn\u001b[0m \u001b[0mdraw\u001b[0m\u001b[0;34m(\u001b[0m\u001b[0martist\u001b[0m\u001b[0;34m,\u001b[0m \u001b[0mrenderer\u001b[0m\u001b[0;34m)\u001b[0m\u001b[0;34m\u001b[0m\u001b[0;34m\u001b[0m\u001b[0m\n\u001b[0m\u001b[1;32m     73\u001b[0m         \u001b[0;32mfinally\u001b[0m\u001b[0;34m:\u001b[0m\u001b[0;34m\u001b[0m\u001b[0;34m\u001b[0m\u001b[0m\n\u001b[1;32m     74\u001b[0m             \u001b[0;32mif\u001b[0m \u001b[0martist\u001b[0m\u001b[0;34m.\u001b[0m\u001b[0mget_agg_filter\u001b[0m\u001b[0;34m(\u001b[0m\u001b[0;34m)\u001b[0m \u001b[0;32mis\u001b[0m \u001b[0;32mnot\u001b[0m \u001b[0;32mNone\u001b[0m\u001b[0;34m:\u001b[0m\u001b[0;34m\u001b[0m\u001b[0;34m\u001b[0m\u001b[0m\n",
            "\u001b[0;32m/usr/local/lib/python3.10/dist-packages/matplotlib/axes/_base.py\u001b[0m in \u001b[0;36mdraw\u001b[0;34m(self, renderer)\u001b[0m\n\u001b[1;32m   3062\u001b[0m             \u001b[0m_draw_rasterized\u001b[0m\u001b[0;34m(\u001b[0m\u001b[0mself\u001b[0m\u001b[0;34m.\u001b[0m\u001b[0mfigure\u001b[0m\u001b[0;34m,\u001b[0m \u001b[0martists_rasterized\u001b[0m\u001b[0;34m,\u001b[0m \u001b[0mrenderer\u001b[0m\u001b[0;34m)\u001b[0m\u001b[0;34m\u001b[0m\u001b[0;34m\u001b[0m\u001b[0m\n\u001b[1;32m   3063\u001b[0m \u001b[0;34m\u001b[0m\u001b[0m\n\u001b[0;32m-> 3064\u001b[0;31m         mimage._draw_list_compositing_images(\n\u001b[0m\u001b[1;32m   3065\u001b[0m             renderer, self, artists, self.figure.suppressComposite)\n\u001b[1;32m   3066\u001b[0m \u001b[0;34m\u001b[0m\u001b[0m\n",
            "\u001b[0;32m/usr/local/lib/python3.10/dist-packages/matplotlib/image.py\u001b[0m in \u001b[0;36m_draw_list_compositing_images\u001b[0;34m(renderer, parent, artists, suppress_composite)\u001b[0m\n\u001b[1;32m    129\u001b[0m     \u001b[0;32mif\u001b[0m \u001b[0mnot_composite\u001b[0m \u001b[0;32mor\u001b[0m \u001b[0;32mnot\u001b[0m \u001b[0mhas_images\u001b[0m\u001b[0;34m:\u001b[0m\u001b[0;34m\u001b[0m\u001b[0;34m\u001b[0m\u001b[0m\n\u001b[1;32m    130\u001b[0m         \u001b[0;32mfor\u001b[0m \u001b[0ma\u001b[0m \u001b[0;32min\u001b[0m \u001b[0martists\u001b[0m\u001b[0;34m:\u001b[0m\u001b[0;34m\u001b[0m\u001b[0;34m\u001b[0m\u001b[0m\n\u001b[0;32m--> 131\u001b[0;31m             \u001b[0ma\u001b[0m\u001b[0;34m.\u001b[0m\u001b[0mdraw\u001b[0m\u001b[0;34m(\u001b[0m\u001b[0mrenderer\u001b[0m\u001b[0;34m)\u001b[0m\u001b[0;34m\u001b[0m\u001b[0;34m\u001b[0m\u001b[0m\n\u001b[0m\u001b[1;32m    132\u001b[0m     \u001b[0;32melse\u001b[0m\u001b[0;34m:\u001b[0m\u001b[0;34m\u001b[0m\u001b[0;34m\u001b[0m\u001b[0m\n\u001b[1;32m    133\u001b[0m         \u001b[0;31m# Composite any adjacent images together\u001b[0m\u001b[0;34m\u001b[0m\u001b[0;34m\u001b[0m\u001b[0m\n",
            "\u001b[0;32m/usr/local/lib/python3.10/dist-packages/matplotlib/artist.py\u001b[0m in \u001b[0;36mdraw_wrapper\u001b[0;34m(artist, renderer)\u001b[0m\n\u001b[1;32m     70\u001b[0m                 \u001b[0mrenderer\u001b[0m\u001b[0;34m.\u001b[0m\u001b[0mstart_filter\u001b[0m\u001b[0;34m(\u001b[0m\u001b[0;34m)\u001b[0m\u001b[0;34m\u001b[0m\u001b[0;34m\u001b[0m\u001b[0m\n\u001b[1;32m     71\u001b[0m \u001b[0;34m\u001b[0m\u001b[0m\n\u001b[0;32m---> 72\u001b[0;31m             \u001b[0;32mreturn\u001b[0m \u001b[0mdraw\u001b[0m\u001b[0;34m(\u001b[0m\u001b[0martist\u001b[0m\u001b[0;34m,\u001b[0m \u001b[0mrenderer\u001b[0m\u001b[0;34m)\u001b[0m\u001b[0;34m\u001b[0m\u001b[0;34m\u001b[0m\u001b[0m\n\u001b[0m\u001b[1;32m     73\u001b[0m         \u001b[0;32mfinally\u001b[0m\u001b[0;34m:\u001b[0m\u001b[0;34m\u001b[0m\u001b[0;34m\u001b[0m\u001b[0m\n\u001b[1;32m     74\u001b[0m             \u001b[0;32mif\u001b[0m \u001b[0martist\u001b[0m\u001b[0;34m.\u001b[0m\u001b[0mget_agg_filter\u001b[0m\u001b[0;34m(\u001b[0m\u001b[0;34m)\u001b[0m \u001b[0;32mis\u001b[0m \u001b[0;32mnot\u001b[0m \u001b[0;32mNone\u001b[0m\u001b[0;34m:\u001b[0m\u001b[0;34m\u001b[0m\u001b[0;34m\u001b[0m\u001b[0m\n",
            "\u001b[0;32m/usr/local/lib/python3.10/dist-packages/matplotlib/axis.py\u001b[0m in \u001b[0;36mdraw\u001b[0;34m(self, renderer, *args, **kwargs)\u001b[0m\n\u001b[1;32m   1374\u001b[0m         \u001b[0mrenderer\u001b[0m\u001b[0;34m.\u001b[0m\u001b[0mopen_group\u001b[0m\u001b[0;34m(\u001b[0m\u001b[0m__name__\u001b[0m\u001b[0;34m,\u001b[0m \u001b[0mgid\u001b[0m\u001b[0;34m=\u001b[0m\u001b[0mself\u001b[0m\u001b[0;34m.\u001b[0m\u001b[0mget_gid\u001b[0m\u001b[0;34m(\u001b[0m\u001b[0;34m)\u001b[0m\u001b[0;34m)\u001b[0m\u001b[0;34m\u001b[0m\u001b[0;34m\u001b[0m\u001b[0m\n\u001b[1;32m   1375\u001b[0m \u001b[0;34m\u001b[0m\u001b[0m\n\u001b[0;32m-> 1376\u001b[0;31m         \u001b[0mticks_to_draw\u001b[0m \u001b[0;34m=\u001b[0m \u001b[0mself\u001b[0m\u001b[0;34m.\u001b[0m\u001b[0m_update_ticks\u001b[0m\u001b[0;34m(\u001b[0m\u001b[0;34m)\u001b[0m\u001b[0;34m\u001b[0m\u001b[0;34m\u001b[0m\u001b[0m\n\u001b[0m\u001b[1;32m   1377\u001b[0m         \u001b[0mtlb1\u001b[0m\u001b[0;34m,\u001b[0m \u001b[0mtlb2\u001b[0m \u001b[0;34m=\u001b[0m \u001b[0mself\u001b[0m\u001b[0;34m.\u001b[0m\u001b[0m_get_ticklabel_bboxes\u001b[0m\u001b[0;34m(\u001b[0m\u001b[0mticks_to_draw\u001b[0m\u001b[0;34m,\u001b[0m \u001b[0mrenderer\u001b[0m\u001b[0;34m)\u001b[0m\u001b[0;34m\u001b[0m\u001b[0;34m\u001b[0m\u001b[0m\n\u001b[1;32m   1378\u001b[0m \u001b[0;34m\u001b[0m\u001b[0m\n",
            "\u001b[0;32m/usr/local/lib/python3.10/dist-packages/matplotlib/axis.py\u001b[0m in \u001b[0;36m_update_ticks\u001b[0;34m(self)\u001b[0m\n\u001b[1;32m   1268\u001b[0m             \u001b[0mtick\u001b[0m\u001b[0;34m.\u001b[0m\u001b[0mset_label1\u001b[0m\u001b[0;34m(\u001b[0m\u001b[0mlabel\u001b[0m\u001b[0;34m)\u001b[0m\u001b[0;34m\u001b[0m\u001b[0;34m\u001b[0m\u001b[0m\n\u001b[1;32m   1269\u001b[0m             \u001b[0mtick\u001b[0m\u001b[0;34m.\u001b[0m\u001b[0mset_label2\u001b[0m\u001b[0;34m(\u001b[0m\u001b[0mlabel\u001b[0m\u001b[0;34m)\u001b[0m\u001b[0;34m\u001b[0m\u001b[0;34m\u001b[0m\u001b[0m\n\u001b[0;32m-> 1270\u001b[0;31m         \u001b[0mminor_locs\u001b[0m \u001b[0;34m=\u001b[0m \u001b[0mself\u001b[0m\u001b[0;34m.\u001b[0m\u001b[0mget_minorticklocs\u001b[0m\u001b[0;34m(\u001b[0m\u001b[0;34m)\u001b[0m\u001b[0;34m\u001b[0m\u001b[0;34m\u001b[0m\u001b[0m\n\u001b[0m\u001b[1;32m   1271\u001b[0m         \u001b[0mminor_labels\u001b[0m \u001b[0;34m=\u001b[0m \u001b[0mself\u001b[0m\u001b[0;34m.\u001b[0m\u001b[0mminor\u001b[0m\u001b[0;34m.\u001b[0m\u001b[0mformatter\u001b[0m\u001b[0;34m.\u001b[0m\u001b[0mformat_ticks\u001b[0m\u001b[0;34m(\u001b[0m\u001b[0mminor_locs\u001b[0m\u001b[0;34m)\u001b[0m\u001b[0;34m\u001b[0m\u001b[0;34m\u001b[0m\u001b[0m\n\u001b[1;32m   1272\u001b[0m         \u001b[0mminor_ticks\u001b[0m \u001b[0;34m=\u001b[0m \u001b[0mself\u001b[0m\u001b[0;34m.\u001b[0m\u001b[0mget_minor_ticks\u001b[0m\u001b[0;34m(\u001b[0m\u001b[0mlen\u001b[0m\u001b[0;34m(\u001b[0m\u001b[0mminor_locs\u001b[0m\u001b[0;34m)\u001b[0m\u001b[0;34m)\u001b[0m\u001b[0;34m\u001b[0m\u001b[0;34m\u001b[0m\u001b[0m\n",
            "\u001b[0;32m/usr/local/lib/python3.10/dist-packages/matplotlib/axis.py\u001b[0m in \u001b[0;36mget_minorticklocs\u001b[0;34m(self)\u001b[0m\n\u001b[1;32m   1489\u001b[0m         \u001b[0mminor_locs\u001b[0m \u001b[0;34m=\u001b[0m \u001b[0mnp\u001b[0m\u001b[0;34m.\u001b[0m\u001b[0masarray\u001b[0m\u001b[0;34m(\u001b[0m\u001b[0mself\u001b[0m\u001b[0;34m.\u001b[0m\u001b[0mminor\u001b[0m\u001b[0;34m.\u001b[0m\u001b[0mlocator\u001b[0m\u001b[0;34m(\u001b[0m\u001b[0;34m)\u001b[0m\u001b[0;34m)\u001b[0m\u001b[0;34m\u001b[0m\u001b[0;34m\u001b[0m\u001b[0m\n\u001b[1;32m   1490\u001b[0m         \u001b[0;32mif\u001b[0m \u001b[0mself\u001b[0m\u001b[0;34m.\u001b[0m\u001b[0mremove_overlapping_locs\u001b[0m\u001b[0;34m:\u001b[0m\u001b[0;34m\u001b[0m\u001b[0;34m\u001b[0m\u001b[0m\n\u001b[0;32m-> 1491\u001b[0;31m             \u001b[0mmajor_locs\u001b[0m \u001b[0;34m=\u001b[0m \u001b[0mself\u001b[0m\u001b[0;34m.\u001b[0m\u001b[0mmajor\u001b[0m\u001b[0;34m.\u001b[0m\u001b[0mlocator\u001b[0m\u001b[0;34m(\u001b[0m\u001b[0;34m)\u001b[0m\u001b[0;34m\u001b[0m\u001b[0;34m\u001b[0m\u001b[0m\n\u001b[0m\u001b[1;32m   1492\u001b[0m             \u001b[0mtransform\u001b[0m \u001b[0;34m=\u001b[0m \u001b[0mself\u001b[0m\u001b[0;34m.\u001b[0m\u001b[0m_scale\u001b[0m\u001b[0;34m.\u001b[0m\u001b[0mget_transform\u001b[0m\u001b[0;34m(\u001b[0m\u001b[0;34m)\u001b[0m\u001b[0;34m\u001b[0m\u001b[0;34m\u001b[0m\u001b[0m\n\u001b[1;32m   1493\u001b[0m             \u001b[0mtr_minor_locs\u001b[0m \u001b[0;34m=\u001b[0m \u001b[0mtransform\u001b[0m\u001b[0;34m.\u001b[0m\u001b[0mtransform\u001b[0m\u001b[0;34m(\u001b[0m\u001b[0mminor_locs\u001b[0m\u001b[0;34m)\u001b[0m\u001b[0;34m\u001b[0m\u001b[0;34m\u001b[0m\u001b[0m\n",
            "\u001b[0;32m/usr/local/lib/python3.10/dist-packages/matplotlib/ticker.py\u001b[0m in \u001b[0;36m__call__\u001b[0;34m(self)\u001b[0m\n\u001b[1;32m   2134\u001b[0m     \u001b[0;32mdef\u001b[0m \u001b[0m__call__\u001b[0m\u001b[0;34m(\u001b[0m\u001b[0mself\u001b[0m\u001b[0;34m)\u001b[0m\u001b[0;34m:\u001b[0m\u001b[0;34m\u001b[0m\u001b[0;34m\u001b[0m\u001b[0m\n\u001b[1;32m   2135\u001b[0m         \u001b[0mvmin\u001b[0m\u001b[0;34m,\u001b[0m \u001b[0mvmax\u001b[0m \u001b[0;34m=\u001b[0m \u001b[0mself\u001b[0m\u001b[0;34m.\u001b[0m\u001b[0maxis\u001b[0m\u001b[0;34m.\u001b[0m\u001b[0mget_view_interval\u001b[0m\u001b[0;34m(\u001b[0m\u001b[0;34m)\u001b[0m\u001b[0;34m\u001b[0m\u001b[0;34m\u001b[0m\u001b[0m\n\u001b[0;32m-> 2136\u001b[0;31m         \u001b[0;32mreturn\u001b[0m \u001b[0mself\u001b[0m\u001b[0;34m.\u001b[0m\u001b[0mtick_values\u001b[0m\u001b[0;34m(\u001b[0m\u001b[0mvmin\u001b[0m\u001b[0;34m,\u001b[0m \u001b[0mvmax\u001b[0m\u001b[0;34m)\u001b[0m\u001b[0;34m\u001b[0m\u001b[0;34m\u001b[0m\u001b[0m\n\u001b[0m\u001b[1;32m   2137\u001b[0m \u001b[0;34m\u001b[0m\u001b[0m\n\u001b[1;32m   2138\u001b[0m     \u001b[0;32mdef\u001b[0m \u001b[0mtick_values\u001b[0m\u001b[0;34m(\u001b[0m\u001b[0mself\u001b[0m\u001b[0;34m,\u001b[0m \u001b[0mvmin\u001b[0m\u001b[0;34m,\u001b[0m \u001b[0mvmax\u001b[0m\u001b[0;34m)\u001b[0m\u001b[0;34m:\u001b[0m\u001b[0;34m\u001b[0m\u001b[0;34m\u001b[0m\u001b[0m\n",
            "\u001b[0;32m/usr/local/lib/python3.10/dist-packages/matplotlib/ticker.py\u001b[0m in \u001b[0;36mtick_values\u001b[0;34m(self, vmin, vmax)\u001b[0m\n\u001b[1;32m   2142\u001b[0m         vmin, vmax = mtransforms.nonsingular(\n\u001b[1;32m   2143\u001b[0m             vmin, vmax, expander=1e-13, tiny=1e-14)\n\u001b[0;32m-> 2144\u001b[0;31m         \u001b[0mlocs\u001b[0m \u001b[0;34m=\u001b[0m \u001b[0mself\u001b[0m\u001b[0;34m.\u001b[0m\u001b[0m_raw_ticks\u001b[0m\u001b[0;34m(\u001b[0m\u001b[0mvmin\u001b[0m\u001b[0;34m,\u001b[0m \u001b[0mvmax\u001b[0m\u001b[0;34m)\u001b[0m\u001b[0;34m\u001b[0m\u001b[0;34m\u001b[0m\u001b[0m\n\u001b[0m\u001b[1;32m   2145\u001b[0m \u001b[0;34m\u001b[0m\u001b[0m\n\u001b[1;32m   2146\u001b[0m         \u001b[0mprune\u001b[0m \u001b[0;34m=\u001b[0m \u001b[0mself\u001b[0m\u001b[0;34m.\u001b[0m\u001b[0m_prune\u001b[0m\u001b[0;34m\u001b[0m\u001b[0;34m\u001b[0m\u001b[0m\n",
            "\u001b[0;32m/usr/local/lib/python3.10/dist-packages/matplotlib/ticker.py\u001b[0m in \u001b[0;36m_raw_ticks\u001b[0;34m(self, vmin, vmax)\u001b[0m\n\u001b[1;32m   2122\u001b[0m             \u001b[0;31m# The edge ticks beyond vmin and/or vmax are needed for the\u001b[0m\u001b[0;34m\u001b[0m\u001b[0;34m\u001b[0m\u001b[0m\n\u001b[1;32m   2123\u001b[0m             \u001b[0;31m# \"round_numbers\" autolimit mode.\u001b[0m\u001b[0;34m\u001b[0m\u001b[0;34m\u001b[0m\u001b[0m\n\u001b[0;32m-> 2124\u001b[0;31m             \u001b[0medge\u001b[0m \u001b[0;34m=\u001b[0m \u001b[0m_Edge_integer\u001b[0m\u001b[0;34m(\u001b[0m\u001b[0mstep\u001b[0m\u001b[0;34m,\u001b[0m \u001b[0moffset\u001b[0m\u001b[0;34m)\u001b[0m\u001b[0;34m\u001b[0m\u001b[0;34m\u001b[0m\u001b[0m\n\u001b[0m\u001b[1;32m   2125\u001b[0m             \u001b[0mlow\u001b[0m \u001b[0;34m=\u001b[0m \u001b[0medge\u001b[0m\u001b[0;34m.\u001b[0m\u001b[0mle\u001b[0m\u001b[0;34m(\u001b[0m\u001b[0m_vmin\u001b[0m \u001b[0;34m-\u001b[0m \u001b[0mbest_vmin\u001b[0m\u001b[0;34m)\u001b[0m\u001b[0;34m\u001b[0m\u001b[0;34m\u001b[0m\u001b[0m\n\u001b[1;32m   2126\u001b[0m             \u001b[0mhigh\u001b[0m \u001b[0;34m=\u001b[0m \u001b[0medge\u001b[0m\u001b[0;34m.\u001b[0m\u001b[0mge\u001b[0m\u001b[0;34m(\u001b[0m\u001b[0m_vmax\u001b[0m \u001b[0;34m-\u001b[0m \u001b[0mbest_vmin\u001b[0m\u001b[0;34m)\u001b[0m\u001b[0;34m\u001b[0m\u001b[0;34m\u001b[0m\u001b[0m\n",
            "\u001b[0;32m/usr/local/lib/python3.10/dist-packages/matplotlib/ticker.py\u001b[0m in \u001b[0;36m__init__\u001b[0;34m(self, step, offset)\u001b[0m\n\u001b[1;32m   1915\u001b[0m     \u001b[0mtick\u001b[0m \u001b[0mlocations\u001b[0m \u001b[0;32mas\u001b[0m \u001b[0minteger\u001b[0m \u001b[0mmultiples\u001b[0m \u001b[0mof\u001b[0m \u001b[0ma\u001b[0m \u001b[0mstep\u001b[0m\u001b[0;34m.\u001b[0m\u001b[0;34m\u001b[0m\u001b[0;34m\u001b[0m\u001b[0m\n\u001b[1;32m   1916\u001b[0m     \"\"\"\n\u001b[0;32m-> 1917\u001b[0;31m     \u001b[0;32mdef\u001b[0m \u001b[0m__init__\u001b[0m\u001b[0;34m(\u001b[0m\u001b[0mself\u001b[0m\u001b[0;34m,\u001b[0m \u001b[0mstep\u001b[0m\u001b[0;34m,\u001b[0m \u001b[0moffset\u001b[0m\u001b[0;34m)\u001b[0m\u001b[0;34m:\u001b[0m\u001b[0;34m\u001b[0m\u001b[0;34m\u001b[0m\u001b[0m\n\u001b[0m\u001b[1;32m   1918\u001b[0m         \"\"\"\n\u001b[1;32m   1919\u001b[0m         \u001b[0mParameters\u001b[0m\u001b[0;34m\u001b[0m\u001b[0;34m\u001b[0m\u001b[0m\n",
            "\u001b[0;31mKeyboardInterrupt\u001b[0m: "
          ]
        }
      ]
    },
    {
      "cell_type": "code",
      "source": [],
      "metadata": {
        "id": "Yhvm1HdmD3ll"
      },
      "execution_count": null,
      "outputs": []
    }
  ]
}