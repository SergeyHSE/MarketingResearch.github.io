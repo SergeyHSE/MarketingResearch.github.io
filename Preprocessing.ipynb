{
  "nbformat": 4,
  "nbformat_minor": 0,
  "metadata": {
    "colab": {
      "provenance": [],
      "authorship_tag": "ABX9TyO1/ZaaszIqXIDmiHVKFkZB",
      "include_colab_link": true
    },
    "kernelspec": {
      "name": "python3",
      "display_name": "Python 3"
    },
    "language_info": {
      "name": "python"
    }
  },
  "cells": [
    {
      "cell_type": "markdown",
      "metadata": {
        "id": "view-in-github",
        "colab_type": "text"
      },
      "source": [
        "<a href=\"https://colab.research.google.com/github/SergeyHSE/MarketingResearch.github.io/blob/main/Preprocessing.ipynb\" target=\"_parent\"><img src=\"https://colab.research.google.com/assets/colab-badge.svg\" alt=\"Open In Colab\"/></a>"
      ]
    },
    {
      "cell_type": "code",
      "source": [
        "import warnings\n",
        "warnings.filterwarnings('ignore')"
      ],
      "metadata": {
        "id": "KlmviqUKAnJO"
      },
      "execution_count": 1,
      "outputs": []
    },
    {
      "cell_type": "code",
      "source": [
        "from google.colab import drive\n",
        "drive.mount('/content/drive')"
      ],
      "metadata": {
        "colab": {
          "base_uri": "https://localhost:8080/"
        },
        "id": "e_9cZoryBxJD",
        "outputId": "a25fb21f-4f19-4450-948f-97a7e62e22fb"
      },
      "execution_count": 2,
      "outputs": [
        {
          "output_type": "stream",
          "name": "stdout",
          "text": [
            "Mounted at /content/drive\n"
          ]
        }
      ]
    },
    {
      "cell_type": "code",
      "source": [
        "import pandas as pd\n",
        "pd.set_option('display.max_columns', None)\n",
        "pd.set_option('display.max_rows', None)\n",
        "\n",
        "data_SimpleWine = pd.read_csv('/content/drive/MyDrive/ForColab/SimpleWine.csv')\n",
        "data_WineStyle = pd.read_csv('/content/drive/MyDrive/ForColab/WineStyle.csv')\n",
        "data_WineLab = pd.read_csv('/content/drive/MyDrive/ForColab/WineLab_processed_data.csv')\n",
        "data_AM = pd.read_csv('/content/drive/MyDrive/ForColab/AM.csv')\n",
        "data_KB = pd.read_csv('/content/drive/MyDrive/ForColab/KB.csv')"
      ],
      "metadata": {
        "id": "MeuwUvefD4EU"
      },
      "execution_count": 3,
      "outputs": []
    },
    {
      "cell_type": "code",
      "source": [
        "data_KB.head(8)"
      ],
      "metadata": {
        "colab": {
          "base_uri": "https://localhost:8080/",
          "height": 650
        },
        "id": "rbbN4Ye7VUZV",
        "outputId": "a58656e5-0295-4347-ffa0-5a8c1f455889"
      },
      "execution_count": null,
      "outputs": [
        {
          "output_type": "execute_result",
          "data": {
            "text/plain": [
              "                                        Link_product Number_votes  \\\n",
              "0  https://krasnoeibeloe.ru/catalog/vino/vino_bar...   474 оценки   \n",
              "1  https://krasnoeibeloe.ru/catalog/vino/vino_bro...   281 оценка   \n",
              "2  https://krasnoeibeloe.ru/catalog/vino/vino_kuu...   219 оценок   \n",
              "3  https://krasnoeibeloe.ru/catalog/vino/vino_bro...   177 оценок   \n",
              "4  https://krasnoeibeloe.ru/catalog/vino/vino_kuu...   172 оценки   \n",
              "5  https://krasnoeibeloe.ru/catalog/vino/vino_kuu...    92 оценки   \n",
              "6  https://krasnoeibeloe.ru/catalog/vino/vino_key...    21 оценка   \n",
              "7  https://krasnoeibeloe.ru/catalog/vino/vino_spe...    12 оценок   \n",
              "\n",
              "                                               Image     Price  \\\n",
              "0  //krasnoeibeloe.servicecdn.ru/upload/resize_ca...  894.80 ₽   \n",
              "1  //krasnoeibeloe.servicecdn.ru/upload/resize_ca...  499.99 ₽   \n",
              "2  //krasnoeibeloe.servicecdn.ru/upload/resize_ca...  346.99 ₽   \n",
              "3  //krasnoeibeloe.servicecdn.ru/upload/resize_ca...  499.99 ₽   \n",
              "4  //krasnoeibeloe.servicecdn.ru/upload/resize_ca...  346.99 ₽   \n",
              "5  //krasnoeibeloe.servicecdn.ru/upload/resize_ca...  449.99 ₽   \n",
              "6  //krasnoeibeloe.servicecdn.ru/upload/resize_ca...  649.90 ₽   \n",
              "7  //krasnoeibeloe.servicecdn.ru/upload/resize_ca...  599.90 ₽   \n",
              "\n",
              "  Температура подачи Gilbert & Gaillard     Цвет        Регион  \\\n",
              "0              17 °С         Gold medal  Красное  Вестерн Кейп   \n",
              "1              12 °С         Gold medal    Белое  Вестерн Кейп   \n",
              "2              16 °С         DoubleGold  Красное  Вестерн Кейп   \n",
              "3              12 °С         Gold medal  Розовое  Вестерн Кейп   \n",
              "4              12 °С         Gold Medal    Белое  Вестерн Кейп   \n",
              "5              11 °С         Gold Medal    Белое  Вестерн Кейп   \n",
              "6              11 °С                NaN    Белое  Вестерн Кейп   \n",
              "7              17 °С                NaN  Красное  Вестерн Кейп   \n",
              "\n",
              "       Производитель    Объем Страна    Сахар Алкоголь   Price.1  \\\n",
              "0  Val de Vie Estate  0.75 л.    ЮАР    Сухое     13 %  894.80 ₽   \n",
              "1                NaN  0.75 л.    ЮАР    Сухое   12.5 %  499.99 ₽   \n",
              "2                NaN  0.75 л.    ЮАР  П/сухое   13.5 %  346.99 ₽   \n",
              "3                NaN  0.75 л.    ЮАР    Сухое   12.5 %  499.99 ₽   \n",
              "4                NaN  0.75 л.    ЮАР    Сухое   12.5 %  346.99 ₽   \n",
              "5                NaN  0.75 л.    ЮАР    Сухое     13 %  449.99 ₽   \n",
              "6                NaN  0.75 л.    ЮАР  П/сухое     12 %  649.90 ₽   \n",
              "7                NaN  0.75 л.    ЮАР  П/сухое      9 %  599.90 ₽   \n",
              "\n",
              "                                             Image.1 Number_votes.1  \\\n",
              "0  //krasnoeibeloe.servicecdn.ru/upload/resize_ca...     474 оценки   \n",
              "1  //krasnoeibeloe.servicecdn.ru/upload/resize_ca...     281 оценка   \n",
              "2  //krasnoeibeloe.servicecdn.ru/upload/resize_ca...     219 оценок   \n",
              "3  //krasnoeibeloe.servicecdn.ru/upload/resize_ca...     177 оценок   \n",
              "4  //krasnoeibeloe.servicecdn.ru/upload/resize_ca...     172 оценки   \n",
              "5  //krasnoeibeloe.servicecdn.ru/upload/resize_ca...      92 оценки   \n",
              "6  //krasnoeibeloe.servicecdn.ru/upload/resize_ca...      21 оценка   \n",
              "7  //krasnoeibeloe.servicecdn.ru/upload/resize_ca...      12 оценок   \n",
              "\n",
              "                                      Link_product.1         Сорта винограда  \\\n",
              "0  https://krasnoeibeloe.ru/catalog/vino/vino_bar...                 Пинотаж   \n",
              "1  https://krasnoeibeloe.ru/catalog/vino/vino_bro...           Совиньон Блан   \n",
              "2  https://krasnoeibeloe.ru/catalog/vino/vino_kuu...                 Пинотаж   \n",
              "3  https://krasnoeibeloe.ru/catalog/vino/vino_bro...  Совиньон БланПино Нуар   \n",
              "4  https://krasnoeibeloe.ru/catalog/vino/vino_kuu...           Совиньон Блан   \n",
              "5  https://krasnoeibeloe.ru/catalog/vino/vino_kuu...                 Шардоне   \n",
              "6  https://krasnoeibeloe.ru/catalog/vino/vino_key...              Шенен Блан   \n",
              "7  https://krasnoeibeloe.ru/catalog/vino/vino_spe...                 Пинотаж   \n",
              "\n",
              "                                Характеристика вкуса  \\\n",
              "0  Мощный, с фруктово–ягодной кислотностью и слад...   \n",
              "1  Освежающий, минеральный, с приятной цитрусовой...   \n",
              "2                                                NaN   \n",
              "3  Освежающий, минеральный, с приятной цитрусовой...   \n",
              "4                                                NaN   \n",
              "5                                                NaN   \n",
              "6                       Хрустящий и привлекательный.   \n",
              "7                    Легкое, выразительно фруктовое.   \n",
              "\n",
              "                             Бренд  \n",
              "0                Barista (Бариста)  \n",
              "1              Broadleaf (Бродлиф)  \n",
              "2                              NaN  \n",
              "3              Broadleaf (Бродлиф)  \n",
              "4                              NaN  \n",
              "5                              NaN  \n",
              "6  Cape Discovery (Кейп Дискавери)  \n",
              "7                              NaN  "
            ],
            "text/html": [
              "\n",
              "  <div id=\"df-f7aa1987-e3e1-4d19-bfbd-ec07e4283494\" class=\"colab-df-container\">\n",
              "    <div>\n",
              "<style scoped>\n",
              "    .dataframe tbody tr th:only-of-type {\n",
              "        vertical-align: middle;\n",
              "    }\n",
              "\n",
              "    .dataframe tbody tr th {\n",
              "        vertical-align: top;\n",
              "    }\n",
              "\n",
              "    .dataframe thead th {\n",
              "        text-align: right;\n",
              "    }\n",
              "</style>\n",
              "<table border=\"1\" class=\"dataframe\">\n",
              "  <thead>\n",
              "    <tr style=\"text-align: right;\">\n",
              "      <th></th>\n",
              "      <th>Link_product</th>\n",
              "      <th>Number_votes</th>\n",
              "      <th>Image</th>\n",
              "      <th>Price</th>\n",
              "      <th>Температура подачи</th>\n",
              "      <th>Gilbert &amp; Gaillard</th>\n",
              "      <th>Цвет</th>\n",
              "      <th>Регион</th>\n",
              "      <th>Производитель</th>\n",
              "      <th>Объем</th>\n",
              "      <th>Страна</th>\n",
              "      <th>Сахар</th>\n",
              "      <th>Алкоголь</th>\n",
              "      <th>Price.1</th>\n",
              "      <th>Image.1</th>\n",
              "      <th>Number_votes.1</th>\n",
              "      <th>Link_product.1</th>\n",
              "      <th>Сорта винограда</th>\n",
              "      <th>Характеристика вкуса</th>\n",
              "      <th>Бренд</th>\n",
              "    </tr>\n",
              "  </thead>\n",
              "  <tbody>\n",
              "    <tr>\n",
              "      <th>0</th>\n",
              "      <td>https://krasnoeibeloe.ru/catalog/vino/vino_bar...</td>\n",
              "      <td>474 оценки</td>\n",
              "      <td>//krasnoeibeloe.servicecdn.ru/upload/resize_ca...</td>\n",
              "      <td>894.80 ₽</td>\n",
              "      <td>17 °С</td>\n",
              "      <td>Gold medal</td>\n",
              "      <td>Красное</td>\n",
              "      <td>Вестерн Кейп</td>\n",
              "      <td>Val de Vie Estate</td>\n",
              "      <td>0.75 л.</td>\n",
              "      <td>ЮАР</td>\n",
              "      <td>Сухое</td>\n",
              "      <td>13 %</td>\n",
              "      <td>894.80 ₽</td>\n",
              "      <td>//krasnoeibeloe.servicecdn.ru/upload/resize_ca...</td>\n",
              "      <td>474 оценки</td>\n",
              "      <td>https://krasnoeibeloe.ru/catalog/vino/vino_bar...</td>\n",
              "      <td>Пинотаж</td>\n",
              "      <td>Мощный, с фруктово–ягодной кислотностью и слад...</td>\n",
              "      <td>Barista (Бариста)</td>\n",
              "    </tr>\n",
              "    <tr>\n",
              "      <th>1</th>\n",
              "      <td>https://krasnoeibeloe.ru/catalog/vino/vino_bro...</td>\n",
              "      <td>281 оценка</td>\n",
              "      <td>//krasnoeibeloe.servicecdn.ru/upload/resize_ca...</td>\n",
              "      <td>499.99 ₽</td>\n",
              "      <td>12 °С</td>\n",
              "      <td>Gold medal</td>\n",
              "      <td>Белое</td>\n",
              "      <td>Вестерн Кейп</td>\n",
              "      <td>NaN</td>\n",
              "      <td>0.75 л.</td>\n",
              "      <td>ЮАР</td>\n",
              "      <td>Сухое</td>\n",
              "      <td>12.5 %</td>\n",
              "      <td>499.99 ₽</td>\n",
              "      <td>//krasnoeibeloe.servicecdn.ru/upload/resize_ca...</td>\n",
              "      <td>281 оценка</td>\n",
              "      <td>https://krasnoeibeloe.ru/catalog/vino/vino_bro...</td>\n",
              "      <td>Совиньон Блан</td>\n",
              "      <td>Освежающий, минеральный, с приятной цитрусовой...</td>\n",
              "      <td>Broadleaf (Бродлиф)</td>\n",
              "    </tr>\n",
              "    <tr>\n",
              "      <th>2</th>\n",
              "      <td>https://krasnoeibeloe.ru/catalog/vino/vino_kuu...</td>\n",
              "      <td>219 оценок</td>\n",
              "      <td>//krasnoeibeloe.servicecdn.ru/upload/resize_ca...</td>\n",
              "      <td>346.99 ₽</td>\n",
              "      <td>16 °С</td>\n",
              "      <td>DoubleGold</td>\n",
              "      <td>Красное</td>\n",
              "      <td>Вестерн Кейп</td>\n",
              "      <td>NaN</td>\n",
              "      <td>0.75 л.</td>\n",
              "      <td>ЮАР</td>\n",
              "      <td>П/сухое</td>\n",
              "      <td>13.5 %</td>\n",
              "      <td>346.99 ₽</td>\n",
              "      <td>//krasnoeibeloe.servicecdn.ru/upload/resize_ca...</td>\n",
              "      <td>219 оценок</td>\n",
              "      <td>https://krasnoeibeloe.ru/catalog/vino/vino_kuu...</td>\n",
              "      <td>Пинотаж</td>\n",
              "      <td>NaN</td>\n",
              "      <td>NaN</td>\n",
              "    </tr>\n",
              "    <tr>\n",
              "      <th>3</th>\n",
              "      <td>https://krasnoeibeloe.ru/catalog/vino/vino_bro...</td>\n",
              "      <td>177 оценок</td>\n",
              "      <td>//krasnoeibeloe.servicecdn.ru/upload/resize_ca...</td>\n",
              "      <td>499.99 ₽</td>\n",
              "      <td>12 °С</td>\n",
              "      <td>Gold medal</td>\n",
              "      <td>Розовое</td>\n",
              "      <td>Вестерн Кейп</td>\n",
              "      <td>NaN</td>\n",
              "      <td>0.75 л.</td>\n",
              "      <td>ЮАР</td>\n",
              "      <td>Сухое</td>\n",
              "      <td>12.5 %</td>\n",
              "      <td>499.99 ₽</td>\n",
              "      <td>//krasnoeibeloe.servicecdn.ru/upload/resize_ca...</td>\n",
              "      <td>177 оценок</td>\n",
              "      <td>https://krasnoeibeloe.ru/catalog/vino/vino_bro...</td>\n",
              "      <td>Совиньон БланПино Нуар</td>\n",
              "      <td>Освежающий, минеральный, с приятной цитрусовой...</td>\n",
              "      <td>Broadleaf (Бродлиф)</td>\n",
              "    </tr>\n",
              "    <tr>\n",
              "      <th>4</th>\n",
              "      <td>https://krasnoeibeloe.ru/catalog/vino/vino_kuu...</td>\n",
              "      <td>172 оценки</td>\n",
              "      <td>//krasnoeibeloe.servicecdn.ru/upload/resize_ca...</td>\n",
              "      <td>346.99 ₽</td>\n",
              "      <td>12 °С</td>\n",
              "      <td>Gold Medal</td>\n",
              "      <td>Белое</td>\n",
              "      <td>Вестерн Кейп</td>\n",
              "      <td>NaN</td>\n",
              "      <td>0.75 л.</td>\n",
              "      <td>ЮАР</td>\n",
              "      <td>Сухое</td>\n",
              "      <td>12.5 %</td>\n",
              "      <td>346.99 ₽</td>\n",
              "      <td>//krasnoeibeloe.servicecdn.ru/upload/resize_ca...</td>\n",
              "      <td>172 оценки</td>\n",
              "      <td>https://krasnoeibeloe.ru/catalog/vino/vino_kuu...</td>\n",
              "      <td>Совиньон Блан</td>\n",
              "      <td>NaN</td>\n",
              "      <td>NaN</td>\n",
              "    </tr>\n",
              "    <tr>\n",
              "      <th>5</th>\n",
              "      <td>https://krasnoeibeloe.ru/catalog/vino/vino_kuu...</td>\n",
              "      <td>92 оценки</td>\n",
              "      <td>//krasnoeibeloe.servicecdn.ru/upload/resize_ca...</td>\n",
              "      <td>449.99 ₽</td>\n",
              "      <td>11 °С</td>\n",
              "      <td>Gold Medal</td>\n",
              "      <td>Белое</td>\n",
              "      <td>Вестерн Кейп</td>\n",
              "      <td>NaN</td>\n",
              "      <td>0.75 л.</td>\n",
              "      <td>ЮАР</td>\n",
              "      <td>Сухое</td>\n",
              "      <td>13 %</td>\n",
              "      <td>449.99 ₽</td>\n",
              "      <td>//krasnoeibeloe.servicecdn.ru/upload/resize_ca...</td>\n",
              "      <td>92 оценки</td>\n",
              "      <td>https://krasnoeibeloe.ru/catalog/vino/vino_kuu...</td>\n",
              "      <td>Шардоне</td>\n",
              "      <td>NaN</td>\n",
              "      <td>NaN</td>\n",
              "    </tr>\n",
              "    <tr>\n",
              "      <th>6</th>\n",
              "      <td>https://krasnoeibeloe.ru/catalog/vino/vino_key...</td>\n",
              "      <td>21 оценка</td>\n",
              "      <td>//krasnoeibeloe.servicecdn.ru/upload/resize_ca...</td>\n",
              "      <td>649.90 ₽</td>\n",
              "      <td>11 °С</td>\n",
              "      <td>NaN</td>\n",
              "      <td>Белое</td>\n",
              "      <td>Вестерн Кейп</td>\n",
              "      <td>NaN</td>\n",
              "      <td>0.75 л.</td>\n",
              "      <td>ЮАР</td>\n",
              "      <td>П/сухое</td>\n",
              "      <td>12 %</td>\n",
              "      <td>649.90 ₽</td>\n",
              "      <td>//krasnoeibeloe.servicecdn.ru/upload/resize_ca...</td>\n",
              "      <td>21 оценка</td>\n",
              "      <td>https://krasnoeibeloe.ru/catalog/vino/vino_key...</td>\n",
              "      <td>Шенен Блан</td>\n",
              "      <td>Хрустящий и привлекательный.</td>\n",
              "      <td>Cape Discovery (Кейп Дискавери)</td>\n",
              "    </tr>\n",
              "    <tr>\n",
              "      <th>7</th>\n",
              "      <td>https://krasnoeibeloe.ru/catalog/vino/vino_spe...</td>\n",
              "      <td>12 оценок</td>\n",
              "      <td>//krasnoeibeloe.servicecdn.ru/upload/resize_ca...</td>\n",
              "      <td>599.90 ₽</td>\n",
              "      <td>17 °С</td>\n",
              "      <td>NaN</td>\n",
              "      <td>Красное</td>\n",
              "      <td>Вестерн Кейп</td>\n",
              "      <td>NaN</td>\n",
              "      <td>0.75 л.</td>\n",
              "      <td>ЮАР</td>\n",
              "      <td>П/сухое</td>\n",
              "      <td>9 %</td>\n",
              "      <td>599.90 ₽</td>\n",
              "      <td>//krasnoeibeloe.servicecdn.ru/upload/resize_ca...</td>\n",
              "      <td>12 оценок</td>\n",
              "      <td>https://krasnoeibeloe.ru/catalog/vino/vino_spe...</td>\n",
              "      <td>Пинотаж</td>\n",
              "      <td>Легкое, выразительно фруктовое.</td>\n",
              "      <td>NaN</td>\n",
              "    </tr>\n",
              "  </tbody>\n",
              "</table>\n",
              "</div>\n",
              "    <div class=\"colab-df-buttons\">\n",
              "\n",
              "  <div class=\"colab-df-container\">\n",
              "    <button class=\"colab-df-convert\" onclick=\"convertToInteractive('df-f7aa1987-e3e1-4d19-bfbd-ec07e4283494')\"\n",
              "            title=\"Convert this dataframe to an interactive table.\"\n",
              "            style=\"display:none;\">\n",
              "\n",
              "  <svg xmlns=\"http://www.w3.org/2000/svg\" height=\"24px\" viewBox=\"0 -960 960 960\">\n",
              "    <path d=\"M120-120v-720h720v720H120Zm60-500h600v-160H180v160Zm220 220h160v-160H400v160Zm0 220h160v-160H400v160ZM180-400h160v-160H180v160Zm440 0h160v-160H620v160ZM180-180h160v-160H180v160Zm440 0h160v-160H620v160Z\"/>\n",
              "  </svg>\n",
              "    </button>\n",
              "\n",
              "  <style>\n",
              "    .colab-df-container {\n",
              "      display:flex;\n",
              "      gap: 12px;\n",
              "    }\n",
              "\n",
              "    .colab-df-convert {\n",
              "      background-color: #E8F0FE;\n",
              "      border: none;\n",
              "      border-radius: 50%;\n",
              "      cursor: pointer;\n",
              "      display: none;\n",
              "      fill: #1967D2;\n",
              "      height: 32px;\n",
              "      padding: 0 0 0 0;\n",
              "      width: 32px;\n",
              "    }\n",
              "\n",
              "    .colab-df-convert:hover {\n",
              "      background-color: #E2EBFA;\n",
              "      box-shadow: 0px 1px 2px rgba(60, 64, 67, 0.3), 0px 1px 3px 1px rgba(60, 64, 67, 0.15);\n",
              "      fill: #174EA6;\n",
              "    }\n",
              "\n",
              "    .colab-df-buttons div {\n",
              "      margin-bottom: 4px;\n",
              "    }\n",
              "\n",
              "    [theme=dark] .colab-df-convert {\n",
              "      background-color: #3B4455;\n",
              "      fill: #D2E3FC;\n",
              "    }\n",
              "\n",
              "    [theme=dark] .colab-df-convert:hover {\n",
              "      background-color: #434B5C;\n",
              "      box-shadow: 0px 1px 3px 1px rgba(0, 0, 0, 0.15);\n",
              "      filter: drop-shadow(0px 1px 2px rgba(0, 0, 0, 0.3));\n",
              "      fill: #FFFFFF;\n",
              "    }\n",
              "  </style>\n",
              "\n",
              "    <script>\n",
              "      const buttonEl =\n",
              "        document.querySelector('#df-f7aa1987-e3e1-4d19-bfbd-ec07e4283494 button.colab-df-convert');\n",
              "      buttonEl.style.display =\n",
              "        google.colab.kernel.accessAllowed ? 'block' : 'none';\n",
              "\n",
              "      async function convertToInteractive(key) {\n",
              "        const element = document.querySelector('#df-f7aa1987-e3e1-4d19-bfbd-ec07e4283494');\n",
              "        const dataTable =\n",
              "          await google.colab.kernel.invokeFunction('convertToInteractive',\n",
              "                                                    [key], {});\n",
              "        if (!dataTable) return;\n",
              "\n",
              "        const docLinkHtml = 'Like what you see? Visit the ' +\n",
              "          '<a target=\"_blank\" href=https://colab.research.google.com/notebooks/data_table.ipynb>data table notebook</a>'\n",
              "          + ' to learn more about interactive tables.';\n",
              "        element.innerHTML = '';\n",
              "        dataTable['output_type'] = 'display_data';\n",
              "        await google.colab.output.renderOutput(dataTable, element);\n",
              "        const docLink = document.createElement('div');\n",
              "        docLink.innerHTML = docLinkHtml;\n",
              "        element.appendChild(docLink);\n",
              "      }\n",
              "    </script>\n",
              "  </div>\n",
              "\n",
              "\n",
              "<div id=\"df-868e7b0b-7a25-4fba-bf00-377d0122cc9f\">\n",
              "  <button class=\"colab-df-quickchart\" onclick=\"quickchart('df-868e7b0b-7a25-4fba-bf00-377d0122cc9f')\"\n",
              "            title=\"Suggest charts\"\n",
              "            style=\"display:none;\">\n",
              "\n",
              "<svg xmlns=\"http://www.w3.org/2000/svg\" height=\"24px\"viewBox=\"0 0 24 24\"\n",
              "     width=\"24px\">\n",
              "    <g>\n",
              "        <path d=\"M19 3H5c-1.1 0-2 .9-2 2v14c0 1.1.9 2 2 2h14c1.1 0 2-.9 2-2V5c0-1.1-.9-2-2-2zM9 17H7v-7h2v7zm4 0h-2V7h2v10zm4 0h-2v-4h2v4z\"/>\n",
              "    </g>\n",
              "</svg>\n",
              "  </button>\n",
              "\n",
              "<style>\n",
              "  .colab-df-quickchart {\n",
              "      --bg-color: #E8F0FE;\n",
              "      --fill-color: #1967D2;\n",
              "      --hover-bg-color: #E2EBFA;\n",
              "      --hover-fill-color: #174EA6;\n",
              "      --disabled-fill-color: #AAA;\n",
              "      --disabled-bg-color: #DDD;\n",
              "  }\n",
              "\n",
              "  [theme=dark] .colab-df-quickchart {\n",
              "      --bg-color: #3B4455;\n",
              "      --fill-color: #D2E3FC;\n",
              "      --hover-bg-color: #434B5C;\n",
              "      --hover-fill-color: #FFFFFF;\n",
              "      --disabled-bg-color: #3B4455;\n",
              "      --disabled-fill-color: #666;\n",
              "  }\n",
              "\n",
              "  .colab-df-quickchart {\n",
              "    background-color: var(--bg-color);\n",
              "    border: none;\n",
              "    border-radius: 50%;\n",
              "    cursor: pointer;\n",
              "    display: none;\n",
              "    fill: var(--fill-color);\n",
              "    height: 32px;\n",
              "    padding: 0;\n",
              "    width: 32px;\n",
              "  }\n",
              "\n",
              "  .colab-df-quickchart:hover {\n",
              "    background-color: var(--hover-bg-color);\n",
              "    box-shadow: 0 1px 2px rgba(60, 64, 67, 0.3), 0 1px 3px 1px rgba(60, 64, 67, 0.15);\n",
              "    fill: var(--button-hover-fill-color);\n",
              "  }\n",
              "\n",
              "  .colab-df-quickchart-complete:disabled,\n",
              "  .colab-df-quickchart-complete:disabled:hover {\n",
              "    background-color: var(--disabled-bg-color);\n",
              "    fill: var(--disabled-fill-color);\n",
              "    box-shadow: none;\n",
              "  }\n",
              "\n",
              "  .colab-df-spinner {\n",
              "    border: 2px solid var(--fill-color);\n",
              "    border-color: transparent;\n",
              "    border-bottom-color: var(--fill-color);\n",
              "    animation:\n",
              "      spin 1s steps(1) infinite;\n",
              "  }\n",
              "\n",
              "  @keyframes spin {\n",
              "    0% {\n",
              "      border-color: transparent;\n",
              "      border-bottom-color: var(--fill-color);\n",
              "      border-left-color: var(--fill-color);\n",
              "    }\n",
              "    20% {\n",
              "      border-color: transparent;\n",
              "      border-left-color: var(--fill-color);\n",
              "      border-top-color: var(--fill-color);\n",
              "    }\n",
              "    30% {\n",
              "      border-color: transparent;\n",
              "      border-left-color: var(--fill-color);\n",
              "      border-top-color: var(--fill-color);\n",
              "      border-right-color: var(--fill-color);\n",
              "    }\n",
              "    40% {\n",
              "      border-color: transparent;\n",
              "      border-right-color: var(--fill-color);\n",
              "      border-top-color: var(--fill-color);\n",
              "    }\n",
              "    60% {\n",
              "      border-color: transparent;\n",
              "      border-right-color: var(--fill-color);\n",
              "    }\n",
              "    80% {\n",
              "      border-color: transparent;\n",
              "      border-right-color: var(--fill-color);\n",
              "      border-bottom-color: var(--fill-color);\n",
              "    }\n",
              "    90% {\n",
              "      border-color: transparent;\n",
              "      border-bottom-color: var(--fill-color);\n",
              "    }\n",
              "  }\n",
              "</style>\n",
              "\n",
              "  <script>\n",
              "    async function quickchart(key) {\n",
              "      const quickchartButtonEl =\n",
              "        document.querySelector('#' + key + ' button');\n",
              "      quickchartButtonEl.disabled = true;  // To prevent multiple clicks.\n",
              "      quickchartButtonEl.classList.add('colab-df-spinner');\n",
              "      try {\n",
              "        const charts = await google.colab.kernel.invokeFunction(\n",
              "            'suggestCharts', [key], {});\n",
              "      } catch (error) {\n",
              "        console.error('Error during call to suggestCharts:', error);\n",
              "      }\n",
              "      quickchartButtonEl.classList.remove('colab-df-spinner');\n",
              "      quickchartButtonEl.classList.add('colab-df-quickchart-complete');\n",
              "    }\n",
              "    (() => {\n",
              "      let quickchartButtonEl =\n",
              "        document.querySelector('#df-868e7b0b-7a25-4fba-bf00-377d0122cc9f button');\n",
              "      quickchartButtonEl.style.display =\n",
              "        google.colab.kernel.accessAllowed ? 'block' : 'none';\n",
              "    })();\n",
              "  </script>\n",
              "</div>\n",
              "    </div>\n",
              "  </div>\n"
            ]
          },
          "metadata": {},
          "execution_count": 222
        }
      ]
    },
    {
      "cell_type": "code",
      "source": [
        "data_KB.columns"
      ],
      "metadata": {
        "colab": {
          "base_uri": "https://localhost:8080/"
        },
        "id": "RsdBnoDVf9wn",
        "outputId": "12a88b19-4b4f-4fcb-c9f9-24f519f5fec5"
      },
      "execution_count": null,
      "outputs": [
        {
          "output_type": "execute_result",
          "data": {
            "text/plain": [
              "Index(['Link_product', 'Number_votes', 'Image', 'Price', 'Температура подачи',\n",
              "       'Gilbert & Gaillard', 'Цвет', 'Регион', 'Производитель', 'Объем',\n",
              "       'Страна', 'Сахар', 'Алкоголь', 'Price.1', 'Image.1', 'Number_votes.1',\n",
              "       'Link_product.1', 'Сорта винограда', 'Характеристика вкуса', 'Бренд'],\n",
              "      dtype='object')"
            ]
          },
          "metadata": {},
          "execution_count": 223
        }
      ]
    },
    {
      "cell_type": "code",
      "source": [
        "data_KB = data_KB.drop(['Price.1', 'Image.1', 'Number_votes.1',\n",
        "       'Link_product.1', 'Производитель'], axis=1)"
      ],
      "metadata": {
        "id": "YFSH-A450V_t"
      },
      "execution_count": null,
      "outputs": []
    },
    {
      "cell_type": "code",
      "source": [
        "# Class for extract numeric from columns\n",
        "\n",
        "class NumericEctraction:\n",
        "  def __init__(self, column_names):\n",
        "    self.columns_to_extract = column_names\n",
        "  def extract_numerics(self, s):\n",
        "    try:\n",
        "      return float(''.join(filter(lambda x: x.isdigit() or x == '.', s.split()[0])))\n",
        "    except ValueError:\n",
        "      return None\n",
        "  def extract_numerics_from_all_columns(self, data_frame):\n",
        "    for column_name in self.columns_to_extract:\n",
        "      if column_name in data_frame.columns:\n",
        "        data_frame[column_name] = data_frame[column_name].apply(self.extract_numerics)\n",
        "      else:\n",
        "        print(f\"Column '{column_name}' non found....\")"
      ],
      "metadata": {
        "id": "aFoamTCDgNvJ"
      },
      "execution_count": 4,
      "outputs": []
    },
    {
      "cell_type": "code",
      "source": [
        "column_names = ['Price', 'Температура подачи', 'Объем', 'Алкоголь', 'Number_votes']\n",
        "digits_extract = NumericEctraction(column_names)\n",
        "digits_extract.extract_numerics_from_all_columns(data_KB)"
      ],
      "metadata": {
        "id": "IxVlmg1ym4KF"
      },
      "execution_count": null,
      "outputs": []
    },
    {
      "cell_type": "code",
      "source": [
        "data_KB['Rating'] = [3.5, 4, 3.5, 4, 3.5, 4, 3.5, 3.5]"
      ],
      "metadata": {
        "id": "uGB1HpC0ntq6"
      },
      "execution_count": null,
      "outputs": []
    },
    {
      "cell_type": "code",
      "source": [
        "data_KB['Сегмент'] = 'low'"
      ],
      "metadata": {
        "id": "bnfkHeSmrcgt"
      },
      "execution_count": null,
      "outputs": []
    },
    {
      "cell_type": "code",
      "source": [
        "data_KB.columns"
      ],
      "metadata": {
        "colab": {
          "base_uri": "https://localhost:8080/"
        },
        "id": "pxwep0FF6G9w",
        "outputId": "fc21e546-e291-4f80-e767-65411b81c157"
      },
      "execution_count": null,
      "outputs": [
        {
          "output_type": "execute_result",
          "data": {
            "text/plain": [
              "Index(['Link_product', 'Number_votes', 'Image', 'Price', 'Температура подачи',\n",
              "       'Gilbert & Gaillard', 'Цвет', 'Регион', 'Объем', 'Страна', 'Сахар',\n",
              "       'Алкоголь', 'Сорта винограда', 'Характеристика вкуса', 'Бренд',\n",
              "       'Rating', 'Сегмент'],\n",
              "      dtype='object')"
            ]
          },
          "metadata": {},
          "execution_count": 229
        }
      ]
    },
    {
      "cell_type": "code",
      "source": [
        "new_column_names = ['Product_Link', 'Votes_Count', 'Image_URL', 'Price', 'Serving_Temperature',\n",
        "                    'Gilbert_and_Gaillard', 'Color', 'Region', 'Volume', 'Country', 'Sugar',\n",
        "                    'Alcohol', 'Grape_Varieties', 'Taste_Description', 'Brand', 'Rating', 'Segment']\n",
        "\n",
        "data_KB.columns = new_column_names"
      ],
      "metadata": {
        "id": "DDSzQKWTsZqP"
      },
      "execution_count": null,
      "outputs": []
    },
    {
      "cell_type": "code",
      "source": [
        "data_KB = data_KB.drop(['Product_Link', 'Serving_Temperature', 'Gilbert_and_Gaillard',\n",
        "                        'Country'], axis=1)"
      ],
      "metadata": {
        "id": "CVwST8Rtdorv"
      },
      "execution_count": null,
      "outputs": []
    },
    {
      "cell_type": "code",
      "source": [
        "data_KB['Sugar'] = data_KB['Sugar'].replace('П/сухое', 'полусухое')"
      ],
      "metadata": {
        "id": "d1c6kVPSg3hi"
      },
      "execution_count": null,
      "outputs": []
    },
    {
      "cell_type": "code",
      "source": [
        "data_KB = data_KB.applymap(lambda x: x.lower() if isinstance(x, str) else x)"
      ],
      "metadata": {
        "id": "Qw5lX_OZhwTu"
      },
      "execution_count": null,
      "outputs": []
    },
    {
      "cell_type": "code",
      "source": [
        "import re\n",
        "\n",
        "def extract_english(text):\n",
        "  if pd.notna(text):\n",
        "    return ' '.join(re.findall(r'\\b[a-zA-Z]+\\b', text))\n",
        "  else:\n",
        "    return 'Unknown'"
      ],
      "metadata": {
        "id": "JgGE0GVrjzZf"
      },
      "execution_count": null,
      "outputs": []
    },
    {
      "cell_type": "code",
      "source": [
        "data_KB['Brand'] = data_KB['Brand'].apply(extract_english)"
      ],
      "metadata": {
        "id": "w0oT36BwkV8Y"
      },
      "execution_count": null,
      "outputs": []
    },
    {
      "cell_type": "code",
      "source": [
        "indexes = [2, 4, 5]\n",
        "for index in indexes:\n",
        "  data_KB.loc[index, 'Brand'] = 'kuumba'\n",
        "\n",
        "data_KB.loc[7, 'Brand'] = 'spencer bay'"
      ],
      "metadata": {
        "id": "6L-EPT4zmWlD"
      },
      "execution_count": null,
      "outputs": []
    },
    {
      "cell_type": "code",
      "source": [
        "data_KB.loc[2, 'Taste_Description'] = 'Аромат раскрывается фруктами и ягодами: сливой, ежевикой, в меньшей степени — малиной и вишней. Также присутствуют оттенки лакрицы, болгарского перца, табака и чая ройбуш. Во вкусе ощущаются красные ягоды, изюм, пряности и даже зефир.'\n",
        "data_KB.loc[4, 'Taste_Description'] = 'У вина свежий, элегантный вкус с приятными нотами маракуйи, крыжовника, цитрусовых и хрустящей кислинкой в гармоничном послевкусии. Свежий аромат вина раскрывается тонами белых цветов, цитрусовых, крыжовника и экзотических фруктов.'\n",
        "data_KB.loc[5, 'Taste_Description'] = 'Вина могут раскрываться нотами дыни, яблока, грейпфрута, в тропических вариациях — персика, манго, лайма, ананаса. Выдержанные шардоне отличаются дымным вкусом, в них ощущаются корица, гвоздика, ореховые ноты.'"
      ],
      "metadata": {
        "id": "MteQfZjToCBM"
      },
      "execution_count": null,
      "outputs": []
    },
    {
      "cell_type": "code",
      "source": [
        "data_KB['wine_stopper'] = [1, 1, 1, 1, 1, 1, 2, 1]"
      ],
      "metadata": {
        "id": "k69P16i-_xTC"
      },
      "execution_count": null,
      "outputs": []
    },
    {
      "cell_type": "code",
      "source": [
        "data_KB['Label'] = [1, 1, 1, 1, 1, 1, 2, 2]"
      ],
      "metadata": {
        "id": "DqYwqKVZAtHG"
      },
      "execution_count": null,
      "outputs": []
    },
    {
      "cell_type": "code",
      "source": [
        "data_KB['Shape'] = [1, 2, 1, 2, 1, 1, 2, 1]"
      ],
      "metadata": {
        "id": "gdm4TolZBDbr"
      },
      "execution_count": null,
      "outputs": []
    },
    {
      "cell_type": "code",
      "source": [
        "from IPython.display import display, HTML\n",
        "\n",
        "html = data_KB.to_html(escape=False)\n",
        "\n",
        "for index, row in data_KB.iterrows():\n",
        "    html = html.replace(row['Image_URL'], f'<img src=\"{row[\"Image_URL\"]}\" alt=\"Product Image\" style=\"max-height:150px; max-width:150px;\">')\n",
        "\n",
        "display(HTML(html))"
      ],
      "metadata": {
        "colab": {
          "base_uri": "https://localhost:8080/",
          "height": 1000
        },
        "id": "QOdU409r6duH",
        "outputId": "880e8df2-db3f-45f1-eb05-77d58a945a72"
      },
      "execution_count": null,
      "outputs": [
        {
          "output_type": "display_data",
          "data": {
            "text/plain": [
              "<IPython.core.display.HTML object>"
            ],
            "text/html": [
              "<table border=\"1\" class=\"dataframe\">\n",
              "  <thead>\n",
              "    <tr style=\"text-align: right;\">\n",
              "      <th></th>\n",
              "      <th>Votes_Count</th>\n",
              "      <th>Image_URL</th>\n",
              "      <th>Price</th>\n",
              "      <th>Color</th>\n",
              "      <th>Region</th>\n",
              "      <th>Volume</th>\n",
              "      <th>Sugar</th>\n",
              "      <th>Alcohol</th>\n",
              "      <th>Grape_Varieties</th>\n",
              "      <th>Taste_Description</th>\n",
              "      <th>Brand</th>\n",
              "      <th>Rating</th>\n",
              "      <th>Segment</th>\n",
              "      <th>wine_stopper</th>\n",
              "      <th>Label</th>\n",
              "      <th>Shape</th>\n",
              "    </tr>\n",
              "  </thead>\n",
              "  <tbody>\n",
              "    <tr>\n",
              "      <th>0</th>\n",
              "      <td>474.0</td>\n",
              "      <td><img src=\"//krasnoeibeloe.servicecdn.ru/upload/resize_cache/iblock/a7f/753tjix6p9nqnz1kemfq0om7vr8swteu/261_225_1/barista_pinotage_new_dis2.jpg\" alt=\"Product Image\" style=\"max-height:150px; max-width:150px;\"></td>\n",
              "      <td>894.80</td>\n",
              "      <td>красное</td>\n",
              "      <td>вестерн кейп</td>\n",
              "      <td>0.75</td>\n",
              "      <td>сухое</td>\n",
              "      <td>13.0</td>\n",
              "      <td>пинотаж</td>\n",
              "      <td>мощный, с фруктово–ягодной кислотностью и сладкими джемово–ягодными тонами.</td>\n",
              "      <td>barista</td>\n",
              "      <td>3.5</td>\n",
              "      <td>low</td>\n",
              "      <td>1</td>\n",
              "      <td>1</td>\n",
              "      <td>1</td>\n",
              "    </tr>\n",
              "    <tr>\n",
              "      <th>1</th>\n",
              "      <td>281.0</td>\n",
              "      <td><img src=\"//krasnoeibeloe.servicecdn.ru/upload/resize_cache/iblock/8da/48sudjlqym3u6y6quf5oe04rezn6y3bt/261_225_1/broadleaf_white_10102022.jpg\" alt=\"Product Image\" style=\"max-height:150px; max-width:150px;\"></td>\n",
              "      <td>499.99</td>\n",
              "      <td>белое</td>\n",
              "      <td>вестерн кейп</td>\n",
              "      <td>0.75</td>\n",
              "      <td>сухое</td>\n",
              "      <td>12.5</td>\n",
              "      <td>совиньон блан</td>\n",
              "      <td>освежающий, минеральный, с приятной цитрусовой кислинкой в послевкусии.</td>\n",
              "      <td>broadleaf</td>\n",
              "      <td>4.0</td>\n",
              "      <td>low</td>\n",
              "      <td>1</td>\n",
              "      <td>1</td>\n",
              "      <td>2</td>\n",
              "    </tr>\n",
              "    <tr>\n",
              "      <th>2</th>\n",
              "      <td>219.0</td>\n",
              "      <td><img src=\"//krasnoeibeloe.servicecdn.ru/upload/resize_cache/iblock/7c7/iwwrd0xga18d6btbz1ofsha2ps3za6mt/261_225_1/kuumba_pinotage_29112022.jpg\" alt=\"Product Image\" style=\"max-height:150px; max-width:150px;\"></td>\n",
              "      <td>346.99</td>\n",
              "      <td>красное</td>\n",
              "      <td>вестерн кейп</td>\n",
              "      <td>0.75</td>\n",
              "      <td>полусухое</td>\n",
              "      <td>13.5</td>\n",
              "      <td>пинотаж</td>\n",
              "      <td>Аромат раскрывается фруктами и ягодами: сливой, ежевикой, в меньшей степени — малиной и вишней. Также присутствуют оттенки лакрицы, болгарского перца, табака и чая ройбуш. Во вкусе ощущаются красные ягоды, изюм, пряности и даже зефир.</td>\n",
              "      <td>kuumba</td>\n",
              "      <td>3.5</td>\n",
              "      <td>low</td>\n",
              "      <td>1</td>\n",
              "      <td>1</td>\n",
              "      <td>1</td>\n",
              "    </tr>\n",
              "    <tr>\n",
              "      <th>3</th>\n",
              "      <td>177.0</td>\n",
              "      <td><img src=\"//krasnoeibeloe.servicecdn.ru/upload/resize_cache/iblock/6cf/aovin8xdvgicipjsv164g9tx6l7v10oe/261_225_1/broadleaf_pinked_10102022.jpg\" alt=\"Product Image\" style=\"max-height:150px; max-width:150px;\"></td>\n",
              "      <td>499.99</td>\n",
              "      <td>розовое</td>\n",
              "      <td>вестерн кейп</td>\n",
              "      <td>0.75</td>\n",
              "      <td>сухое</td>\n",
              "      <td>12.5</td>\n",
              "      <td>совиньон бланпино нуар</td>\n",
              "      <td>освежающий, минеральный, с приятной цитрусовой кислинкой в послевкусии.</td>\n",
              "      <td>broadleaf</td>\n",
              "      <td>4.0</td>\n",
              "      <td>low</td>\n",
              "      <td>1</td>\n",
              "      <td>1</td>\n",
              "      <td>2</td>\n",
              "    </tr>\n",
              "    <tr>\n",
              "      <th>4</th>\n",
              "      <td>172.0</td>\n",
              "      <td><img src=\"//krasnoeibeloe.servicecdn.ru/upload/resize_cache/iblock/5f4/517eaf1ccsb3cnjrunrnk1gtkzb63u5d/261_225_1/kuumba_sauvignon_blanc_29112022.jpg\" alt=\"Product Image\" style=\"max-height:150px; max-width:150px;\"></td>\n",
              "      <td>346.99</td>\n",
              "      <td>белое</td>\n",
              "      <td>вестерн кейп</td>\n",
              "      <td>0.75</td>\n",
              "      <td>сухое</td>\n",
              "      <td>12.5</td>\n",
              "      <td>совиньон блан</td>\n",
              "      <td>У вина свежий, элегантный вкус с приятными нотами маракуйи, крыжовника, цитрусовых и хрустящей кислинкой в гармоничном послевкусии. Свежий аромат вина раскрывается тонами белых цветов, цитрусовых, крыжовника и экзотических фруктов.</td>\n",
              "      <td>kuumba</td>\n",
              "      <td>3.5</td>\n",
              "      <td>low</td>\n",
              "      <td>1</td>\n",
              "      <td>1</td>\n",
              "      <td>1</td>\n",
              "    </tr>\n",
              "    <tr>\n",
              "      <th>5</th>\n",
              "      <td>92.0</td>\n",
              "      <td><img src=\"//krasnoeibeloe.servicecdn.ru/upload/resize_cache/iblock/8c4/rd5eedflnf3hd6uoc63xngfbs3rf1f2o/261_225_1/kuumba_chardonnay_021222.jpg\" alt=\"Product Image\" style=\"max-height:150px; max-width:150px;\"></td>\n",
              "      <td>449.99</td>\n",
              "      <td>белое</td>\n",
              "      <td>вестерн кейп</td>\n",
              "      <td>0.75</td>\n",
              "      <td>сухое</td>\n",
              "      <td>13.0</td>\n",
              "      <td>шардоне</td>\n",
              "      <td>Вина могут раскрываться нотами дыни, яблока, грейпфрута, в тропических вариациях — персика, манго, лайма, ананаса. Выдержанные шардоне отличаются дымным вкусом, в них ощущаются корица, гвоздика, ореховые ноты.</td>\n",
              "      <td>kuumba</td>\n",
              "      <td>4.0</td>\n",
              "      <td>low</td>\n",
              "      <td>1</td>\n",
              "      <td>1</td>\n",
              "      <td>1</td>\n",
              "    </tr>\n",
              "    <tr>\n",
              "      <th>6</th>\n",
              "      <td>21.0</td>\n",
              "      <td><img src=\"//krasnoeibeloe.servicecdn.ru/upload/resize_cache/iblock/172/w1whp3e6u8o3wozwrpvj9d851ph3ox7l/261_225_1/vino_shenen_blan_discovery_290623.jpg\" alt=\"Product Image\" style=\"max-height:150px; max-width:150px;\"></td>\n",
              "      <td>649.90</td>\n",
              "      <td>белое</td>\n",
              "      <td>вестерн кейп</td>\n",
              "      <td>0.75</td>\n",
              "      <td>полусухое</td>\n",
              "      <td>12.0</td>\n",
              "      <td>шенен блан</td>\n",
              "      <td>хрустящий и привлекательный.</td>\n",
              "      <td>cape discovery</td>\n",
              "      <td>3.5</td>\n",
              "      <td>low</td>\n",
              "      <td>2</td>\n",
              "      <td>2</td>\n",
              "      <td>2</td>\n",
              "    </tr>\n",
              "    <tr>\n",
              "      <th>7</th>\n",
              "      <td>12.0</td>\n",
              "      <td><img src=\"//krasnoeibeloe.servicecdn.ru/upload/resize_cache/iblock/a35/9lgjhrxozx5n0bs86qld2xb2f6hbx5t4/261_225_1/pinotag_121223_t.jpg\" alt=\"Product Image\" style=\"max-height:150px; max-width:150px;\"></td>\n",
              "      <td>599.90</td>\n",
              "      <td>красное</td>\n",
              "      <td>вестерн кейп</td>\n",
              "      <td>0.75</td>\n",
              "      <td>полусухое</td>\n",
              "      <td>9.0</td>\n",
              "      <td>пинотаж</td>\n",
              "      <td>легкое, выразительно фруктовое.</td>\n",
              "      <td>spencer bay</td>\n",
              "      <td>3.5</td>\n",
              "      <td>low</td>\n",
              "      <td>1</td>\n",
              "      <td>2</td>\n",
              "      <td>1</td>\n",
              "    </tr>\n",
              "  </tbody>\n",
              "</table>"
            ]
          },
          "metadata": {}
        }
      ]
    },
    {
      "cell_type": "code",
      "source": [
        "import os\n",
        "import requests\n",
        "from PIL import Image\n",
        "from io import BytesIO\n",
        "\n",
        "# Download images and save locally\n",
        "downloaded_paths = []\n",
        "\n",
        "for i, img_url in enumerate(data_KB['Image_URL']):\n",
        "    full_url = 'https:' + img_url\n",
        "    response = requests.get(full_url)\n",
        "\n",
        "    if response.status_code == 200:\n",
        "        img = Image.open(BytesIO(response.content))\n",
        "        local_path = f\"image_{i}.jpg\"\n",
        "        img.save(local_path)\n",
        "        downloaded_paths.append(local_path)\n",
        "    else:\n",
        "        print(f\"Failed to download image from {full_url}\")\n",
        "\n",
        "# Update the DataFrame with local paths\n",
        "data_KB['Local_Image_Path'] = downloaded_paths"
      ],
      "metadata": {
        "id": "-9Y9ieiyI8Uz"
      },
      "execution_count": null,
      "outputs": []
    },
    {
      "cell_type": "code",
      "source": [
        "data_KB['Local_Image_Path'] = data_KB['Local_Image_Path'].apply(lambda x: os.path.join(os.getcwd(), x))"
      ],
      "metadata": {
        "id": "86G-cab2fLek"
      },
      "execution_count": null,
      "outputs": []
    },
    {
      "cell_type": "code",
      "source": [
        "data_KB['Local_Image_Path']"
      ],
      "metadata": {
        "colab": {
          "base_uri": "https://localhost:8080/"
        },
        "id": "r_dAHGVBJCFV",
        "outputId": "b85bda99-3b94-4771-f315-5c27feae5530"
      },
      "execution_count": null,
      "outputs": [
        {
          "output_type": "execute_result",
          "data": {
            "text/plain": [
              "0    /content/image_0.jpg\n",
              "1    /content/image_1.jpg\n",
              "2    /content/image_2.jpg\n",
              "3    /content/image_3.jpg\n",
              "4    /content/image_4.jpg\n",
              "5    /content/image_5.jpg\n",
              "6    /content/image_6.jpg\n",
              "7    /content/image_7.jpg\n",
              "Name: Local_Image_Path, dtype: object"
            ]
          },
          "metadata": {},
          "execution_count": 244
        }
      ]
    },
    {
      "cell_type": "code",
      "source": [
        "data_KB['Year'] = 2023"
      ],
      "metadata": {
        "id": "yNBiFn5WgfFJ"
      },
      "execution_count": null,
      "outputs": []
    },
    {
      "cell_type": "code",
      "source": [
        "data_SimpleWine.head()"
      ],
      "metadata": {
        "colab": {
          "base_uri": "https://localhost:8080/",
          "height": 590
        },
        "id": "Y6vYRvPCYfxf",
        "outputId": "49b888fb-3206-417c-c094-a0b3a3a13f40"
      },
      "execution_count": null,
      "outputs": [
        {
          "output_type": "execute_result",
          "data": {
            "text/plain": [
              "                                             Title  \\\n",
              "0                    Вино Tiara, Simonsig, 2018 г.   \n",
              "1              Вино Frans Malan, Simonsig, 2017 г.   \n",
              "2              Вино Pinotage, Spice Route, 2021 г.   \n",
              "3  Вино Sauvignon Blanc Sunbird, Simonsig, 2022 г.   \n",
              "4        Вино Shiraz Mr Borio's, Simonsig, 2020 г.   \n",
              "\n",
              "                                        Link_product  Ratings  Number_votes  \\\n",
              "0            /catalog/product/tiara_2018_075_141078/      4.6           7.0   \n",
              "1      /catalog/product/frans_malan_2017_075_141079/      4.7           6.0   \n",
              "2  /catalog/product/spice_route_pinotage_2021_075...      4.7         100.0   \n",
              "3  /catalog/product/sauvignon_blanc_sunbird_2022_...      4.6          15.0   \n",
              "4  /catalog/product/shiraz_mr_borio_s_2020_075_14...      5.0           8.0   \n",
              "\n",
              "   Price        Страна     Цвет  Сахар    Объем              Виноград  \\\n",
              "0   5390  Южная Африка  красное  сухое  0.75 л.  каберне совиньон 82%   \n",
              "1   5390  Южная Африка  красное  сухое  0.75 л.           пинотаж 66%   \n",
              "2   3790  Южная Африка  красное  сухое  0.75 л.          пинотаж 100%   \n",
              "3   2390  Южная Африка    белое  сухое  0.75 л.         совиньон блан   \n",
              "4   2990  Южная Африка  красное  сухое  0.75 л.            шираз 100%   \n",
              "\n",
              "  Производитель      Регион  \\\n",
              "0      Simonsig  Стелленбош   \n",
              "1      Simonsig  Стелленбош   \n",
              "2   Spice Route   Свортленд   \n",
              "3      Simonsig  Стелленбош   \n",
              "4      Simonsig  Стелленбош   \n",
              "\n",
              "                                          Стилистика  \\\n",
              "0   красное — насыщенное, пряное, выдержанное в дубе   \n",
              "1   красное — насыщенное, пряное, выдержанное в дубе   \n",
              "2   красное — мощное, насыщенное, выдержанное в дубе   \n",
              "3  белое — насыщенное, фруктовое, не выдержанное ...   \n",
              "4   красное — насыщенное, пряное, выдержанное в дубе   \n",
              "\n",
              "                                        Larger_Image  \n",
              "0  https://static.simplewine.ru/upload/iblock/d0b...  \n",
              "1  https://static.simplewine.ru/upload/iblock/3ef...  \n",
              "2  https://static.simplewine.ru/upload/iblock/b65...  \n",
              "3  https://static.simplewine.ru/upload/iblock/a11...  \n",
              "4  https://static.simplewine.ru/upload/iblock/3d3...  "
            ],
            "text/html": [
              "\n",
              "  <div id=\"df-54616135-6787-4e60-a0c5-12663db56b8b\" class=\"colab-df-container\">\n",
              "    <div>\n",
              "<style scoped>\n",
              "    .dataframe tbody tr th:only-of-type {\n",
              "        vertical-align: middle;\n",
              "    }\n",
              "\n",
              "    .dataframe tbody tr th {\n",
              "        vertical-align: top;\n",
              "    }\n",
              "\n",
              "    .dataframe thead th {\n",
              "        text-align: right;\n",
              "    }\n",
              "</style>\n",
              "<table border=\"1\" class=\"dataframe\">\n",
              "  <thead>\n",
              "    <tr style=\"text-align: right;\">\n",
              "      <th></th>\n",
              "      <th>Title</th>\n",
              "      <th>Link_product</th>\n",
              "      <th>Ratings</th>\n",
              "      <th>Number_votes</th>\n",
              "      <th>Price</th>\n",
              "      <th>Страна</th>\n",
              "      <th>Цвет</th>\n",
              "      <th>Сахар</th>\n",
              "      <th>Объем</th>\n",
              "      <th>Виноград</th>\n",
              "      <th>Производитель</th>\n",
              "      <th>Регион</th>\n",
              "      <th>Стилистика</th>\n",
              "      <th>Larger_Image</th>\n",
              "    </tr>\n",
              "  </thead>\n",
              "  <tbody>\n",
              "    <tr>\n",
              "      <th>0</th>\n",
              "      <td>Вино Tiara, Simonsig, 2018 г.</td>\n",
              "      <td>/catalog/product/tiara_2018_075_141078/</td>\n",
              "      <td>4.6</td>\n",
              "      <td>7.0</td>\n",
              "      <td>5390</td>\n",
              "      <td>Южная Африка</td>\n",
              "      <td>красное</td>\n",
              "      <td>сухое</td>\n",
              "      <td>0.75 л.</td>\n",
              "      <td>каберне совиньон 82%</td>\n",
              "      <td>Simonsig</td>\n",
              "      <td>Стелленбош</td>\n",
              "      <td>красное — насыщенное, пряное, выдержанное в дубе</td>\n",
              "      <td>https://static.simplewine.ru/upload/iblock/d0b...</td>\n",
              "    </tr>\n",
              "    <tr>\n",
              "      <th>1</th>\n",
              "      <td>Вино Frans Malan, Simonsig, 2017 г.</td>\n",
              "      <td>/catalog/product/frans_malan_2017_075_141079/</td>\n",
              "      <td>4.7</td>\n",
              "      <td>6.0</td>\n",
              "      <td>5390</td>\n",
              "      <td>Южная Африка</td>\n",
              "      <td>красное</td>\n",
              "      <td>сухое</td>\n",
              "      <td>0.75 л.</td>\n",
              "      <td>пинотаж 66%</td>\n",
              "      <td>Simonsig</td>\n",
              "      <td>Стелленбош</td>\n",
              "      <td>красное — насыщенное, пряное, выдержанное в дубе</td>\n",
              "      <td>https://static.simplewine.ru/upload/iblock/3ef...</td>\n",
              "    </tr>\n",
              "    <tr>\n",
              "      <th>2</th>\n",
              "      <td>Вино Pinotage, Spice Route, 2021 г.</td>\n",
              "      <td>/catalog/product/spice_route_pinotage_2021_075...</td>\n",
              "      <td>4.7</td>\n",
              "      <td>100.0</td>\n",
              "      <td>3790</td>\n",
              "      <td>Южная Африка</td>\n",
              "      <td>красное</td>\n",
              "      <td>сухое</td>\n",
              "      <td>0.75 л.</td>\n",
              "      <td>пинотаж 100%</td>\n",
              "      <td>Spice Route</td>\n",
              "      <td>Свортленд</td>\n",
              "      <td>красное — мощное, насыщенное, выдержанное в дубе</td>\n",
              "      <td>https://static.simplewine.ru/upload/iblock/b65...</td>\n",
              "    </tr>\n",
              "    <tr>\n",
              "      <th>3</th>\n",
              "      <td>Вино Sauvignon Blanc Sunbird, Simonsig, 2022 г.</td>\n",
              "      <td>/catalog/product/sauvignon_blanc_sunbird_2022_...</td>\n",
              "      <td>4.6</td>\n",
              "      <td>15.0</td>\n",
              "      <td>2390</td>\n",
              "      <td>Южная Африка</td>\n",
              "      <td>белое</td>\n",
              "      <td>сухое</td>\n",
              "      <td>0.75 л.</td>\n",
              "      <td>совиньон блан</td>\n",
              "      <td>Simonsig</td>\n",
              "      <td>Стелленбош</td>\n",
              "      <td>белое — насыщенное, фруктовое, не выдержанное ...</td>\n",
              "      <td>https://static.simplewine.ru/upload/iblock/a11...</td>\n",
              "    </tr>\n",
              "    <tr>\n",
              "      <th>4</th>\n",
              "      <td>Вино Shiraz Mr Borio's, Simonsig, 2020 г.</td>\n",
              "      <td>/catalog/product/shiraz_mr_borio_s_2020_075_14...</td>\n",
              "      <td>5.0</td>\n",
              "      <td>8.0</td>\n",
              "      <td>2990</td>\n",
              "      <td>Южная Африка</td>\n",
              "      <td>красное</td>\n",
              "      <td>сухое</td>\n",
              "      <td>0.75 л.</td>\n",
              "      <td>шираз 100%</td>\n",
              "      <td>Simonsig</td>\n",
              "      <td>Стелленбош</td>\n",
              "      <td>красное — насыщенное, пряное, выдержанное в дубе</td>\n",
              "      <td>https://static.simplewine.ru/upload/iblock/3d3...</td>\n",
              "    </tr>\n",
              "  </tbody>\n",
              "</table>\n",
              "</div>\n",
              "    <div class=\"colab-df-buttons\">\n",
              "\n",
              "  <div class=\"colab-df-container\">\n",
              "    <button class=\"colab-df-convert\" onclick=\"convertToInteractive('df-54616135-6787-4e60-a0c5-12663db56b8b')\"\n",
              "            title=\"Convert this dataframe to an interactive table.\"\n",
              "            style=\"display:none;\">\n",
              "\n",
              "  <svg xmlns=\"http://www.w3.org/2000/svg\" height=\"24px\" viewBox=\"0 -960 960 960\">\n",
              "    <path d=\"M120-120v-720h720v720H120Zm60-500h600v-160H180v160Zm220 220h160v-160H400v160Zm0 220h160v-160H400v160ZM180-400h160v-160H180v160Zm440 0h160v-160H620v160ZM180-180h160v-160H180v160Zm440 0h160v-160H620v160Z\"/>\n",
              "  </svg>\n",
              "    </button>\n",
              "\n",
              "  <style>\n",
              "    .colab-df-container {\n",
              "      display:flex;\n",
              "      gap: 12px;\n",
              "    }\n",
              "\n",
              "    .colab-df-convert {\n",
              "      background-color: #E8F0FE;\n",
              "      border: none;\n",
              "      border-radius: 50%;\n",
              "      cursor: pointer;\n",
              "      display: none;\n",
              "      fill: #1967D2;\n",
              "      height: 32px;\n",
              "      padding: 0 0 0 0;\n",
              "      width: 32px;\n",
              "    }\n",
              "\n",
              "    .colab-df-convert:hover {\n",
              "      background-color: #E2EBFA;\n",
              "      box-shadow: 0px 1px 2px rgba(60, 64, 67, 0.3), 0px 1px 3px 1px rgba(60, 64, 67, 0.15);\n",
              "      fill: #174EA6;\n",
              "    }\n",
              "\n",
              "    .colab-df-buttons div {\n",
              "      margin-bottom: 4px;\n",
              "    }\n",
              "\n",
              "    [theme=dark] .colab-df-convert {\n",
              "      background-color: #3B4455;\n",
              "      fill: #D2E3FC;\n",
              "    }\n",
              "\n",
              "    [theme=dark] .colab-df-convert:hover {\n",
              "      background-color: #434B5C;\n",
              "      box-shadow: 0px 1px 3px 1px rgba(0, 0, 0, 0.15);\n",
              "      filter: drop-shadow(0px 1px 2px rgba(0, 0, 0, 0.3));\n",
              "      fill: #FFFFFF;\n",
              "    }\n",
              "  </style>\n",
              "\n",
              "    <script>\n",
              "      const buttonEl =\n",
              "        document.querySelector('#df-54616135-6787-4e60-a0c5-12663db56b8b button.colab-df-convert');\n",
              "      buttonEl.style.display =\n",
              "        google.colab.kernel.accessAllowed ? 'block' : 'none';\n",
              "\n",
              "      async function convertToInteractive(key) {\n",
              "        const element = document.querySelector('#df-54616135-6787-4e60-a0c5-12663db56b8b');\n",
              "        const dataTable =\n",
              "          await google.colab.kernel.invokeFunction('convertToInteractive',\n",
              "                                                    [key], {});\n",
              "        if (!dataTable) return;\n",
              "\n",
              "        const docLinkHtml = 'Like what you see? Visit the ' +\n",
              "          '<a target=\"_blank\" href=https://colab.research.google.com/notebooks/data_table.ipynb>data table notebook</a>'\n",
              "          + ' to learn more about interactive tables.';\n",
              "        element.innerHTML = '';\n",
              "        dataTable['output_type'] = 'display_data';\n",
              "        await google.colab.output.renderOutput(dataTable, element);\n",
              "        const docLink = document.createElement('div');\n",
              "        docLink.innerHTML = docLinkHtml;\n",
              "        element.appendChild(docLink);\n",
              "      }\n",
              "    </script>\n",
              "  </div>\n",
              "\n",
              "\n",
              "<div id=\"df-e07f7103-366b-4180-930b-89b8baf2c51f\">\n",
              "  <button class=\"colab-df-quickchart\" onclick=\"quickchart('df-e07f7103-366b-4180-930b-89b8baf2c51f')\"\n",
              "            title=\"Suggest charts\"\n",
              "            style=\"display:none;\">\n",
              "\n",
              "<svg xmlns=\"http://www.w3.org/2000/svg\" height=\"24px\"viewBox=\"0 0 24 24\"\n",
              "     width=\"24px\">\n",
              "    <g>\n",
              "        <path d=\"M19 3H5c-1.1 0-2 .9-2 2v14c0 1.1.9 2 2 2h14c1.1 0 2-.9 2-2V5c0-1.1-.9-2-2-2zM9 17H7v-7h2v7zm4 0h-2V7h2v10zm4 0h-2v-4h2v4z\"/>\n",
              "    </g>\n",
              "</svg>\n",
              "  </button>\n",
              "\n",
              "<style>\n",
              "  .colab-df-quickchart {\n",
              "      --bg-color: #E8F0FE;\n",
              "      --fill-color: #1967D2;\n",
              "      --hover-bg-color: #E2EBFA;\n",
              "      --hover-fill-color: #174EA6;\n",
              "      --disabled-fill-color: #AAA;\n",
              "      --disabled-bg-color: #DDD;\n",
              "  }\n",
              "\n",
              "  [theme=dark] .colab-df-quickchart {\n",
              "      --bg-color: #3B4455;\n",
              "      --fill-color: #D2E3FC;\n",
              "      --hover-bg-color: #434B5C;\n",
              "      --hover-fill-color: #FFFFFF;\n",
              "      --disabled-bg-color: #3B4455;\n",
              "      --disabled-fill-color: #666;\n",
              "  }\n",
              "\n",
              "  .colab-df-quickchart {\n",
              "    background-color: var(--bg-color);\n",
              "    border: none;\n",
              "    border-radius: 50%;\n",
              "    cursor: pointer;\n",
              "    display: none;\n",
              "    fill: var(--fill-color);\n",
              "    height: 32px;\n",
              "    padding: 0;\n",
              "    width: 32px;\n",
              "  }\n",
              "\n",
              "  .colab-df-quickchart:hover {\n",
              "    background-color: var(--hover-bg-color);\n",
              "    box-shadow: 0 1px 2px rgba(60, 64, 67, 0.3), 0 1px 3px 1px rgba(60, 64, 67, 0.15);\n",
              "    fill: var(--button-hover-fill-color);\n",
              "  }\n",
              "\n",
              "  .colab-df-quickchart-complete:disabled,\n",
              "  .colab-df-quickchart-complete:disabled:hover {\n",
              "    background-color: var(--disabled-bg-color);\n",
              "    fill: var(--disabled-fill-color);\n",
              "    box-shadow: none;\n",
              "  }\n",
              "\n",
              "  .colab-df-spinner {\n",
              "    border: 2px solid var(--fill-color);\n",
              "    border-color: transparent;\n",
              "    border-bottom-color: var(--fill-color);\n",
              "    animation:\n",
              "      spin 1s steps(1) infinite;\n",
              "  }\n",
              "\n",
              "  @keyframes spin {\n",
              "    0% {\n",
              "      border-color: transparent;\n",
              "      border-bottom-color: var(--fill-color);\n",
              "      border-left-color: var(--fill-color);\n",
              "    }\n",
              "    20% {\n",
              "      border-color: transparent;\n",
              "      border-left-color: var(--fill-color);\n",
              "      border-top-color: var(--fill-color);\n",
              "    }\n",
              "    30% {\n",
              "      border-color: transparent;\n",
              "      border-left-color: var(--fill-color);\n",
              "      border-top-color: var(--fill-color);\n",
              "      border-right-color: var(--fill-color);\n",
              "    }\n",
              "    40% {\n",
              "      border-color: transparent;\n",
              "      border-right-color: var(--fill-color);\n",
              "      border-top-color: var(--fill-color);\n",
              "    }\n",
              "    60% {\n",
              "      border-color: transparent;\n",
              "      border-right-color: var(--fill-color);\n",
              "    }\n",
              "    80% {\n",
              "      border-color: transparent;\n",
              "      border-right-color: var(--fill-color);\n",
              "      border-bottom-color: var(--fill-color);\n",
              "    }\n",
              "    90% {\n",
              "      border-color: transparent;\n",
              "      border-bottom-color: var(--fill-color);\n",
              "    }\n",
              "  }\n",
              "</style>\n",
              "\n",
              "  <script>\n",
              "    async function quickchart(key) {\n",
              "      const quickchartButtonEl =\n",
              "        document.querySelector('#' + key + ' button');\n",
              "      quickchartButtonEl.disabled = true;  // To prevent multiple clicks.\n",
              "      quickchartButtonEl.classList.add('colab-df-spinner');\n",
              "      try {\n",
              "        const charts = await google.colab.kernel.invokeFunction(\n",
              "            'suggestCharts', [key], {});\n",
              "      } catch (error) {\n",
              "        console.error('Error during call to suggestCharts:', error);\n",
              "      }\n",
              "      quickchartButtonEl.classList.remove('colab-df-spinner');\n",
              "      quickchartButtonEl.classList.add('colab-df-quickchart-complete');\n",
              "    }\n",
              "    (() => {\n",
              "      let quickchartButtonEl =\n",
              "        document.querySelector('#df-e07f7103-366b-4180-930b-89b8baf2c51f button');\n",
              "      quickchartButtonEl.style.display =\n",
              "        google.colab.kernel.accessAllowed ? 'block' : 'none';\n",
              "    })();\n",
              "  </script>\n",
              "</div>\n",
              "    </div>\n",
              "  </div>\n"
            ]
          },
          "metadata": {},
          "execution_count": 102
        }
      ]
    },
    {
      "cell_type": "code",
      "source": [
        "data_SimpleWine.columns"
      ],
      "metadata": {
        "colab": {
          "base_uri": "https://localhost:8080/"
        },
        "id": "0Oe3rIgsYiyh",
        "outputId": "09e43971-172d-4a4c-c96e-2e501a2ec6b8"
      },
      "execution_count": null,
      "outputs": [
        {
          "output_type": "execute_result",
          "data": {
            "text/plain": [
              "Index(['Title', 'Link_product', 'Ratings', 'Number_votes', 'Price', 'Страна',\n",
              "       'Цвет', 'Сахар', 'Объем', 'Виноград', 'Производитель', 'Регион',\n",
              "       'Стилистика', 'Larger_Image'],\n",
              "      dtype='object')"
            ]
          },
          "metadata": {},
          "execution_count": 103
        }
      ]
    },
    {
      "cell_type": "code",
      "source": [
        "new_column_names_SW = ['Title', 'Product_Link', 'Rating', 'Votes_Count', 'Price',\n",
        "       'Country', 'Color', 'Sugar', 'Volume', 'Grape_Varieties', 'Brand',\n",
        "       'Region', 'Taste_Description', 'Image_URL']\n",
        "data_SimpleWine.columns = new_column_names_SW"
      ],
      "metadata": {
        "id": "58Jn0oY9YjJ_"
      },
      "execution_count": null,
      "outputs": []
    },
    {
      "cell_type": "code",
      "source": [
        "data_SimpleWine['Color'] = data_SimpleWine['Color'].fillna('красное')"
      ],
      "metadata": {
        "id": "M3XRI6AkYjZU"
      },
      "execution_count": null,
      "outputs": []
    },
    {
      "cell_type": "code",
      "source": [
        "column_names = ['Volume']\n",
        "digits_extract = NumericEctraction(column_names)\n",
        "digits_extract.extract_numerics_from_all_columns(data_SimpleWine)"
      ],
      "metadata": {
        "id": "KVv-UzWlsFVs"
      },
      "execution_count": null,
      "outputs": []
    },
    {
      "cell_type": "code",
      "source": [
        "data_SimpleWine = data_SimpleWine.applymap(lambda x: x.lower() if isinstance(x, str) else x)"
      ],
      "metadata": {
        "id": "5_3eN58rsUwM"
      },
      "execution_count": null,
      "outputs": []
    },
    {
      "cell_type": "code",
      "source": [
        "data_SimpleWine['Rating'] = data_SimpleWine['Rating'].fillna(0)\n",
        "data_SimpleWine['Votes_Count'] = data_SimpleWine['Votes_Count'].fillna(0)"
      ],
      "metadata": {
        "id": "BjRBwky5srgb"
      },
      "execution_count": null,
      "outputs": []
    },
    {
      "cell_type": "code",
      "source": [
        "data_SimpleWine['Grape_Varieties'] = data_SimpleWine['Grape_Varieties'].replace(r'[\\d%]', '', regex=True)"
      ],
      "metadata": {
        "id": "WetsnOO2tfMH"
      },
      "execution_count": null,
      "outputs": []
    },
    {
      "cell_type": "code",
      "source": [
        "data_SimpleWine = data_SimpleWine.drop(['Product_Link', 'Country'], axis=1)"
      ],
      "metadata": {
        "id": "jcMunfFVYjm9"
      },
      "execution_count": null,
      "outputs": []
    },
    {
      "cell_type": "code",
      "source": [
        "import requests\n",
        "from PIL import Image\n",
        "from io import BytesIO\n",
        "\n",
        "# Function to download images and save locally\n",
        "def download_and_save_image(img_url, index):\n",
        "    try:\n",
        "        response = requests.get(img_url)\n",
        "        if response.status_code == 200:\n",
        "            # Extract the file extension from the URL\n",
        "            file_extension = img_url.split('.')[-1].split('@')[0]\n",
        "\n",
        "            # Open the image using PIL\n",
        "            img = Image.open(BytesIO(response.content))\n",
        "\n",
        "            # Save the image locally with the appropriate extension\n",
        "            local_path = f\"image_{index}.{file_extension}\"\n",
        "            img.save(local_path)\n",
        "\n",
        "            return local_path\n",
        "        else:\n",
        "            print(f\"Failed to download image from {img_url}\")\n",
        "            return None\n",
        "    except Exception as e:\n",
        "        print(f\"Error downloading image from {img_url}: {e}\")\n",
        "        return None\n",
        "\n",
        "# Download images and save locally\n",
        "downloaded_paths = []\n",
        "\n",
        "for i, img_url in enumerate(data_SimpleWine['Image_URL']):\n",
        "    local_path = download_and_save_image(img_url, i)\n",
        "    if local_path:\n",
        "        downloaded_paths.append(local_path)\n",
        "    else:\n",
        "        downloaded_paths.append(None)\n",
        "\n",
        "# Update the DataFrame with local paths\n",
        "data_SimpleWine['Local_Image_Path'] = downloaded_paths"
      ],
      "metadata": {
        "colab": {
          "base_uri": "https://localhost:8080/"
        },
        "id": "I38rEUD6Yjz0",
        "outputId": "e2e5723b-a160-44f2-c787-c3625d39643d"
      },
      "execution_count": null,
      "outputs": [
        {
          "output_type": "stream",
          "name": "stdout",
          "text": [
            "Failed to download image from https://static.simplewine.ru/upload/iblock/bfd/bfd4ff8f516caaa6d382632a0653289e.png@x860\n",
            "Failed to download image from https://static.simplewine.ru/upload/iblock/bfd/bfd4ff8f516caaa6d382632a0653289e.png@x860\n"
          ]
        }
      ]
    },
    {
      "cell_type": "code",
      "source": [
        "data_SimpleWine['Local_Image_Path'].head()"
      ],
      "metadata": {
        "colab": {
          "base_uri": "https://localhost:8080/"
        },
        "id": "WWJk_MWenPqD",
        "outputId": "5fd9543b-80ed-4dd4-a56d-fef21a176025"
      },
      "execution_count": null,
      "outputs": [
        {
          "output_type": "execute_result",
          "data": {
            "text/plain": [
              "0    image_0.png\n",
              "1    image_1.png\n",
              "2    image_2.jpg\n",
              "3    image_3.png\n",
              "4    image_4.jpg\n",
              "Name: Local_Image_Path, dtype: object"
            ]
          },
          "metadata": {},
          "execution_count": 254
        }
      ]
    },
    {
      "cell_type": "code",
      "source": [
        "def process_path(x):\n",
        "  if x is not None:\n",
        "    return os.path.join(os.getcwd(), x)\n",
        "  else:\n",
        "    return None\n",
        "\n",
        "data_SimpleWine['Local_Image_Path'] = data_SimpleWine['Local_Image_Path'].apply(process_path)"
      ],
      "metadata": {
        "id": "T-fHjoYulQIX"
      },
      "execution_count": null,
      "outputs": []
    },
    {
      "cell_type": "code",
      "source": [
        "data_SimpleWine['Shape'] = [1, 1, 2, 2, 2, 2, 1, 2, 2, 1, 1, 1, 2, 2, 2, 2, 2, 2, 2, 2, 2,\n",
        "                            1, 2, 2, 2, 1, 2, 2, 1, 1, 2, 2, 2, 2, 2, 1, 2, 1, 2, 2,\n",
        "                            1, 2, 2, 2, 2, 2, 2, 1, 1, 1, 1, 2, 2, 2, 2, 1, 2, 1, 2, 2,\n",
        "                            1, 2, 1, 2, 2, 2, 2, 1, 2, 1, 2, 2, 1, 2, 2, 2, 2, 2, 2,\n",
        "                            1, 1, 1, 1, 2, 2, 2, 2, 1, 2, 1, 2, 2, 1, 2, 1, 2, 1, 1,\n",
        "                            2, 2, 2, 2, 1, 2, 2, 1, 1, 1, 2, 2, 2, 2, 2, 2, 2, 2, 2,\n",
        "                            1, 2, 2, 2, 1, 2, 2, 1, 2, 1, 2]"
      ],
      "metadata": {
        "id": "unm0ocyZXcmV"
      },
      "execution_count": null,
      "outputs": []
    },
    {
      "cell_type": "code",
      "source": [
        "data_SimpleWine['Label'] = [1, 1, 2, 2, 2, 2, 2, 2, 2, 1, 2, 1, 2, 2, 2, 2, 2, 2, 2,\n",
        "                            2, 2, 2, 2, 2, 2, 1, 1, 1, 1, 2, 2, 2, 1, 1, 2, 1, 1,\n",
        "                            2, 2, 2, 1, 2, 2, 2, 2, 2, 2, 2, 1, 2, 2, 2, 2, 2, 2,\n",
        "                            1, 2, 2, 2, 1, 2, 2, 1, 2, 1, 1, 2, 1, 1, 2, 2, 2, 1,\n",
        "                            2, 2, 2, 2, 2, 2, 2, 1, 2, 2, 2, 2, 2, 2, 1, 2, 2, 2,\n",
        "                            1, 2, 2, 1, 2, 2, 2, 2, 2, 2, 2, 2, 2, 2, 1, 2, 1, 2, 2,\n",
        "                            2, 2, 2, 2, 2, 2, 2, 2, 2, 2, 2, 1, 2, 2, 2, 2, 1, 1]"
      ],
      "metadata": {
        "id": "l_gSLjsrUqG2"
      },
      "execution_count": null,
      "outputs": []
    },
    {
      "cell_type": "code",
      "source": [
        "data_SimpleWine['wine_stopper'] = [2, 2, 2, 1, 2, 2, 1, 1, 2, 1, 1, 1, 2, 2, 2, 2, 2, 3, 3,\n",
        "                                   1, 2, 2, 2, 2, 2, 1, 1, 1, 1, 2, 1, 3, 1, 1, 2, 1, 1, 1,\n",
        "                                   2, 1, 1, 2, 2, 1, 2, 2, 2, 1, 1, 2, 2, 2, 2, 2, 1,\n",
        "                                   1, 2, 2, 2, 1, 2, 2, 1, 2, 1, 1, 2, 1, 1, 1, 2, 1,\n",
        "                                   1, 2, 2, 1, 2, 2, 2, 1, 1, 2, 2, 2, 2, 2, 1, 1, 2,\n",
        "                                   2, 2, 1, 2, 2, 1, 2, 2, 2, 2, 1, 2, 2, 1, 1, 2, 1,\n",
        "                                   1, 1, 2, 2, 2, 2, 2, 3, 3, 1, 2, 2, 2, 2, 2, 1, 3,\n",
        "                                   2, 2, 1, 1, 1]"
      ],
      "metadata": {
        "id": "mXXx4xPXu1Z5"
      },
      "execution_count": null,
      "outputs": []
    },
    {
      "cell_type": "code",
      "source": [
        "data_SimpleWine['Segment'] = 'high'"
      ],
      "metadata": {
        "id": "02VxW_91aJb6"
      },
      "execution_count": null,
      "outputs": []
    },
    {
      "cell_type": "code",
      "source": [
        "import numpy as np\n",
        "\n",
        "def assign_alcohol(row):\n",
        "  if row['Color'] == 'белое':\n",
        "    return np.random.choice([11, 12])\n",
        "  elif row['Color'] == 'красное':\n",
        "    return np.random.choice([13, 14])\n",
        "  elif row['Brand'] == 'KWV':\n",
        "    return 17\n",
        "  else:\n",
        "    return np.nan\n",
        "\n",
        "data_SimpleWine['Alcohol'] = data_SimpleWine.apply(assign_alcohol, axis=1)"
      ],
      "metadata": {
        "id": "DtHjRMDCaiSa"
      },
      "execution_count": null,
      "outputs": []
    },
    {
      "cell_type": "code",
      "source": [
        "data_SimpleWine['Year'] = data_SimpleWine['Title'].str.extract(r'(\\d{4})')"
      ],
      "metadata": {
        "id": "lOImaPHDu1ha"
      },
      "execution_count": null,
      "outputs": []
    },
    {
      "cell_type": "code",
      "source": [
        "data_SimpleWine['Year'] = data_SimpleWine['Year'].fillna(2023)"
      ],
      "metadata": {
        "id": "W-p0r8Fuk24O"
      },
      "execution_count": null,
      "outputs": []
    },
    {
      "cell_type": "code",
      "source": [
        "data_SimpleWine = data_SimpleWine.drop('Title', axis=1)"
      ],
      "metadata": {
        "id": "BRPquG5CjQjE"
      },
      "execution_count": null,
      "outputs": []
    },
    {
      "cell_type": "code",
      "source": [
        "# !!! To arrange columns !!!\n",
        "\n",
        "data_SimpleWine = data_SimpleWine[data_KB.columns]"
      ],
      "metadata": {
        "id": "n_rCKQkIu114"
      },
      "execution_count": null,
      "outputs": []
    },
    {
      "cell_type": "code",
      "source": [
        "data_SimpleWine.columns"
      ],
      "metadata": {
        "id": "Thj9Gp8Gu1_b",
        "colab": {
          "base_uri": "https://localhost:8080/"
        },
        "outputId": "b64ceccb-0a4a-4728-e2fb-9152a23d8ec0"
      },
      "execution_count": null,
      "outputs": [
        {
          "output_type": "execute_result",
          "data": {
            "text/plain": [
              "Index(['Votes_Count', 'Image_URL', 'Price', 'Color', 'Region', 'Volume',\n",
              "       'Sugar', 'Alcohol', 'Grape_Varieties', 'Taste_Description', 'Brand',\n",
              "       'Rating', 'Segment', 'wine_stopper', 'Label', 'Shape',\n",
              "       'Local_Image_Path', 'Year'],\n",
              "      dtype='object')"
            ]
          },
          "metadata": {},
          "execution_count": 270
        }
      ]
    },
    {
      "cell_type": "code",
      "source": [
        "data_KB.columns"
      ],
      "metadata": {
        "colab": {
          "base_uri": "https://localhost:8080/"
        },
        "id": "RNNjrJE7l01z",
        "outputId": "a5e3eb03-6eac-4634-ba93-6c99b6241192"
      },
      "execution_count": null,
      "outputs": [
        {
          "output_type": "execute_result",
          "data": {
            "text/plain": [
              "Index(['Votes_Count', 'Image_URL', 'Price', 'Color', 'Region', 'Volume',\n",
              "       'Sugar', 'Alcohol', 'Grape_Varieties', 'Taste_Description', 'Brand',\n",
              "       'Rating', 'Segment', 'wine_stopper', 'Label', 'Shape',\n",
              "       'Local_Image_Path', 'Year'],\n",
              "      dtype='object')"
            ]
          },
          "metadata": {},
          "execution_count": 271
        }
      ]
    },
    {
      "cell_type": "code",
      "source": [
        "data_WineStyle.head()"
      ],
      "metadata": {
        "colab": {
          "base_uri": "https://localhost:8080/",
          "height": 556
        },
        "id": "-9-ZCm59l09S",
        "outputId": "21a19ffa-a07d-4bf3-a9ef-b6bb8c2dee6f"
      },
      "execution_count": null,
      "outputs": [
        {
          "output_type": "execute_result",
          "data": {
            "text/plain": [
              "                                               Title  \\\n",
              "0                Вино Val de Vie, \"Barista\" Pinotage   \n",
              "1                  Вино \"Southlands\" Sauvignon Blanc   \n",
              "2  Вино \"Cape Original\" Pinotage, Western Cape WO...   \n",
              "3             Вино \"Southlands\" Sauvignon Blanc Rose   \n",
              "4          Вино Kanonkop, \"Kadette\" Cape Blend, 2019   \n",
              "\n",
              "                                        Link_product  Ratings  Number_votes  \\\n",
              "0                  /products/Val-de-Vie-Barista.html      7.9          88.0   \n",
              "1          /products/Southlands-Sauvignon-Blanc.html      NaN           NaN   \n",
              "2  /products/Cape-Original-Pinotage-Western-Cape-...      NaN           NaN   \n",
              "3     /products/Southlands-Sauvignon-Blanc-Rose.html      NaN           NaN   \n",
              "4    /products/Kanonkop-Kadette-Cape-Blend-2019.html      9.0           2.0   \n",
              "\n",
              "                                               Image  Price   Объем  \\\n",
              "0  https://s2.wine.style/images_gen/387/38744/0_0...   1459  0.75 л   \n",
              "1  https://s2.wine.style/images_gen/184/184283/0_...   1153  0.75 л   \n",
              "2  https://s2.wine.style/images_gen/209/209296/0_...    776  0.75 л   \n",
              "3  https://s2.wine.style/images_gen/203/203126/0_...   1153  0.75 л   \n",
              "4  https://s2.wine.style/images_gen/202/202372/0_...   2317  0.75 л   \n",
              "\n",
              "                     Регион:       Производитель:         Бренд: Крепость:  \\\n",
              "0                      Паарл           Val de Vie        Barista     13.5%   \n",
              "1              Западный Кейп      Off-Piste Wines     Southlands     12.5%   \n",
              "2              Западный Кейп  Home of Origin Wine  Cape Original       13%   \n",
              "3          Прибрежный регион      Off-Piste Wines     Southlands       13%   \n",
              "4  Западный Кейп, Стелленбош             Kanonkop            NaN     13.9%   \n",
              "\n",
              "                                  Сорт винограда:           Вино:  \n",
              "0                                         Пинотаж  Красное, Сухое  \n",
              "1                                   Совиньон Блан    Белое, Сухое  \n",
              "2                                         Пинотаж  Красное, Сухое  \n",
              "3                          Пинотаж, Совиньон Блан  Розовое, Сухое  \n",
              "4  Каберне Совиньон, Мерло, Каберне Фран, Пинотаж  Красное, Сухое  "
            ],
            "text/html": [
              "\n",
              "  <div id=\"df-4933ad2e-44a7-47ae-b86c-c341883e1e30\" class=\"colab-df-container\">\n",
              "    <div>\n",
              "<style scoped>\n",
              "    .dataframe tbody tr th:only-of-type {\n",
              "        vertical-align: middle;\n",
              "    }\n",
              "\n",
              "    .dataframe tbody tr th {\n",
              "        vertical-align: top;\n",
              "    }\n",
              "\n",
              "    .dataframe thead th {\n",
              "        text-align: right;\n",
              "    }\n",
              "</style>\n",
              "<table border=\"1\" class=\"dataframe\">\n",
              "  <thead>\n",
              "    <tr style=\"text-align: right;\">\n",
              "      <th></th>\n",
              "      <th>Title</th>\n",
              "      <th>Link_product</th>\n",
              "      <th>Ratings</th>\n",
              "      <th>Number_votes</th>\n",
              "      <th>Image</th>\n",
              "      <th>Price</th>\n",
              "      <th>Объем</th>\n",
              "      <th>Регион:</th>\n",
              "      <th>Производитель:</th>\n",
              "      <th>Бренд:</th>\n",
              "      <th>Крепость:</th>\n",
              "      <th>Сорт винограда:</th>\n",
              "      <th>Вино:</th>\n",
              "    </tr>\n",
              "  </thead>\n",
              "  <tbody>\n",
              "    <tr>\n",
              "      <th>0</th>\n",
              "      <td>Вино Val de Vie, \"Barista\" Pinotage</td>\n",
              "      <td>/products/Val-de-Vie-Barista.html</td>\n",
              "      <td>7.9</td>\n",
              "      <td>88.0</td>\n",
              "      <td>https://s2.wine.style/images_gen/387/38744/0_0...</td>\n",
              "      <td>1459</td>\n",
              "      <td>0.75 л</td>\n",
              "      <td>Паарл</td>\n",
              "      <td>Val de Vie</td>\n",
              "      <td>Barista</td>\n",
              "      <td>13.5%</td>\n",
              "      <td>Пинотаж</td>\n",
              "      <td>Красное, Сухое</td>\n",
              "    </tr>\n",
              "    <tr>\n",
              "      <th>1</th>\n",
              "      <td>Вино \"Southlands\" Sauvignon Blanc</td>\n",
              "      <td>/products/Southlands-Sauvignon-Blanc.html</td>\n",
              "      <td>NaN</td>\n",
              "      <td>NaN</td>\n",
              "      <td>https://s2.wine.style/images_gen/184/184283/0_...</td>\n",
              "      <td>1153</td>\n",
              "      <td>0.75 л</td>\n",
              "      <td>Западный Кейп</td>\n",
              "      <td>Off-Piste Wines</td>\n",
              "      <td>Southlands</td>\n",
              "      <td>12.5%</td>\n",
              "      <td>Совиньон Блан</td>\n",
              "      <td>Белое, Сухое</td>\n",
              "    </tr>\n",
              "    <tr>\n",
              "      <th>2</th>\n",
              "      <td>Вино \"Cape Original\" Pinotage, Western Cape WO...</td>\n",
              "      <td>/products/Cape-Original-Pinotage-Western-Cape-...</td>\n",
              "      <td>NaN</td>\n",
              "      <td>NaN</td>\n",
              "      <td>https://s2.wine.style/images_gen/209/209296/0_...</td>\n",
              "      <td>776</td>\n",
              "      <td>0.75 л</td>\n",
              "      <td>Западный Кейп</td>\n",
              "      <td>Home of Origin Wine</td>\n",
              "      <td>Cape Original</td>\n",
              "      <td>13%</td>\n",
              "      <td>Пинотаж</td>\n",
              "      <td>Красное, Сухое</td>\n",
              "    </tr>\n",
              "    <tr>\n",
              "      <th>3</th>\n",
              "      <td>Вино \"Southlands\" Sauvignon Blanc Rose</td>\n",
              "      <td>/products/Southlands-Sauvignon-Blanc-Rose.html</td>\n",
              "      <td>NaN</td>\n",
              "      <td>NaN</td>\n",
              "      <td>https://s2.wine.style/images_gen/203/203126/0_...</td>\n",
              "      <td>1153</td>\n",
              "      <td>0.75 л</td>\n",
              "      <td>Прибрежный регион</td>\n",
              "      <td>Off-Piste Wines</td>\n",
              "      <td>Southlands</td>\n",
              "      <td>13%</td>\n",
              "      <td>Пинотаж, Совиньон Блан</td>\n",
              "      <td>Розовое, Сухое</td>\n",
              "    </tr>\n",
              "    <tr>\n",
              "      <th>4</th>\n",
              "      <td>Вино Kanonkop, \"Kadette\" Cape Blend, 2019</td>\n",
              "      <td>/products/Kanonkop-Kadette-Cape-Blend-2019.html</td>\n",
              "      <td>9.0</td>\n",
              "      <td>2.0</td>\n",
              "      <td>https://s2.wine.style/images_gen/202/202372/0_...</td>\n",
              "      <td>2317</td>\n",
              "      <td>0.75 л</td>\n",
              "      <td>Западный Кейп, Стелленбош</td>\n",
              "      <td>Kanonkop</td>\n",
              "      <td>NaN</td>\n",
              "      <td>13.9%</td>\n",
              "      <td>Каберне Совиньон, Мерло, Каберне Фран, Пинотаж</td>\n",
              "      <td>Красное, Сухое</td>\n",
              "    </tr>\n",
              "  </tbody>\n",
              "</table>\n",
              "</div>\n",
              "    <div class=\"colab-df-buttons\">\n",
              "\n",
              "  <div class=\"colab-df-container\">\n",
              "    <button class=\"colab-df-convert\" onclick=\"convertToInteractive('df-4933ad2e-44a7-47ae-b86c-c341883e1e30')\"\n",
              "            title=\"Convert this dataframe to an interactive table.\"\n",
              "            style=\"display:none;\">\n",
              "\n",
              "  <svg xmlns=\"http://www.w3.org/2000/svg\" height=\"24px\" viewBox=\"0 -960 960 960\">\n",
              "    <path d=\"M120-120v-720h720v720H120Zm60-500h600v-160H180v160Zm220 220h160v-160H400v160Zm0 220h160v-160H400v160ZM180-400h160v-160H180v160Zm440 0h160v-160H620v160ZM180-180h160v-160H180v160Zm440 0h160v-160H620v160Z\"/>\n",
              "  </svg>\n",
              "    </button>\n",
              "\n",
              "  <style>\n",
              "    .colab-df-container {\n",
              "      display:flex;\n",
              "      gap: 12px;\n",
              "    }\n",
              "\n",
              "    .colab-df-convert {\n",
              "      background-color: #E8F0FE;\n",
              "      border: none;\n",
              "      border-radius: 50%;\n",
              "      cursor: pointer;\n",
              "      display: none;\n",
              "      fill: #1967D2;\n",
              "      height: 32px;\n",
              "      padding: 0 0 0 0;\n",
              "      width: 32px;\n",
              "    }\n",
              "\n",
              "    .colab-df-convert:hover {\n",
              "      background-color: #E2EBFA;\n",
              "      box-shadow: 0px 1px 2px rgba(60, 64, 67, 0.3), 0px 1px 3px 1px rgba(60, 64, 67, 0.15);\n",
              "      fill: #174EA6;\n",
              "    }\n",
              "\n",
              "    .colab-df-buttons div {\n",
              "      margin-bottom: 4px;\n",
              "    }\n",
              "\n",
              "    [theme=dark] .colab-df-convert {\n",
              "      background-color: #3B4455;\n",
              "      fill: #D2E3FC;\n",
              "    }\n",
              "\n",
              "    [theme=dark] .colab-df-convert:hover {\n",
              "      background-color: #434B5C;\n",
              "      box-shadow: 0px 1px 3px 1px rgba(0, 0, 0, 0.15);\n",
              "      filter: drop-shadow(0px 1px 2px rgba(0, 0, 0, 0.3));\n",
              "      fill: #FFFFFF;\n",
              "    }\n",
              "  </style>\n",
              "\n",
              "    <script>\n",
              "      const buttonEl =\n",
              "        document.querySelector('#df-4933ad2e-44a7-47ae-b86c-c341883e1e30 button.colab-df-convert');\n",
              "      buttonEl.style.display =\n",
              "        google.colab.kernel.accessAllowed ? 'block' : 'none';\n",
              "\n",
              "      async function convertToInteractive(key) {\n",
              "        const element = document.querySelector('#df-4933ad2e-44a7-47ae-b86c-c341883e1e30');\n",
              "        const dataTable =\n",
              "          await google.colab.kernel.invokeFunction('convertToInteractive',\n",
              "                                                    [key], {});\n",
              "        if (!dataTable) return;\n",
              "\n",
              "        const docLinkHtml = 'Like what you see? Visit the ' +\n",
              "          '<a target=\"_blank\" href=https://colab.research.google.com/notebooks/data_table.ipynb>data table notebook</a>'\n",
              "          + ' to learn more about interactive tables.';\n",
              "        element.innerHTML = '';\n",
              "        dataTable['output_type'] = 'display_data';\n",
              "        await google.colab.output.renderOutput(dataTable, element);\n",
              "        const docLink = document.createElement('div');\n",
              "        docLink.innerHTML = docLinkHtml;\n",
              "        element.appendChild(docLink);\n",
              "      }\n",
              "    </script>\n",
              "  </div>\n",
              "\n",
              "\n",
              "<div id=\"df-119935d0-58c6-4607-a424-b9690932c363\">\n",
              "  <button class=\"colab-df-quickchart\" onclick=\"quickchart('df-119935d0-58c6-4607-a424-b9690932c363')\"\n",
              "            title=\"Suggest charts\"\n",
              "            style=\"display:none;\">\n",
              "\n",
              "<svg xmlns=\"http://www.w3.org/2000/svg\" height=\"24px\"viewBox=\"0 0 24 24\"\n",
              "     width=\"24px\">\n",
              "    <g>\n",
              "        <path d=\"M19 3H5c-1.1 0-2 .9-2 2v14c0 1.1.9 2 2 2h14c1.1 0 2-.9 2-2V5c0-1.1-.9-2-2-2zM9 17H7v-7h2v7zm4 0h-2V7h2v10zm4 0h-2v-4h2v4z\"/>\n",
              "    </g>\n",
              "</svg>\n",
              "  </button>\n",
              "\n",
              "<style>\n",
              "  .colab-df-quickchart {\n",
              "      --bg-color: #E8F0FE;\n",
              "      --fill-color: #1967D2;\n",
              "      --hover-bg-color: #E2EBFA;\n",
              "      --hover-fill-color: #174EA6;\n",
              "      --disabled-fill-color: #AAA;\n",
              "      --disabled-bg-color: #DDD;\n",
              "  }\n",
              "\n",
              "  [theme=dark] .colab-df-quickchart {\n",
              "      --bg-color: #3B4455;\n",
              "      --fill-color: #D2E3FC;\n",
              "      --hover-bg-color: #434B5C;\n",
              "      --hover-fill-color: #FFFFFF;\n",
              "      --disabled-bg-color: #3B4455;\n",
              "      --disabled-fill-color: #666;\n",
              "  }\n",
              "\n",
              "  .colab-df-quickchart {\n",
              "    background-color: var(--bg-color);\n",
              "    border: none;\n",
              "    border-radius: 50%;\n",
              "    cursor: pointer;\n",
              "    display: none;\n",
              "    fill: var(--fill-color);\n",
              "    height: 32px;\n",
              "    padding: 0;\n",
              "    width: 32px;\n",
              "  }\n",
              "\n",
              "  .colab-df-quickchart:hover {\n",
              "    background-color: var(--hover-bg-color);\n",
              "    box-shadow: 0 1px 2px rgba(60, 64, 67, 0.3), 0 1px 3px 1px rgba(60, 64, 67, 0.15);\n",
              "    fill: var(--button-hover-fill-color);\n",
              "  }\n",
              "\n",
              "  .colab-df-quickchart-complete:disabled,\n",
              "  .colab-df-quickchart-complete:disabled:hover {\n",
              "    background-color: var(--disabled-bg-color);\n",
              "    fill: var(--disabled-fill-color);\n",
              "    box-shadow: none;\n",
              "  }\n",
              "\n",
              "  .colab-df-spinner {\n",
              "    border: 2px solid var(--fill-color);\n",
              "    border-color: transparent;\n",
              "    border-bottom-color: var(--fill-color);\n",
              "    animation:\n",
              "      spin 1s steps(1) infinite;\n",
              "  }\n",
              "\n",
              "  @keyframes spin {\n",
              "    0% {\n",
              "      border-color: transparent;\n",
              "      border-bottom-color: var(--fill-color);\n",
              "      border-left-color: var(--fill-color);\n",
              "    }\n",
              "    20% {\n",
              "      border-color: transparent;\n",
              "      border-left-color: var(--fill-color);\n",
              "      border-top-color: var(--fill-color);\n",
              "    }\n",
              "    30% {\n",
              "      border-color: transparent;\n",
              "      border-left-color: var(--fill-color);\n",
              "      border-top-color: var(--fill-color);\n",
              "      border-right-color: var(--fill-color);\n",
              "    }\n",
              "    40% {\n",
              "      border-color: transparent;\n",
              "      border-right-color: var(--fill-color);\n",
              "      border-top-color: var(--fill-color);\n",
              "    }\n",
              "    60% {\n",
              "      border-color: transparent;\n",
              "      border-right-color: var(--fill-color);\n",
              "    }\n",
              "    80% {\n",
              "      border-color: transparent;\n",
              "      border-right-color: var(--fill-color);\n",
              "      border-bottom-color: var(--fill-color);\n",
              "    }\n",
              "    90% {\n",
              "      border-color: transparent;\n",
              "      border-bottom-color: var(--fill-color);\n",
              "    }\n",
              "  }\n",
              "</style>\n",
              "\n",
              "  <script>\n",
              "    async function quickchart(key) {\n",
              "      const quickchartButtonEl =\n",
              "        document.querySelector('#' + key + ' button');\n",
              "      quickchartButtonEl.disabled = true;  // To prevent multiple clicks.\n",
              "      quickchartButtonEl.classList.add('colab-df-spinner');\n",
              "      try {\n",
              "        const charts = await google.colab.kernel.invokeFunction(\n",
              "            'suggestCharts', [key], {});\n",
              "      } catch (error) {\n",
              "        console.error('Error during call to suggestCharts:', error);\n",
              "      }\n",
              "      quickchartButtonEl.classList.remove('colab-df-spinner');\n",
              "      quickchartButtonEl.classList.add('colab-df-quickchart-complete');\n",
              "    }\n",
              "    (() => {\n",
              "      let quickchartButtonEl =\n",
              "        document.querySelector('#df-119935d0-58c6-4607-a424-b9690932c363 button');\n",
              "      quickchartButtonEl.style.display =\n",
              "        google.colab.kernel.accessAllowed ? 'block' : 'none';\n",
              "    })();\n",
              "  </script>\n",
              "</div>\n",
              "    </div>\n",
              "  </div>\n"
            ]
          },
          "metadata": {},
          "execution_count": 6
        }
      ]
    },
    {
      "cell_type": "code",
      "source": [
        "data_WineStyle['Year'] = data_WineStyle['Title'].str.extract(r'(\\d{4})')"
      ],
      "metadata": {
        "id": "GuFOHURTnjOV"
      },
      "execution_count": 5,
      "outputs": []
    },
    {
      "cell_type": "code",
      "source": [
        "data_WineStyle['Year'] = data_WineStyle['Year'].fillna(2023)"
      ],
      "metadata": {
        "id": "yRWdOgrenjs-"
      },
      "execution_count": 6,
      "outputs": []
    },
    {
      "cell_type": "code",
      "source": [
        "data_WineStyle['Ratings'] = data_WineStyle['Ratings'].fillna(0)\n",
        "data_WineStyle['Number_votes'] = data_WineStyle['Number_votes'].fillna(0)"
      ],
      "metadata": {
        "id": "UPNurka3nj0s"
      },
      "execution_count": 7,
      "outputs": []
    },
    {
      "cell_type": "code",
      "source": [
        "column_names = ['Объем', 'Крепость:']\n",
        "digits_extract = NumericEctraction(column_names)\n",
        "digits_extract.extract_numerics_from_all_columns(data_WineStyle)"
      ],
      "metadata": {
        "id": "6BolidxFnj8G"
      },
      "execution_count": 8,
      "outputs": []
    },
    {
      "cell_type": "code",
      "source": [
        "data_WineStyle = data_WineStyle.applymap(lambda x: x.lower() if isinstance(x, str) else x)"
      ],
      "metadata": {
        "id": "AsNYXwszDWLe"
      },
      "execution_count": 9,
      "outputs": []
    },
    {
      "cell_type": "code",
      "source": [
        "data_WineStyle['Segment'] = 'high'"
      ],
      "metadata": {
        "id": "WV1lSJ7xnkF7"
      },
      "execution_count": 10,
      "outputs": []
    },
    {
      "cell_type": "code",
      "source": [
        "data_WineStyle[['Color', 'Sugar']] = data_WineStyle['Вино:'].str.split(',', 1, expand=True)"
      ],
      "metadata": {
        "id": "JeZ4K0HBnkNU"
      },
      "execution_count": 12,
      "outputs": []
    },
    {
      "cell_type": "code",
      "source": [
        "nan_indices = data_WineStyle[data_WineStyle['Sugar'].isnull()].index\n",
        "print(nan_indices)"
      ],
      "metadata": {
        "colab": {
          "base_uri": "https://localhost:8080/"
        },
        "id": "_xDTgL0gDTT4",
        "outputId": "92f225fb-f414-47fa-8947-cc486a4fda83"
      },
      "execution_count": null,
      "outputs": [
        {
          "output_type": "stream",
          "name": "stdout",
          "text": [
            "Int64Index([ 58, 416, 417, 418, 419, 420, 421, 422, 423, 424, 425, 426, 427,\n",
            "            428, 429, 430, 431, 432, 433],\n",
            "           dtype='int64')\n"
          ]
        }
      ]
    },
    {
      "cell_type": "code",
      "source": [
        "nan_indices = data_WineStyle[data_WineStyle['Color'].isnull()].index\n",
        "print(nan_indices)"
      ],
      "metadata": {
        "colab": {
          "base_uri": "https://localhost:8080/"
        },
        "id": "i41mKJ5gDTbB",
        "outputId": "e36ae787-857e-49c6-e173-71657050f334"
      },
      "execution_count": null,
      "outputs": [
        {
          "output_type": "stream",
          "name": "stdout",
          "text": [
            "Int64Index([416, 417, 418, 419, 420, 421, 422, 423, 424, 425, 426, 427, 428,\n",
            "            429, 430, 431, 432, 433],\n",
            "           dtype='int64')\n"
          ]
        }
      ]
    },
    {
      "cell_type": "code",
      "source": [
        "pd.set_option('display.max_colwidth', None)\n",
        "display_nan = data_WineStyle['Title'].loc[[58, 416, 417, 418, 419, 420, 421, 422, 423, 424, 425, 426,\n",
        "                        427, 428, 429, 430, 431, 432, 433]]\n",
        "display_nan"
      ],
      "metadata": {
        "colab": {
          "base_uri": "https://localhost:8080/"
        },
        "id": "Mpu76aTzDTiA",
        "outputId": "56506206-228d-40fb-d197-9ed5e38b7e10"
      },
      "execution_count": null,
      "outputs": [
        {
          "output_type": "execute_result",
          "data": {
            "text/plain": [
              "58                           вино \"stellenbosch hills\" muscat de hambourg, 2022,0.5 л\n",
              "416                                        вино van loveren, \"papillon\" vin doux rose\n",
              "417                                                        вино \"balance\" boldly brut\n",
              "418                                      вино van loveren, \"four cousins\" white, 2021\n",
              "419                                                              вино kwv, cuvee brut\n",
              "420                                             вино van loveren, \"papillon\" demi-sec\n",
              "421                                      вино van loveren, \"four cousins\" blush, 2021\n",
              "422    вино \"grotto bay\" sauvignon blanc select extra brut, robertson valley wo, 2022\n",
              "423                                   вино krone, \"borealis\" vintage cuvee brut, 2021\n",
              "424                                                 вино van loveren, \"papillon\" brut\n",
              "425                                    вино simonsig, \"kaapse vonkel\" brut rose, 2021\n",
              "426                                        вино van loveren, \"four cousins\" red, 2021\n",
              "427                  вино testalonga, \"el bandito\" i am the ninja, swartland wo, 2022\n",
              "428                  вино stellenbosch hills, \"polkadraai\" sauvignon blanc brut, 2022\n",
              "429                                            вино rooiberg winery, white brut, 2021\n",
              "430                 вино \"greenlife\" sauvignon blanc bubbles extra brut, robertson wo\n",
              "431                            вино rooiberg winery, \"flamingo\" rose semi-sweet, 2023\n",
              "432     вино \"grotto bay\" sauvignon rose select extra brut, robertson valley wo, 2023\n",
              "433            вино testalonga, \"el bandito\" i wish i was a ninja, swartland wo, 2022\n",
              "Name: Title, dtype: object"
            ]
          },
          "metadata": {},
          "execution_count": 38
        }
      ]
    },
    {
      "cell_type": "code",
      "source": [
        "data_WineStyle.loc[58, ['Sugar', 'Color']] = ['сладкое', 'белое']\n",
        "data_WineStyle.loc[416, ['Sugar', 'Color']] = ['сладкое', 'розовое']\n",
        "data_WineStyle.loc[417, ['Sugar', 'Color']] = ['сухое', 'белое']\n",
        "data_WineStyle.loc[418, ['Sugar', 'Color']] = ['полусладкое', 'белое']\n",
        "data_WineStyle.loc[419, ['Sugar', 'Color']] = ['сухое', 'белое']\n",
        "data_WineStyle.loc[420, ['Sugar', 'Color']] = ['полусладкое', 'белое']\n",
        "data_WineStyle.loc[421, ['Sugar', 'Color']] = ['сладкое', 'розовое']\n",
        "data_WineStyle.loc[422, ['Sugar', 'Color']] = ['сухое', 'белое']\n",
        "data_WineStyle.loc[423, ['Sugar', 'Color']] = ['сухое', 'белое']\n",
        "data_WineStyle.loc[424, ['Sugar', 'Color']] = ['сухое', 'белое']\n",
        "data_WineStyle.loc[425, ['Sugar', 'Color']] = ['сухое', 'розовое']\n",
        "data_WineStyle.loc[426, ['Sugar', 'Color']] = ['полусладкое', 'красное']\n",
        "data_WineStyle.loc[427, ['Sugar', 'Color']] = ['сухое', 'белое']\n",
        "data_WineStyle.loc[428, ['Sugar', 'Color']] = ['сухое', 'белое']\n",
        "data_WineStyle.loc[429, ['Sugar', 'Color']] = ['сухое', 'белое']\n",
        "data_WineStyle.loc[430, ['Sugar', 'Color']] = ['сухое', 'белое']\n",
        "data_WineStyle.loc[431, ['Sugar', 'Color']] = ['полусладкое', 'розовое']\n",
        "data_WineStyle.loc[432, ['Sugar', 'Color']] = ['сухое', 'розовое']\n",
        "data_WineStyle.loc[433, ['Sugar', 'Color']] = ['сухое', 'белое']\n",
        "data_WineStyle.loc[427, ['Sugar', 'Color']] = ['сухое', 'белое']"
      ],
      "metadata": {
        "id": "lH-gPdVeDTpJ"
      },
      "execution_count": 13,
      "outputs": []
    },
    {
      "cell_type": "code",
      "source": [
        "pd.reset_option('display.max_colwidth')"
      ],
      "metadata": {
        "id": "_Cv2FnKbcZHS"
      },
      "execution_count": 20,
      "outputs": []
    },
    {
      "cell_type": "code",
      "source": [
        "data_WineStyle = data_WineStyle.drop(['Title', 'Link_product', 'Вино:'], axis=1)"
      ],
      "metadata": {
        "id": "O5MZkBfgcXVA"
      },
      "execution_count": 24,
      "outputs": []
    },
    {
      "cell_type": "code",
      "source": [
        "data_WineStyle.columns"
      ],
      "metadata": {
        "colab": {
          "base_uri": "https://localhost:8080/"
        },
        "id": "Jcyr_uZkdR7x",
        "outputId": "1c1bc031-4434-43a5-9f1a-621aa5c360ee"
      },
      "execution_count": 25,
      "outputs": [
        {
          "output_type": "execute_result",
          "data": {
            "text/plain": [
              "Index(['Ratings', 'Number_votes', 'Image', 'Price', 'Объем', 'Регион:',\n",
              "       'Производитель:', 'Бренд:', 'Крепость:', 'Сорт винограда:', 'Year',\n",
              "       'Segment', 'Color', 'Sugar'],\n",
              "      dtype='object')"
            ]
          },
          "metadata": {},
          "execution_count": 25
        }
      ]
    },
    {
      "cell_type": "code",
      "source": [
        "new_columns_WS = ['Rating', 'Votes_Count', 'Image_URL', 'Price', 'Volume', 'Region',\n",
        "                  'Producer', 'Brand', 'Alcohol', 'Grape_Varieties', 'Year',\n",
        "                  'Segment', 'Color', 'Sugar']\n",
        "data_WineStyle.columns = new_columns_WS"
      ],
      "metadata": {
        "id": "YWwJ5NcQK5Rl"
      },
      "execution_count": 27,
      "outputs": []
    },
    {
      "cell_type": "code",
      "source": [
        "data_WineStyle['Grape_Varieties'] = data_WineStyle['Grape_Varieties'].str.split(',').str[0]"
      ],
      "metadata": {
        "id": "D56kIoZKK5GC"
      },
      "execution_count": 30,
      "outputs": []
    },
    {
      "cell_type": "code",
      "source": [
        "data_WineStyle['Grape_Varieties'] = data_WineStyle['Grape_Varieties'].str.split('/').str[0]"
      ],
      "metadata": {
        "id": "FFwx7oNSo5NY"
      },
      "execution_count": 33,
      "outputs": []
    },
    {
      "cell_type": "code",
      "source": [
        "data_WineStyle.loc[115, ['Grape_Varieties']] = 'каберне совиньон'\n",
        "data_WineStyle.loc[215, ['Grape_Varieties']] = 'каберне совиньон'\n",
        "data_WineStyle.loc[297, ['Grape_Varieties']] = 'каберне совиньон'\n",
        "data_WineStyle.loc[327, ['Grape_Varieties']] = 'каберне совиньон'\n",
        "data_WineStyle.loc[13, ['Grape_Varieties']] = 'совиньон блан'\n",
        "data_WineStyle.loc[84, ['Grape_Varieties']] = 'пинотаж'\n",
        "data_WineStyle.loc[203, ['Grape_Varieties']] = 'мускат'\n",
        "data_WineStyle.loc[276, ['Grape_Varieties']] = 'пинотаж'"
      ],
      "metadata": {
        "id": "6nJvgILLpGQk"
      },
      "execution_count": 34,
      "outputs": []
    },
    {
      "cell_type": "code",
      "source": [
        "def get_taste_description(Grape_Varieties):\n",
        "    taste_descriptions = {\n",
        "        'пинотаж': 'Аромат вина пинотаж характеризуется вишневыми нотами и легкими специями, а вкус выражен гармонией вишни, черного перца и дуба.',\n",
        "        'шенен блан': 'Свежий аромат цитрусовых и зрелых фруктов сопровождается вкусом яркого сочетания кислотности, груш и меда.',\n",
        "        'совиньон блан': 'Интенсивные ароматы зеленого перца и тропических фруктов характерны для совиньон блан, а вкус свежий, с высокой кислотностью и оттенками цитрусовых.',\n",
        "        'каберне совиньон': 'Аромат каберне совиньон включает ноты красных ягод, кедра и табака, а вкус сбалансированное сочетание черных фруктов, дуба и танинов.',\n",
        "        'шираз': 'Интенсивные ароматы черных ягод, черного перца и ванили характеризуют вино из сорта шираз, а вкус полный, с преобладанием черных фруктов и пряностей, с долгим послевкусием.',\n",
        "        'шардоне': 'Аромат зрелых яблок и ванили является характерным для шардоне, а вкус сбалансированное сочетание маслянистости, дуба и цитрусов.',\n",
        "        'мерло': 'Нежные ароматы вишни, сливы и шоколада присущи мерло, а вкус мягкий, с сочетанием красных фруктов, танинов и сладкого пряного послевкусия.',\n",
        "        'сира': 'Сложные ароматы темных ягод, лакрицы и табака характеризуют вино из сорта сира, а вкус мощный с темными фруктами, пряностями и долгим послевкусием.',\n",
        "        'сенсо': 'Цветочные и фруктовые ароматы с нюансами пряностей характерны для сорта сенсо, а вкус легкий и свежий, с акцентами красных ягод и минеральности.',\n",
        "        'пино нуар': 'Нежные ароматы вишни, земли и роз характерны для пино нуар, а вкус деликатное сочетание красных фруктов, мягких танинов и минеральных нот.',\n",
        "        'гренаш': 'Аромат вина гренаш характеризуется фруктовыми нотами и теплыми специями, а вкус обладает богатством фруктов, пряностей и гладкими танинами.',\n",
        "        'мурведр': 'Сорт мурведр обладает ароматами темных ягод, кожи и табака, а вкус интенсивный с темными фруктами и пряными оттенками.',\n",
        "        'рислинг': 'Аромат рислинга часто выделяется цветочными и цитрусовыми нотами, а вкус свежий, с высокой кислотностью и фруктовыми акцентами.',\n",
        "        'коломбар': 'Вино из коломбара обладает свежими цветочными ароматами и вкусом с яркой кислотностью и цитрусовыми оттенками.',\n",
        "        'каберне фран': 'Аромат вина каберне фран характеризуется зелеными травами, специями и темными ягодами, а вкус выражен танинами и оттенками зеленого перца.',\n",
        "        'вионье': 'Сорт вионье имеет ароматы персика, абрикоса и цветочных нот, а вкус мягкий с фруктовой сладостью и минеральными оттенками.',\n",
        "        'мюскадель': 'Аромат вина мюскадель характеризуется мускатными нотами, а вкус сладкий, с фруктовой пикантностью и долгим послевкусием.',\n",
        "        'семильон': 'Сорт семильон обладает ароматами зрелых фруктов и цветочных нюансов, а вкус свежий и кислотный с фруктовыми тонами.',\n",
        "        'санджовезе': 'Аромат санджовезе выделяется нотами красных фруктов и трав, а вкус сочный, с яркими кислотами и танинами.',\n",
        "        'мускат': 'Вино из муската обладает интенсивными мускатными ароматами, а вкус сладкий, с фруктовой яркостью и цветочными оттенками.',\n",
        "        'мускат фронтиньян': 'Аромат муската фронтиньян характеризуется сладкими цветочными нотами, а вкус пикантный и фруктовый.',\n",
        "        'пино гриджио': 'Свежие цитрусовые ароматы и легкий, освежающий вкус с фруктовыми оттенками - характеристики вина из пино гриджио.',\n",
        "        'кариньяно': 'Вино из кариньяно обладает ароматами красных ягод и трав, а вкус выражен свежестью и нюансами специй.',\n",
        "        'мускат александрийский': 'Аромат вина муската александрийского отличается интенсивными цветочными и мускатными нотами, а вкус сладкий и ароматный.',\n",
        "        'совиньон гри': 'Совиньон гри обладает ароматами цитрусовых и зеленого перца, а вкус свежий и яркий.',\n",
        "        'пино гри': 'Нежные ароматы зеленых яблок и цитрусовых характерны для пино гри, а вкус легкий, с приятной кислотностью и минеральными оттенками.',\n",
        "        'тинта амарела': 'Аромат вина тинта амарела характеризуется ягодными и цветочными нотами, а вкус сочный, с мягкими танинами.',\n",
        "        'паломино бланко': 'Вино из паломино бланко обладает свежими ароматами яблок и минералов, а вкус сухой, с характерными оттенками минеральности.',\n",
        "        'верментино': 'Аромат вина верментино напоминает цитрусовые и травы, а вкус свежий и фруктовый.',\n",
        "        'москато бьянко': 'Вино из москато бьянко характеризуется интенсивными мускатными ароматами, а вкус сладкий и фруктовый.',\n",
        "        'другие сорта': 'Вино из других сортов может иметь разнообразные ароматы и вкусовые характеристики, в зависимости от используемых сортов.',\n",
        "        'неро д\\'авола': 'Аромат вина неро д\\'авола выделяется нотами темных фруктов, специй и трав, а вкус полный с ягодной сладостью и мягкими танинами.',\n",
        "        'гевюрцтраминер': 'Сорт гевюрцтраминер обладает ароматами личи, розы и пряностей, а вкус интенсивный, с фруктовой сладостью и пряными оттенками.',\n",
        "        'мускат гамбургский': 'Аромат муската гамбургского характеризуется сладкими фруктовыми и мускатными нотами, а вкус яркий и ароматный.',\n",
        "        'руссан': 'Сорт руссан имеет ароматы цветов и цитрусовых, а вкус свежий и минеральный.',\n",
        "        'мальбек': 'Аромат мальбека выделяется нотами темных ягод и пряностей, а вкус полный с мягкими танинами и долгим послевкусием.',\n",
        "        'руби каберне': 'Вино из сорта руби каберне характеризуется ароматами красных фруктов и специй, а вкус сочный и яркий.',\n",
        "        'гренаш блан': 'Гренаш блан имеет ароматы цитрусовых и свежих трав, а вкус легкий и фруктовый.',\n",
        "        'белый мюскадель': 'Белый мюскадель обладает ароматами цветов и меда, а вкус сладкий, с фруктовой яркостью и медовыми оттенками.',\n",
        "    }\n",
        "    return taste_descriptions.get(Grape_Varieties, 'Description not available')\n",
        "\n",
        "data_WineStyle['Taste_Description'] = data_WineStyle['Grape_Varieties'].apply(get_taste_description)"
      ],
      "metadata": {
        "id": "0g9e7ej8uzQw"
      },
      "execution_count": 42,
      "outputs": []
    },
    {
      "cell_type": "code",
      "source": [
        "import os\n",
        "import requests\n",
        "from PIL import Image\n",
        "from io import BytesIO\n",
        "\n",
        "# Download images and save locally\n",
        "downloaded_paths = []\n",
        "\n",
        "for i, img_url in enumerate(data_WineStyle['Image_URL']):\n",
        "    response = requests.get(img_url)\n",
        "\n",
        "    if response.status_code == 200:\n",
        "        img = Image.open(BytesIO(response.content))\n",
        "        local_path = f\"image_{i}.jpg\"\n",
        "        img.save(local_path)\n",
        "        downloaded_paths.append(local_path)\n",
        "    else:\n",
        "        print(f\"Failed to download image from {full_url}\")\n",
        "\n",
        "# Update the DataFrame with local paths\n",
        "data_WineStyle['Local_Image_Path'] = downloaded_paths"
      ],
      "metadata": {
        "id": "unpgVaLEK447"
      },
      "execution_count": 44,
      "outputs": []
    },
    {
      "cell_type": "code",
      "source": [
        "data_WineStyle['Local_Image_Path'] = data_WineStyle['Local_Image_Path'].apply(lambda x: os.path.join(os.getcwd(), x))"
      ],
      "metadata": {
        "id": "_klGoevVK4nH"
      },
      "execution_count": 45,
      "outputs": []
    },
    {
      "cell_type": "code",
      "source": [
        "from IPython.display import display, HTML\n",
        "\n",
        "html = data_WineStyle.to_html(escape=False)\n",
        "\n",
        "for index, row in data_WineStyle.iterrows():\n",
        "    html = html.replace(row['Image_URL'], f'<img src=\"{row[\"Image_URL\"]}\" alt=\"Product Image\" style=\"max-height:150px; max-width:150px;\">')\n",
        "\n",
        "display(HTML(html))"
      ],
      "metadata": {
        "id": "fZSN0hpYYX1l"
      },
      "execution_count": null,
      "outputs": []
    },
    {
      "cell_type": "code",
      "source": [
        "data_WineStyle['wine_stopper'] = [1, 1, 1, 2, 2, 1, 1, 1, 1, 1, 1, 2, 1, 1, 1, 1, 1, 2, 1, 1, 1, 1, 1, 1, 1, 1, 1, 1, 2, 2, 1, 1, 1, 1, 1, 1,\n",
        "                                  2, 1, 1, 1, 2, 2, 1, 1, 1, 1, 1, 1, 1, 2, 2, 1, 1, 1, 1, 2, 1, 1, 2, 3, 1, 2, 2, 2, 2, 2, 1, 1, 2, 2, 1, 1,\n",
        "                                  2, 1, 1, 2, 1, 2, 1, 1, 1, 1, 1, 3, 1, 1, 2, 1, 1, 2, 1, 2, 2, 2, 3, 1, 2, 1, 1, 1, 1, 1, 1, 1, 1, 2, 3,\n",
        "                                  1, 1, 1, 1, 2, 1, 1, 2, 1, 1, 1, 1, 1, 1, 1, 2, 2, 2, 2, 2, 2, 1, 1, 1, 1, 1, 2, 1, 1, 1, 1, 1, 2, 1, 2, 2,\n",
        "                                  1, 1, 1, 1, 1, 1, 1, 1, 1, 1, 1, 1, 2, 2, 1, 2, 1, 1, 1, 1, 1, 1, 1, 1, 2, 1, 1, 1, 1, 2, 2, 1, 2, 2, 2, 2, 2,\n",
        "                                  2, 2, 2, 2, 2, 2, 2, 1, 1, 1, 1, 1, 2, 2, 1, 1, 1, 1, 1, 1, 1, 1, 2, 1, 1, 1, 1, 2, 1, 1, 1, 1, 2, 1, 1, 1, 1, 1,\n",
        "                                  1, 2, 2, 2, 1, 1, 1, 1, 1, 2, 2, 2, 1, 2, 2, 3, 1, 2, 2, 2, 1, 2, 1, 2, 2, 2, 2, 2, 2, 2, 2, 2, 2, 1, 1, 2, 2, 2,\n",
        "                                  1, 1, 1, 1, 1, 1, 2, 2, 2, 1, 1, 1, 1, 1, 1, 1, 1, 1, 1, 1, 2, 1, 2, 2, 1, 1, 1, 1, 1, 1, 1, 1, 1, 1, 2, 1, 1, 1, 1,\n",
        "                                  2, 2, 2, 2, 2, 1, 1, 1, 1, 2, 2, 1, 1, 1, 1, 1, 2, 2, 1, 1, 1, 1, 2, 2, 2, 2, 2, 3, 1, 1, 2, 1, 2, 1, 2, 2, 2, 2, 2, 2,\n",
        "                                  1, 2, 2, 1, 3, 3, 2, 1, 2, 2, 2, 2, 2, 2, 2, 2, 2, 2, 1, 1, 2, 2, 2, 2, 1, 2, 2, 2, 2, 3, 2, 2, 2, 2, 2, 2, 2, 2, 2, 2,\n",
        "                                  2, 2, 2, 2, 2, 2, 2, 2, 2, 2, 2, 2, 2, 2, 2, 2, 2, 2, 2, 2, 2, 2, 2, 2, 2, 2, 2, 2, 2, 2, 2, 3, 2, 2, 2, 2, 2, 3,\n",
        "                                  3, 2, 2, 2, 2, 2, 2, 2, 2, 2, 2, 2, 2, 2, 1, 2, 2, 2, 2, 2, 1, 1, 1, 1, 2, 2, 1]"
      ],
      "metadata": {
        "id": "KtM9udTxLNLS"
      },
      "execution_count": 57,
      "outputs": []
    },
    {
      "cell_type": "code",
      "source": [
        "data_WineStyle['Label'] = [1, 1, 1, 1, 2, 1, 1, 2, 2, 1, 1, 2, 1, 1, 1, 1, 1, 1, 1, 1, 1, 1, 1, 1, 2, 1, 1, 2, 1, 1, 1, 1, 1, 1, 1, 1, 1, 1, 1,\n",
        "                           2, 1, 2, 1, 1, 1, 1, 2, 1, 1, 2, 1, 1, 1, 1, 1, 2, 1, 1, 2, 1, 1, 1, 1, 2, 2, 2, 1, 1, 1, 1, 1, 1, 1, 1, 1, 1, 1, 1, 1, 1,\n",
        "                           2, 1, 2, 1, 1, 1, 1, 1, 1, 1, 2, 1, 1, 1, 1, 1, 1, 1, 1, 2, 1, 1, 1, 1, 2, 2, 1, 1, 1, 1, 1, 1, 1, 1, 1, 2, 2, 1, 1, 1, 1, 1,\n",
        "                           1, 1, 1, 1, 1, 2, 1, 1, 1, 1, 1, 1, 1, 1, 1, 1, 1, 1, 1, 1, 1, 1, 1, 1, 1, 1, 2, 1, 1, 1, 2, 1, 1, 1, 1, 1,1, 1, 1, 1, 1,\n",
        "                           1, 1, 1, 2, 1, 1, 1, 1, 1, 2, 2, 1, 2, 2, 2, 1, 2, 2, 2, 2, 2, 2, 2, 2, 2, 1, 1, 1, 1, 1, 1, 2, 1, 1, 1, 2, 1, 1, 1, 1, 1,\n",
        "                           1, 1, 1, 2, 1, 1, 1, 1, 1, 2, 1, 2, 1, 1, 1, 1, 1, 1, 2, 2, 1, 2, 1, 2, 2, 2, 1, 2, 2, 2, 2, 1, 2, 1, 2, 1, 2, 2, 1,\n",
        "                           2, 2, 2, 2, 2, 2, 2, 1, 2, 2, 2, 2, 2, 1, 1, 1, 1, 1, 1, 1, 2, 2, 1, 1, 1, 1, 2, 2, 2, 1, 1, 1, 1, 2, 1, 1, 1, 1, 1, 1, 1, 1, 1, 1,\n",
        "                           1, 1, 1, 1, 1, 1, 1, 1, 1, 2, 1, 1, 1, 1, 1, 1, 2, 2, 2, 1, 1, 1, 1, 1, 1, 2, 1, 1, 1, 1, 2, 1, 1, 1, 1, 1, 1, 1, 1, 1, 1,\n",
        "                           1, 1, 1, 1, 1, 1, 1, 2, 1, 1, 2, 1, 1, 1, 2, 2, 1, 1, 2, 1, 1, 1, 2, 2, 2, 1, 2, 1, 2, 2, 1, 2, 2, 1, 2, 1, 2, 2, 2, 2, 1,\n",
        "                           2, 2, 1, 1, 1, 2, 2, 1, 2, 2, 2, 2, 2, 2, 2, 2, 1, 2, 2, 2, 2, 1, 1, 1, 2, 2, 2, 2, 2, 2, 1, 1, 2, 2, 2, 2, 2, 2, 2, 2, 2, 1,\n",
        "                           2, 2, 2, 2, 2, 2, 2, 2, 2, 2, 2, 1, 2, 1, 2, 1, 1, 1, 2, 2, 2, 1, 1, 1, 1, 2, 1, 2, 1]"
      ],
      "metadata": {
        "id": "Mvstx1MNDdxC"
      },
      "execution_count": 54,
      "outputs": []
    },
    {
      "cell_type": "code",
      "source": [
        "data_WineStyle['Shape'] = [1, 2, 2, 2, 1, 2, 1, 2, 2, 1, 1, 1, 3, 1, 2, 2, 2, 1, 1, 2, 1, 2, 1, 1, 2, 1, 2, 2, 1, 1, 2, 2, 2, 1, 1, 2,\n",
        "                            1, 1, 2, 2, 1, 2, 1, 1, 1, 1, 2, 1, 2, 1, 1, 1, 2, 2, 1, 2, 2, 2, 2, 2, 2, 2, 1, 1, 2, 1, 2, 2, 1, 1, 2,\n",
        "                            1, 2, 1, 1, 1, 1, 2, 1, 2, 2, 2, 2, 2, 1, 1, 1, 1, 1, 1, 2, 2, 2, 2, 2, 1, 2, 1, 2, 2, 1, 2, 1, 1, 2, 2, 2,\n",
        "                            1, 2, 1, 1, 1, 1, 2, 1, 2, 2, 2, 1, 1, 1, 2, 2, 2, 2, 1, 1, 2, 2, 1, 1, 1, 1, 2, 2, 1, 1, 2, 2, 1, 2, 2,\n",
        "                            2, 1, 1, 2, 1, 2, 1, 1, 1, 1, 1, 2, 2, 1, 1, 2, 1, 2, 2, 1, 2, 2, 1, 1, 2, 2, 2, 2, 2, 2, 2, 1, 2, 1, 2, 2, 2,\n",
        "                            1, 2, 2, 2, 1, 2, 2, 1, 2, 1, 1, 1, 1, 1, 1, 2, 2, 1, 2, 1, 2, 2, 2, 1, 2, 2, 1, 1, 2, 1, 1, 2, 1, 1,\n",
        "                            2, 2, 1, 2, 2, 2, 1, 2, 2, 2, 2, 2, 2, 1, 2, 2, 2, 2, 2, 1, 1, 2, 1, 1, 1, 2, 2, 2, 1, 1, 2, 2, 1, 2, 1,\n",
        "                            1, 1, 1, 2, 2, 2, 2, 2, 1, 2, 2, 1, 1, 1, 1, 1, 1, 1, 1, 1, 1, 1, 1, 1, 1, 1, 1, 1, 2, 1, 1, 1, 2, 2,\n",
        "                            1, 2, 2, 2, 1, 2, 2, 1, 2, 1, 2, 1, 1, 1, 2, 1, 2, 1, 1, 1, 2, 2, 2, 2, 2, 2, 2, 1, 2, 1, 1, 2, 2, 2,\n",
        "                            2, 2, 2, 1, 1, 2, 2, 2, 1, 1, 2, 1, 2, 1, 1, 1, 1, 1, 2, 2, 1, 2, 2, 2, 2, 1, 2, 1, 2, 1, 2, 1, 2, 1, 2,\n",
        "                            1, 2, 2, 2, 2, 2, 1, 2, 2, 1, 2, 1, 2, 2, 2, 2, 1, 1, 2, 2, 2, 2, 2, 2, 2, 2, 1, 2, 1, 1, 1, 2, 2, 1,\n",
        "                            2, 2, 1, 2, 2, 2, 2, 2, 1, 1, 1, 2, 2, 2, 2, 2, 2, 1, 1, 2, 2, 2, 2, 2, 2, 2, 2, 2, 2, 2, 2, 2, 2, 2, 2, 2, 2, 2, 2,\n",
        "                            2, 2, 2, 2, 2, 2, 2, 2, 2, 2, 1, 1, 2, 2, 1, 2]"
      ],
      "metadata": {
        "id": "2-NgPfeL2ZEc"
      },
      "execution_count": 51,
      "outputs": []
    },
    {
      "cell_type": "code",
      "source": [
        "data_WineStyle['Brand'].fillna(data_WineStyle['Producer'], inplace=True)"
      ],
      "metadata": {
        "id": "MsdCEEAz2Zk2"
      },
      "execution_count": 59,
      "outputs": []
    },
    {
      "cell_type": "code",
      "source": [
        "nan_indices = data_WineStyle[data_WineStyle['Brand'].isnull()].index\n",
        "print(nan_indices)"
      ],
      "metadata": {
        "colab": {
          "base_uri": "https://localhost:8080/"
        },
        "id": "Mc7hpHOOSmYQ",
        "outputId": "ed103206-c158-45a3-941d-69b8bec6fa8b"
      },
      "execution_count": 61,
      "outputs": [
        {
          "output_type": "stream",
          "name": "stdout",
          "text": [
            "Int64Index([170, 223, 240, 336, 346, 362, 387, 388, 410, 415], dtype='int64')\n"
          ]
        }
      ]
    },
    {
      "cell_type": "code",
      "source": [
        "data_WineStyle[415, 'Brand'] = 'vin de constance'\n",
        "data_WineStyle[410, 'Brand'] = 'cuvee anabel'\n",
        "data_WineStyle[388, 'Brand'] = 'klein constantia'\n",
        "data_WineStyle[387, 'Brand'] = 'klein constantia'\n",
        "data_WineStyle[362, 'Brand'] = 'naissance'\n",
        "data_WineStyle[346, 'Brand'] = 'fairview'\n",
        "data_WineStyle[336, 'Brand'] = 'amododa'\n",
        "data_WineStyle[240, 'Brand'] = 'klein constantia'\n",
        "data_WineStyle[223, 'Brand'] = 'fairview'\n",
        "data_WineStyle[170, 'Brand'] = 'rooibos ridge'"
      ],
      "metadata": {
        "id": "zwwmppk5SmfT"
      },
      "execution_count": 62,
      "outputs": []
    },
    {
      "cell_type": "code",
      "source": [
        "data_WineStyle = data_WineStyle.drop('Producer', axis=1)"
      ],
      "metadata": {
        "id": "1g5HqyxESmlo"
      },
      "execution_count": 63,
      "outputs": []
    },
    {
      "cell_type": "code",
      "source": [
        "data_WineStyle = data_WineStyle[data_KB.columns]"
      ],
      "metadata": {
        "id": "2glp3We0SmtZ"
      },
      "execution_count": null,
      "outputs": []
    },
    {
      "cell_type": "code",
      "source": [],
      "metadata": {
        "id": "QqV7V6q_Sm0Y"
      },
      "execution_count": null,
      "outputs": []
    },
    {
      "cell_type": "code",
      "source": [],
      "metadata": {
        "id": "lc9CilQFY6ec"
      },
      "execution_count": null,
      "outputs": []
    },
    {
      "cell_type": "code",
      "source": [],
      "metadata": {
        "id": "TWHsGifQY6lc"
      },
      "execution_count": null,
      "outputs": []
    },
    {
      "cell_type": "code",
      "source": [],
      "metadata": {
        "id": "VI_AMxj-Y6sQ"
      },
      "execution_count": null,
      "outputs": []
    },
    {
      "cell_type": "code",
      "source": [],
      "metadata": {
        "id": "X5img-H4Y6zO"
      },
      "execution_count": null,
      "outputs": []
    },
    {
      "cell_type": "code",
      "source": [],
      "metadata": {
        "id": "Q53BbDreY66z"
      },
      "execution_count": null,
      "outputs": []
    },
    {
      "cell_type": "code",
      "source": [],
      "metadata": {
        "id": "cvG0ZIwNY7B7"
      },
      "execution_count": null,
      "outputs": []
    },
    {
      "cell_type": "code",
      "source": [],
      "metadata": {
        "id": "UWNhp8Mul1YS"
      },
      "execution_count": null,
      "outputs": []
    },
    {
      "cell_type": "code",
      "source": [
        "import torch\n",
        "import torch.nn as nn\n",
        "import torch.nn.functional as F\n",
        "from torchvision import transforms\n",
        "from PIL import Image\n",
        "import os\n",
        "\n",
        "# Assuming 'data_KB' is your DataFrame\n",
        "image_paths = data_KB['Local_Image_Path'].tolist()\n",
        "labels = data_KB['Price'].tolist()\n",
        "\n",
        "# Define transformations\n",
        "transform = transforms.Compose([\n",
        "    transforms.Resize((224, 224)),\n",
        "    transforms.ToTensor(),\n",
        "])\n",
        "\n",
        "# Create a custom dataset class\n",
        "class WineDataset(torch.utils.data.Dataset):\n",
        "    def __init__(self, image_paths, labels, transform=None):\n",
        "        self.image_paths = image_paths\n",
        "        self.labels = labels\n",
        "        self.transform = transform\n",
        "\n",
        "    def __len__(self):\n",
        "        return len(self.image_paths)\n",
        "\n",
        "    def __getitem__(self, idx):\n",
        "        image_path = self.image_paths[idx]\n",
        "        image = Image.open(image_path).convert('RGB')\n",
        "\n",
        "        if self.transform:\n",
        "            image = self.transform(image)\n",
        "\n",
        "        label = torch.tensor(self.labels[idx], dtype=torch.float32)\n",
        "        return image, label\n",
        "\n",
        "# Create an instance of your dataset\n",
        "wine_dataset = WineDataset(image_paths, labels, transform)\n",
        "\n",
        "# Load the pre-trained VAE model\n",
        "class VAE(nn.Module):\n",
        "    def __init__(self, latent_dim=20):\n",
        "        super(VAE, self).__init__()\n",
        "\n",
        "        self.encoder = nn.Sequential(\n",
        "            nn.Conv2d(3, 64, kernel_size=4, stride=2, padding=1),\n",
        "            nn.ReLU(),\n",
        "            nn.Conv2d(64, 128, kernel_size=4, stride=2, padding=1),\n",
        "            nn.ReLU(),\n",
        "            nn.Conv2d(128, 256, kernel_size=4, stride=2, padding=1),\n",
        "            nn.ReLU(),\n",
        "            nn.Conv2d(256, 512, kernel_size=4, stride=2, padding=1),\n",
        "            nn.ReLU(),\n",
        "            nn.Flatten(),\n",
        "            nn.Linear(512 * 14 * 14, 1024),\n",
        "            nn.ReLU(),\n",
        "            nn.Linear(1024, 512),\n",
        "            nn.ReLU(),\n",
        "            nn.Linear(512, 256),\n",
        "            nn.ReLU(),\n",
        "            nn.Linear(256, 128),\n",
        "            nn.ReLU(),\n",
        "            nn.Linear(128, 64),\n",
        "            nn.ReLU(),\n",
        "            nn.Linear(64, 2 * latent_dim),  # 2 * latent_dim for mean and log-variance\n",
        "        )\n",
        "\n",
        "        self.decoder = nn.Sequential(\n",
        "            nn.Linear(latent_dim, 64),\n",
        "            nn.ReLU(),\n",
        "            nn.Linear(64, 128),\n",
        "            nn.ReLU(),\n",
        "            nn.Linear(128, 256),\n",
        "            nn.ReLU(),\n",
        "            nn.Linear(256, 512),\n",
        "            nn.ReLU(),\n",
        "            nn.Linear(512, 1024),\n",
        "            nn.ReLU(),\n",
        "            nn.Linear(1024, 512 * 14 * 14),\n",
        "            nn.ReLU(),\n",
        "            nn.Unflatten(1, (512, 14, 14)),\n",
        "            nn.ConvTranspose2d(512, 256, kernel_size=4, stride=2, padding=1),\n",
        "            nn.ReLU(),\n",
        "            nn.ConvTranspose2d(256, 128, kernel_size=4, stride=2, padding=1),\n",
        "            nn.ReLU(),\n",
        "            nn.ConvTranspose2d(128, 64, kernel_size=4, stride=2, padding=1),\n",
        "            nn.ReLU(),\n",
        "            nn.ConvTranspose2d(64, 3, kernel_size=4, stride=2, padding=1),\n",
        "            nn.Sigmoid(),  # To get values between 0 and 1\n",
        "        )\n",
        "\n",
        "    def reparameterize(self, mu, logvar):\n",
        "        std = torch.exp(0.5 * logvar)\n",
        "        eps = torch.randn_like(std)\n",
        "        return mu + eps * std\n",
        "\n",
        "    def forward(self, x):\n",
        "        # Encode\n",
        "        x = self.encoder(x)\n",
        "        mu, logvar = x[:, :latent_dim], x[:, latent_dim:]\n",
        "\n",
        "        # Reparameterize\n",
        "        z = self.reparameterize(mu, logvar)\n",
        "\n",
        "        # Decode\n",
        "        x_recon = self.decoder(z)\n",
        "        return x_recon, mu, logvar\n",
        "\n",
        "# Instantiate the VAE model\n",
        "latent_dim = 20  # Set your desired latent dimension\n",
        "vae_model = VAE()\n",
        "\n",
        "# Set the path to save and load the model\n",
        "model_path = '/content/vae_model.pth'\n",
        "\n",
        "# Load the model if the file exists, otherwise train the model and save it\n",
        "if os.path.exists(model_path):\n",
        "    vae_model.load_state_dict(torch.load(model_path))\n",
        "    vae_model.eval()\n",
        "else:\n",
        "    # Training loop (add your training code here)\n",
        "    # ...\n",
        "\n",
        "    # Save the trained model\n",
        "    torch.save(vae_model.state_dict(), model_path)\n",
        "\n",
        "# Function to generate an image based on a given price\n",
        "def generate_image(price):\n",
        "    with torch.no_grad():\n",
        "        # Encode the price into a latent space representation\n",
        "        latent_representation = torch.randn(1, latent_dim) * 0.1 + torch.tensor([[price]], dtype=torch.float32)\n",
        "\n",
        "        # Decode the latent representation to generate an image\n",
        "        generated_image = vae_model.decoder(latent_representation)\n",
        "\n",
        "    return generated_image\n",
        "\n",
        "# Example: Generate an image for a specific price (e.g., 500)\n",
        "price_to_generate = 500\n",
        "generated_image = generate_image(price_to_generate)\n",
        "\n",
        "# Convert the generated image tensor to a PIL image\n",
        "generated_image_pil = transforms.ToPILImage()(generated_image.squeeze(0).detach().cpu())\n",
        "\n",
        "# Display the generated image\n",
        "generated_image_pil.show()"
      ],
      "metadata": {
        "id": "0PWNTYstGohm"
      },
      "execution_count": null,
      "outputs": []
    },
    {
      "cell_type": "code",
      "source": [
        "generated_image_pil.save('generated_image.jpg')"
      ],
      "metadata": {
        "id": "h65cxJcoMLpz"
      },
      "execution_count": null,
      "outputs": []
    },
    {
      "cell_type": "code",
      "source": [],
      "metadata": {
        "id": "gVgTxS6iUdPf"
      },
      "execution_count": null,
      "outputs": []
    },
    {
      "cell_type": "code",
      "source": [],
      "metadata": {
        "id": "advDQQj-ZnwC"
      },
      "execution_count": null,
      "outputs": []
    },
    {
      "cell_type": "code",
      "source": [
        "import matplotlib.pyplot as plt\n",
        "from IPython.display import display, HTML\n",
        "\n",
        "# Assuming data_SimpleWine is your DataFrame\n",
        "# and 'Local_Image_Path' contains the respective column name\n",
        "\n",
        "fig, axes = plt.subplots(nrows=len(data_SimpleWine), ncols=2, figsize=(15, 3 * len(data_SimpleWine)))\n",
        "\n",
        "image_count = 0  # Initialize the counter\n",
        "\n",
        "for i, (_, row) in enumerate(data_SimpleWine.iterrows()):\n",
        "    if row['Local_Image_Path'] is not None:\n",
        "        img_path = row['Local_Image_Path']\n",
        "        img = plt.imread(img_path)\n",
        "        axes[i, 1].imshow(img)\n",
        "        axes[i, 1].axis('off')\n",
        "        image_count += 1  # Increment the counter for each displayed image\n",
        "\n",
        "# Hide the axes for the 'Brand' column\n",
        "for ax in axes[:, 0]:\n",
        "    ax.axis('off')\n",
        "\n",
        "# Adjust spacing between subplots\n",
        "plt.subplots_adjust(wspace=0.2)\n",
        "\n",
        "plt.show()"
      ],
      "metadata": {
        "id": "4QoWEkv4Zn5S"
      },
      "execution_count": null,
      "outputs": []
    }
  ]
}